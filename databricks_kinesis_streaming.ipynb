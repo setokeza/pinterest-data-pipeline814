{
 "cells": [
  {
   "cell_type": "markdown",
   "metadata": {
    "application/vnd.databricks.v1+cell": {
     "cellMetadata": {
      "byteLimit": 2048000,
      "rowLimit": 10000
     },
     "inputWidgets": {},
     "nuid": "fe01c07a-9432-4faa-9cbe-2d146bb7eba6",
     "showTitle": false,
     "title": ""
    }
   },
   "source": [
    "# Streaming Data Processing using Spark on Databricks"
   ]
  },
  {
   "cell_type": "markdown",
   "metadata": {
    "application/vnd.databricks.v1+cell": {
     "cellMetadata": {
      "byteLimit": 2048000,
      "rowLimit": 10000
     },
     "inputWidgets": {},
     "nuid": "d77941bd-3300-438a-be2a-a42c825ee966",
     "showTitle": false,
     "title": ""
    }
   },
   "source": [
    "Read the csv file containing the AWS keys to the databricks"
   ]
  },
  {
   "cell_type": "code",
   "execution_count": 0,
   "metadata": {
    "application/vnd.databricks.v1+cell": {
     "cellMetadata": {
      "byteLimit": 2048000,
      "rowLimit": 10000
     },
     "collapsed": true,
     "inputWidgets": {},
     "nuid": "b6889d8e-05e6-4a75-9289-3e9c916ed01d",
     "showTitle": false,
     "title": ""
    }
   },
   "outputs": [
    {
     "output_type": "display_data",
     "data": {
      "text/html": [
       "<style scoped>\n",
       "  .ansiout {\n",
       "    display: block;\n",
       "    unicode-bidi: embed;\n",
       "    white-space: pre-wrap;\n",
       "    word-wrap: break-word;\n",
       "    word-break: break-all;\n",
       "    font-family: \"Menlo\", \"Monaco\", \"Consolas\", \"Ubuntu Mono\", \"Source Code Pro\", monospace;\n",
       "    font-size: 13px;\n",
       "    color: #555;\n",
       "    margin-left: 4px;\n",
       "    line-height: 19px;\n",
       "  }\n",
       "</style>\n",
       "<div class=\"ansiout\">Out[5]: [FileInfo(path=&#39;dbfs:/user/hive/warehouse/0a0223c10829_geo_table/&#39;, name=&#39;0a0223c10829_geo_table/&#39;, size=0, modificationTime=1704294126280),\n",
       " FileInfo(path=&#39;dbfs:/user/hive/warehouse/0a0223c10829_pin_table/&#39;, name=&#39;0a0223c10829_pin_table/&#39;, size=0, modificationTime=1704294126280),\n",
       " FileInfo(path=&#39;dbfs:/user/hive/warehouse/0a0223c10829_user_table/&#39;, name=&#39;0a0223c10829_user_table/&#39;, size=0, modificationTime=1704294126280),\n",
       " FileInfo(path=&#39;dbfs:/user/hive/warehouse/0a1d8948160f_geo_table/&#39;, name=&#39;0a1d8948160f_geo_table/&#39;, size=0, modificationTime=1704294126280),\n",
       " FileInfo(path=&#39;dbfs:/user/hive/warehouse/0a1d8948160f_pin_table/&#39;, name=&#39;0a1d8948160f_pin_table/&#39;, size=0, modificationTime=1704294126280),\n",
       " FileInfo(path=&#39;dbfs:/user/hive/warehouse/0a1d8948160f_user_table/&#39;, name=&#39;0a1d8948160f_user_table/&#39;, size=0, modificationTime=1704294126280),\n",
       " FileInfo(path=&#39;dbfs:/user/hive/warehouse/0a2528ba1237_geo_table/&#39;, name=&#39;0a2528ba1237_geo_table/&#39;, size=0, modificationTime=1704294126280),\n",
       " FileInfo(path=&#39;dbfs:/user/hive/warehouse/0a2528ba1237_pin_table/&#39;, name=&#39;0a2528ba1237_pin_table/&#39;, size=0, modificationTime=1704294126280),\n",
       " FileInfo(path=&#39;dbfs:/user/hive/warehouse/0a2528ba1237_user_table/&#39;, name=&#39;0a2528ba1237_user_table/&#39;, size=0, modificationTime=1704294126280),\n",
       " FileInfo(path=&#39;dbfs:/user/hive/warehouse/0a2f66c3e41f_df_geo/&#39;, name=&#39;0a2f66c3e41f_df_geo/&#39;, size=0, modificationTime=1704294126280),\n",
       " FileInfo(path=&#39;dbfs:/user/hive/warehouse/0a2f66c3e41f_df_pin/&#39;, name=&#39;0a2f66c3e41f_df_pin/&#39;, size=0, modificationTime=1704294126280),\n",
       " FileInfo(path=&#39;dbfs:/user/hive/warehouse/0a2f66c3e41f_df_user/&#39;, name=&#39;0a2f66c3e41f_df_user/&#39;, size=0, modificationTime=1704294126280),\n",
       " FileInfo(path=&#39;dbfs:/user/hive/warehouse/0a3c6c045333_geo_table/&#39;, name=&#39;0a3c6c045333_geo_table/&#39;, size=0, modificationTime=1704294126280),\n",
       " FileInfo(path=&#39;dbfs:/user/hive/warehouse/0a3c6c045333_pin_table/&#39;, name=&#39;0a3c6c045333_pin_table/&#39;, size=0, modificationTime=1704294126280),\n",
       " FileInfo(path=&#39;dbfs:/user/hive/warehouse/0a3c6c045333_user_table/&#39;, name=&#39;0a3c6c045333_user_table/&#39;, size=0, modificationTime=1704294126280),\n",
       " FileInfo(path=&#39;dbfs:/user/hive/warehouse/0a3db223d459_geo_table/&#39;, name=&#39;0a3db223d459_geo_table/&#39;, size=0, modificationTime=1704294126280),\n",
       " FileInfo(path=&#39;dbfs:/user/hive/warehouse/0a3db223d459_pin_table/&#39;, name=&#39;0a3db223d459_pin_table/&#39;, size=0, modificationTime=1704294126280),\n",
       " FileInfo(path=&#39;dbfs:/user/hive/warehouse/0a3db223d459_user_table/&#39;, name=&#39;0a3db223d459_user_table/&#39;, size=0, modificationTime=1704294126280),\n",
       " FileInfo(path=&#39;dbfs:/user/hive/warehouse/0a40ea42f8d1_geo_table/&#39;, name=&#39;0a40ea42f8d1_geo_table/&#39;, size=0, modificationTime=1704294126280),\n",
       " FileInfo(path=&#39;dbfs:/user/hive/warehouse/0a40ea42f8d1_pin_table/&#39;, name=&#39;0a40ea42f8d1_pin_table/&#39;, size=0, modificationTime=1704294126280),\n",
       " FileInfo(path=&#39;dbfs:/user/hive/warehouse/0a40ea42f8d1_user_table/&#39;, name=&#39;0a40ea42f8d1_user_table/&#39;, size=0, modificationTime=1704294126280),\n",
       " FileInfo(path=&#39;dbfs:/user/hive/warehouse/0a48d8473ced_geo_table/&#39;, name=&#39;0a48d8473ced_geo_table/&#39;, size=0, modificationTime=1704294126280),\n",
       " FileInfo(path=&#39;dbfs:/user/hive/warehouse/0a48d8473ced_pin_table/&#39;, name=&#39;0a48d8473ced_pin_table/&#39;, size=0, modificationTime=1704294126280),\n",
       " FileInfo(path=&#39;dbfs:/user/hive/warehouse/0a48d8473ced_user_table/&#39;, name=&#39;0a48d8473ced_user_table/&#39;, size=0, modificationTime=1704294126280),\n",
       " FileInfo(path=&#39;dbfs:/user/hive/warehouse/0a4ac73a0561_geo_table/&#39;, name=&#39;0a4ac73a0561_geo_table/&#39;, size=0, modificationTime=1704294126280),\n",
       " FileInfo(path=&#39;dbfs:/user/hive/warehouse/0a4ac73a0561_pin_table/&#39;, name=&#39;0a4ac73a0561_pin_table/&#39;, size=0, modificationTime=1704294126280),\n",
       " FileInfo(path=&#39;dbfs:/user/hive/warehouse/0a4ac73a0561_user_table/&#39;, name=&#39;0a4ac73a0561_user_table/&#39;, size=0, modificationTime=1704294126280),\n",
       " FileInfo(path=&#39;dbfs:/user/hive/warehouse/0a4e65e909bd_geo_table/&#39;, name=&#39;0a4e65e909bd_geo_table/&#39;, size=0, modificationTime=1704294126280),\n",
       " FileInfo(path=&#39;dbfs:/user/hive/warehouse/0a4e65e909bd_pin_table/&#39;, name=&#39;0a4e65e909bd_pin_table/&#39;, size=0, modificationTime=1704294126280),\n",
       " FileInfo(path=&#39;dbfs:/user/hive/warehouse/0a4e65e909bd_user_table/&#39;, name=&#39;0a4e65e909bd_user_table/&#39;, size=0, modificationTime=1704294126280),\n",
       " FileInfo(path=&#39;dbfs:/user/hive/warehouse/0a5afda0229f_geo_table/&#39;, name=&#39;0a5afda0229f_geo_table/&#39;, size=0, modificationTime=1704294126280),\n",
       " FileInfo(path=&#39;dbfs:/user/hive/warehouse/0a5afda0229f_pin_table/&#39;, name=&#39;0a5afda0229f_pin_table/&#39;, size=0, modificationTime=1704294126280),\n",
       " FileInfo(path=&#39;dbfs:/user/hive/warehouse/0a5afda0229f_user_table/&#39;, name=&#39;0a5afda0229f_user_table/&#39;, size=0, modificationTime=1704294126280),\n",
       " FileInfo(path=&#39;dbfs:/user/hive/warehouse/0a5e6ec37a2f_geo_table/&#39;, name=&#39;0a5e6ec37a2f_geo_table/&#39;, size=0, modificationTime=1704294126280),\n",
       " FileInfo(path=&#39;dbfs:/user/hive/warehouse/0a5e6ec37a2f_pin_table/&#39;, name=&#39;0a5e6ec37a2f_pin_table/&#39;, size=0, modificationTime=1704294126280),\n",
       " FileInfo(path=&#39;dbfs:/user/hive/warehouse/0a5e6ec37a2f_user_table/&#39;, name=&#39;0a5e6ec37a2f_user_table/&#39;, size=0, modificationTime=1704294126280),\n",
       " FileInfo(path=&#39;dbfs:/user/hive/warehouse/0a60b9a8a831_geo_table/&#39;, name=&#39;0a60b9a8a831_geo_table/&#39;, size=0, modificationTime=1704294126280),\n",
       " FileInfo(path=&#39;dbfs:/user/hive/warehouse/0a60b9a8a831_pin_table/&#39;, name=&#39;0a60b9a8a831_pin_table/&#39;, size=0, modificationTime=1704294126280),\n",
       " FileInfo(path=&#39;dbfs:/user/hive/warehouse/0a60b9a8a831_user_table/&#39;, name=&#39;0a60b9a8a831_user_table/&#39;, size=0, modificationTime=1704294126280),\n",
       " FileInfo(path=&#39;dbfs:/user/hive/warehouse/0a65154c50dd_geo_table/&#39;, name=&#39;0a65154c50dd_geo_table/&#39;, size=0, modificationTime=1704294126280),\n",
       " FileInfo(path=&#39;dbfs:/user/hive/warehouse/0a65154c50dd_pin_table/&#39;, name=&#39;0a65154c50dd_pin_table/&#39;, size=0, modificationTime=1704294126280),\n",
       " FileInfo(path=&#39;dbfs:/user/hive/warehouse/0a65154c50dd_user_table/&#39;, name=&#39;0a65154c50dd_user_table/&#39;, size=0, modificationTime=1704294126280),\n",
       " FileInfo(path=&#39;dbfs:/user/hive/warehouse/0a6a638f5991_geo_table/&#39;, name=&#39;0a6a638f5991_geo_table/&#39;, size=0, modificationTime=1704294126280),\n",
       " FileInfo(path=&#39;dbfs:/user/hive/warehouse/0a6a638f5991_pin_table/&#39;, name=&#39;0a6a638f5991_pin_table/&#39;, size=0, modificationTime=1704294126280),\n",
       " FileInfo(path=&#39;dbfs:/user/hive/warehouse/0a6a638f5991_user_table/&#39;, name=&#39;0a6a638f5991_user_table/&#39;, size=0, modificationTime=1704294126280),\n",
       " FileInfo(path=&#39;dbfs:/user/hive/warehouse/0a8597384a69_geo_table/&#39;, name=&#39;0a8597384a69_geo_table/&#39;, size=0, modificationTime=1704294126280),\n",
       " FileInfo(path=&#39;dbfs:/user/hive/warehouse/0a8597384a69_pin_table/&#39;, name=&#39;0a8597384a69_pin_table/&#39;, size=0, modificationTime=1704294126280),\n",
       " FileInfo(path=&#39;dbfs:/user/hive/warehouse/0a8597384a69_user_table/&#39;, name=&#39;0a8597384a69_user_table/&#39;, size=0, modificationTime=1704294126280),\n",
       " FileInfo(path=&#39;dbfs:/user/hive/warehouse/0a966c04ad33_pin_table/&#39;, name=&#39;0a966c04ad33_pin_table/&#39;, size=0, modificationTime=1704294126280),\n",
       " FileInfo(path=&#39;dbfs:/user/hive/warehouse/0a9b5b8a2ae5_geo_table/&#39;, name=&#39;0a9b5b8a2ae5_geo_table/&#39;, size=0, modificationTime=1704294126280),\n",
       " FileInfo(path=&#39;dbfs:/user/hive/warehouse/0a9b5b8a2ae5_pin_table/&#39;, name=&#39;0a9b5b8a2ae5_pin_table/&#39;, size=0, modificationTime=1704294126281),\n",
       " FileInfo(path=&#39;dbfs:/user/hive/warehouse/0a9b5b8a2ae5_user_table/&#39;, name=&#39;0a9b5b8a2ae5_user_table/&#39;, size=0, modificationTime=1704294126281),\n",
       " FileInfo(path=&#39;dbfs:/user/hive/warehouse/0abb070c336b_geo_table/&#39;, name=&#39;0abb070c336b_geo_table/&#39;, size=0, modificationTime=1704294126281),\n",
       " FileInfo(path=&#39;dbfs:/user/hive/warehouse/0abb070c336b_pin_table/&#39;, name=&#39;0abb070c336b_pin_table/&#39;, size=0, modificationTime=1704294126281),\n",
       " FileInfo(path=&#39;dbfs:/user/hive/warehouse/0abb070c336b_user_table/&#39;, name=&#39;0abb070c336b_user_table/&#39;, size=0, modificationTime=1704294126281),\n",
       " FileInfo(path=&#39;dbfs:/user/hive/warehouse/0adad64f7925_geo_table/&#39;, name=&#39;0adad64f7925_geo_table/&#39;, size=0, modificationTime=1704294126281),\n",
       " FileInfo(path=&#39;dbfs:/user/hive/warehouse/0adad64f7925_pin_table/&#39;, name=&#39;0adad64f7925_pin_table/&#39;, size=0, modificationTime=1704294126281),\n",
       " FileInfo(path=&#39;dbfs:/user/hive/warehouse/0adad64f7925_user_table/&#39;, name=&#39;0adad64f7925_user_table/&#39;, size=0, modificationTime=1704294126281),\n",
       " FileInfo(path=&#39;dbfs:/user/hive/warehouse/0aedb74d3ba3_geo_table/&#39;, name=&#39;0aedb74d3ba3_geo_table/&#39;, size=0, modificationTime=1704294126281),\n",
       " FileInfo(path=&#39;dbfs:/user/hive/warehouse/0aedb74d3ba3_pin_table/&#39;, name=&#39;0aedb74d3ba3_pin_table/&#39;, size=0, modificationTime=1704294126281),\n",
       " FileInfo(path=&#39;dbfs:/user/hive/warehouse/0aedb74d3ba3_user_table/&#39;, name=&#39;0aedb74d3ba3_user_table/&#39;, size=0, modificationTime=1704294126281),\n",
       " FileInfo(path=&#39;dbfs:/user/hive/warehouse/0af8d0adfd13_geo_table/&#39;, name=&#39;0af8d0adfd13_geo_table/&#39;, size=0, modificationTime=1704294126281),\n",
       " FileInfo(path=&#39;dbfs:/user/hive/warehouse/0af8d0adfd13_pin_table/&#39;, name=&#39;0af8d0adfd13_pin_table/&#39;, size=0, modificationTime=1704294126281),\n",
       " FileInfo(path=&#39;dbfs:/user/hive/warehouse/0af8d0adfd13_user_table/&#39;, name=&#39;0af8d0adfd13_user_table/&#39;, size=0, modificationTime=1704294126281),\n",
       " FileInfo(path=&#39;dbfs:/user/hive/warehouse/0e1f6d6285c1_geo_table/&#39;, name=&#39;0e1f6d6285c1_geo_table/&#39;, size=0, modificationTime=1704294126281),\n",
       " FileInfo(path=&#39;dbfs:/user/hive/warehouse/0e1f6d6285c1_pin_table/&#39;, name=&#39;0e1f6d6285c1_pin_table/&#39;, size=0, modificationTime=1704294126281),\n",
       " FileInfo(path=&#39;dbfs:/user/hive/warehouse/0e1f6d6285c1_user_table/&#39;, name=&#39;0e1f6d6285c1_user_table/&#39;, size=0, modificationTime=1704294126281),\n",
       " FileInfo(path=&#39;dbfs:/user/hive/warehouse/0e2b04098249_geo_table/&#39;, name=&#39;0e2b04098249_geo_table/&#39;, size=0, modificationTime=1704294126281),\n",
       " FileInfo(path=&#39;dbfs:/user/hive/warehouse/0e2b04098249_pin_table/&#39;, name=&#39;0e2b04098249_pin_table/&#39;, size=0, modificationTime=1704294126281),\n",
       " FileInfo(path=&#39;dbfs:/user/hive/warehouse/0e2b04098249_user_table/&#39;, name=&#39;0e2b04098249_user_table/&#39;, size=0, modificationTime=1704294126281),\n",
       " FileInfo(path=&#39;dbfs:/user/hive/warehouse/0e35b2767ae1_geo_data_table/&#39;, name=&#39;0e35b2767ae1_geo_data_table/&#39;, size=0, modificationTime=1704294126281),\n",
       " FileInfo(path=&#39;dbfs:/user/hive/warehouse/0e35b2767ae1_geo_table/&#39;, name=&#39;0e35b2767ae1_geo_table/&#39;, size=0, modificationTime=1704294126281),\n",
       " FileInfo(path=&#39;dbfs:/user/hive/warehouse/0e35b2767ae1_pin_data_table/&#39;, name=&#39;0e35b2767ae1_pin_data_table/&#39;, size=0, modificationTime=1704294126281),\n",
       " FileInfo(path=&#39;dbfs:/user/hive/warehouse/0e35b2767ae1_pin_table/&#39;, name=&#39;0e35b2767ae1_pin_table/&#39;, size=0, modificationTime=1704294126281),\n",
       " FileInfo(path=&#39;dbfs:/user/hive/warehouse/0e35b2767ae1_user_data_table/&#39;, name=&#39;0e35b2767ae1_user_data_table/&#39;, size=0, modificationTime=1704294126281),\n",
       " FileInfo(path=&#39;dbfs:/user/hive/warehouse/0e35b2767ae1_user_table/&#39;, name=&#39;0e35b2767ae1_user_table/&#39;, size=0, modificationTime=1704294126281),\n",
       " FileInfo(path=&#39;dbfs:/user/hive/warehouse/0e36c8cd403d_geo_table/&#39;, name=&#39;0e36c8cd403d_geo_table/&#39;, size=0, modificationTime=1704294126281),\n",
       " FileInfo(path=&#39;dbfs:/user/hive/warehouse/0e36c8cd403d_pin_table/&#39;, name=&#39;0e36c8cd403d_pin_table/&#39;, size=0, modificationTime=1704294126281),\n",
       " FileInfo(path=&#39;dbfs:/user/hive/warehouse/0e36c8cd403d_user_table/&#39;, name=&#39;0e36c8cd403d_user_table/&#39;, size=0, modificationTime=1704294126281),\n",
       " FileInfo(path=&#39;dbfs:/user/hive/warehouse/0e4c2ab6fb3b_geo_table/&#39;, name=&#39;0e4c2ab6fb3b_geo_table/&#39;, size=0, modificationTime=1704294126281),\n",
       " FileInfo(path=&#39;dbfs:/user/hive/warehouse/0e4c2ab6fb3b_pin_table/&#39;, name=&#39;0e4c2ab6fb3b_pin_table/&#39;, size=0, modificationTime=1704294126281),\n",
       " FileInfo(path=&#39;dbfs:/user/hive/warehouse/0e4c2ab6fb3b_user_table/&#39;, name=&#39;0e4c2ab6fb3b_user_table/&#39;, size=0, modificationTime=1704294126281),\n",
       " FileInfo(path=&#39;dbfs:/user/hive/warehouse/0e8c5a5fa275_geo_table/&#39;, name=&#39;0e8c5a5fa275_geo_table/&#39;, size=0, modificationTime=1704294126281),\n",
       " FileInfo(path=&#39;dbfs:/user/hive/warehouse/0e8c5a5fa275_pin_table/&#39;, name=&#39;0e8c5a5fa275_pin_table/&#39;, size=0, modificationTime=1704294126281),\n",
       " FileInfo(path=&#39;dbfs:/user/hive/warehouse/0e8c5a5fa275_user_table/&#39;, name=&#39;0e8c5a5fa275_user_table/&#39;, size=0, modificationTime=1704294126281),\n",
       " FileInfo(path=&#39;dbfs:/user/hive/warehouse/0e90e0175553_geo_table/&#39;, name=&#39;0e90e0175553_geo_table/&#39;, size=0, modificationTime=1704294126281),\n",
       " FileInfo(path=&#39;dbfs:/user/hive/warehouse/0e90e0175553_pin_table/&#39;, name=&#39;0e90e0175553_pin_table/&#39;, size=0, modificationTime=1704294126281),\n",
       " FileInfo(path=&#39;dbfs:/user/hive/warehouse/0e90e0175553_user_table/&#39;, name=&#39;0e90e0175553_user_table/&#39;, size=0, modificationTime=1704294126281),\n",
       " FileInfo(path=&#39;dbfs:/user/hive/warehouse/0ea903d23769_geo_table/&#39;, name=&#39;0ea903d23769_geo_table/&#39;, size=0, modificationTime=1704294126281),\n",
       " FileInfo(path=&#39;dbfs:/user/hive/warehouse/0ea903d23769_pin_table/&#39;, name=&#39;0ea903d23769_pin_table/&#39;, size=0, modificationTime=1704294126281),\n",
       " FileInfo(path=&#39;dbfs:/user/hive/warehouse/0ea903d23769_user_table/&#39;, name=&#39;0ea903d23769_user_table/&#39;, size=0, modificationTime=1704294126281),\n",
       " FileInfo(path=&#39;dbfs:/user/hive/warehouse/0ea9a6e05a33_geo_table/&#39;, name=&#39;0ea9a6e05a33_geo_table/&#39;, size=0, modificationTime=1704294126281),\n",
       " FileInfo(path=&#39;dbfs:/user/hive/warehouse/0ea9a6e05a33_pin_table/&#39;, name=&#39;0ea9a6e05a33_pin_table/&#39;, size=0, modificationTime=1704294126281),\n",
       " FileInfo(path=&#39;dbfs:/user/hive/warehouse/0ea9a6e05a33_user_table/&#39;, name=&#39;0ea9a6e05a33_user_table/&#39;, size=0, modificationTime=1704294126281),\n",
       " FileInfo(path=&#39;dbfs:/user/hive/warehouse/0ec858bf1407_geo_table/&#39;, name=&#39;0ec858bf1407_geo_table/&#39;, size=0, modificationTime=1704294126281),\n",
       " FileInfo(path=&#39;dbfs:/user/hive/warehouse/0ec858bf1407_pin_table/&#39;, name=&#39;0ec858bf1407_pin_table/&#39;, size=0, modificationTime=1704294126281),\n",
       " FileInfo(path=&#39;dbfs:/user/hive/warehouse/0ec858bf1407_user_table/&#39;, name=&#39;0ec858bf1407_user_table/&#39;, size=0, modificationTime=1704294126281),\n",
       " FileInfo(path=&#39;dbfs:/user/hive/warehouse/0ecf5ea19ac5_geo_table/&#39;, name=&#39;0ecf5ea19ac5_geo_table/&#39;, size=0, modificationTime=1704294126281),\n",
       " FileInfo(path=&#39;dbfs:/user/hive/warehouse/0ecf5ea19ac5_pin_table/&#39;, name=&#39;0ecf5ea19ac5_pin_table/&#39;, size=0, modificationTime=1704294126281),\n",
       " FileInfo(path=&#39;dbfs:/user/hive/warehouse/0ecf5ea19ac5_user_table/&#39;, name=&#39;0ecf5ea19ac5_user_table/&#39;, size=0, modificationTime=1704294126281),\n",
       " FileInfo(path=&#39;dbfs:/user/hive/warehouse/0ed442ca38ad_geo_table/&#39;, name=&#39;0ed442ca38ad_geo_table/&#39;, size=0, modificationTime=1704294126281),\n",
       " FileInfo(path=&#39;dbfs:/user/hive/warehouse/0ed442ca38ad_pin_table/&#39;, name=&#39;0ed442ca38ad_pin_table/&#39;, size=0, modificationTime=1704294126281),\n",
       " FileInfo(path=&#39;dbfs:/user/hive/warehouse/0ed442ca38ad_pins_table/&#39;, name=&#39;0ed442ca38ad_pins_table/&#39;, size=0, modificationTime=1704294126281),\n",
       " FileInfo(path=&#39;dbfs:/user/hive/warehouse/0ed442ca38ad_user_table/&#39;, name=&#39;0ed442ca38ad_user_table/&#39;, size=0, modificationTime=1704294126281),\n",
       " FileInfo(path=&#39;dbfs:/user/hive/warehouse/1207b70ab7db_geo_table/&#39;, name=&#39;1207b70ab7db_geo_table/&#39;, size=0, modificationTime=1704294126281),\n",
       " FileInfo(path=&#39;dbfs:/user/hive/warehouse/1207b70ab7db_pin_table/&#39;, name=&#39;1207b70ab7db_pin_table/&#39;, size=0, modificationTime=1704294126281),\n",
       " FileInfo(path=&#39;dbfs:/user/hive/warehouse/1207b70ab7db_user_table/&#39;, name=&#39;1207b70ab7db_user_table/&#39;, size=0, modificationTime=1704294126281),\n",
       " FileInfo(path=&#39;dbfs:/user/hive/warehouse/1215be80977f_geo_table/&#39;, name=&#39;1215be80977f_geo_table/&#39;, size=0, modificationTime=1704294126281),\n",
       " FileInfo(path=&#39;dbfs:/user/hive/warehouse/1215be80977f_geo_table_table/&#39;, name=&#39;1215be80977f_geo_table_table/&#39;, size=0, modificationTime=1704294126281),\n",
       " FileInfo(path=&#39;dbfs:/user/hive/warehouse/1215be80977f_pin_table/&#39;, name=&#39;1215be80977f_pin_table/&#39;, size=0, modificationTime=1704294126281),\n",
       " FileInfo(path=&#39;dbfs:/user/hive/warehouse/1215be80977f_pin_table_table/&#39;, name=&#39;1215be80977f_pin_table_table/&#39;, size=0, modificationTime=1704294126281),\n",
       " FileInfo(path=&#39;dbfs:/user/hive/warehouse/1215be80977f_user_table/&#39;, name=&#39;1215be80977f_user_table/&#39;, size=0, modificationTime=1704294126281),\n",
       " FileInfo(path=&#39;dbfs:/user/hive/warehouse/1215be80977f_user_table_table/&#39;, name=&#39;1215be80977f_user_table_table/&#39;, size=0, modificationTime=1704294126281),\n",
       " FileInfo(path=&#39;dbfs:/user/hive/warehouse/121ca9f7ce2b_geo_table/&#39;, name=&#39;121ca9f7ce2b_geo_table/&#39;, size=0, modificationTime=1704294126281),\n",
       " FileInfo(path=&#39;dbfs:/user/hive/warehouse/121ca9f7ce2b_pin_table/&#39;, name=&#39;121ca9f7ce2b_pin_table/&#39;, size=0, modificationTime=1704294126281),\n",
       " FileInfo(path=&#39;dbfs:/user/hive/warehouse/121ca9f7ce2b_user_table/&#39;, name=&#39;121ca9f7ce2b_user_table/&#39;, size=0, modificationTime=1704294126281),\n",
       " FileInfo(path=&#39;dbfs:/user/hive/warehouse/124df56aef51_geo_table/&#39;, name=&#39;124df56aef51_geo_table/&#39;, size=0, modificationTime=1704294126281),\n",
       " FileInfo(path=&#39;dbfs:/user/hive/warehouse/124df56aef51_pin_table/&#39;, name=&#39;124df56aef51_pin_table/&#39;, size=0, modificationTime=1704294126281),\n",
       " FileInfo(path=&#39;dbfs:/user/hive/warehouse/124df56aef51_user_table/&#39;, name=&#39;124df56aef51_user_table/&#39;, size=0, modificationTime=1704294126281),\n",
       " FileInfo(path=&#39;dbfs:/user/hive/warehouse/126dc60b95b3_pin_table/&#39;, name=&#39;126dc60b95b3_pin_table/&#39;, size=0, modificationTime=1704294126281),\n",
       " FileInfo(path=&#39;dbfs:/user/hive/warehouse/126dc60b95b3_user_table/&#39;, name=&#39;126dc60b95b3_user_table/&#39;, size=0, modificationTime=1704294126281),\n",
       " FileInfo(path=&#39;dbfs:/user/hive/warehouse/1272e2b5acdf_geo_1/&#39;, name=&#39;1272e2b5acdf_geo_1/&#39;, size=0, modificationTime=1704294126281),\n",
       " FileInfo(path=&#39;dbfs:/user/hive/warehouse/1272e2b5acdf_geo_table/&#39;, name=&#39;1272e2b5acdf_geo_table/&#39;, size=0, modificationTime=1704294126281),\n",
       " FileInfo(path=&#39;dbfs:/user/hive/warehouse/1272e2b5acdf_pin/&#39;, name=&#39;1272e2b5acdf_pin/&#39;, size=0, modificationTime=1704294126281),\n",
       " FileInfo(path=&#39;dbfs:/user/hive/warehouse/1272e2b5acdf_pin_1/&#39;, name=&#39;1272e2b5acdf_pin_1/&#39;, size=0, modificationTime=1704294126281),\n",
       " FileInfo(path=&#39;dbfs:/user/hive/warehouse/1272e2b5acdf_pin_table/&#39;, name=&#39;1272e2b5acdf_pin_table/&#39;, size=0, modificationTime=1704294126281),\n",
       " FileInfo(path=&#39;dbfs:/user/hive/warehouse/1272e2b5acdf_user_table/&#39;, name=&#39;1272e2b5acdf_user_table/&#39;, size=0, modificationTime=1704294126281),\n",
       " FileInfo(path=&#39;dbfs:/user/hive/warehouse/1282968b0e7f_geo_table/&#39;, name=&#39;1282968b0e7f_geo_table/&#39;, size=0, modificationTime=1704294126281),\n",
       " FileInfo(path=&#39;dbfs:/user/hive/warehouse/1282968b0e7f_pin_table/&#39;, name=&#39;1282968b0e7f_pin_table/&#39;, size=0, modificationTime=1704294126281),\n",
       " FileInfo(path=&#39;dbfs:/user/hive/warehouse/1282968b0e7f_user_table/&#39;, name=&#39;1282968b0e7f_user_table/&#39;, size=0, modificationTime=1704294126281),\n",
       " FileInfo(path=&#39;dbfs:/user/hive/warehouse/12853887c065_geo_table/&#39;, name=&#39;12853887c065_geo_table/&#39;, size=0, modificationTime=1704294126281),\n",
       " FileInfo(path=&#39;dbfs:/user/hive/warehouse/12853887c065_pin_table/&#39;, name=&#39;12853887c065_pin_table/&#39;, size=0, modificationTime=1704294126281),\n",
       " FileInfo(path=&#39;dbfs:/user/hive/warehouse/12853887c065_user_table/&#39;, name=&#39;12853887c065_user_table/&#39;, size=0, modificationTime=1704294126281),\n",
       " FileInfo(path=&#39;dbfs:/user/hive/warehouse/12869112c9e5_geo_table/&#39;, name=&#39;12869112c9e5_geo_table/&#39;, size=0, modificationTime=1704294126281),\n",
       " FileInfo(path=&#39;dbfs:/user/hive/warehouse/12869112c9e5_pin_table/&#39;, name=&#39;12869112c9e5_pin_table/&#39;, size=0, modificationTime=1704294126281),\n",
       " FileInfo(path=&#39;dbfs:/user/hive/warehouse/12869112c9e5_user_table/&#39;, name=&#39;12869112c9e5_user_table/&#39;, size=0, modificationTime=1704294126281),\n",
       " FileInfo(path=&#39;dbfs:/user/hive/warehouse/12a3410ba3cf_geo_table/&#39;, name=&#39;12a3410ba3cf_geo_table/&#39;, size=0, modificationTime=1704294126281),\n",
       " FileInfo(path=&#39;dbfs:/user/hive/warehouse/12a3410ba3cf_pin_table/&#39;, name=&#39;12a3410ba3cf_pin_table/&#39;, size=0, modificationTime=1704294126281),\n",
       " FileInfo(path=&#39;dbfs:/user/hive/warehouse/12a3410ba3cf_user_table/&#39;, name=&#39;12a3410ba3cf_user_table/&#39;, size=0, modificationTime=1704294126281),\n",
       " FileInfo(path=&#39;dbfs:/user/hive/warehouse/12b287eedf6d_geo_table/&#39;, name=&#39;12b287eedf6d_geo_table/&#39;, size=0, modificationTime=1704294126281),\n",
       " FileInfo(path=&#39;dbfs:/user/hive/warehouse/12b287eedf6d_pin_table/&#39;, name=&#39;12b287eedf6d_pin_table/&#39;, size=0, modificationTime=1704294126281),\n",
       " FileInfo(path=&#39;dbfs:/user/hive/warehouse/12b287eedf6d_user_table/&#39;, name=&#39;12b287eedf6d_user_table/&#39;, size=0, modificationTime=1704294126281),\n",
       " FileInfo(path=&#39;dbfs:/user/hive/warehouse/12c5e9eb47cb_geo_table/&#39;, name=&#39;12c5e9eb47cb_geo_table/&#39;, size=0, modificationTime=1704294126281),\n",
       " FileInfo(path=&#39;dbfs:/user/hive/warehouse/12c5e9eb47cb_pin_table/&#39;, name=&#39;12c5e9eb47cb_pin_table/&#39;, size=0, modificationTime=1704294126281),\n",
       " FileInfo(path=&#39;dbfs:/user/hive/warehouse/12c5e9eb47cb_user_table/&#39;, name=&#39;12c5e9eb47cb_user_table/&#39;, size=0, modificationTime=1704294126281),\n",
       " FileInfo(path=&#39;dbfs:/user/hive/warehouse/12cc24ac7551_geo_table/&#39;, name=&#39;12cc24ac7551_geo_table/&#39;, size=0, modificationTime=1704294126281),\n",
       " FileInfo(path=&#39;dbfs:/user/hive/warehouse/12cc24ac7551_pin_table/&#39;, name=&#39;12cc24ac7551_pin_table/&#39;, size=0, modificationTime=1704294126281),\n",
       " FileInfo(path=&#39;dbfs:/user/hive/warehouse/12cc24ac7551_user_table/&#39;, name=&#39;12cc24ac7551_user_table/&#39;, size=0, modificationTime=1704294126281),\n",
       " FileInfo(path=&#39;dbfs:/user/hive/warehouse/12f4a3e5b9c5_geo_table/&#39;, name=&#39;12f4a3e5b9c5_geo_table/&#39;, size=0, modificationTime=1704294126281),\n",
       " FileInfo(path=&#39;dbfs:/user/hive/warehouse/12f4a3e5b9c5_pin_table/&#39;, name=&#39;12f4a3e5b9c5_pin_table/&#39;, size=0, modificationTime=1704294126281),\n",
       " FileInfo(path=&#39;dbfs:/user/hive/warehouse/12f4a3e5b9c5_user_table/&#39;, name=&#39;12f4a3e5b9c5_user_table/&#39;, size=0, modificationTime=1704294126281),\n",
       " FileInfo(path=&#39;dbfs:/user/hive/warehouse/12f7a43505b1_geo_table/&#39;, name=&#39;12f7a43505b1_geo_table/&#39;, size=0, modificationTime=1704294126281),\n",
       " FileInfo(path=&#39;dbfs:/user/hive/warehouse/12f7a43505b1_pin_table/&#39;, name=&#39;12f7a43505b1_pin_table/&#39;, size=0, modificationTime=1704294126281),\n",
       " FileInfo(path=&#39;dbfs:/user/hive/warehouse/12f7a43505b1_user_table/&#39;, name=&#39;12f7a43505b1_user_table/&#39;, size=0, modificationTime=1704294126281),\n",
       " FileInfo(path=&#39;dbfs:/user/hive/warehouse/authentication_credentials/&#39;, name=&#39;authentication_credentials/&#39;, size=0, modificationTime=1704294126281),\n",
       " FileInfo(path=&#39;dbfs:/user/hive/warehouse/beans/&#39;, name=&#39;beans/&#39;, size=0, modificationTime=1704294126281),\n",
       " FileInfo(path=&#39;dbfs:/user/hive/warehouse/countries/&#39;, name=&#39;countries/&#39;, size=0, modificationTime=1704294126281),\n",
       " FileInfo(path=&#39;dbfs:/user/hive/warehouse/delta_lake_table/&#39;, name=&#39;delta_lake_table/&#39;, size=0, modificationTime=1704294126281),\n",
       " FileInfo(path=&#39;dbfs:/user/hive/warehouse/df_geo/&#39;, name=&#39;df_geo/&#39;, size=0, modificationTime=1704294126281),\n",
       " FileInfo(path=&#39;dbfs:/user/hive/warehouse/df_pin/&#39;, name=&#39;df_pin/&#39;, size=0, modificationTime=1704294126281),\n",
       " FileInfo(path=&#39;dbfs:/user/hive/warehouse/df_user/&#39;, name=&#39;df_user/&#39;, size=0, modificationTime=1704294126281),\n",
       " FileInfo(path=&#39;dbfs:/user/hive/warehouse/employees/&#39;, name=&#39;employees/&#39;, size=0, modificationTime=1704294126281),\n",
       " FileInfo(path=&#39;dbfs:/user/hive/warehouse/geo_data/&#39;, name=&#39;geo_data/&#39;, size=0, modificationTime=1704294126281),\n",
       " FileInfo(path=&#39;dbfs:/user/hive/warehouse/mayaclustercredentials/&#39;, name=&#39;mayaclustercredentials/&#39;, size=0, modificationTime=1704294126281),\n",
       " FileInfo(path=&#39;dbfs:/user/hive/warehouse/my_first_data_base.db/&#39;, name=&#39;my_first_data_base.db/&#39;, size=0, modificationTime=1704294126281),\n",
       " FileInfo(path=&#39;dbfs:/user/hive/warehouse/my_first_table/&#39;, name=&#39;my_first_table/&#39;, size=0, modificationTime=1704294126281),\n",
       " FileInfo(path=&#39;dbfs:/user/hive/warehouse/my_new_database.db/&#39;, name=&#39;my_new_database.db/&#39;, size=0, modificationTime=1704294126281),\n",
       " FileInfo(path=&#39;dbfs:/user/hive/warehouse/my_table_table/&#39;, name=&#39;my_table_table/&#39;, size=0, modificationTime=1704294126281),\n",
       " FileInfo(path=&#39;dbfs:/user/hive/warehouse/pin_data/&#39;, name=&#39;pin_data/&#39;, size=0, modificationTime=1704294126281),\n",
       " FileInfo(path=&#39;dbfs:/user/hive/warehouse/pin_df/&#39;, name=&#39;pin_df/&#39;, size=0, modificationTime=1704294126281),\n",
       " FileInfo(path=&#39;dbfs:/user/hive/warehouse/pin_events/&#39;, name=&#39;pin_events/&#39;, size=0, modificationTime=1704294126281),\n",
       " FileInfo(path=&#39;dbfs:/user/hive/warehouse/pin_kinesis_events/&#39;, name=&#39;pin_kinesis_events/&#39;, size=0, modificationTime=1704294126281),\n",
       " FileInfo(path=&#39;dbfs:/user/hive/warehouse/streaming-12c0d092d679-pin/&#39;, name=&#39;streaming-12c0d092d679-pin/&#39;, size=0, modificationTime=1704294126281),\n",
       " FileInfo(path=&#39;dbfs:/user/hive/warehouse/test_credentials_cluster/&#39;, name=&#39;test_credentials_cluster/&#39;, size=0, modificationTime=1704294126281),\n",
       " FileInfo(path=&#39;dbfs:/user/hive/warehouse/test_pin_table/&#39;, name=&#39;test_pin_table/&#39;, size=0, modificationTime=1704294126281),\n",
       " FileInfo(path=&#39;dbfs:/user/hive/warehouse/test_table/&#39;, name=&#39;test_table/&#39;, size=0, modificationTime=1704294126281),\n",
       " FileInfo(path=&#39;dbfs:/user/hive/warehouse/user_data/&#39;, name=&#39;user_data/&#39;, size=0, modificationTime=1704294126281),\n",
       " FileInfo(path=&#39;dbfs:/user/hive/warehouse/user_df/&#39;, name=&#39;user_df/&#39;, size=0, modificationTime=1704294126281),\n",
       " FileInfo(path=&#39;dbfs:/user/hive/warehouse/user_kinesis/&#39;, name=&#39;user_kinesis/&#39;, size=0, modificationTime=1704294126281)]</div>"
      ]
     },
     "metadata": {
      "application/vnd.databricks.v1+output": {
       "addedWidgets": {},
       "arguments": {},
       "data": "<div class=\"ansiout\">Out[5]: [FileInfo(path=&#39;dbfs:/user/hive/warehouse/0a0223c10829_geo_table/&#39;, name=&#39;0a0223c10829_geo_table/&#39;, size=0, modificationTime=1704294126280),\n FileInfo(path=&#39;dbfs:/user/hive/warehouse/0a0223c10829_pin_table/&#39;, name=&#39;0a0223c10829_pin_table/&#39;, size=0, modificationTime=1704294126280),\n FileInfo(path=&#39;dbfs:/user/hive/warehouse/0a0223c10829_user_table/&#39;, name=&#39;0a0223c10829_user_table/&#39;, size=0, modificationTime=1704294126280),\n FileInfo(path=&#39;dbfs:/user/hive/warehouse/0a1d8948160f_geo_table/&#39;, name=&#39;0a1d8948160f_geo_table/&#39;, size=0, modificationTime=1704294126280),\n FileInfo(path=&#39;dbfs:/user/hive/warehouse/0a1d8948160f_pin_table/&#39;, name=&#39;0a1d8948160f_pin_table/&#39;, size=0, modificationTime=1704294126280),\n FileInfo(path=&#39;dbfs:/user/hive/warehouse/0a1d8948160f_user_table/&#39;, name=&#39;0a1d8948160f_user_table/&#39;, size=0, modificationTime=1704294126280),\n FileInfo(path=&#39;dbfs:/user/hive/warehouse/0a2528ba1237_geo_table/&#39;, name=&#39;0a2528ba1237_geo_table/&#39;, size=0, modificationTime=1704294126280),\n FileInfo(path=&#39;dbfs:/user/hive/warehouse/0a2528ba1237_pin_table/&#39;, name=&#39;0a2528ba1237_pin_table/&#39;, size=0, modificationTime=1704294126280),\n FileInfo(path=&#39;dbfs:/user/hive/warehouse/0a2528ba1237_user_table/&#39;, name=&#39;0a2528ba1237_user_table/&#39;, size=0, modificationTime=1704294126280),\n FileInfo(path=&#39;dbfs:/user/hive/warehouse/0a2f66c3e41f_df_geo/&#39;, name=&#39;0a2f66c3e41f_df_geo/&#39;, size=0, modificationTime=1704294126280),\n FileInfo(path=&#39;dbfs:/user/hive/warehouse/0a2f66c3e41f_df_pin/&#39;, name=&#39;0a2f66c3e41f_df_pin/&#39;, size=0, modificationTime=1704294126280),\n FileInfo(path=&#39;dbfs:/user/hive/warehouse/0a2f66c3e41f_df_user/&#39;, name=&#39;0a2f66c3e41f_df_user/&#39;, size=0, modificationTime=1704294126280),\n FileInfo(path=&#39;dbfs:/user/hive/warehouse/0a3c6c045333_geo_table/&#39;, name=&#39;0a3c6c045333_geo_table/&#39;, size=0, modificationTime=1704294126280),\n FileInfo(path=&#39;dbfs:/user/hive/warehouse/0a3c6c045333_pin_table/&#39;, name=&#39;0a3c6c045333_pin_table/&#39;, size=0, modificationTime=1704294126280),\n FileInfo(path=&#39;dbfs:/user/hive/warehouse/0a3c6c045333_user_table/&#39;, name=&#39;0a3c6c045333_user_table/&#39;, size=0, modificationTime=1704294126280),\n FileInfo(path=&#39;dbfs:/user/hive/warehouse/0a3db223d459_geo_table/&#39;, name=&#39;0a3db223d459_geo_table/&#39;, size=0, modificationTime=1704294126280),\n FileInfo(path=&#39;dbfs:/user/hive/warehouse/0a3db223d459_pin_table/&#39;, name=&#39;0a3db223d459_pin_table/&#39;, size=0, modificationTime=1704294126280),\n FileInfo(path=&#39;dbfs:/user/hive/warehouse/0a3db223d459_user_table/&#39;, name=&#39;0a3db223d459_user_table/&#39;, size=0, modificationTime=1704294126280),\n FileInfo(path=&#39;dbfs:/user/hive/warehouse/0a40ea42f8d1_geo_table/&#39;, name=&#39;0a40ea42f8d1_geo_table/&#39;, size=0, modificationTime=1704294126280),\n FileInfo(path=&#39;dbfs:/user/hive/warehouse/0a40ea42f8d1_pin_table/&#39;, name=&#39;0a40ea42f8d1_pin_table/&#39;, size=0, modificationTime=1704294126280),\n FileInfo(path=&#39;dbfs:/user/hive/warehouse/0a40ea42f8d1_user_table/&#39;, name=&#39;0a40ea42f8d1_user_table/&#39;, size=0, modificationTime=1704294126280),\n FileInfo(path=&#39;dbfs:/user/hive/warehouse/0a48d8473ced_geo_table/&#39;, name=&#39;0a48d8473ced_geo_table/&#39;, size=0, modificationTime=1704294126280),\n FileInfo(path=&#39;dbfs:/user/hive/warehouse/0a48d8473ced_pin_table/&#39;, name=&#39;0a48d8473ced_pin_table/&#39;, size=0, modificationTime=1704294126280),\n FileInfo(path=&#39;dbfs:/user/hive/warehouse/0a48d8473ced_user_table/&#39;, name=&#39;0a48d8473ced_user_table/&#39;, size=0, modificationTime=1704294126280),\n FileInfo(path=&#39;dbfs:/user/hive/warehouse/0a4ac73a0561_geo_table/&#39;, name=&#39;0a4ac73a0561_geo_table/&#39;, size=0, modificationTime=1704294126280),\n FileInfo(path=&#39;dbfs:/user/hive/warehouse/0a4ac73a0561_pin_table/&#39;, name=&#39;0a4ac73a0561_pin_table/&#39;, size=0, modificationTime=1704294126280),\n FileInfo(path=&#39;dbfs:/user/hive/warehouse/0a4ac73a0561_user_table/&#39;, name=&#39;0a4ac73a0561_user_table/&#39;, size=0, modificationTime=1704294126280),\n FileInfo(path=&#39;dbfs:/user/hive/warehouse/0a4e65e909bd_geo_table/&#39;, name=&#39;0a4e65e909bd_geo_table/&#39;, size=0, modificationTime=1704294126280),\n FileInfo(path=&#39;dbfs:/user/hive/warehouse/0a4e65e909bd_pin_table/&#39;, name=&#39;0a4e65e909bd_pin_table/&#39;, size=0, modificationTime=1704294126280),\n FileInfo(path=&#39;dbfs:/user/hive/warehouse/0a4e65e909bd_user_table/&#39;, name=&#39;0a4e65e909bd_user_table/&#39;, size=0, modificationTime=1704294126280),\n FileInfo(path=&#39;dbfs:/user/hive/warehouse/0a5afda0229f_geo_table/&#39;, name=&#39;0a5afda0229f_geo_table/&#39;, size=0, modificationTime=1704294126280),\n FileInfo(path=&#39;dbfs:/user/hive/warehouse/0a5afda0229f_pin_table/&#39;, name=&#39;0a5afda0229f_pin_table/&#39;, size=0, modificationTime=1704294126280),\n FileInfo(path=&#39;dbfs:/user/hive/warehouse/0a5afda0229f_user_table/&#39;, name=&#39;0a5afda0229f_user_table/&#39;, size=0, modificationTime=1704294126280),\n FileInfo(path=&#39;dbfs:/user/hive/warehouse/0a5e6ec37a2f_geo_table/&#39;, name=&#39;0a5e6ec37a2f_geo_table/&#39;, size=0, modificationTime=1704294126280),\n FileInfo(path=&#39;dbfs:/user/hive/warehouse/0a5e6ec37a2f_pin_table/&#39;, name=&#39;0a5e6ec37a2f_pin_table/&#39;, size=0, modificationTime=1704294126280),\n FileInfo(path=&#39;dbfs:/user/hive/warehouse/0a5e6ec37a2f_user_table/&#39;, name=&#39;0a5e6ec37a2f_user_table/&#39;, size=0, modificationTime=1704294126280),\n FileInfo(path=&#39;dbfs:/user/hive/warehouse/0a60b9a8a831_geo_table/&#39;, name=&#39;0a60b9a8a831_geo_table/&#39;, size=0, modificationTime=1704294126280),\n FileInfo(path=&#39;dbfs:/user/hive/warehouse/0a60b9a8a831_pin_table/&#39;, name=&#39;0a60b9a8a831_pin_table/&#39;, size=0, modificationTime=1704294126280),\n FileInfo(path=&#39;dbfs:/user/hive/warehouse/0a60b9a8a831_user_table/&#39;, name=&#39;0a60b9a8a831_user_table/&#39;, size=0, modificationTime=1704294126280),\n FileInfo(path=&#39;dbfs:/user/hive/warehouse/0a65154c50dd_geo_table/&#39;, name=&#39;0a65154c50dd_geo_table/&#39;, size=0, modificationTime=1704294126280),\n FileInfo(path=&#39;dbfs:/user/hive/warehouse/0a65154c50dd_pin_table/&#39;, name=&#39;0a65154c50dd_pin_table/&#39;, size=0, modificationTime=1704294126280),\n FileInfo(path=&#39;dbfs:/user/hive/warehouse/0a65154c50dd_user_table/&#39;, name=&#39;0a65154c50dd_user_table/&#39;, size=0, modificationTime=1704294126280),\n FileInfo(path=&#39;dbfs:/user/hive/warehouse/0a6a638f5991_geo_table/&#39;, name=&#39;0a6a638f5991_geo_table/&#39;, size=0, modificationTime=1704294126280),\n FileInfo(path=&#39;dbfs:/user/hive/warehouse/0a6a638f5991_pin_table/&#39;, name=&#39;0a6a638f5991_pin_table/&#39;, size=0, modificationTime=1704294126280),\n FileInfo(path=&#39;dbfs:/user/hive/warehouse/0a6a638f5991_user_table/&#39;, name=&#39;0a6a638f5991_user_table/&#39;, size=0, modificationTime=1704294126280),\n FileInfo(path=&#39;dbfs:/user/hive/warehouse/0a8597384a69_geo_table/&#39;, name=&#39;0a8597384a69_geo_table/&#39;, size=0, modificationTime=1704294126280),\n FileInfo(path=&#39;dbfs:/user/hive/warehouse/0a8597384a69_pin_table/&#39;, name=&#39;0a8597384a69_pin_table/&#39;, size=0, modificationTime=1704294126280),\n FileInfo(path=&#39;dbfs:/user/hive/warehouse/0a8597384a69_user_table/&#39;, name=&#39;0a8597384a69_user_table/&#39;, size=0, modificationTime=1704294126280),\n FileInfo(path=&#39;dbfs:/user/hive/warehouse/0a966c04ad33_pin_table/&#39;, name=&#39;0a966c04ad33_pin_table/&#39;, size=0, modificationTime=1704294126280),\n FileInfo(path=&#39;dbfs:/user/hive/warehouse/0a9b5b8a2ae5_geo_table/&#39;, name=&#39;0a9b5b8a2ae5_geo_table/&#39;, size=0, modificationTime=1704294126280),\n FileInfo(path=&#39;dbfs:/user/hive/warehouse/0a9b5b8a2ae5_pin_table/&#39;, name=&#39;0a9b5b8a2ae5_pin_table/&#39;, size=0, modificationTime=1704294126281),\n FileInfo(path=&#39;dbfs:/user/hive/warehouse/0a9b5b8a2ae5_user_table/&#39;, name=&#39;0a9b5b8a2ae5_user_table/&#39;, size=0, modificationTime=1704294126281),\n FileInfo(path=&#39;dbfs:/user/hive/warehouse/0abb070c336b_geo_table/&#39;, name=&#39;0abb070c336b_geo_table/&#39;, size=0, modificationTime=1704294126281),\n FileInfo(path=&#39;dbfs:/user/hive/warehouse/0abb070c336b_pin_table/&#39;, name=&#39;0abb070c336b_pin_table/&#39;, size=0, modificationTime=1704294126281),\n FileInfo(path=&#39;dbfs:/user/hive/warehouse/0abb070c336b_user_table/&#39;, name=&#39;0abb070c336b_user_table/&#39;, size=0, modificationTime=1704294126281),\n FileInfo(path=&#39;dbfs:/user/hive/warehouse/0adad64f7925_geo_table/&#39;, name=&#39;0adad64f7925_geo_table/&#39;, size=0, modificationTime=1704294126281),\n FileInfo(path=&#39;dbfs:/user/hive/warehouse/0adad64f7925_pin_table/&#39;, name=&#39;0adad64f7925_pin_table/&#39;, size=0, modificationTime=1704294126281),\n FileInfo(path=&#39;dbfs:/user/hive/warehouse/0adad64f7925_user_table/&#39;, name=&#39;0adad64f7925_user_table/&#39;, size=0, modificationTime=1704294126281),\n FileInfo(path=&#39;dbfs:/user/hive/warehouse/0aedb74d3ba3_geo_table/&#39;, name=&#39;0aedb74d3ba3_geo_table/&#39;, size=0, modificationTime=1704294126281),\n FileInfo(path=&#39;dbfs:/user/hive/warehouse/0aedb74d3ba3_pin_table/&#39;, name=&#39;0aedb74d3ba3_pin_table/&#39;, size=0, modificationTime=1704294126281),\n FileInfo(path=&#39;dbfs:/user/hive/warehouse/0aedb74d3ba3_user_table/&#39;, name=&#39;0aedb74d3ba3_user_table/&#39;, size=0, modificationTime=1704294126281),\n FileInfo(path=&#39;dbfs:/user/hive/warehouse/0af8d0adfd13_geo_table/&#39;, name=&#39;0af8d0adfd13_geo_table/&#39;, size=0, modificationTime=1704294126281),\n FileInfo(path=&#39;dbfs:/user/hive/warehouse/0af8d0adfd13_pin_table/&#39;, name=&#39;0af8d0adfd13_pin_table/&#39;, size=0, modificationTime=1704294126281),\n FileInfo(path=&#39;dbfs:/user/hive/warehouse/0af8d0adfd13_user_table/&#39;, name=&#39;0af8d0adfd13_user_table/&#39;, size=0, modificationTime=1704294126281),\n FileInfo(path=&#39;dbfs:/user/hive/warehouse/0e1f6d6285c1_geo_table/&#39;, name=&#39;0e1f6d6285c1_geo_table/&#39;, size=0, modificationTime=1704294126281),\n FileInfo(path=&#39;dbfs:/user/hive/warehouse/0e1f6d6285c1_pin_table/&#39;, name=&#39;0e1f6d6285c1_pin_table/&#39;, size=0, modificationTime=1704294126281),\n FileInfo(path=&#39;dbfs:/user/hive/warehouse/0e1f6d6285c1_user_table/&#39;, name=&#39;0e1f6d6285c1_user_table/&#39;, size=0, modificationTime=1704294126281),\n FileInfo(path=&#39;dbfs:/user/hive/warehouse/0e2b04098249_geo_table/&#39;, name=&#39;0e2b04098249_geo_table/&#39;, size=0, modificationTime=1704294126281),\n FileInfo(path=&#39;dbfs:/user/hive/warehouse/0e2b04098249_pin_table/&#39;, name=&#39;0e2b04098249_pin_table/&#39;, size=0, modificationTime=1704294126281),\n FileInfo(path=&#39;dbfs:/user/hive/warehouse/0e2b04098249_user_table/&#39;, name=&#39;0e2b04098249_user_table/&#39;, size=0, modificationTime=1704294126281),\n FileInfo(path=&#39;dbfs:/user/hive/warehouse/0e35b2767ae1_geo_data_table/&#39;, name=&#39;0e35b2767ae1_geo_data_table/&#39;, size=0, modificationTime=1704294126281),\n FileInfo(path=&#39;dbfs:/user/hive/warehouse/0e35b2767ae1_geo_table/&#39;, name=&#39;0e35b2767ae1_geo_table/&#39;, size=0, modificationTime=1704294126281),\n FileInfo(path=&#39;dbfs:/user/hive/warehouse/0e35b2767ae1_pin_data_table/&#39;, name=&#39;0e35b2767ae1_pin_data_table/&#39;, size=0, modificationTime=1704294126281),\n FileInfo(path=&#39;dbfs:/user/hive/warehouse/0e35b2767ae1_pin_table/&#39;, name=&#39;0e35b2767ae1_pin_table/&#39;, size=0, modificationTime=1704294126281),\n FileInfo(path=&#39;dbfs:/user/hive/warehouse/0e35b2767ae1_user_data_table/&#39;, name=&#39;0e35b2767ae1_user_data_table/&#39;, size=0, modificationTime=1704294126281),\n FileInfo(path=&#39;dbfs:/user/hive/warehouse/0e35b2767ae1_user_table/&#39;, name=&#39;0e35b2767ae1_user_table/&#39;, size=0, modificationTime=1704294126281),\n FileInfo(path=&#39;dbfs:/user/hive/warehouse/0e36c8cd403d_geo_table/&#39;, name=&#39;0e36c8cd403d_geo_table/&#39;, size=0, modificationTime=1704294126281),\n FileInfo(path=&#39;dbfs:/user/hive/warehouse/0e36c8cd403d_pin_table/&#39;, name=&#39;0e36c8cd403d_pin_table/&#39;, size=0, modificationTime=1704294126281),\n FileInfo(path=&#39;dbfs:/user/hive/warehouse/0e36c8cd403d_user_table/&#39;, name=&#39;0e36c8cd403d_user_table/&#39;, size=0, modificationTime=1704294126281),\n FileInfo(path=&#39;dbfs:/user/hive/warehouse/0e4c2ab6fb3b_geo_table/&#39;, name=&#39;0e4c2ab6fb3b_geo_table/&#39;, size=0, modificationTime=1704294126281),\n FileInfo(path=&#39;dbfs:/user/hive/warehouse/0e4c2ab6fb3b_pin_table/&#39;, name=&#39;0e4c2ab6fb3b_pin_table/&#39;, size=0, modificationTime=1704294126281),\n FileInfo(path=&#39;dbfs:/user/hive/warehouse/0e4c2ab6fb3b_user_table/&#39;, name=&#39;0e4c2ab6fb3b_user_table/&#39;, size=0, modificationTime=1704294126281),\n FileInfo(path=&#39;dbfs:/user/hive/warehouse/0e8c5a5fa275_geo_table/&#39;, name=&#39;0e8c5a5fa275_geo_table/&#39;, size=0, modificationTime=1704294126281),\n FileInfo(path=&#39;dbfs:/user/hive/warehouse/0e8c5a5fa275_pin_table/&#39;, name=&#39;0e8c5a5fa275_pin_table/&#39;, size=0, modificationTime=1704294126281),\n FileInfo(path=&#39;dbfs:/user/hive/warehouse/0e8c5a5fa275_user_table/&#39;, name=&#39;0e8c5a5fa275_user_table/&#39;, size=0, modificationTime=1704294126281),\n FileInfo(path=&#39;dbfs:/user/hive/warehouse/0e90e0175553_geo_table/&#39;, name=&#39;0e90e0175553_geo_table/&#39;, size=0, modificationTime=1704294126281),\n FileInfo(path=&#39;dbfs:/user/hive/warehouse/0e90e0175553_pin_table/&#39;, name=&#39;0e90e0175553_pin_table/&#39;, size=0, modificationTime=1704294126281),\n FileInfo(path=&#39;dbfs:/user/hive/warehouse/0e90e0175553_user_table/&#39;, name=&#39;0e90e0175553_user_table/&#39;, size=0, modificationTime=1704294126281),\n FileInfo(path=&#39;dbfs:/user/hive/warehouse/0ea903d23769_geo_table/&#39;, name=&#39;0ea903d23769_geo_table/&#39;, size=0, modificationTime=1704294126281),\n FileInfo(path=&#39;dbfs:/user/hive/warehouse/0ea903d23769_pin_table/&#39;, name=&#39;0ea903d23769_pin_table/&#39;, size=0, modificationTime=1704294126281),\n FileInfo(path=&#39;dbfs:/user/hive/warehouse/0ea903d23769_user_table/&#39;, name=&#39;0ea903d23769_user_table/&#39;, size=0, modificationTime=1704294126281),\n FileInfo(path=&#39;dbfs:/user/hive/warehouse/0ea9a6e05a33_geo_table/&#39;, name=&#39;0ea9a6e05a33_geo_table/&#39;, size=0, modificationTime=1704294126281),\n FileInfo(path=&#39;dbfs:/user/hive/warehouse/0ea9a6e05a33_pin_table/&#39;, name=&#39;0ea9a6e05a33_pin_table/&#39;, size=0, modificationTime=1704294126281),\n FileInfo(path=&#39;dbfs:/user/hive/warehouse/0ea9a6e05a33_user_table/&#39;, name=&#39;0ea9a6e05a33_user_table/&#39;, size=0, modificationTime=1704294126281),\n FileInfo(path=&#39;dbfs:/user/hive/warehouse/0ec858bf1407_geo_table/&#39;, name=&#39;0ec858bf1407_geo_table/&#39;, size=0, modificationTime=1704294126281),\n FileInfo(path=&#39;dbfs:/user/hive/warehouse/0ec858bf1407_pin_table/&#39;, name=&#39;0ec858bf1407_pin_table/&#39;, size=0, modificationTime=1704294126281),\n FileInfo(path=&#39;dbfs:/user/hive/warehouse/0ec858bf1407_user_table/&#39;, name=&#39;0ec858bf1407_user_table/&#39;, size=0, modificationTime=1704294126281),\n FileInfo(path=&#39;dbfs:/user/hive/warehouse/0ecf5ea19ac5_geo_table/&#39;, name=&#39;0ecf5ea19ac5_geo_table/&#39;, size=0, modificationTime=1704294126281),\n FileInfo(path=&#39;dbfs:/user/hive/warehouse/0ecf5ea19ac5_pin_table/&#39;, name=&#39;0ecf5ea19ac5_pin_table/&#39;, size=0, modificationTime=1704294126281),\n FileInfo(path=&#39;dbfs:/user/hive/warehouse/0ecf5ea19ac5_user_table/&#39;, name=&#39;0ecf5ea19ac5_user_table/&#39;, size=0, modificationTime=1704294126281),\n FileInfo(path=&#39;dbfs:/user/hive/warehouse/0ed442ca38ad_geo_table/&#39;, name=&#39;0ed442ca38ad_geo_table/&#39;, size=0, modificationTime=1704294126281),\n FileInfo(path=&#39;dbfs:/user/hive/warehouse/0ed442ca38ad_pin_table/&#39;, name=&#39;0ed442ca38ad_pin_table/&#39;, size=0, modificationTime=1704294126281),\n FileInfo(path=&#39;dbfs:/user/hive/warehouse/0ed442ca38ad_pins_table/&#39;, name=&#39;0ed442ca38ad_pins_table/&#39;, size=0, modificationTime=1704294126281),\n FileInfo(path=&#39;dbfs:/user/hive/warehouse/0ed442ca38ad_user_table/&#39;, name=&#39;0ed442ca38ad_user_table/&#39;, size=0, modificationTime=1704294126281),\n FileInfo(path=&#39;dbfs:/user/hive/warehouse/1207b70ab7db_geo_table/&#39;, name=&#39;1207b70ab7db_geo_table/&#39;, size=0, modificationTime=1704294126281),\n FileInfo(path=&#39;dbfs:/user/hive/warehouse/1207b70ab7db_pin_table/&#39;, name=&#39;1207b70ab7db_pin_table/&#39;, size=0, modificationTime=1704294126281),\n FileInfo(path=&#39;dbfs:/user/hive/warehouse/1207b70ab7db_user_table/&#39;, name=&#39;1207b70ab7db_user_table/&#39;, size=0, modificationTime=1704294126281),\n FileInfo(path=&#39;dbfs:/user/hive/warehouse/1215be80977f_geo_table/&#39;, name=&#39;1215be80977f_geo_table/&#39;, size=0, modificationTime=1704294126281),\n FileInfo(path=&#39;dbfs:/user/hive/warehouse/1215be80977f_geo_table_table/&#39;, name=&#39;1215be80977f_geo_table_table/&#39;, size=0, modificationTime=1704294126281),\n FileInfo(path=&#39;dbfs:/user/hive/warehouse/1215be80977f_pin_table/&#39;, name=&#39;1215be80977f_pin_table/&#39;, size=0, modificationTime=1704294126281),\n FileInfo(path=&#39;dbfs:/user/hive/warehouse/1215be80977f_pin_table_table/&#39;, name=&#39;1215be80977f_pin_table_table/&#39;, size=0, modificationTime=1704294126281),\n FileInfo(path=&#39;dbfs:/user/hive/warehouse/1215be80977f_user_table/&#39;, name=&#39;1215be80977f_user_table/&#39;, size=0, modificationTime=1704294126281),\n FileInfo(path=&#39;dbfs:/user/hive/warehouse/1215be80977f_user_table_table/&#39;, name=&#39;1215be80977f_user_table_table/&#39;, size=0, modificationTime=1704294126281),\n FileInfo(path=&#39;dbfs:/user/hive/warehouse/121ca9f7ce2b_geo_table/&#39;, name=&#39;121ca9f7ce2b_geo_table/&#39;, size=0, modificationTime=1704294126281),\n FileInfo(path=&#39;dbfs:/user/hive/warehouse/121ca9f7ce2b_pin_table/&#39;, name=&#39;121ca9f7ce2b_pin_table/&#39;, size=0, modificationTime=1704294126281),\n FileInfo(path=&#39;dbfs:/user/hive/warehouse/121ca9f7ce2b_user_table/&#39;, name=&#39;121ca9f7ce2b_user_table/&#39;, size=0, modificationTime=1704294126281),\n FileInfo(path=&#39;dbfs:/user/hive/warehouse/124df56aef51_geo_table/&#39;, name=&#39;124df56aef51_geo_table/&#39;, size=0, modificationTime=1704294126281),\n FileInfo(path=&#39;dbfs:/user/hive/warehouse/124df56aef51_pin_table/&#39;, name=&#39;124df56aef51_pin_table/&#39;, size=0, modificationTime=1704294126281),\n FileInfo(path=&#39;dbfs:/user/hive/warehouse/124df56aef51_user_table/&#39;, name=&#39;124df56aef51_user_table/&#39;, size=0, modificationTime=1704294126281),\n FileInfo(path=&#39;dbfs:/user/hive/warehouse/126dc60b95b3_pin_table/&#39;, name=&#39;126dc60b95b3_pin_table/&#39;, size=0, modificationTime=1704294126281),\n FileInfo(path=&#39;dbfs:/user/hive/warehouse/126dc60b95b3_user_table/&#39;, name=&#39;126dc60b95b3_user_table/&#39;, size=0, modificationTime=1704294126281),\n FileInfo(path=&#39;dbfs:/user/hive/warehouse/1272e2b5acdf_geo_1/&#39;, name=&#39;1272e2b5acdf_geo_1/&#39;, size=0, modificationTime=1704294126281),\n FileInfo(path=&#39;dbfs:/user/hive/warehouse/1272e2b5acdf_geo_table/&#39;, name=&#39;1272e2b5acdf_geo_table/&#39;, size=0, modificationTime=1704294126281),\n FileInfo(path=&#39;dbfs:/user/hive/warehouse/1272e2b5acdf_pin/&#39;, name=&#39;1272e2b5acdf_pin/&#39;, size=0, modificationTime=1704294126281),\n FileInfo(path=&#39;dbfs:/user/hive/warehouse/1272e2b5acdf_pin_1/&#39;, name=&#39;1272e2b5acdf_pin_1/&#39;, size=0, modificationTime=1704294126281),\n FileInfo(path=&#39;dbfs:/user/hive/warehouse/1272e2b5acdf_pin_table/&#39;, name=&#39;1272e2b5acdf_pin_table/&#39;, size=0, modificationTime=1704294126281),\n FileInfo(path=&#39;dbfs:/user/hive/warehouse/1272e2b5acdf_user_table/&#39;, name=&#39;1272e2b5acdf_user_table/&#39;, size=0, modificationTime=1704294126281),\n FileInfo(path=&#39;dbfs:/user/hive/warehouse/1282968b0e7f_geo_table/&#39;, name=&#39;1282968b0e7f_geo_table/&#39;, size=0, modificationTime=1704294126281),\n FileInfo(path=&#39;dbfs:/user/hive/warehouse/1282968b0e7f_pin_table/&#39;, name=&#39;1282968b0e7f_pin_table/&#39;, size=0, modificationTime=1704294126281),\n FileInfo(path=&#39;dbfs:/user/hive/warehouse/1282968b0e7f_user_table/&#39;, name=&#39;1282968b0e7f_user_table/&#39;, size=0, modificationTime=1704294126281),\n FileInfo(path=&#39;dbfs:/user/hive/warehouse/12853887c065_geo_table/&#39;, name=&#39;12853887c065_geo_table/&#39;, size=0, modificationTime=1704294126281),\n FileInfo(path=&#39;dbfs:/user/hive/warehouse/12853887c065_pin_table/&#39;, name=&#39;12853887c065_pin_table/&#39;, size=0, modificationTime=1704294126281),\n FileInfo(path=&#39;dbfs:/user/hive/warehouse/12853887c065_user_table/&#39;, name=&#39;12853887c065_user_table/&#39;, size=0, modificationTime=1704294126281),\n FileInfo(path=&#39;dbfs:/user/hive/warehouse/12869112c9e5_geo_table/&#39;, name=&#39;12869112c9e5_geo_table/&#39;, size=0, modificationTime=1704294126281),\n FileInfo(path=&#39;dbfs:/user/hive/warehouse/12869112c9e5_pin_table/&#39;, name=&#39;12869112c9e5_pin_table/&#39;, size=0, modificationTime=1704294126281),\n FileInfo(path=&#39;dbfs:/user/hive/warehouse/12869112c9e5_user_table/&#39;, name=&#39;12869112c9e5_user_table/&#39;, size=0, modificationTime=1704294126281),\n FileInfo(path=&#39;dbfs:/user/hive/warehouse/12a3410ba3cf_geo_table/&#39;, name=&#39;12a3410ba3cf_geo_table/&#39;, size=0, modificationTime=1704294126281),\n FileInfo(path=&#39;dbfs:/user/hive/warehouse/12a3410ba3cf_pin_table/&#39;, name=&#39;12a3410ba3cf_pin_table/&#39;, size=0, modificationTime=1704294126281),\n FileInfo(path=&#39;dbfs:/user/hive/warehouse/12a3410ba3cf_user_table/&#39;, name=&#39;12a3410ba3cf_user_table/&#39;, size=0, modificationTime=1704294126281),\n FileInfo(path=&#39;dbfs:/user/hive/warehouse/12b287eedf6d_geo_table/&#39;, name=&#39;12b287eedf6d_geo_table/&#39;, size=0, modificationTime=1704294126281),\n FileInfo(path=&#39;dbfs:/user/hive/warehouse/12b287eedf6d_pin_table/&#39;, name=&#39;12b287eedf6d_pin_table/&#39;, size=0, modificationTime=1704294126281),\n FileInfo(path=&#39;dbfs:/user/hive/warehouse/12b287eedf6d_user_table/&#39;, name=&#39;12b287eedf6d_user_table/&#39;, size=0, modificationTime=1704294126281),\n FileInfo(path=&#39;dbfs:/user/hive/warehouse/12c5e9eb47cb_geo_table/&#39;, name=&#39;12c5e9eb47cb_geo_table/&#39;, size=0, modificationTime=1704294126281),\n FileInfo(path=&#39;dbfs:/user/hive/warehouse/12c5e9eb47cb_pin_table/&#39;, name=&#39;12c5e9eb47cb_pin_table/&#39;, size=0, modificationTime=1704294126281),\n FileInfo(path=&#39;dbfs:/user/hive/warehouse/12c5e9eb47cb_user_table/&#39;, name=&#39;12c5e9eb47cb_user_table/&#39;, size=0, modificationTime=1704294126281),\n FileInfo(path=&#39;dbfs:/user/hive/warehouse/12cc24ac7551_geo_table/&#39;, name=&#39;12cc24ac7551_geo_table/&#39;, size=0, modificationTime=1704294126281),\n FileInfo(path=&#39;dbfs:/user/hive/warehouse/12cc24ac7551_pin_table/&#39;, name=&#39;12cc24ac7551_pin_table/&#39;, size=0, modificationTime=1704294126281),\n FileInfo(path=&#39;dbfs:/user/hive/warehouse/12cc24ac7551_user_table/&#39;, name=&#39;12cc24ac7551_user_table/&#39;, size=0, modificationTime=1704294126281),\n FileInfo(path=&#39;dbfs:/user/hive/warehouse/12f4a3e5b9c5_geo_table/&#39;, name=&#39;12f4a3e5b9c5_geo_table/&#39;, size=0, modificationTime=1704294126281),\n FileInfo(path=&#39;dbfs:/user/hive/warehouse/12f4a3e5b9c5_pin_table/&#39;, name=&#39;12f4a3e5b9c5_pin_table/&#39;, size=0, modificationTime=1704294126281),\n FileInfo(path=&#39;dbfs:/user/hive/warehouse/12f4a3e5b9c5_user_table/&#39;, name=&#39;12f4a3e5b9c5_user_table/&#39;, size=0, modificationTime=1704294126281),\n FileInfo(path=&#39;dbfs:/user/hive/warehouse/12f7a43505b1_geo_table/&#39;, name=&#39;12f7a43505b1_geo_table/&#39;, size=0, modificationTime=1704294126281),\n FileInfo(path=&#39;dbfs:/user/hive/warehouse/12f7a43505b1_pin_table/&#39;, name=&#39;12f7a43505b1_pin_table/&#39;, size=0, modificationTime=1704294126281),\n FileInfo(path=&#39;dbfs:/user/hive/warehouse/12f7a43505b1_user_table/&#39;, name=&#39;12f7a43505b1_user_table/&#39;, size=0, modificationTime=1704294126281),\n FileInfo(path=&#39;dbfs:/user/hive/warehouse/authentication_credentials/&#39;, name=&#39;authentication_credentials/&#39;, size=0, modificationTime=1704294126281),\n FileInfo(path=&#39;dbfs:/user/hive/warehouse/beans/&#39;, name=&#39;beans/&#39;, size=0, modificationTime=1704294126281),\n FileInfo(path=&#39;dbfs:/user/hive/warehouse/countries/&#39;, name=&#39;countries/&#39;, size=0, modificationTime=1704294126281),\n FileInfo(path=&#39;dbfs:/user/hive/warehouse/delta_lake_table/&#39;, name=&#39;delta_lake_table/&#39;, size=0, modificationTime=1704294126281),\n FileInfo(path=&#39;dbfs:/user/hive/warehouse/df_geo/&#39;, name=&#39;df_geo/&#39;, size=0, modificationTime=1704294126281),\n FileInfo(path=&#39;dbfs:/user/hive/warehouse/df_pin/&#39;, name=&#39;df_pin/&#39;, size=0, modificationTime=1704294126281),\n FileInfo(path=&#39;dbfs:/user/hive/warehouse/df_user/&#39;, name=&#39;df_user/&#39;, size=0, modificationTime=1704294126281),\n FileInfo(path=&#39;dbfs:/user/hive/warehouse/employees/&#39;, name=&#39;employees/&#39;, size=0, modificationTime=1704294126281),\n FileInfo(path=&#39;dbfs:/user/hive/warehouse/geo_data/&#39;, name=&#39;geo_data/&#39;, size=0, modificationTime=1704294126281),\n FileInfo(path=&#39;dbfs:/user/hive/warehouse/mayaclustercredentials/&#39;, name=&#39;mayaclustercredentials/&#39;, size=0, modificationTime=1704294126281),\n FileInfo(path=&#39;dbfs:/user/hive/warehouse/my_first_data_base.db/&#39;, name=&#39;my_first_data_base.db/&#39;, size=0, modificationTime=1704294126281),\n FileInfo(path=&#39;dbfs:/user/hive/warehouse/my_first_table/&#39;, name=&#39;my_first_table/&#39;, size=0, modificationTime=1704294126281),\n FileInfo(path=&#39;dbfs:/user/hive/warehouse/my_new_database.db/&#39;, name=&#39;my_new_database.db/&#39;, size=0, modificationTime=1704294126281),\n FileInfo(path=&#39;dbfs:/user/hive/warehouse/my_table_table/&#39;, name=&#39;my_table_table/&#39;, size=0, modificationTime=1704294126281),\n FileInfo(path=&#39;dbfs:/user/hive/warehouse/pin_data/&#39;, name=&#39;pin_data/&#39;, size=0, modificationTime=1704294126281),\n FileInfo(path=&#39;dbfs:/user/hive/warehouse/pin_df/&#39;, name=&#39;pin_df/&#39;, size=0, modificationTime=1704294126281),\n FileInfo(path=&#39;dbfs:/user/hive/warehouse/pin_events/&#39;, name=&#39;pin_events/&#39;, size=0, modificationTime=1704294126281),\n FileInfo(path=&#39;dbfs:/user/hive/warehouse/pin_kinesis_events/&#39;, name=&#39;pin_kinesis_events/&#39;, size=0, modificationTime=1704294126281),\n FileInfo(path=&#39;dbfs:/user/hive/warehouse/streaming-12c0d092d679-pin/&#39;, name=&#39;streaming-12c0d092d679-pin/&#39;, size=0, modificationTime=1704294126281),\n FileInfo(path=&#39;dbfs:/user/hive/warehouse/test_credentials_cluster/&#39;, name=&#39;test_credentials_cluster/&#39;, size=0, modificationTime=1704294126281),\n FileInfo(path=&#39;dbfs:/user/hive/warehouse/test_pin_table/&#39;, name=&#39;test_pin_table/&#39;, size=0, modificationTime=1704294126281),\n FileInfo(path=&#39;dbfs:/user/hive/warehouse/test_table/&#39;, name=&#39;test_table/&#39;, size=0, modificationTime=1704294126281),\n FileInfo(path=&#39;dbfs:/user/hive/warehouse/user_data/&#39;, name=&#39;user_data/&#39;, size=0, modificationTime=1704294126281),\n FileInfo(path=&#39;dbfs:/user/hive/warehouse/user_df/&#39;, name=&#39;user_df/&#39;, size=0, modificationTime=1704294126281),\n FileInfo(path=&#39;dbfs:/user/hive/warehouse/user_kinesis/&#39;, name=&#39;user_kinesis/&#39;, size=0, modificationTime=1704294126281)]</div>",
       "datasetInfos": [],
       "metadata": {},
       "removedWidgets": [],
       "type": "html"
      }
     },
     "output_type": "display_data"
    }
   ],
   "source": [
    "dbutils.fs.ls(\"/user/hive/warehouse/\") "
   ]
  },
  {
   "cell_type": "code",
   "execution_count": 0,
   "metadata": {
    "application/vnd.databricks.v1+cell": {
     "cellMetadata": {
      "byteLimit": 2048000,
      "rowLimit": 10000
     },
     "inputWidgets": {},
     "nuid": "a73c564d-1981-4dea-8b09-274b8202a1fe",
     "showTitle": false,
     "title": ""
    }
   },
   "outputs": [
    {
     "output_type": "display_data",
     "data": {
      "text/html": [
       "<style scoped>\n",
       "  .ansiout {\n",
       "    display: block;\n",
       "    unicode-bidi: embed;\n",
       "    white-space: pre-wrap;\n",
       "    word-wrap: break-word;\n",
       "    word-break: break-all;\n",
       "    font-family: \"Menlo\", \"Monaco\", \"Consolas\", \"Ubuntu Mono\", \"Source Code Pro\", monospace;\n",
       "    font-size: 13px;\n",
       "    color: #555;\n",
       "    margin-left: 4px;\n",
       "    line-height: 19px;\n",
       "  }\n",
       "</style>\n",
       "<div class=\"ansiout\"></div>"
      ]
     },
     "metadata": {
      "application/vnd.databricks.v1+output": {
       "addedWidgets": {},
       "arguments": {},
       "data": "<div class=\"ansiout\"></div>",
       "datasetInfos": [],
       "metadata": {},
       "removedWidgets": [],
       "type": "html"
      }
     },
     "output_type": "display_data"
    }
   ],
   "source": [
    "from pyspark.sql.functions import *\n",
    "from pyspark.sql.types import *\n",
    "import urllib\n",
    "\n",
    "# Define the path to the Delta table\n",
    "delta_table_path = \"dbfs:/user/hive/warehouse/authentication_credentials\"\n",
    "\n",
    "# Read the Delta table to a Spark DataFrame\n",
    "aws_keys_df = spark.read.format(\"delta\").load(delta_table_path)\n",
    "\n",
    "ACCESS_KEY = aws_keys_df.select('Access key ID').collect()[0]['Access key ID']\n",
    "SECRET_KEY = aws_keys_df.select('Secret access key').collect()[0]['Secret access key']\n",
    "# Encode the secrete key\n",
    "ENCODED_SECRET_KEY = urllib.parse.quote(string=SECRET_KEY, safe=\"\")"
   ]
  },
  {
   "cell_type": "markdown",
   "metadata": {
    "application/vnd.databricks.v1+cell": {
     "cellMetadata": {
      "byteLimit": 2048000,
      "rowLimit": 10000
     },
     "inputWidgets": {},
     "nuid": "351342ef-4f30-48df-8968-52a50af6c841",
     "showTitle": false,
     "title": ""
    }
   },
   "source": [
    "Load the streaming data into the dataframes (df_pin, df_geo and df_user), from the kinesis streams"
   ]
  },
  {
   "cell_type": "code",
   "execution_count": 0,
   "metadata": {
    "application/vnd.databricks.v1+cell": {
     "cellMetadata": {
      "byteLimit": 2048000,
      "rowLimit": 10000
     },
     "inputWidgets": {},
     "nuid": "020b9cf2-4f21-4d4a-8790-53196055170c",
     "showTitle": false,
     "title": ""
    }
   },
   "outputs": [
    {
     "output_type": "display_data",
     "data": {
      "text/html": [
       "<style scoped>\n",
       "  .table-result-container {\n",
       "    max-height: 300px;\n",
       "    overflow: auto;\n",
       "  }\n",
       "  table, th, td {\n",
       "    border: 1px solid black;\n",
       "    border-collapse: collapse;\n",
       "  }\n",
       "  th, td {\n",
       "    padding: 5px;\n",
       "  }\n",
       "  th {\n",
       "    text-align: left;\n",
       "  }\n",
       "</style><div class='table-result-container'><table class='table-result'><thead style='background-color: white'><tr><th>index</th><th>unique_id</th><th>title</th><th>description</th><th>follower_count</th><th>poster_name</th><th>tag_list</th><th>is_image_or_video</th><th>image_src</th><th>save_location</th><th>category</th><th>downloaded</th></tr></thead><tbody><tr><td>7528</td><td>fbe53c66-3442-4773-b19e-d3ec6f54dddf</td><td>No Title Data Available</td><td>No description available Story format</td><td>User Info Error</td><td>User Info Error</td><td>N,o, ,T,a,g,s, ,A,v,a,i,l,a,b,l,e</td><td>multi-video(story page format)</td><td>Image src error.</td><td>Local save in /data/mens-fashion</td><td>mens-fashion</td><td>0</td></tr><tr><td>2863</td><td>9bf39437-42a6-4f02-99a0-9a0383d8cd70</td><td>25 Super Fun Summer Crafts for Kids - Of Life and Lisa</td><td>Keep the kids busy this summer with these easy diy crafts and projects. Creative and…</td><td>124k</td><td>Of Life & Lisa | Lifestyle Blog</td><td>Summer Crafts For Kids,Fun Crafts For Kids,Summer Kids,Toddler Crafts,Crafts To Do,Diy For Kids,Summer Snow,Diys For Summer,Craft Ideas For Girls</td><td>image</td><td>https://i.pinimg.com/originals/b3/bc/e2/b3bce2964e8c8975387b39660eed5f16.jpg</td><td>Local save in /data/diy-and-crafts</td><td>diy-and-crafts</td><td>1</td></tr><tr><td>5730</td><td>1e1f0c8b-9fcf-460b-9154-c775827206eb</td><td>Island Oasis Coupon Organizer</td><td>Description Coupon Organizer in a fun colorful fabric -island oasis, Great Size for the \"basic\" couponer - holds up to 500 coupons with ease, and is made long enough so that you… </td><td>0</td><td>Consuelo Aguirre</td><td>Grocery Items,Grocery Coupons,Care Organization,Coupon Organization,Extreme Couponing,Couponing 101,Life Binder,Save My Money,Love Coupons</td><td>image</td><td>https://i.pinimg.com/originals/65/bb/ea/65bbeaf458907bb079317d8303c4fa0e.jpg</td><td>Local save in /data/finance</td><td>finance</td><td>1</td></tr><tr><td>8304</td><td>5b6d0913-25e4-43ab-839d-85d5516f78a4</td><td>The #1 Reason You’re Not His Priority Anymore - Matthew Coast</td><td>#lovequotes #matchmaker #matchmadeinheaven #loveyourself #respectyourself</td><td>51k</td><td>Commitment Connection</td><td>Wise Quotes,Quotable Quotes,Words Quotes,Wise Words,Quotes To Live By,Great Quotes,Motivational Quotes,Inspirational Quotes,Funny Quotes</td><td>image</td><td>https://i.pinimg.com/originals/c6/64/ee/c664ee71524fb5a6e7b7b49233f93b43.png</td><td>Local save in /data/quotes</td><td>quotes</td><td>1</td></tr><tr><td>8731</td><td>ea760f71-febf-4023-b592-d17396659039</td><td>20 Koi Fish Tattoos For Lucky Men</td><td>Koi fish tattoos are a popular choice for men who want to make a statement, thanks to their rich symbolism and bold design.</td><td>211k</td><td>TheTrendSpotter</td><td>Dr Tattoo,Wörter Tattoos,Pisces Tattoos,Tatoo Art,Dream Tattoos,Dope Tattoos,Mini Tattoos,Finger Tattoos,Body Art Tattoos</td><td>image</td><td>https://i.pinimg.com/originals/8a/0c/0a/8a0c0a7b6236565c519acd41ad1a52c0.jpg</td><td>Local save in /data/tattoos</td><td>tattoos</td><td>1</td></tr></tbody></table></div>"
      ]
     },
     "metadata": {
      "application/vnd.databricks.v1+output": {
       "addedWidgets": {},
       "aggData": [],
       "aggError": "",
       "aggOverflow": false,
       "aggSchema": [],
       "aggSeriesLimitReached": false,
       "aggType": "",
       "arguments": {},
       "columnCustomDisplayInfos": {},
       "data": [
        [
         "7528",
         "fbe53c66-3442-4773-b19e-d3ec6f54dddf",
         "No Title Data Available",
         "No description available Story format",
         "User Info Error",
         "User Info Error",
         "N,o, ,T,a,g,s, ,A,v,a,i,l,a,b,l,e",
         "multi-video(story page format)",
         "Image src error.",
         "Local save in /data/mens-fashion",
         "mens-fashion",
         "0"
        ],
        [
         "2863",
         "9bf39437-42a6-4f02-99a0-9a0383d8cd70",
         "25 Super Fun Summer Crafts for Kids - Of Life and Lisa",
         "Keep the kids busy this summer with these easy diy crafts and projects. Creative and…",
         "124k",
         "Of Life & Lisa | Lifestyle Blog",
         "Summer Crafts For Kids,Fun Crafts For Kids,Summer Kids,Toddler Crafts,Crafts To Do,Diy For Kids,Summer Snow,Diys For Summer,Craft Ideas For Girls",
         "image",
         "https://i.pinimg.com/originals/b3/bc/e2/b3bce2964e8c8975387b39660eed5f16.jpg",
         "Local save in /data/diy-and-crafts",
         "diy-and-crafts",
         "1"
        ],
        [
         "5730",
         "1e1f0c8b-9fcf-460b-9154-c775827206eb",
         "Island Oasis Coupon Organizer",
         "Description Coupon Organizer in a fun colorful fabric -island oasis, Great Size for the \"basic\" couponer - holds up to 500 coupons with ease, and is made long enough so that you… ",
         "0",
         "Consuelo Aguirre",
         "Grocery Items,Grocery Coupons,Care Organization,Coupon Organization,Extreme Couponing,Couponing 101,Life Binder,Save My Money,Love Coupons",
         "image",
         "https://i.pinimg.com/originals/65/bb/ea/65bbeaf458907bb079317d8303c4fa0e.jpg",
         "Local save in /data/finance",
         "finance",
         "1"
        ],
        [
         "8304",
         "5b6d0913-25e4-43ab-839d-85d5516f78a4",
         "The #1 Reason You’re Not His Priority Anymore - Matthew Coast",
         "#lovequotes #matchmaker #matchmadeinheaven #loveyourself #respectyourself",
         "51k",
         "Commitment Connection",
         "Wise Quotes,Quotable Quotes,Words Quotes,Wise Words,Quotes To Live By,Great Quotes,Motivational Quotes,Inspirational Quotes,Funny Quotes",
         "image",
         "https://i.pinimg.com/originals/c6/64/ee/c664ee71524fb5a6e7b7b49233f93b43.png",
         "Local save in /data/quotes",
         "quotes",
         "1"
        ],
        [
         "8731",
         "ea760f71-febf-4023-b592-d17396659039",
         "20 Koi Fish Tattoos For Lucky Men",
         "Koi fish tattoos are a popular choice for men who want to make a statement, thanks to their rich symbolism and bold design.",
         "211k",
         "TheTrendSpotter",
         "Dr Tattoo,Wörter Tattoos,Pisces Tattoos,Tatoo Art,Dream Tattoos,Dope Tattoos,Mini Tattoos,Finger Tattoos,Body Art Tattoos",
         "image",
         "https://i.pinimg.com/originals/8a/0c/0a/8a0c0a7b6236565c519acd41ad1a52c0.jpg",
         "Local save in /data/tattoos",
         "tattoos",
         "1"
        ]
       ],
       "datasetInfos": [],
       "dbfsResultPath": null,
       "isJsonSchema": true,
       "metadata": {
        "isDbfsCommandResult": false
       },
       "overflow": false,
       "plotOptions": {
        "customPlotOptions": {},
        "displayType": "table",
        "pivotAggregation": null,
        "pivotColumns": null,
        "xColumns": null,
        "yColumns": null
       },
       "removedWidgets": [],
       "schema": [
        {
         "metadata": "{}",
         "name": "index",
         "type": "\"string\""
        },
        {
         "metadata": "{}",
         "name": "unique_id",
         "type": "\"string\""
        },
        {
         "metadata": "{}",
         "name": "title",
         "type": "\"string\""
        },
        {
         "metadata": "{}",
         "name": "description",
         "type": "\"string\""
        },
        {
         "metadata": "{}",
         "name": "follower_count",
         "type": "\"string\""
        },
        {
         "metadata": "{}",
         "name": "poster_name",
         "type": "\"string\""
        },
        {
         "metadata": "{}",
         "name": "tag_list",
         "type": "\"string\""
        },
        {
         "metadata": "{}",
         "name": "is_image_or_video",
         "type": "\"string\""
        },
        {
         "metadata": "{}",
         "name": "image_src",
         "type": "\"string\""
        },
        {
         "metadata": "{}",
         "name": "save_location",
         "type": "\"string\""
        },
        {
         "metadata": "{}",
         "name": "category",
         "type": "\"string\""
        },
        {
         "metadata": "{}",
         "name": "downloaded",
         "type": "\"string\""
        }
       ],
       "type": "table"
      }
     },
     "output_type": "display_data"
    }
   ],
   "source": [
    "\n",
    "kinesis_streams = [\"streaming-0ecf5ea19ac5-pin\", \"streaming-0ecf5ea19ac5-geo\", \"streaming-0ecf5ea19ac5-user\"]\n",
    "for stream_name in kinesis_streams:\n",
    "\n",
    "    df_stream = spark \\\n",
    "    .readStream \\\n",
    "    .format('kinesis') \\\n",
    "    .option('streamName',f'{stream_name}') \\\n",
    "    .option('initialPosition','earliest') \\\n",
    "    .option('region','us-east-1') \\\n",
    "    .option('awsAccessKey', ACCESS_KEY) \\\n",
    "    .option('awsSecretKey', SECRET_KEY) \\\n",
    "    .load()\n",
    "    \n",
    "    if 'pin' in stream_name:\n",
    "        df_pin = df_stream.selectExpr(\"CAST(data as STRING)\")\n",
    "        df_pin = df_pin.select(json_tuple('data', \"index\", \"unique_id\", \"title\", \"description\", \"follower_count\", \"poster_name\", \"tag_list\", \"is_image_or_video\", \"image_src\",  \"save_location\", \"category\", \"downloaded\").alias(\"index\", \"unique_id\", \"title\", \"description\", \"follower_count\", \"poster_name\", \"tag_list\", \"is_image_or_video\", \"image_src\",  \"save_location\", \"category\", \"downloaded\"))\n",
    "        display(df_pin.limit(5))\n",
    "    elif 'geo' in stream_name:\n",
    "        df_geo = df_stream.selectExpr(\"CAST(data as STRING)\")\n",
    "        df_geo = df_geo.select(json_tuple('data', 'ind', 'country', 'latitude', 'longitude', 'timestamp').alias('ind', 'country', 'latitude', 'longitude', 'timestamp'))\n",
    "        display(df_geo.limit(5))\n",
    "    elif 'user' in stream_name:\n",
    "        df_user = df_stream.selectExpr(\"CAST(data as STRING)\")\n",
    "        df_user = df_user.select(json_tuple('data', 'ind', \"first_name\", \"last_name\", 'age', 'date_joined').alias('ind', \"first_name\", \"last_name\", 'age', 'date_joined'))\n",
    "        display(df_user.limit(5))\n",
    "        \n",
    "  "
   ]
  },
  {
   "cell_type": "markdown",
   "metadata": {
    "application/vnd.databricks.v1+cell": {
     "cellMetadata": {
      "byteLimit": 2048000,
      "rowLimit": 10000
     },
     "inputWidgets": {},
     "nuid": "0f0f7b48-90f1-4e85-a3eb-68dbbc119d76",
     "showTitle": false,
     "title": ""
    }
   },
   "source": [
    "# Data Cleaning\n",
    "## Data cleaning for df_pin\n",
    "- Removing duplicate rows in the dataframe\n",
    "- Renaming the column index to ind\n",
    "- Re-ordering the column names in the dataframe\n",
    "- Replacing the values of follower_count column wherever necessary.\n",
    "- Converting the columns follower_count, ind, downloaded into a integer data type\n",
    "- Removing any additional strings from the save_location column\n",
    "- Replacing all the NA with None\n",
    "- Dropping the rows where all columns have null values"
   ]
  },
  {
   "cell_type": "code",
   "execution_count": 0,
   "metadata": {
    "application/vnd.databricks.v1+cell": {
     "cellMetadata": {
      "byteLimit": 2048000,
      "rowLimit": 10000
     },
     "inputWidgets": {},
     "nuid": "d47d3798-dd07-4e1b-b919-19b7acf113da",
     "showTitle": false,
     "title": ""
    }
   },
   "outputs": [
    {
     "output_type": "display_data",
     "data": {
      "text/html": [
       "<style scoped>\n",
       "  .table-result-container {\n",
       "    max-height: 300px;\n",
       "    overflow: auto;\n",
       "  }\n",
       "  table, th, td {\n",
       "    border: 1px solid black;\n",
       "    border-collapse: collapse;\n",
       "  }\n",
       "  th, td {\n",
       "    padding: 5px;\n",
       "  }\n",
       "  th {\n",
       "    text-align: left;\n",
       "  }\n",
       "</style><div class='table-result-container'><table class='table-result'><thead style='background-color: white'><tr><th>ind</th><th>unique_id</th><th>title</th><th>description</th><th>follower_count</th><th>poster_name</th><th>tag_list</th><th>is_image_or_video</th><th>image_src</th><th>save_location</th><th>category</th><th>downloaded</th></tr></thead><tbody><tr><td>9875</td><td>782dcbad-ff91-40a6-ba60-216efe29adb7</td><td>European Bucket List: 35 Things NOT To Miss When Traveling Europe</td><td>35 European bucket list destinations for any traveler heading to Europe. From Cinque Terre, Italy to Iceland - there are so many amazing sites to see in Europe.</td><td>28000</td><td>Nicki </td><td>Backpacking Europe,Europe Travel Guide,Travel Guides,Travel Packing,Traveling Europe,Travelling,Travel Backpack,Budget Travel,2 Week Europe Itinerary</td><td>image</td><td>https://i.pinimg.com/originals/71/04/1a/71041ad83ede43d9665741e719c58a86.jpg</td><td>/data/travel</td><td>travel</td><td>1</td></tr><tr><td>7166</td><td>4a844b03-e161-47a1-904b-591eb5dc4fb1</td><td>The Killers - Mr. Brightside - Women's T-Shirt - Heather Dark Grey / S</td><td>Women's T-shirt. Design inspired by the rock band The Killers' hit \"Mr. Brightside\". One of the greatest song from the album Hot Fuss released in 2004. Soft and light, 100% cott… </td><td>27</td><td>Mala Rock | Rock T-shirts</td><td>Mr Brightside,Rock T Shirts,Greatest Songs,Timeless Classic,Rock Bands,Album,T Shirts For Women,Inspired,Hot</td><td>image</td><td>https://i.pinimg.com/originals/8c/42/39/8c42391d35fcad51a4a79f7cd81bf26d.jpg</td><td>/data/mens-fashion</td><td>mens-fashion</td><td>1</td></tr><tr><td>2074</td><td>86ed09a7-842d-496d-9501-010c654eb340</td><td>35 Christmas Decorating Ideas We Bet You Haven't Thought Of</td><td>20 Christmas Decorating Ideas We Bet You Haven't Thought Of via @PureWow</td><td>868000</td><td>PureWow</td><td>Holiday Centerpieces,Xmas Decorations,Centerpiece Ideas,Table Centerpieces,Valentine Decorations,Wedding Centerpieces,Outdoor Decorations,Christmas Centerpieces With Candles,Christmas Dining Table Decorations</td><td>image</td><td>https://i.pinimg.com/originals/e9/b9/f0/e9b9f01cc3b2cf41948b45854335396c.jpg</td><td>/data/christmas</td><td>christmas</td><td>1</td></tr><tr><td>3454</td><td>46bd3f86-b09d-4e29-9033-7ff2df595e51</td><td>What can you use to color resin?</td><td>HELPFUL RESOURCES – Check out my resin colorants resources page here with links to all the products mentioned in this article (and more). Let me know if you have any that you lo… </td><td>6000</td><td>Mixed Media Crafts</td><td>Epoxy Resin Art,Diy Resin Art,Diy Resin Crafts,Resin Molds,Ice Resin,Resin Pour,Diy Epoxy,Diy Resin Painting,Diy Resin Dice</td><td>image</td><td>https://i.pinimg.com/originals/d4/12/78/d4127833023ca32600571ddca16f1556.jpg</td><td>/data/diy-and-crafts</td><td>diy-and-crafts</td><td>1</td></tr><tr><td>4913</td><td>4d2d79c6-9ca8-46c9-a38e-931c5d967804</td><td>How to Work From Home as an Event Planner</td><td>Do you love planning parties? Do you want to work-at-home? This post covers everything you need to know about becoming a home-based event planner!</td><td>110000</td><td>The Work at Home Woman</td><td>Event Planning Tips,Event Planning Business,Party Planning,Business Ideas,Craft Business,Business Chic,Business Inspiration,Business Goals,Business Opportunities</td><td>image</td><td>https://i.pinimg.com/originals/4d/a3/a4/4da3a4730418239f1b43ce81fb032c15.jpg</td><td>/data/event-planning</td><td>event-planning</td><td>1</td></tr></tbody></table></div>"
      ]
     },
     "metadata": {
      "application/vnd.databricks.v1+output": {
       "addedWidgets": {},
       "aggData": [],
       "aggError": "",
       "aggOverflow": false,
       "aggSchema": [],
       "aggSeriesLimitReached": false,
       "aggType": "",
       "arguments": {},
       "columnCustomDisplayInfos": {},
       "data": [
        [
         9875,
         "782dcbad-ff91-40a6-ba60-216efe29adb7",
         "European Bucket List: 35 Things NOT To Miss When Traveling Europe",
         "35 European bucket list destinations for any traveler heading to Europe. From Cinque Terre, Italy to Iceland - there are so many amazing sites to see in Europe.",
         28000,
         "Nicki ",
         "Backpacking Europe,Europe Travel Guide,Travel Guides,Travel Packing,Traveling Europe,Travelling,Travel Backpack,Budget Travel,2 Week Europe Itinerary",
         "image",
         "https://i.pinimg.com/originals/71/04/1a/71041ad83ede43d9665741e719c58a86.jpg",
         "/data/travel",
         "travel",
         1
        ],
        [
         7166,
         "4a844b03-e161-47a1-904b-591eb5dc4fb1",
         "The Killers - Mr. Brightside - Women's T-Shirt - Heather Dark Grey / S",
         "Women's T-shirt. Design inspired by the rock band The Killers' hit \"Mr. Brightside\". One of the greatest song from the album Hot Fuss released in 2004. Soft and light, 100% cott… ",
         27,
         "Mala Rock | Rock T-shirts",
         "Mr Brightside,Rock T Shirts,Greatest Songs,Timeless Classic,Rock Bands,Album,T Shirts For Women,Inspired,Hot",
         "image",
         "https://i.pinimg.com/originals/8c/42/39/8c42391d35fcad51a4a79f7cd81bf26d.jpg",
         "/data/mens-fashion",
         "mens-fashion",
         1
        ],
        [
         2074,
         "86ed09a7-842d-496d-9501-010c654eb340",
         "35 Christmas Decorating Ideas We Bet You Haven't Thought Of",
         "20 Christmas Decorating Ideas We Bet You Haven't Thought Of via @PureWow",
         868000,
         "PureWow",
         "Holiday Centerpieces,Xmas Decorations,Centerpiece Ideas,Table Centerpieces,Valentine Decorations,Wedding Centerpieces,Outdoor Decorations,Christmas Centerpieces With Candles,Christmas Dining Table Decorations",
         "image",
         "https://i.pinimg.com/originals/e9/b9/f0/e9b9f01cc3b2cf41948b45854335396c.jpg",
         "/data/christmas",
         "christmas",
         1
        ],
        [
         3454,
         "46bd3f86-b09d-4e29-9033-7ff2df595e51",
         "What can you use to color resin?",
         "HELPFUL RESOURCES – Check out my resin colorants resources page here with links to all the products mentioned in this article (and more). Let me know if you have any that you lo… ",
         6000,
         "Mixed Media Crafts",
         "Epoxy Resin Art,Diy Resin Art,Diy Resin Crafts,Resin Molds,Ice Resin,Resin Pour,Diy Epoxy,Diy Resin Painting,Diy Resin Dice",
         "image",
         "https://i.pinimg.com/originals/d4/12/78/d4127833023ca32600571ddca16f1556.jpg",
         "/data/diy-and-crafts",
         "diy-and-crafts",
         1
        ],
        [
         4913,
         "4d2d79c6-9ca8-46c9-a38e-931c5d967804",
         "How to Work From Home as an Event Planner",
         "Do you love planning parties? Do you want to work-at-home? This post covers everything you need to know about becoming a home-based event planner!",
         110000,
         "The Work at Home Woman",
         "Event Planning Tips,Event Planning Business,Party Planning,Business Ideas,Craft Business,Business Chic,Business Inspiration,Business Goals,Business Opportunities",
         "image",
         "https://i.pinimg.com/originals/4d/a3/a4/4da3a4730418239f1b43ce81fb032c15.jpg",
         "/data/event-planning",
         "event-planning",
         1
        ]
       ],
       "datasetInfos": [],
       "dbfsResultPath": null,
       "isJsonSchema": true,
       "metadata": {
        "isDbfsCommandResult": false
       },
       "overflow": false,
       "plotOptions": {
        "customPlotOptions": {},
        "displayType": "table",
        "pivotAggregation": null,
        "pivotColumns": null,
        "xColumns": null,
        "yColumns": null
       },
       "removedWidgets": [],
       "schema": [
        {
         "metadata": "{}",
         "name": "ind",
         "type": "\"integer\""
        },
        {
         "metadata": "{}",
         "name": "unique_id",
         "type": "\"string\""
        },
        {
         "metadata": "{}",
         "name": "title",
         "type": "\"string\""
        },
        {
         "metadata": "{}",
         "name": "description",
         "type": "\"string\""
        },
        {
         "metadata": "{}",
         "name": "follower_count",
         "type": "\"integer\""
        },
        {
         "metadata": "{}",
         "name": "poster_name",
         "type": "\"string\""
        },
        {
         "metadata": "{}",
         "name": "tag_list",
         "type": "\"string\""
        },
        {
         "metadata": "{}",
         "name": "is_image_or_video",
         "type": "\"string\""
        },
        {
         "metadata": "{}",
         "name": "image_src",
         "type": "\"string\""
        },
        {
         "metadata": "{}",
         "name": "save_location",
         "type": "\"string\""
        },
        {
         "metadata": "{}",
         "name": "category",
         "type": "\"string\""
        },
        {
         "metadata": "{}",
         "name": "downloaded",
         "type": "\"integer\""
        }
       ],
       "type": "table"
      }
     },
     "output_type": "display_data"
    }
   ],
   "source": [
    "#clean df_pin\n",
    "df_pin = df_pin.dropDuplicates()\n",
    "df_pin = df_pin.withColumnRenamed('index', 'ind')\n",
    "df_pin = df_pin.select(\"ind\", \"unique_id\", \"title\", \"description\", \"follower_count\", \"poster_name\", \n",
    "\"tag_list\", \"is_image_or_video\", \"image_src\", \"save_location\", \"category\", \"downloaded\")\n",
    "df_pin = df_pin.withColumn('follower_count', regexp_replace('follower_count', '[%k]', '000'))\n",
    "df_pin = df_pin.withColumn('follower_count', regexp_replace('follower_count', '[%M]', '000000'))\n",
    "df_pin = df_pin.withColumn('follower_count', regexp_replace('follower_count', '[%User Info Error%]', ''))\n",
    "df_pin = df_pin.withColumn('ind', df_pin['ind'].cast(IntegerType()))\n",
    "df_pin = df_pin.withColumn('downloaded', df_pin['downloaded'].cast(IntegerType()))\n",
    "df_pin = df_pin.withColumn('follower_count', df_pin['follower_count'].cast(IntegerType()))\n",
    "df_pin = df_pin.withColumn('save_location', regexp_replace('save_location', 'Local save in *', ''))\n",
    "df_pin.na.fill('None', ['is_image_or_video', 'image_src'])\n",
    "df_pin.na.drop(how = \"all\")\n",
    "\n",
    "display(df_pin.limit(5))"
   ]
  },
  {
   "cell_type": "markdown",
   "metadata": {
    "application/vnd.databricks.v1+cell": {
     "cellMetadata": {
      "byteLimit": 2048000,
      "rowLimit": 10000
     },
     "inputWidgets": {},
     "nuid": "8420d2aa-e4ce-4378-8561-99b99a4a005d",
     "showTitle": false,
     "title": ""
    }
   },
   "source": [
    "## Data cleaning for df_geo\n",
    "- Removing duplicate rows in the dataframe\n",
    "- Converting the columns ind to integer type, latitude and longitude to double type, timestamp into a timestamp data type\n",
    "- Creating new column coordinates with the values to be the array of latitude and longitude column and deleting these two columns\n",
    "- Re-ordering the column names in the dataframe"
   ]
  },
  {
   "cell_type": "code",
   "execution_count": 0,
   "metadata": {
    "application/vnd.databricks.v1+cell": {
     "cellMetadata": {
      "byteLimit": 2048000,
      "rowLimit": 10000
     },
     "inputWidgets": {},
     "nuid": "b0d8b344-5289-46ec-8314-8af78336c8f9",
     "showTitle": false,
     "title": ""
    }
   },
   "outputs": [
    {
     "output_type": "display_data",
     "data": {
      "text/html": [
       "<style scoped>\n",
       "  .table-result-container {\n",
       "    max-height: 300px;\n",
       "    overflow: auto;\n",
       "  }\n",
       "  table, th, td {\n",
       "    border: 1px solid black;\n",
       "    border-collapse: collapse;\n",
       "  }\n",
       "  th, td {\n",
       "    padding: 5px;\n",
       "  }\n",
       "  th {\n",
       "    text-align: left;\n",
       "  }\n",
       "</style><div class='table-result-container'><table class='table-result'><thead style='background-color: white'><tr><th>ind</th><th>country</th><th>coordinates</th><th>timestamp</th></tr></thead><tbody><tr><td>8887</td><td>Botswana</td><td>List(-28.0137, -160.708)</td><td>2021-09-19T05:27:43.000+0000</td></tr><tr><td>9546</td><td>Austria</td><td>List(-70.0295, -155.428)</td><td>2018-02-10T06:16:40.000+0000</td></tr><tr><td>7166</td><td>Aruba</td><td>List(-86.4063, -136.657)</td><td>2022-07-25T03:07:37.000+0000</td></tr><tr><td>8731</td><td>Aruba</td><td>List(-83.104, -171.302)</td><td>2020-07-17T04:39:09.000+0000</td></tr><tr><td>8304</td><td>French Guiana</td><td>List(-28.8852, -164.87)</td><td>2019-09-13T04:50:29.000+0000</td></tr></tbody></table></div>"
      ]
     },
     "metadata": {
      "application/vnd.databricks.v1+output": {
       "addedWidgets": {},
       "aggData": [],
       "aggError": "",
       "aggOverflow": false,
       "aggSchema": [],
       "aggSeriesLimitReached": false,
       "aggType": "",
       "arguments": {},
       "columnCustomDisplayInfos": {},
       "data": [
        [
         8887,
         "Botswana",
         [
          -28.0137,
          -160.708
         ],
         "2021-09-19T05:27:43.000+0000"
        ],
        [
         9546,
         "Austria",
         [
          -70.0295,
          -155.428
         ],
         "2018-02-10T06:16:40.000+0000"
        ],
        [
         7166,
         "Aruba",
         [
          -86.4063,
          -136.657
         ],
         "2022-07-25T03:07:37.000+0000"
        ],
        [
         8731,
         "Aruba",
         [
          -83.104,
          -171.302
         ],
         "2020-07-17T04:39:09.000+0000"
        ],
        [
         8304,
         "French Guiana",
         [
          -28.8852,
          -164.87
         ],
         "2019-09-13T04:50:29.000+0000"
        ]
       ],
       "datasetInfos": [],
       "dbfsResultPath": null,
       "isJsonSchema": true,
       "metadata": {
        "isDbfsCommandResult": false
       },
       "overflow": false,
       "plotOptions": {
        "customPlotOptions": {},
        "displayType": "table",
        "pivotAggregation": null,
        "pivotColumns": null,
        "xColumns": null,
        "yColumns": null
       },
       "removedWidgets": [],
       "schema": [
        {
         "metadata": "{}",
         "name": "ind",
         "type": "\"integer\""
        },
        {
         "metadata": "{}",
         "name": "country",
         "type": "\"string\""
        },
        {
         "metadata": "{}",
         "name": "coordinates",
         "type": "{\"type\":\"array\",\"elementType\":\"double\",\"containsNull\":true}"
        },
        {
         "metadata": "{}",
         "name": "timestamp",
         "type": "\"timestamp\""
        }
       ],
       "type": "table"
      }
     },
     "output_type": "display_data"
    }
   ],
   "source": [
    "#clean df_geo\n",
    "df_geo = df_geo.dropDuplicates()\n",
    "df_geo = df_geo.withColumn('longitude', df_geo['longitude'].cast(DoubleType()))\n",
    "df_geo = df_geo.withColumn('ind', df_geo['ind'].cast(IntegerType()))\n",
    "df_geo = df_geo.withColumn(\"timestamp\", df_geo[\"timestamp\"].cast(TimestampType()))\n",
    "df_geo = df_geo.withColumn('latitude', df_geo['latitude'].cast(DoubleType()))\n",
    "df_geo = df_geo.withColumn('longitude', df_geo['longitude'].cast(DoubleType()))\n",
    "df_geo = df_geo.withColumn(\"coordinates\", array(col(\"latitude\"), col(\"longitude\")))\n",
    "df_geo = df_geo.drop('latitude', 'longitude')\n",
    "df_geo = df_geo.select(\"ind\", \"country\", \"coordinates\", \"timestamp\")\n",
    "display(df_geo.limit(5))"
   ]
  },
  {
   "cell_type": "markdown",
   "metadata": {
    "application/vnd.databricks.v1+cell": {
     "cellMetadata": {
      "byteLimit": 2048000,
      "rowLimit": 10000
     },
     "inputWidgets": {},
     "nuid": "068b5238-2ef5-4452-b24f-c42d2e48b9f9",
     "showTitle": false,
     "title": ""
    }
   },
   "source": [
    "## Data cleaning for df_user\n",
    "- Removing duplicate rows in the dataframe\n",
    "- Creating new column user_name by combining the first_name and last_name column and deleting these two columns\n",
    "- Converting the date_joined column into a timestamp data type and age to integer data type\n",
    "- Re-ordering the column names in the dataframe"
   ]
  },
  {
   "cell_type": "code",
   "execution_count": 0,
   "metadata": {
    "application/vnd.databricks.v1+cell": {
     "cellMetadata": {
      "byteLimit": 2048000,
      "rowLimit": 10000
     },
     "inputWidgets": {},
     "nuid": "26ddde11-8b63-418f-a1d1-da73300b05bf",
     "showTitle": false,
     "title": ""
    }
   },
   "outputs": [
    {
     "output_type": "display_data",
     "data": {
      "text/html": [
       "<style scoped>\n",
       "  .table-result-container {\n",
       "    max-height: 300px;\n",
       "    overflow: auto;\n",
       "  }\n",
       "  table, th, td {\n",
       "    border: 1px solid black;\n",
       "    border-collapse: collapse;\n",
       "  }\n",
       "  th, td {\n",
       "    padding: 5px;\n",
       "  }\n",
       "  th {\n",
       "    text-align: left;\n",
       "  }\n",
       "</style><div class='table-result-container'><table class='table-result'><thead style='background-color: white'><tr><th>ind</th><th>user_name</th><th>age</th><th>date_joined</th></tr></thead><tbody><tr><td>3089</td><td>Abigail Ali</td><td>null</td><td>2015-10-24T11:23:51.000+0000</td></tr><tr><td>4137</td><td>Michael Decker</td><td>null</td><td>2017-06-29T22:35:17.000+0000</td></tr><tr><td>7343</td><td>Anne Clayton</td><td>null</td><td>2016-01-11T12:03:48.000+0000</td></tr><tr><td>3454</td><td>Robert Murphy</td><td>null</td><td>2017-09-26T16:31:56.000+0000</td></tr><tr><td>10625</td><td>Christian Lang</td><td>null</td><td>2017-10-10T20:09:33.000+0000</td></tr></tbody></table></div>"
      ]
     },
     "metadata": {
      "application/vnd.databricks.v1+output": {
       "addedWidgets": {},
       "aggData": [],
       "aggError": "",
       "aggOverflow": false,
       "aggSchema": [],
       "aggSeriesLimitReached": false,
       "aggType": "",
       "arguments": {},
       "columnCustomDisplayInfos": {},
       "data": [
        [
         "3089",
         "Abigail Ali",
         null,
         "2015-10-24T11:23:51.000+0000"
        ],
        [
         "4137",
         "Michael Decker",
         null,
         "2017-06-29T22:35:17.000+0000"
        ],
        [
         "7343",
         "Anne Clayton",
         null,
         "2016-01-11T12:03:48.000+0000"
        ],
        [
         "3454",
         "Robert Murphy",
         null,
         "2017-09-26T16:31:56.000+0000"
        ],
        [
         "10625",
         "Christian Lang",
         null,
         "2017-10-10T20:09:33.000+0000"
        ]
       ],
       "datasetInfos": [],
       "dbfsResultPath": null,
       "isJsonSchema": true,
       "metadata": {
        "isDbfsCommandResult": false
       },
       "overflow": false,
       "plotOptions": {
        "customPlotOptions": {},
        "displayType": "table",
        "pivotAggregation": null,
        "pivotColumns": null,
        "xColumns": null,
        "yColumns": null
       },
       "removedWidgets": [],
       "schema": [
        {
         "metadata": "{}",
         "name": "ind",
         "type": "\"string\""
        },
        {
         "metadata": "{}",
         "name": "user_name",
         "type": "\"string\""
        },
        {
         "metadata": "{}",
         "name": "age",
         "type": "\"timestamp\""
        },
        {
         "metadata": "{}",
         "name": "date_joined",
         "type": "\"timestamp\""
        }
       ],
       "type": "table"
      }
     },
     "output_type": "display_data"
    }
   ],
   "source": [
    "#clean_df_user\n",
    "df_user = df_user.dropDuplicates()\n",
    "df_user = df_user.withColumn(\"user_name\", concat(col(\"first_name\"), lit(\" \"), col(\"last_name\")))\n",
    "df_user = df_user.drop(\"first_name\", \"last_name\")\n",
    "df_user = df_user.withColumn('date_joined', df_user['date_joined'].cast(TimestampType()))\n",
    "df_user = df_user.withColumn('age', df_user['age'].cast(TimestampType()))\n",
    "df_user = df_user.select(\"ind\", \"user_name\", \"age\", \"date_joined\")\n",
    "display(df_user.limit(5))"
   ]
  },
  {
   "cell_type": "markdown",
   "metadata": {
    "application/vnd.databricks.v1+cell": {
     "cellMetadata": {
      "byteLimit": 2048000,
      "rowLimit": 10000
     },
     "inputWidgets": {},
     "nuid": "177d6bf8-2b07-4715-bc01-f6b94d72799e",
     "showTitle": false,
     "title": ""
    }
   },
   "source": [
    "## Creating Delta Table\n",
    "Creating three delta tables for the three kinesis data streams:\n",
    "- 0ecf5ea19ac5_pin_table\n",
    "- 0ecf5ea19ac5_geo_table\n",
    "- 0ecf5ea19ac5_user_table"
   ]
  },
  {
   "cell_type": "code",
   "execution_count": 0,
   "metadata": {
    "application/vnd.databricks.v1+cell": {
     "cellMetadata": {
      "byteLimit": 2048000,
      "rowLimit": 10000
     },
     "inputWidgets": {},
     "nuid": "73307607-1491-48cd-b742-6a6f714df629",
     "showTitle": false,
     "title": ""
    }
   },
   "outputs": [
    {
     "output_type": "display_data",
     "data": {
      "text/html": [
       "<style scoped>\n",
       "  .ansiout {\n",
       "    display: block;\n",
       "    unicode-bidi: embed;\n",
       "    white-space: pre-wrap;\n",
       "    word-wrap: break-word;\n",
       "    word-break: break-all;\n",
       "    font-family: \"Menlo\", \"Monaco\", \"Consolas\", \"Ubuntu Mono\", \"Source Code Pro\", monospace;\n",
       "    font-size: 13px;\n",
       "    color: #555;\n",
       "    margin-left: 4px;\n",
       "    line-height: 19px;\n",
       "  }\n",
       "</style>\n",
       "<div class=\"ansiout\"></div>"
      ]
     },
     "metadata": {
      "application/vnd.databricks.v1+output": {
       "addedWidgets": {},
       "arguments": {},
       "data": "<div class=\"ansiout\"></div>",
       "datasetInfos": [],
       "metadata": {},
       "removedWidgets": [],
       "type": "html"
      }
     },
     "output_type": "display_data"
    }
   ],
   "source": [
    "#create delta tables\n",
    "tables = {df_pin :'0ecf5ea19ac5_pin_table', df_geo :'0ecf5ea19ac5_geo_table', df_user :'0ecf5ea19ac5_user_table'}\n",
    "for df_name, delta_table in tables.items():\n",
    "    dbutils.fs.rm(f\"/tmp/kinesis/_checkpoints/{delta_table}\", True)\n",
    "    df_name.writeStream \\\n",
    "    .format(\"delta\") \\\n",
    "    .outputMode(\"append\") \\\n",
    "    .option(\"checkpointLocation\", f\"/tmp/kinesis/_checkpoints/{delta_table}\") \\\n",
    "    .table(f\"{delta_table}\")\n",
    "  "
   ]
  }
 ],
 "metadata": {
  "application/vnd.databricks.v1+notebook": {
   "dashboards": [],
   "language": "python",
   "notebookMetadata": {
    "pythonIndentUnit": 4
   },
   "notebookName": "read_from_kinesis.ipynb",
   "widgets": {}
  }
 },
 "nbformat": 4,
 "nbformat_minor": 0
}
