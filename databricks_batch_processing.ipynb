{
 "cells": [
  {
   "cell_type": "markdown",
   "metadata": {
    "application/vnd.databricks.v1+cell": {
     "cellMetadata": {
      "byteLimit": 2048000,
      "rowLimit": 10000
     },
     "inputWidgets": {},
     "nuid": "14425bae-9d1f-4719-b204-e1c8f79efae8",
     "showTitle": false,
     "title": ""
    }
   },
   "source": [
    "#Batch Processing: Spark on Databricks\n",
    "## Mount AWS S3 bucket to Databricks"
   ]
  },
  {
   "cell_type": "markdown",
   "metadata": {
    "application/vnd.databricks.v1+cell": {
     "cellMetadata": {},
     "inputWidgets": {},
     "nuid": "5ca343be-7a67-4c42-8da0-1fb912542106",
     "showTitle": false,
     "title": ""
    }
   },
   "source": [
    "Confirm location of authentificationauthentication_credentials.csv"
   ]
  },
  {
   "cell_type": "code",
   "execution_count": 0,
   "metadata": {
    "application/vnd.databricks.v1+cell": {
     "cellMetadata": {
      "byteLimit": 2048000,
      "rowLimit": 10000
     },
     "collapsed": true,
     "inputWidgets": {},
     "nuid": "4dad41c8-066a-4724-8aab-f5560e37ee37",
     "showTitle": false,
     "title": ""
    }
   },
   "outputs": [
    {
     "output_type": "display_data",
     "data": {
      "text/html": [
       "<style scoped>\n",
       "  .ansiout {\n",
       "    display: block;\n",
       "    unicode-bidi: embed;\n",
       "    white-space: pre-wrap;\n",
       "    word-wrap: break-word;\n",
       "    word-break: break-all;\n",
       "    font-family: \"Menlo\", \"Monaco\", \"Consolas\", \"Ubuntu Mono\", \"Source Code Pro\", monospace;\n",
       "    font-size: 13px;\n",
       "    color: #555;\n",
       "    margin-left: 4px;\n",
       "    line-height: 19px;\n",
       "  }\n",
       "</style>\n",
       "<div class=\"ansiout\">Out[2]: [FileInfo(path=&#39;dbfs:/FileStore/tables/0ed442ca38ad_user_table/&#39;, name=&#39;0ed442ca38ad_user_table/&#39;, size=0, modificationTime=1703782317105),\n",
       " FileInfo(path=&#39;dbfs:/FileStore/tables/authentication.csv/&#39;, name=&#39;authentication.csv/&#39;, size=0, modificationTime=1703782317105),\n",
       " FileInfo(path=&#39;dbfs:/FileStore/tables/authentication_credentials-1.csv&#39;, name=&#39;authentication_credentials-1.csv&#39;, size=97, modificationTime=1702911405000),\n",
       " FileInfo(path=&#39;dbfs:/FileStore/tables/authentication_credentials-2.csv&#39;, name=&#39;authentication_credentials-2.csv&#39;, size=97, modificationTime=1702911558000),\n",
       " FileInfo(path=&#39;dbfs:/FileStore/tables/authentication_credentials-3.csv&#39;, name=&#39;authentication_credentials-3.csv&#39;, size=87, modificationTime=1703678451000),\n",
       " FileInfo(path=&#39;dbfs:/FileStore/tables/authentication_credentials.csv/&#39;, name=&#39;authentication_credentials.csv/&#39;, size=0, modificationTime=1703782317105),\n",
       " FileInfo(path=&#39;dbfs:/FileStore/tables/geo_dirty.csv/&#39;, name=&#39;geo_dirty.csv/&#39;, size=0, modificationTime=1703782317105),\n",
       " FileInfo(path=&#39;dbfs:/FileStore/tables/pin_dirty.csv/&#39;, name=&#39;pin_dirty.csv/&#39;, size=0, modificationTime=1703782317105),\n",
       " FileInfo(path=&#39;dbfs:/FileStore/tables/single_json_file.json&#39;, name=&#39;single_json_file.json&#39;, size=293, modificationTime=1701857903000),\n",
       " FileInfo(path=&#39;dbfs:/FileStore/tables/user_dirty.csv/&#39;, name=&#39;user_dirty.csv/&#39;, size=0, modificationTime=1703782317105)]</div>"
      ]
     },
     "metadata": {
      "application/vnd.databricks.v1+output": {
       "addedWidgets": {},
       "arguments": {},
       "data": "<div class=\"ansiout\">Out[2]: [FileInfo(path=&#39;dbfs:/FileStore/tables/0ed442ca38ad_user_table/&#39;, name=&#39;0ed442ca38ad_user_table/&#39;, size=0, modificationTime=1703782317105),\n FileInfo(path=&#39;dbfs:/FileStore/tables/authentication.csv/&#39;, name=&#39;authentication.csv/&#39;, size=0, modificationTime=1703782317105),\n FileInfo(path=&#39;dbfs:/FileStore/tables/authentication_credentials-1.csv&#39;, name=&#39;authentication_credentials-1.csv&#39;, size=97, modificationTime=1702911405000),\n FileInfo(path=&#39;dbfs:/FileStore/tables/authentication_credentials-2.csv&#39;, name=&#39;authentication_credentials-2.csv&#39;, size=97, modificationTime=1702911558000),\n FileInfo(path=&#39;dbfs:/FileStore/tables/authentication_credentials-3.csv&#39;, name=&#39;authentication_credentials-3.csv&#39;, size=87, modificationTime=1703678451000),\n FileInfo(path=&#39;dbfs:/FileStore/tables/authentication_credentials.csv/&#39;, name=&#39;authentication_credentials.csv/&#39;, size=0, modificationTime=1703782317105),\n FileInfo(path=&#39;dbfs:/FileStore/tables/geo_dirty.csv/&#39;, name=&#39;geo_dirty.csv/&#39;, size=0, modificationTime=1703782317105),\n FileInfo(path=&#39;dbfs:/FileStore/tables/pin_dirty.csv/&#39;, name=&#39;pin_dirty.csv/&#39;, size=0, modificationTime=1703782317105),\n FileInfo(path=&#39;dbfs:/FileStore/tables/single_json_file.json&#39;, name=&#39;single_json_file.json&#39;, size=293, modificationTime=1701857903000),\n FileInfo(path=&#39;dbfs:/FileStore/tables/user_dirty.csv/&#39;, name=&#39;user_dirty.csv/&#39;, size=0, modificationTime=1703782317105)]</div>",
       "datasetInfos": [],
       "metadata": {},
       "removedWidgets": [],
       "type": "html"
      }
     },
     "output_type": "display_data"
    }
   ],
   "source": [
    "dbutils.fs.ls(\"/FileStore/tables/\")"
   ]
  },
  {
   "cell_type": "markdown",
   "metadata": {
    "application/vnd.databricks.v1+cell": {
     "cellMetadata": {
      "byteLimit": 2048000,
      "rowLimit": 10000
     },
     "inputWidgets": {},
     "nuid": "3978eb0d-d9a3-40bb-9c61-e907d1480539",
     "showTitle": false,
     "title": ""
    }
   },
   "source": [
    "### Read the csv file containing the AWS keys to Databricks"
   ]
  },
  {
   "cell_type": "code",
   "execution_count": 0,
   "metadata": {
    "application/vnd.databricks.v1+cell": {
     "cellMetadata": {
      "byteLimit": 2048000,
      "rowLimit": 10000
     },
     "inputWidgets": {},
     "nuid": "e8f8e7c2-821c-494e-b49f-3303c705ac74",
     "showTitle": false,
     "title": ""
    }
   },
   "outputs": [
    {
     "output_type": "display_data",
     "data": {
      "text/html": [
       "<style scoped>\n",
       "  .ansiout {\n",
       "    display: block;\n",
       "    unicode-bidi: embed;\n",
       "    white-space: pre-wrap;\n",
       "    word-wrap: break-word;\n",
       "    word-break: break-all;\n",
       "    font-family: \"Menlo\", \"Monaco\", \"Consolas\", \"Ubuntu Mono\", \"Source Code Pro\", monospace;\n",
       "    font-size: 13px;\n",
       "    color: #555;\n",
       "    margin-left: 4px;\n",
       "    line-height: 19px;\n",
       "  }\n",
       "</style>\n",
       "<div class=\"ansiout\"></div>"
      ]
     },
     "metadata": {
      "application/vnd.databricks.v1+output": {
       "addedWidgets": {},
       "arguments": {},
       "data": "<div class=\"ansiout\"></div>",
       "datasetInfos": [],
       "metadata": {},
       "removedWidgets": [],
       "type": "html"
      }
     },
     "output_type": "display_data"
    }
   ],
   "source": [
    "from pyspark.sql.functions import *\n",
    "from pyspark.sql.types import *\n",
    "import urllib\n",
    "\n",
    "file_type = \"csv\"\n",
    "first_row_is_header = \"true\"\n",
    "delimiter = \",\"\n",
    "aws_keys_df = spark.read.format(file_type)\\\n",
    ".option(\"header\", first_row_is_header)\\\n",
    ".option(\"sep\", delimiter)\\\n",
    ".load(\"/FileStore/tables/authentication_credentials.csv\")"
   ]
  },
  {
   "cell_type": "code",
   "execution_count": 0,
   "metadata": {
    "application/vnd.databricks.v1+cell": {
     "cellMetadata": {
      "byteLimit": 2048000,
      "rowLimit": 10000
     },
     "inputWidgets": {},
     "nuid": "f3709420-cd8b-4342-8ce2-c6bc9c38ebd4",
     "showTitle": false,
     "title": ""
    }
   },
   "outputs": [
    {
     "output_type": "display_data",
     "data": {
      "text/html": [
       "<style scoped>\n",
       "  .ansiout {\n",
       "    display: block;\n",
       "    unicode-bidi: embed;\n",
       "    white-space: pre-wrap;\n",
       "    word-wrap: break-word;\n",
       "    word-break: break-all;\n",
       "    font-family: \"Menlo\", \"Monaco\", \"Consolas\", \"Ubuntu Mono\", \"Source Code Pro\", monospace;\n",
       "    font-size: 13px;\n",
       "    color: #555;\n",
       "    margin-left: 4px;\n",
       "    line-height: 19px;\n",
       "  }\n",
       "</style>\n",
       "<div class=\"ansiout\"></div>"
      ]
     },
     "metadata": {
      "application/vnd.databricks.v1+output": {
       "addedWidgets": {},
       "arguments": {},
       "data": "<div class=\"ansiout\"></div>",
       "datasetInfos": [],
       "metadata": {},
       "removedWidgets": [],
       "type": "html"
      }
     },
     "output_type": "display_data"
    }
   ],
   "source": [
    "# Get the AWS access key and secret key from the spark dataframe\n",
    "ACCESS_KEY = aws_keys_df.select('Access key ID').collect()[0]['Access key ID']\n",
    "SECRET_KEY = aws_keys_df.select('Secret access key').collect()[0]['Secret access key']\n",
    "# Encode the secrete key\n",
    "ENCODED_SECRET_KEY = urllib.parse.quote(string=SECRET_KEY, safe=\"\")"
   ]
  },
  {
   "cell_type": "markdown",
   "metadata": {
    "application/vnd.databricks.v1+cell": {
     "cellMetadata": {
      "byteLimit": 2048000,
      "rowLimit": 10000
     },
     "inputWidgets": {},
     "nuid": "20fbe3e3-878c-4a1b-9946-e906badcc95a",
     "showTitle": false,
     "title": ""
    }
   },
   "source": [
    "## Mount the S3 bucket to local workspace"
   ]
  },
  {
   "cell_type": "code",
   "execution_count": 0,
   "metadata": {
    "application/vnd.databricks.v1+cell": {
     "cellMetadata": {
      "byteLimit": 2048000,
      "rowLimit": 10000
     },
     "inputWidgets": {},
     "nuid": "f8fe83d2-5228-4b2b-8037-67ab76288355",
     "showTitle": false,
     "title": ""
    }
   },
   "outputs": [
    {
     "output_type": "display_data",
     "data": {
      "text/html": [
       "<style scoped>\n",
       "  .ansiout {\n",
       "    display: block;\n",
       "    unicode-bidi: embed;\n",
       "    white-space: pre-wrap;\n",
       "    word-wrap: break-word;\n",
       "    word-break: break-all;\n",
       "    font-family: \"Menlo\", \"Monaco\", \"Consolas\", \"Ubuntu Mono\", \"Source Code Pro\", monospace;\n",
       "    font-size: 13px;\n",
       "    color: #555;\n",
       "    margin-left: 4px;\n",
       "    line-height: 19px;\n",
       "  }\n",
       "</style>\n",
       "<div class=\"ansiout\"></div>"
      ]
     },
     "metadata": {
      "application/vnd.databricks.v1+output": {
       "addedWidgets": {},
       "arguments": {},
       "data": "<div class=\"ansiout\"></div>",
       "datasetInfos": [],
       "metadata": {},
       "removedWidgets": [],
       "type": "html"
      }
     },
     "output_type": "display_data"
    },
    {
     "output_type": "display_data",
     "data": {
      "text/html": [
       "<style scoped>\n",
       "  .ansiout {\n",
       "    display: block;\n",
       "    unicode-bidi: embed;\n",
       "    white-space: pre-wrap;\n",
       "    word-wrap: break-word;\n",
       "    word-break: break-all;\n",
       "    font-family: \"Menlo\", \"Monaco\", \"Consolas\", \"Ubuntu Mono\", \"Source Code Pro\", monospace;\n",
       "    font-size: 13px;\n",
       "    color: #555;\n",
       "    margin-left: 4px;\n",
       "    line-height: 19px;\n",
       "  }\n",
       "</style>\n",
       "<div class=\"ansiout\"><span class=\"ansi-red-fg\">---------------------------------------------------------------------------</span>\n",
       "<span class=\"ansi-red-fg\">ExecutionError</span>                            Traceback (most recent call last)\n",
       "<span class=\"ansi-green-fg\">&lt;command-4155037068218956&gt;</span> in <span class=\"ansi-cyan-fg\">&lt;module&gt;</span>\n",
       "<span class=\"ansi-green-intense-fg ansi-bold\">      6</span> SOURCE_URL <span class=\"ansi-blue-fg\">=</span> <span class=\"ansi-blue-fg\">&#34;s3n://{0}:{1}@{2}&#34;</span><span class=\"ansi-blue-fg\">.</span>format<span class=\"ansi-blue-fg\">(</span>ACCESS_KEY<span class=\"ansi-blue-fg\">,</span> ENCODED_SECRET_KEY<span class=\"ansi-blue-fg\">,</span> AWS_S3_BUCKET<span class=\"ansi-blue-fg\">)</span>\n",
       "<span class=\"ansi-green-intense-fg ansi-bold\">      7</span> <span class=\"ansi-red-fg\"># Mount the drive</span>\n",
       "<span class=\"ansi-green-fg\">----&gt; 8</span><span class=\"ansi-red-fg\"> </span>dbutils<span class=\"ansi-blue-fg\">.</span>fs<span class=\"ansi-blue-fg\">.</span>mount<span class=\"ansi-blue-fg\">(</span>SOURCE_URL<span class=\"ansi-blue-fg\">,</span> MOUNT_NAME<span class=\"ansi-blue-fg\">)</span>\n",
       "\n",
       "<span class=\"ansi-green-fg\">/databricks/python_shell/dbruntime/dbutils.py</span> in <span class=\"ansi-cyan-fg\">f_with_exception_handling</span><span class=\"ansi-blue-fg\">(*args, **kwargs)</span>\n",
       "<span class=\"ansi-green-intense-fg ansi-bold\">    387</span>                     exc<span class=\"ansi-blue-fg\">.</span>__context__ <span class=\"ansi-blue-fg\">=</span> <span class=\"ansi-green-fg\">None</span>\n",
       "<span class=\"ansi-green-intense-fg ansi-bold\">    388</span>                     exc<span class=\"ansi-blue-fg\">.</span>__cause__ <span class=\"ansi-blue-fg\">=</span> <span class=\"ansi-green-fg\">None</span>\n",
       "<span class=\"ansi-green-fg\">--&gt; 389</span><span class=\"ansi-red-fg\">                     </span><span class=\"ansi-green-fg\">raise</span> exc\n",
       "<span class=\"ansi-green-intense-fg ansi-bold\">    390</span> \n",
       "<span class=\"ansi-green-intense-fg ansi-bold\">    391</span>             <span class=\"ansi-green-fg\">return</span> f_with_exception_handling\n",
       "\n",
       "<span class=\"ansi-red-fg\">ExecutionError</span>: An error occurred while calling o392.mount.\n",
       ": java.rmi.RemoteException: java.lang.IllegalArgumentException: requirement failed: Directory already mounted: /mnt/0ecf5ea19ac5_s3_mount; nested exception is: \n",
       "\tjava.lang.IllegalArgumentException: requirement failed: Directory already mounted: /mnt/0ecf5ea19ac5_s3_mount\n",
       "\tat com.databricks.backend.daemon.data.client.DbfsClient.send0(DbfsClient.scala:128)\n",
       "\tat com.databricks.backend.daemon.data.client.DbfsClient.sendIdempotent(DbfsClient.scala:68)\n",
       "\tat com.databricks.backend.daemon.dbutils.DBUtilsCore.createOrUpdateMount(DBUtilsCore.scala:756)\n",
       "\tat com.databricks.backend.daemon.dbutils.DBUtilsCore.mount(DBUtilsCore.scala:776)\n",
       "\tat sun.reflect.NativeMethodAccessorImpl.invoke0(Native Method)\n",
       "\tat sun.reflect.NativeMethodAccessorImpl.invoke(NativeMethodAccessorImpl.java:62)\n",
       "\tat sun.reflect.DelegatingMethodAccessorImpl.invoke(DelegatingMethodAccessorImpl.java:43)\n",
       "\tat java.lang.reflect.Method.invoke(Method.java:498)\n",
       "\tat py4j.reflection.MethodInvoker.invoke(MethodInvoker.java:244)\n",
       "\tat py4j.reflection.ReflectionEngine.invoke(ReflectionEngine.java:380)\n",
       "\tat py4j.Gateway.invoke(Gateway.java:295)\n",
       "\tat py4j.commands.AbstractCommand.invokeMethod(AbstractCommand.java:132)\n",
       "\tat py4j.commands.CallCommand.execute(CallCommand.java:79)\n",
       "\tat py4j.GatewayConnection.run(GatewayConnection.java:251)\n",
       "\tat java.lang.Thread.run(Thread.java:750)\n",
       "Caused by: java.lang.IllegalArgumentException: requirement failed: Directory already mounted: /mnt/0ecf5ea19ac5_s3_mount\n",
       "\tat scala.Predef$.require(Predef.scala:281)\n",
       "\tat com.databricks.backend.daemon.data.server.DefaultMetadataManager.$anonfun$insertMount$1(MetadataManager.scala:656)\n",
       "\tat com.databricks.backend.daemon.data.server.DefaultMetadataManager.$anonfun$modifyAndVerify$2(MetadataManager.scala:1032)\n",
       "\tat scala.runtime.java8.JFunction0$mcV$sp.apply(JFunction0$mcV$sp.java:23)\n",
       "\tat com.databricks.backend.daemon.data.server.DefaultMetadataManager.withRetries(MetadataManager.scala:805)\n",
       "\tat com.databricks.backend.daemon.data.server.DefaultMetadataManager.modifyAndVerify(MetadataManager.scala:1021)\n",
       "\tat com.databricks.backend.daemon.data.server.DefaultMetadataManager.insertMount(MetadataManager.scala:664)\n",
       "\tat com.databricks.backend.daemon.data.server.handler.MountHandler.receive(MountHandler.scala:128)\n",
       "\tat com.databricks.backend.daemon.data.server.session.SessionContext.$anonfun$queryHandlers$1(SessionContext.scala:54)\n",
       "\tat com.databricks.backend.daemon.data.server.session.SessionContext.$anonfun$queryHandlers$1$adapted(SessionContext.scala:53)\n",
       "\tat scala.collection.immutable.List.foreach(List.scala:431)\n",
       "\tat com.databricks.backend.daemon.data.server.session.SessionContext.queryHandlers(SessionContext.scala:53)\n",
       "\tat com.databricks.backend.daemon.data.server.DbfsServerBackend$$anonfun$receive$4.$anonfun$applyOrElse$9(DbfsServerBackend.scala:386)\n",
       "\tat com.databricks.logging.UsageLogging.$anonfun$withAttributionContext$1(UsageLogging.scala:426)\n",
       "\tat scala.util.DynamicVariable.withValue(DynamicVariable.scala:62)\n",
       "\tat com.databricks.logging.AttributionContext$.withValue(AttributionContext.scala:216)\n",
       "\tat com.databricks.logging.UsageLogging.withAttributionContext(UsageLogging.scala:424)\n",
       "\tat com.databricks.logging.UsageLogging.withAttributionContext$(UsageLogging.scala:418)\n",
       "\tat com.databricks.rpc.ServerBackend.withAttributionContext(ServerBackend.scala:22)\n",
       "\tat com.databricks.logging.UsageLogging.withAttributionTags(UsageLogging.scala:472)\n",
       "\tat com.databricks.logging.UsageLogging.withAttributionTags$(UsageLogging.scala:455)\n",
       "\tat com.databricks.rpc.ServerBackend.withAttributionTags(ServerBackend.scala:22)\n",
       "\tat com.databricks.backend.daemon.data.server.DbfsServerBackend$$anonfun$receive$4.applyOrElse(DbfsServerBackend.scala:386)\n",
       "\tat com.databricks.backend.daemon.data.server.DbfsServerBackend$$anonfun$receive$4.applyOrElse(DbfsServerBackend.scala:326)\n",
       "\tat com.databricks.rpc.ServerBackend.$anonfun$internalReceive0$2(ServerBackend.scala:174)\n",
       "\tat com.databricks.rpc.ServerBackend$$anonfun$commonReceive$1.applyOrElse(ServerBackend.scala:200)\n",
       "\tat com.databricks.rpc.ServerBackend$$anonfun$commonReceive$1.applyOrElse(ServerBackend.scala:200)\n",
       "\tat com.databricks.rpc.ServerBackend.internalReceive0(ServerBackend.scala:171)\n",
       "\tat com.databricks.rpc.ServerBackend.$anonfun$internalReceive$1(ServerBackend.scala:147)\n",
       "\tat com.databricks.logging.UsageLogging.$anonfun$recordOperation$1(UsageLogging.scala:573)\n",
       "\tat com.databricks.logging.UsageLogging.executeThunkAndCaptureResultTags$1(UsageLogging.scala:668)\n",
       "\tat com.databricks.logging.UsageLogging.$anonfun$recordOperationWithResultTags$4(UsageLogging.scala:686)\n",
       "\tat com.databricks.logging.UsageLogging.$anonfun$withAttributionContext$1(UsageLogging.scala:426)\n",
       "\tat scala.util.DynamicVariable.withValue(DynamicVariable.scala:62)\n",
       "\tat com.databricks.logging.AttributionContext$.withValue(AttributionContext.scala:216)\n",
       "\tat com.databricks.logging.UsageLogging.withAttributionContext(UsageLogging.scala:424)\n",
       "\tat com.databricks.logging.UsageLogging.withAttributionContext$(UsageLogging.scala:418)\n",
       "\tat com.databricks.rpc.ServerBackend.withAttributionContext(ServerBackend.scala:22)\n",
       "\tat com.databricks.logging.UsageLogging.withAttributionTags(UsageLogging.scala:472)\n",
       "\tat com.databricks.logging.UsageLogging.withAttributionTags$(UsageLogging.scala:455)\n",
       "\tat com.databricks.rpc.ServerBackend.withAttributionTags(ServerBackend.scala:22)\n",
       "\tat com.databricks.logging.UsageLogging.recordOperationWithResultTags(UsageLogging.scala:663)\n",
       "\tat com.databricks.logging.UsageLogging.recordOperationWithResultTags$(UsageLogging.scala:582)\n",
       "\tat com.databricks.rpc.ServerBackend.recordOperationWithResultTags(ServerBackend.scala:22)\n",
       "\tat com.databricks.logging.UsageLogging.recordOperation(UsageLogging.scala:573)\n",
       "\tat com.databricks.logging.UsageLogging.recordOperation$(UsageLogging.scala:542)\n",
       "\tat com.databricks.rpc.ServerBackend.recordOperation(ServerBackend.scala:22)\n",
       "\tat com.databricks.rpc.ServerBackend.internalReceive(ServerBackend.scala:147)\n",
       "\tat com.databricks.rpc.JettyServer$RequestManager.handleRPC(JettyServer.scala:1020)\n",
       "\tat com.databricks.rpc.JettyServer$RequestManager.handleRequestAndRespond(JettyServer.scala:941)\n",
       "\tat com.databricks.rpc.JettyServer$RequestManager.$anonfun$handleHttp$6(JettyServer.scala:545)\n",
       "\tat com.databricks.rpc.JettyServer$RequestManager.$anonfun$handleHttp$6$adapted(JettyServer.scala:514)\n",
       "\tat com.databricks.logging.activity.ActivityContextFactory$.$anonfun$withActivityInternal$4(ActivityContextFactory.scala:405)\n",
       "\tat com.databricks.logging.UsageLogging.$anonfun$withAttributionContext$1(UsageLogging.scala:426)\n",
       "\tat scala.util.DynamicVariable.withValue(DynamicVariable.scala:62)\n",
       "\tat com.databricks.logging.AttributionContext$.withValue(AttributionContext.scala:216)\n",
       "\tat com.databricks.logging.UsageLogging.withAttributionContext(UsageLogging.scala:424)\n",
       "\tat com.databricks.logging.UsageLogging.withAttributionContext$(UsageLogging.scala:418)\n",
       "\tat com.databricks.logging.activity.ActivityContextFactory$.withAttributionContext(ActivityContextFactory.scala:58)\n",
       "\tat com.databricks.logging.activity.ActivityContextFactory$.$anonfun$withActivityInternal$1(ActivityContextFactory.scala:405)\n",
       "\tat com.databricks.context.integrity.IntegrityCheckContext$ThreadLocalStorage$.withValue(IntegrityCheckContext.scala:44)\n",
       "\tat com.databricks.logging.activity.ActivityContextFactory$.withActivityInternal(ActivityContextFactory.scala:380)\n",
       "\tat com.databricks.logging.activity.ActivityContextFactory$.withServiceRequestActivity(ActivityContextFactory.scala:159)\n",
       "\tat com.databricks.rpc.JettyServer$RequestManager.handleHttp(JettyServer.scala:514)\n",
       "\tat com.databricks.rpc.JettyServer$RequestManager.doPost(JettyServer.scala:404)\n",
       "\tat javax.servlet.http.HttpServlet.service(HttpServlet.java:665)\n",
       "\tat com.databricks.rpc.HttpServletWithPatch.service(HttpServletWithPatch.scala:33)\n",
       "\tat javax.servlet.http.HttpServlet.service(HttpServlet.java:750)\n",
       "\tat org.eclipse.jetty.servlet.ServletHolder.handle(ServletHolder.java:799)\n",
       "\tat org.eclipse.jetty.servlet.ServletHandler.doHandle(ServletHandler.java:554)\n",
       "\tat org.eclipse.jetty.server.handler.ScopedHandler.nextScope(ScopedHandler.java:190)\n",
       "\tat org.eclipse.jetty.servlet.ServletHandler.doScope(ServletHandler.java:505)\n",
       "\tat org.eclipse.jetty.server.handler.ScopedHandler.handle(ScopedHandler.java:141)\n",
       "\tat org.eclipse.jetty.server.handler.HandlerWrapper.handle(HandlerWrapper.java:127)\n",
       "\tat org.eclipse.jetty.server.Server.handle(Server.java:516)\n",
       "\tat org.eclipse.jetty.server.HttpChannel.lambda$handle$1(HttpChannel.java:487)\n",
       "\tat org.eclipse.jetty.server.HttpChannel.dispatch(HttpChannel.java:732)\n",
       "\tat org.eclipse.jetty.server.HttpChannel.handle(HttpChannel.java:479)\n",
       "\tat org.eclipse.jetty.server.HttpConnection.onFillable(HttpConnection.java:277)\n",
       "\tat org.eclipse.jetty.io.AbstractConnection$ReadCallback.succeeded(AbstractConnection.java:311)\n",
       "\tat org.eclipse.jetty.io.FillInterest.fillable(FillInterest.java:105)\n",
       "\tat org.eclipse.jetty.io.ChannelEndPoint$1.run(ChannelEndPoint.java:104)\n",
       "\tat org.eclipse.jetty.util.thread.strategy.EatWhatYouKill.runTask(EatWhatYouKill.java:338)\n",
       "\tat org.eclipse.jetty.util.thread.strategy.EatWhatYouKill.doProduce(EatWhatYouKill.java:315)\n",
       "\tat org.eclipse.jetty.util.thread.strategy.EatWhatYouKill.tryProduce(EatWhatYouKill.java:173)\n",
       "\tat org.eclipse.jetty.util.thread.strategy.EatWhatYouKill.run(EatWhatYouKill.java:131)\n",
       "\tat org.eclipse.jetty.util.thread.ReservedThreadExecutor$ReservedThread.run(ReservedThreadExecutor.java:409)\n",
       "\tat com.databricks.rpc.InstrumentedQueuedThreadPool$$anon$1.$anonfun$run$4(InstrumentedQueuedThreadPool.scala:104)\n",
       "\tat scala.runtime.java8.JFunction0$mcV$sp.apply(JFunction0$mcV$sp.java:23)\n",
       "\tat com.databricks.logging.UsageLogging.$anonfun$withAttributionContext$1(UsageLogging.scala:426)\n",
       "\tat scala.util.DynamicVariable.withValue(DynamicVariable.scala:62)\n",
       "\tat com.databricks.logging.AttributionContext$.withValue(AttributionContext.scala:216)\n",
       "\tat com.databricks.logging.UsageLogging.withAttributionContext(UsageLogging.scala:424)\n",
       "\tat com.databricks.logging.UsageLogging.withAttributionContext$(UsageLogging.scala:418)\n",
       "\tat com.databricks.rpc.InstrumentedQueuedThreadPool.withAttributionContext(InstrumentedQueuedThreadPool.scala:47)\n",
       "\tat com.databricks.rpc.InstrumentedQueuedThreadPool$$anon$1.$anonfun$run$1(InstrumentedQueuedThreadPool.scala:104)\n",
       "\tat scala.runtime.java8.JFunction0$mcV$sp.apply(JFunction0$mcV$sp.java:23)\n",
       "\tat com.databricks.instrumentation.QueuedThreadPoolInstrumenter.trackActiveThreads(QueuedThreadPoolInstrumenter.scala:66)\n",
       "\tat com.databricks.instrumentation.QueuedThreadPoolInstrumenter.trackActiveThreads$(QueuedThreadPoolInstrumenter.scala:63)\n",
       "\tat com.databricks.rpc.InstrumentedQueuedThreadPool.trackActiveThreads(InstrumentedQueuedThreadPool.scala:47)\n",
       "\tat com.databricks.rpc.InstrumentedQueuedThreadPool$$anon$1.run(InstrumentedQueuedThreadPool.scala:86)\n",
       "\tat org.eclipse.jetty.util.thread.QueuedThreadPool.runJob(QueuedThreadPool.java:883)\n",
       "\tat org.eclipse.jetty.util.thread.QueuedThreadPool$Runner.run(QueuedThreadPool.java:1034)\n",
       "\tat java.lang.Thread.run(Thread.java:833)\n",
       "</div>"
      ]
     },
     "metadata": {
      "application/vnd.databricks.v1+output": {
       "arguments": {},
       "data": "<div class=\"ansiout\"><span class=\"ansi-red-fg\">---------------------------------------------------------------------------</span>\n<span class=\"ansi-red-fg\">ExecutionError</span>                            Traceback (most recent call last)\n<span class=\"ansi-green-fg\">&lt;command-4155037068218956&gt;</span> in <span class=\"ansi-cyan-fg\">&lt;module&gt;</span>\n<span class=\"ansi-green-intense-fg ansi-bold\">      6</span> SOURCE_URL <span class=\"ansi-blue-fg\">=</span> <span class=\"ansi-blue-fg\">&#34;s3n://{0}:{1}@{2}&#34;</span><span class=\"ansi-blue-fg\">.</span>format<span class=\"ansi-blue-fg\">(</span>ACCESS_KEY<span class=\"ansi-blue-fg\">,</span> ENCODED_SECRET_KEY<span class=\"ansi-blue-fg\">,</span> AWS_S3_BUCKET<span class=\"ansi-blue-fg\">)</span>\n<span class=\"ansi-green-intense-fg ansi-bold\">      7</span> <span class=\"ansi-red-fg\"># Mount the drive</span>\n<span class=\"ansi-green-fg\">----&gt; 8</span><span class=\"ansi-red-fg\"> </span>dbutils<span class=\"ansi-blue-fg\">.</span>fs<span class=\"ansi-blue-fg\">.</span>mount<span class=\"ansi-blue-fg\">(</span>SOURCE_URL<span class=\"ansi-blue-fg\">,</span> MOUNT_NAME<span class=\"ansi-blue-fg\">)</span>\n\n<span class=\"ansi-green-fg\">/databricks/python_shell/dbruntime/dbutils.py</span> in <span class=\"ansi-cyan-fg\">f_with_exception_handling</span><span class=\"ansi-blue-fg\">(*args, **kwargs)</span>\n<span class=\"ansi-green-intense-fg ansi-bold\">    387</span>                     exc<span class=\"ansi-blue-fg\">.</span>__context__ <span class=\"ansi-blue-fg\">=</span> <span class=\"ansi-green-fg\">None</span>\n<span class=\"ansi-green-intense-fg ansi-bold\">    388</span>                     exc<span class=\"ansi-blue-fg\">.</span>__cause__ <span class=\"ansi-blue-fg\">=</span> <span class=\"ansi-green-fg\">None</span>\n<span class=\"ansi-green-fg\">--&gt; 389</span><span class=\"ansi-red-fg\">                     </span><span class=\"ansi-green-fg\">raise</span> exc\n<span class=\"ansi-green-intense-fg ansi-bold\">    390</span> \n<span class=\"ansi-green-intense-fg ansi-bold\">    391</span>             <span class=\"ansi-green-fg\">return</span> f_with_exception_handling\n\n<span class=\"ansi-red-fg\">ExecutionError</span>: An error occurred while calling o392.mount.\n: java.rmi.RemoteException: java.lang.IllegalArgumentException: requirement failed: Directory already mounted: /mnt/0ecf5ea19ac5_s3_mount; nested exception is: \n\tjava.lang.IllegalArgumentException: requirement failed: Directory already mounted: /mnt/0ecf5ea19ac5_s3_mount\n\tat com.databricks.backend.daemon.data.client.DbfsClient.send0(DbfsClient.scala:128)\n\tat com.databricks.backend.daemon.data.client.DbfsClient.sendIdempotent(DbfsClient.scala:68)\n\tat com.databricks.backend.daemon.dbutils.DBUtilsCore.createOrUpdateMount(DBUtilsCore.scala:756)\n\tat com.databricks.backend.daemon.dbutils.DBUtilsCore.mount(DBUtilsCore.scala:776)\n\tat sun.reflect.NativeMethodAccessorImpl.invoke0(Native Method)\n\tat sun.reflect.NativeMethodAccessorImpl.invoke(NativeMethodAccessorImpl.java:62)\n\tat sun.reflect.DelegatingMethodAccessorImpl.invoke(DelegatingMethodAccessorImpl.java:43)\n\tat java.lang.reflect.Method.invoke(Method.java:498)\n\tat py4j.reflection.MethodInvoker.invoke(MethodInvoker.java:244)\n\tat py4j.reflection.ReflectionEngine.invoke(ReflectionEngine.java:380)\n\tat py4j.Gateway.invoke(Gateway.java:295)\n\tat py4j.commands.AbstractCommand.invokeMethod(AbstractCommand.java:132)\n\tat py4j.commands.CallCommand.execute(CallCommand.java:79)\n\tat py4j.GatewayConnection.run(GatewayConnection.java:251)\n\tat java.lang.Thread.run(Thread.java:750)\nCaused by: java.lang.IllegalArgumentException: requirement failed: Directory already mounted: /mnt/0ecf5ea19ac5_s3_mount\n\tat scala.Predef$.require(Predef.scala:281)\n\tat com.databricks.backend.daemon.data.server.DefaultMetadataManager.$anonfun$insertMount$1(MetadataManager.scala:656)\n\tat com.databricks.backend.daemon.data.server.DefaultMetadataManager.$anonfun$modifyAndVerify$2(MetadataManager.scala:1032)\n\tat scala.runtime.java8.JFunction0$mcV$sp.apply(JFunction0$mcV$sp.java:23)\n\tat com.databricks.backend.daemon.data.server.DefaultMetadataManager.withRetries(MetadataManager.scala:805)\n\tat com.databricks.backend.daemon.data.server.DefaultMetadataManager.modifyAndVerify(MetadataManager.scala:1021)\n\tat com.databricks.backend.daemon.data.server.DefaultMetadataManager.insertMount(MetadataManager.scala:664)\n\tat com.databricks.backend.daemon.data.server.handler.MountHandler.receive(MountHandler.scala:128)\n\tat com.databricks.backend.daemon.data.server.session.SessionContext.$anonfun$queryHandlers$1(SessionContext.scala:54)\n\tat com.databricks.backend.daemon.data.server.session.SessionContext.$anonfun$queryHandlers$1$adapted(SessionContext.scala:53)\n\tat scala.collection.immutable.List.foreach(List.scala:431)\n\tat com.databricks.backend.daemon.data.server.session.SessionContext.queryHandlers(SessionContext.scala:53)\n\tat com.databricks.backend.daemon.data.server.DbfsServerBackend$$anonfun$receive$4.$anonfun$applyOrElse$9(DbfsServerBackend.scala:386)\n\tat com.databricks.logging.UsageLogging.$anonfun$withAttributionContext$1(UsageLogging.scala:426)\n\tat scala.util.DynamicVariable.withValue(DynamicVariable.scala:62)\n\tat com.databricks.logging.AttributionContext$.withValue(AttributionContext.scala:216)\n\tat com.databricks.logging.UsageLogging.withAttributionContext(UsageLogging.scala:424)\n\tat com.databricks.logging.UsageLogging.withAttributionContext$(UsageLogging.scala:418)\n\tat com.databricks.rpc.ServerBackend.withAttributionContext(ServerBackend.scala:22)\n\tat com.databricks.logging.UsageLogging.withAttributionTags(UsageLogging.scala:472)\n\tat com.databricks.logging.UsageLogging.withAttributionTags$(UsageLogging.scala:455)\n\tat com.databricks.rpc.ServerBackend.withAttributionTags(ServerBackend.scala:22)\n\tat com.databricks.backend.daemon.data.server.DbfsServerBackend$$anonfun$receive$4.applyOrElse(DbfsServerBackend.scala:386)\n\tat com.databricks.backend.daemon.data.server.DbfsServerBackend$$anonfun$receive$4.applyOrElse(DbfsServerBackend.scala:326)\n\tat com.databricks.rpc.ServerBackend.$anonfun$internalReceive0$2(ServerBackend.scala:174)\n\tat com.databricks.rpc.ServerBackend$$anonfun$commonReceive$1.applyOrElse(ServerBackend.scala:200)\n\tat com.databricks.rpc.ServerBackend$$anonfun$commonReceive$1.applyOrElse(ServerBackend.scala:200)\n\tat com.databricks.rpc.ServerBackend.internalReceive0(ServerBackend.scala:171)\n\tat com.databricks.rpc.ServerBackend.$anonfun$internalReceive$1(ServerBackend.scala:147)\n\tat com.databricks.logging.UsageLogging.$anonfun$recordOperation$1(UsageLogging.scala:573)\n\tat com.databricks.logging.UsageLogging.executeThunkAndCaptureResultTags$1(UsageLogging.scala:668)\n\tat com.databricks.logging.UsageLogging.$anonfun$recordOperationWithResultTags$4(UsageLogging.scala:686)\n\tat com.databricks.logging.UsageLogging.$anonfun$withAttributionContext$1(UsageLogging.scala:426)\n\tat scala.util.DynamicVariable.withValue(DynamicVariable.scala:62)\n\tat com.databricks.logging.AttributionContext$.withValue(AttributionContext.scala:216)\n\tat com.databricks.logging.UsageLogging.withAttributionContext(UsageLogging.scala:424)\n\tat com.databricks.logging.UsageLogging.withAttributionContext$(UsageLogging.scala:418)\n\tat com.databricks.rpc.ServerBackend.withAttributionContext(ServerBackend.scala:22)\n\tat com.databricks.logging.UsageLogging.withAttributionTags(UsageLogging.scala:472)\n\tat com.databricks.logging.UsageLogging.withAttributionTags$(UsageLogging.scala:455)\n\tat com.databricks.rpc.ServerBackend.withAttributionTags(ServerBackend.scala:22)\n\tat com.databricks.logging.UsageLogging.recordOperationWithResultTags(UsageLogging.scala:663)\n\tat com.databricks.logging.UsageLogging.recordOperationWithResultTags$(UsageLogging.scala:582)\n\tat com.databricks.rpc.ServerBackend.recordOperationWithResultTags(ServerBackend.scala:22)\n\tat com.databricks.logging.UsageLogging.recordOperation(UsageLogging.scala:573)\n\tat com.databricks.logging.UsageLogging.recordOperation$(UsageLogging.scala:542)\n\tat com.databricks.rpc.ServerBackend.recordOperation(ServerBackend.scala:22)\n\tat com.databricks.rpc.ServerBackend.internalReceive(ServerBackend.scala:147)\n\tat com.databricks.rpc.JettyServer$RequestManager.handleRPC(JettyServer.scala:1020)\n\tat com.databricks.rpc.JettyServer$RequestManager.handleRequestAndRespond(JettyServer.scala:941)\n\tat com.databricks.rpc.JettyServer$RequestManager.$anonfun$handleHttp$6(JettyServer.scala:545)\n\tat com.databricks.rpc.JettyServer$RequestManager.$anonfun$handleHttp$6$adapted(JettyServer.scala:514)\n\tat com.databricks.logging.activity.ActivityContextFactory$.$anonfun$withActivityInternal$4(ActivityContextFactory.scala:405)\n\tat com.databricks.logging.UsageLogging.$anonfun$withAttributionContext$1(UsageLogging.scala:426)\n\tat scala.util.DynamicVariable.withValue(DynamicVariable.scala:62)\n\tat com.databricks.logging.AttributionContext$.withValue(AttributionContext.scala:216)\n\tat com.databricks.logging.UsageLogging.withAttributionContext(UsageLogging.scala:424)\n\tat com.databricks.logging.UsageLogging.withAttributionContext$(UsageLogging.scala:418)\n\tat com.databricks.logging.activity.ActivityContextFactory$.withAttributionContext(ActivityContextFactory.scala:58)\n\tat com.databricks.logging.activity.ActivityContextFactory$.$anonfun$withActivityInternal$1(ActivityContextFactory.scala:405)\n\tat com.databricks.context.integrity.IntegrityCheckContext$ThreadLocalStorage$.withValue(IntegrityCheckContext.scala:44)\n\tat com.databricks.logging.activity.ActivityContextFactory$.withActivityInternal(ActivityContextFactory.scala:380)\n\tat com.databricks.logging.activity.ActivityContextFactory$.withServiceRequestActivity(ActivityContextFactory.scala:159)\n\tat com.databricks.rpc.JettyServer$RequestManager.handleHttp(JettyServer.scala:514)\n\tat com.databricks.rpc.JettyServer$RequestManager.doPost(JettyServer.scala:404)\n\tat javax.servlet.http.HttpServlet.service(HttpServlet.java:665)\n\tat com.databricks.rpc.HttpServletWithPatch.service(HttpServletWithPatch.scala:33)\n\tat javax.servlet.http.HttpServlet.service(HttpServlet.java:750)\n\tat org.eclipse.jetty.servlet.ServletHolder.handle(ServletHolder.java:799)\n\tat org.eclipse.jetty.servlet.ServletHandler.doHandle(ServletHandler.java:554)\n\tat org.eclipse.jetty.server.handler.ScopedHandler.nextScope(ScopedHandler.java:190)\n\tat org.eclipse.jetty.servlet.ServletHandler.doScope(ServletHandler.java:505)\n\tat org.eclipse.jetty.server.handler.ScopedHandler.handle(ScopedHandler.java:141)\n\tat org.eclipse.jetty.server.handler.HandlerWrapper.handle(HandlerWrapper.java:127)\n\tat org.eclipse.jetty.server.Server.handle(Server.java:516)\n\tat org.eclipse.jetty.server.HttpChannel.lambda$handle$1(HttpChannel.java:487)\n\tat org.eclipse.jetty.server.HttpChannel.dispatch(HttpChannel.java:732)\n\tat org.eclipse.jetty.server.HttpChannel.handle(HttpChannel.java:479)\n\tat org.eclipse.jetty.server.HttpConnection.onFillable(HttpConnection.java:277)\n\tat org.eclipse.jetty.io.AbstractConnection$ReadCallback.succeeded(AbstractConnection.java:311)\n\tat org.eclipse.jetty.io.FillInterest.fillable(FillInterest.java:105)\n\tat org.eclipse.jetty.io.ChannelEndPoint$1.run(ChannelEndPoint.java:104)\n\tat org.eclipse.jetty.util.thread.strategy.EatWhatYouKill.runTask(EatWhatYouKill.java:338)\n\tat org.eclipse.jetty.util.thread.strategy.EatWhatYouKill.doProduce(EatWhatYouKill.java:315)\n\tat org.eclipse.jetty.util.thread.strategy.EatWhatYouKill.tryProduce(EatWhatYouKill.java:173)\n\tat org.eclipse.jetty.util.thread.strategy.EatWhatYouKill.run(EatWhatYouKill.java:131)\n\tat org.eclipse.jetty.util.thread.ReservedThreadExecutor$ReservedThread.run(ReservedThreadExecutor.java:409)\n\tat com.databricks.rpc.InstrumentedQueuedThreadPool$$anon$1.$anonfun$run$4(InstrumentedQueuedThreadPool.scala:104)\n\tat scala.runtime.java8.JFunction0$mcV$sp.apply(JFunction0$mcV$sp.java:23)\n\tat com.databricks.logging.UsageLogging.$anonfun$withAttributionContext$1(UsageLogging.scala:426)\n\tat scala.util.DynamicVariable.withValue(DynamicVariable.scala:62)\n\tat com.databricks.logging.AttributionContext$.withValue(AttributionContext.scala:216)\n\tat com.databricks.logging.UsageLogging.withAttributionContext(UsageLogging.scala:424)\n\tat com.databricks.logging.UsageLogging.withAttributionContext$(UsageLogging.scala:418)\n\tat com.databricks.rpc.InstrumentedQueuedThreadPool.withAttributionContext(InstrumentedQueuedThreadPool.scala:47)\n\tat com.databricks.rpc.InstrumentedQueuedThreadPool$$anon$1.$anonfun$run$1(InstrumentedQueuedThreadPool.scala:104)\n\tat scala.runtime.java8.JFunction0$mcV$sp.apply(JFunction0$mcV$sp.java:23)\n\tat com.databricks.instrumentation.QueuedThreadPoolInstrumenter.trackActiveThreads(QueuedThreadPoolInstrumenter.scala:66)\n\tat com.databricks.instrumentation.QueuedThreadPoolInstrumenter.trackActiveThreads$(QueuedThreadPoolInstrumenter.scala:63)\n\tat com.databricks.rpc.InstrumentedQueuedThreadPool.trackActiveThreads(InstrumentedQueuedThreadPool.scala:47)\n\tat com.databricks.rpc.InstrumentedQueuedThreadPool$$anon$1.run(InstrumentedQueuedThreadPool.scala:86)\n\tat org.eclipse.jetty.util.thread.QueuedThreadPool.runJob(QueuedThreadPool.java:883)\n\tat org.eclipse.jetty.util.thread.QueuedThreadPool$Runner.run(QueuedThreadPool.java:1034)\n\tat java.lang.Thread.run(Thread.java:833)\n</div>",
       "errorSummary": "java.rmi.RemoteException: java.lang.IllegalArgumentException: requirement failed: Directory already mounted: /mnt/0ecf5ea19ac5_s3_mount; nested exception is: ",
       "errorTraceType": "html",
       "metadata": {},
       "type": "ipynbError"
      }
     },
     "output_type": "display_data"
    }
   ],
   "source": [
    "# AWS S3 bucket name\n",
    "AWS_S3_BUCKET = \"user-0ecf5ea19ac5-bucket\"\n",
    "# Mount name for the bucket\n",
    "MOUNT_NAME = \"/mnt/0ecf5ea19ac5_s3_mount\"\n",
    "# Source url\n",
    "SOURCE_URL = \"s3n://{0}:{1}@{2}\".format(ACCESS_KEY, ENCODED_SECRET_KEY, AWS_S3_BUCKET)\n",
    "# Mount the drive\n",
    "dbutils.fs.mount(SOURCE_URL, MOUNT_NAME)"
   ]
  },
  {
   "cell_type": "markdown",
   "metadata": {
    "application/vnd.databricks.v1+cell": {
     "cellMetadata": {
      "byteLimit": 2048000,
      "rowLimit": 10000
     },
     "inputWidgets": {},
     "nuid": "a28520c8-dffb-4326-b243-1cb0ffa92959",
     "showTitle": false,
     "title": ""
    }
   },
   "source": [
    "## Confirm that we can read data from the mounted S3 bucket"
   ]
  },
  {
   "cell_type": "code",
   "execution_count": 0,
   "metadata": {
    "application/vnd.databricks.v1+cell": {
     "cellMetadata": {
      "byteLimit": 2048000,
      "rowLimit": 10000
     },
     "collapsed": true,
     "inputWidgets": {},
     "nuid": "cf3fe109-d12c-465e-8117-38749933e615",
     "showTitle": false,
     "title": ""
    }
   },
   "outputs": [
    {
     "output_type": "display_data",
     "data": {
      "text/html": [
       "<style scoped>\n",
       "  .table-result-container {\n",
       "    max-height: 300px;\n",
       "    overflow: auto;\n",
       "  }\n",
       "  table, th, td {\n",
       "    border: 1px solid black;\n",
       "    border-collapse: collapse;\n",
       "  }\n",
       "  th, td {\n",
       "    padding: 5px;\n",
       "  }\n",
       "  th {\n",
       "    text-align: left;\n",
       "  }\n",
       "</style><div class='table-result-container'><table class='table-result'><thead style='background-color: white'><tr><th>path</th><th>name</th><th>size</th><th>modificationTime</th></tr></thead><tbody><tr><td>dbfs:/mnt/0ecf5ea19ac5_s3_mount/topics/0ecf5ea19ac5.geo/partition=0/0ecf5ea19ac5.geo+0+0000000000.json</td><td>0ecf5ea19ac5.geo+0+0000000000.json</td><td>112</td><td>1703700941000</td></tr><tr><td>dbfs:/mnt/0ecf5ea19ac5_s3_mount/topics/0ecf5ea19ac5.geo/partition=0/0ecf5ea19ac5.geo+0+0000000001.json</td><td>0ecf5ea19ac5.geo+0+0000000001.json</td><td>106</td><td>1703701097000</td></tr><tr><td>dbfs:/mnt/0ecf5ea19ac5_s3_mount/topics/0ecf5ea19ac5.geo/partition=0/0ecf5ea19ac5.geo+0+0000000002.json</td><td>0ecf5ea19ac5.geo+0+0000000002.json</td><td>108</td><td>1703701109000</td></tr><tr><td>dbfs:/mnt/0ecf5ea19ac5_s3_mount/topics/0ecf5ea19ac5.geo/partition=0/0ecf5ea19ac5.geo+0+0000000003.json</td><td>0ecf5ea19ac5.geo+0+0000000003.json</td><td>113</td><td>1703701243000</td></tr><tr><td>dbfs:/mnt/0ecf5ea19ac5_s3_mount/topics/0ecf5ea19ac5.geo/partition=0/0ecf5ea19ac5.geo+0+0000000004.json</td><td>0ecf5ea19ac5.geo+0+0000000004.json</td><td>126</td><td>1703701302000</td></tr><tr><td>dbfs:/mnt/0ecf5ea19ac5_s3_mount/topics/0ecf5ea19ac5.geo/partition=0/0ecf5ea19ac5.geo+0+0000000005.json</td><td>0ecf5ea19ac5.geo+0+0000000005.json</td><td>107</td><td>1703701389000</td></tr><tr><td>dbfs:/mnt/0ecf5ea19ac5_s3_mount/topics/0ecf5ea19ac5.geo/partition=0/0ecf5ea19ac5.geo+0+0000000006.json</td><td>0ecf5ea19ac5.geo+0+0000000006.json</td><td>112</td><td>1703692542000</td></tr><tr><td>dbfs:/mnt/0ecf5ea19ac5_s3_mount/topics/0ecf5ea19ac5.geo/partition=0/0ecf5ea19ac5.geo+0+0000000007.json</td><td>0ecf5ea19ac5.geo+0+0000000007.json</td><td>108</td><td>1703692542000</td></tr><tr><td>dbfs:/mnt/0ecf5ea19ac5_s3_mount/topics/0ecf5ea19ac5.geo/partition=0/0ecf5ea19ac5.geo+0+0000000008.json</td><td>0ecf5ea19ac5.geo+0+0000000008.json</td><td>104</td><td>1703697445000</td></tr><tr><td>dbfs:/mnt/0ecf5ea19ac5_s3_mount/topics/0ecf5ea19ac5.geo/partition=0/0ecf5ea19ac5.geo+0+0000000009.json</td><td>0ecf5ea19ac5.geo+0+0000000009.json</td><td>108</td><td>1703697445000</td></tr><tr><td>dbfs:/mnt/0ecf5ea19ac5_s3_mount/topics/0ecf5ea19ac5.geo/partition=0/0ecf5ea19ac5.geo+0+0000000010.json</td><td>0ecf5ea19ac5.geo+0+0000000010.json</td><td>106</td><td>1703697445000</td></tr><tr><td>dbfs:/mnt/0ecf5ea19ac5_s3_mount/topics/0ecf5ea19ac5.geo/partition=0/0ecf5ea19ac5.geo+0+0000000011.json</td><td>0ecf5ea19ac5.geo+0+0000000011.json</td><td>108</td><td>1703697445000</td></tr><tr><td>dbfs:/mnt/0ecf5ea19ac5_s3_mount/topics/0ecf5ea19ac5.geo/partition=0/0ecf5ea19ac5.geo+0+0000000012.json</td><td>0ecf5ea19ac5.geo+0+0000000012.json</td><td>104</td><td>1703697446000</td></tr><tr><td>dbfs:/mnt/0ecf5ea19ac5_s3_mount/topics/0ecf5ea19ac5.geo/partition=0/0ecf5ea19ac5.geo+0+0000000013.json</td><td>0ecf5ea19ac5.geo+0+0000000013.json</td><td>107</td><td>1703697446000</td></tr><tr><td>dbfs:/mnt/0ecf5ea19ac5_s3_mount/topics/0ecf5ea19ac5.geo/partition=0/0ecf5ea19ac5.geo+0+0000000014.json</td><td>0ecf5ea19ac5.geo+0+0000000014.json</td><td>108</td><td>1703697748000</td></tr></tbody></table></div>"
      ]
     },
     "metadata": {
      "application/vnd.databricks.v1+output": {
       "addedWidgets": {},
       "aggData": [],
       "aggError": "",
       "aggOverflow": false,
       "aggSchema": [],
       "aggSeriesLimitReached": false,
       "aggType": "",
       "arguments": {},
       "columnCustomDisplayInfos": {},
       "data": [
        [
         "dbfs:/mnt/0ecf5ea19ac5_s3_mount/topics/0ecf5ea19ac5.geo/partition=0/0ecf5ea19ac5.geo+0+0000000000.json",
         "0ecf5ea19ac5.geo+0+0000000000.json",
         112,
         1703700941000
        ],
        [
         "dbfs:/mnt/0ecf5ea19ac5_s3_mount/topics/0ecf5ea19ac5.geo/partition=0/0ecf5ea19ac5.geo+0+0000000001.json",
         "0ecf5ea19ac5.geo+0+0000000001.json",
         106,
         1703701097000
        ],
        [
         "dbfs:/mnt/0ecf5ea19ac5_s3_mount/topics/0ecf5ea19ac5.geo/partition=0/0ecf5ea19ac5.geo+0+0000000002.json",
         "0ecf5ea19ac5.geo+0+0000000002.json",
         108,
         1703701109000
        ],
        [
         "dbfs:/mnt/0ecf5ea19ac5_s3_mount/topics/0ecf5ea19ac5.geo/partition=0/0ecf5ea19ac5.geo+0+0000000003.json",
         "0ecf5ea19ac5.geo+0+0000000003.json",
         113,
         1703701243000
        ],
        [
         "dbfs:/mnt/0ecf5ea19ac5_s3_mount/topics/0ecf5ea19ac5.geo/partition=0/0ecf5ea19ac5.geo+0+0000000004.json",
         "0ecf5ea19ac5.geo+0+0000000004.json",
         126,
         1703701302000
        ],
        [
         "dbfs:/mnt/0ecf5ea19ac5_s3_mount/topics/0ecf5ea19ac5.geo/partition=0/0ecf5ea19ac5.geo+0+0000000005.json",
         "0ecf5ea19ac5.geo+0+0000000005.json",
         107,
         1703701389000
        ],
        [
         "dbfs:/mnt/0ecf5ea19ac5_s3_mount/topics/0ecf5ea19ac5.geo/partition=0/0ecf5ea19ac5.geo+0+0000000006.json",
         "0ecf5ea19ac5.geo+0+0000000006.json",
         112,
         1703692542000
        ],
        [
         "dbfs:/mnt/0ecf5ea19ac5_s3_mount/topics/0ecf5ea19ac5.geo/partition=0/0ecf5ea19ac5.geo+0+0000000007.json",
         "0ecf5ea19ac5.geo+0+0000000007.json",
         108,
         1703692542000
        ],
        [
         "dbfs:/mnt/0ecf5ea19ac5_s3_mount/topics/0ecf5ea19ac5.geo/partition=0/0ecf5ea19ac5.geo+0+0000000008.json",
         "0ecf5ea19ac5.geo+0+0000000008.json",
         104,
         1703697445000
        ],
        [
         "dbfs:/mnt/0ecf5ea19ac5_s3_mount/topics/0ecf5ea19ac5.geo/partition=0/0ecf5ea19ac5.geo+0+0000000009.json",
         "0ecf5ea19ac5.geo+0+0000000009.json",
         108,
         1703697445000
        ],
        [
         "dbfs:/mnt/0ecf5ea19ac5_s3_mount/topics/0ecf5ea19ac5.geo/partition=0/0ecf5ea19ac5.geo+0+0000000010.json",
         "0ecf5ea19ac5.geo+0+0000000010.json",
         106,
         1703697445000
        ],
        [
         "dbfs:/mnt/0ecf5ea19ac5_s3_mount/topics/0ecf5ea19ac5.geo/partition=0/0ecf5ea19ac5.geo+0+0000000011.json",
         "0ecf5ea19ac5.geo+0+0000000011.json",
         108,
         1703697445000
        ],
        [
         "dbfs:/mnt/0ecf5ea19ac5_s3_mount/topics/0ecf5ea19ac5.geo/partition=0/0ecf5ea19ac5.geo+0+0000000012.json",
         "0ecf5ea19ac5.geo+0+0000000012.json",
         104,
         1703697446000
        ],
        [
         "dbfs:/mnt/0ecf5ea19ac5_s3_mount/topics/0ecf5ea19ac5.geo/partition=0/0ecf5ea19ac5.geo+0+0000000013.json",
         "0ecf5ea19ac5.geo+0+0000000013.json",
         107,
         1703697446000
        ],
        [
         "dbfs:/mnt/0ecf5ea19ac5_s3_mount/topics/0ecf5ea19ac5.geo/partition=0/0ecf5ea19ac5.geo+0+0000000014.json",
         "0ecf5ea19ac5.geo+0+0000000014.json",
         108,
         1703697748000
        ]
       ],
       "datasetInfos": [],
       "dbfsResultPath": null,
       "isJsonSchema": true,
       "metadata": {},
       "overflow": false,
       "plotOptions": {
        "customPlotOptions": {},
        "displayType": "table",
        "pivotAggregation": null,
        "pivotColumns": null,
        "xColumns": null,
        "yColumns": null
       },
       "removedWidgets": [],
       "schema": [
        {
         "metadata": "{}",
         "name": "path",
         "type": "\"string\""
        },
        {
         "metadata": "{}",
         "name": "name",
         "type": "\"string\""
        },
        {
         "metadata": "{}",
         "name": "size",
         "type": "\"long\""
        },
        {
         "metadata": "{}",
         "name": "modificationTime",
         "type": "\"long\""
        }
       ],
       "type": "table"
      }
     },
     "output_type": "display_data"
    }
   ],
   "source": [
    "display(dbutils.fs.ls(\"/mnt/0ecf5ea19ac5_s3_mount/topics/0ecf5ea19ac5.geo/partition=0/\"))"
   ]
  },
  {
   "cell_type": "markdown",
   "metadata": {
    "application/vnd.databricks.v1+cell": {
     "cellMetadata": {
      "byteLimit": 2048000,
      "rowLimit": 10000
     },
     "inputWidgets": {},
     "nuid": "bce10d51-62ac-4404-adb2-05ae901ef001",
     "showTitle": false,
     "title": ""
    }
   },
   "source": [
    "##  Create the following three dataframes: \n",
    "## df_pin, df_geo and df_user from S3 data\n",
    "\n",
    "Re-run from this point after loading fresh data\n"
   ]
  },
  {
   "cell_type": "code",
   "execution_count": 0,
   "metadata": {
    "application/vnd.databricks.v1+cell": {
     "cellMetadata": {
      "byteLimit": 2048000,
      "rowLimit": 10000
     },
     "inputWidgets": {},
     "nuid": "b8ee046b-38d5-4f2b-bbde-1874bf62fb1a",
     "showTitle": false,
     "title": ""
    }
   },
   "outputs": [
    {
     "output_type": "display_data",
     "data": {
      "text/html": [
       "<style scoped>\n",
       "  .table-result-container {\n",
       "    max-height: 300px;\n",
       "    overflow: auto;\n",
       "  }\n",
       "  table, th, td {\n",
       "    border: 1px solid black;\n",
       "    border-collapse: collapse;\n",
       "  }\n",
       "  th, td {\n",
       "    padding: 5px;\n",
       "  }\n",
       "  th {\n",
       "    text-align: left;\n",
       "  }\n",
       "</style><div class='table-result-container'><table class='table-result'><thead style='background-color: white'><tr><th>category</th><th>description</th><th>downloaded</th><th>follower_count</th><th>image_src</th><th>index</th><th>is_image_or_video</th><th>poster_name</th><th>save_location</th><th>tag_list</th><th>title</th><th>unique_id</th></tr></thead><tbody><tr><td>quotes</td><td>Here are 15 inspirational quotes to start your day feeling motivated and positive. Inspiring words are a great tool to combat anxiety and fear. They can offer hope and spark you… </td><td>1</td><td>19k</td><td>https://i.pinimg.com/originals/db/ce/e4/dbcee4c357b42cb18fcefa044aacd55a.jpg</td><td>8161</td><td>image</td><td>Dream Dash Journal</td><td>Local save in /data/quotes</td><td>Good Vibes Quotes Positivity,Positive Quotes For Life Encouragement,Positive Morning Quotes,Funny Positive Quotes,Positive Uplifting Quotes,Feeling Positive Quotes,Motivational Quotes For Success Positivity,Positive Quotes About Love,Morning Qoutes</td><td>15 Inspirational quotes to start your day off feeling motivated and positive. Inspiring words can he</td><td>da45e81e-3768-4e7c-862f-a1aae4289cf4</td></tr><tr><td>event-planning</td><td>Brand Name: HeronsbillOrigin: CN(Origin)is_customized: NoPattern: stripedModel Number: LED-D04Material: CopperOccasion: Wedding & EngagementOccasion: Christening & BaptismOccasi… </td><td>1</td><td>649</td><td>https://i.pinimg.com/originals/47/47/de/4747de8c2310834f982702dda0263ec6.jpg</td><td>4678</td><td>image</td><td>Qfdian</td><td>Local save in /data/event-planning</td><td>Party Girlande,Led Curtain Lights,Icicle Lights,Window Lights,Backdrop Lights,Twinkle Lights,Backdrop Photobooth,Wall Lights,Wall Fairy Lights</td><td>qfdian 3m 100/200/300 LED Curtain String Light Garland Wedding Party Decorations Table Bachelorette Birthday Christmas New Year Festoon - Colorful With Hook / 3MX2M 200LED</td><td>b512bba6-5ce9-4414-ab31-156a3bff6320</td></tr><tr><td>quotes</td><td>Motivational quotes. Motivational quotes for success. Motivational quotes for women. Affirmations for self-love. Affirmations for positivity. Positive mindset. Law of attraction… </td><td>1</td><td>45k</td><td>https://i.pinimg.com/originals/53/86/6d/53866d35a32393ba29c75582a428bc09.jpg</td><td>8468</td><td>image</td><td>Boss Babe Chronicles | Personal Development, Finances, Self Care</td><td>Local save in /data/quotes</td><td>Positive Self Affirmations,Positive Affirmations Quotes,Affirmation Quotes,Positive Mindset,Postive Quotes,Positive Uplifting Quotes,Affirmations Success,Law Of Attraction Affirmations,Law Of Attraction Quotes</td><td>50 Positive Affirmations That Will Change Your Life</td><td>bb3ea8aa-c9c0-4164-b050-aa7811c051a0</td></tr><tr><td>quotes</td><td>It's possible to reprogram your thoughts and fill your life with more success and happiness. No matter what your current beliefs are, you can change them for the better.</td><td>1</td><td>17k</td><td>https://i.pinimg.com/originals/b1/4a/fa/b14afaae339fca00365b8ba8dea67c57.jpg</td><td>8359</td><td>image</td><td>Lovely Refinement Health & Wellness</td><td>Local save in /data/quotes</td><td>Positive Quotes For Life Encouragement,Good Life Quotes,Self Love Quotes,Inspiring Quotes About Life,Quotes To Live By,Quotes Positive,Happy Quotes About Life,Cute Quotes About Happiness,Quotes About Mindset</td><td>5 Ways To Reprogram Your Thoughts For More Happiness - Lovely Refinement</td><td>1856773e-ee8a-4ab8-8325-2a5bd306d825</td></tr><tr><td>christmas</td><td>This artificial pre-lit skinny Christmas tree is designed with plenty branches and one branch tip at the top in a small slim pencil tree shape for you to save space! You can DIY… </td><td>1</td><td>5k</td><td>https://i.pinimg.com/originals/d9/ab/c0/d9abc01ad3ffde9365869e472c33c375.jpg</td><td>2227</td><td>image</td><td>Wear24-7</td><td>Local save in /data/christmas</td><td>Cashmere Christmas Tree,Skinny Christmas Tree,Pencil Christmas Tree,Christmas Tree With Snow,Flocked Christmas Trees,Christmas Greenery,Christmas Fireplace,Christmas Store,Holiday Ornaments</td><td>VEIKOUS 6ft/7.5ft Slim Pencil Christmas Tree Pre-lit with Adjustable Lights and Stand - 7.5 Foot</td><td>c2358cc5-7458-4350-a413-7689c2360b3a</td></tr><tr><td>diy-and-crafts</td><td>HALLOWEEN CRAFTS FOR KIDS: Spider handprint craft - this is too cute! A perfect Halloween craft for preschoolers, kindergarten or toddlers. #halloween #halloweencrafts #kidscraf… </td><td>1</td><td>903k</td><td>https://i.pinimg.com/videos/thumbnails/originals/78/27/21/782721435dc388129a66ef4dba432b06.0000001.jpg</td><td>3421</td><td>video</td><td>The Best Ideas for Kids</td><td>Local save in /data/diy-and-crafts</td><td>Halloween Arts And Crafts,Halloween Crafts For Toddlers,Halloween Tags,Halloween Crafts For Kids,Toddler Crafts,Kids Crafts,Diy For Kids,Halloween Preschool Activities,Decor Crafts</td><td>Spider Handprint Craft - The Best Ideas for Kids</td><td>49dec45b-e807-4f2c-b442-a92ff4ef0d6c</td></tr><tr><td>event-planning</td><td>Being an event planner could easily be described as one of the most stressful yet entertaining jobs in the universe. With all of the food, guests, promoting, tracking, analyzing… </td><td>1</td><td>4k</td><td>https://i.pinimg.com/originals/47/78/6b/47786be4dc12f7401504b68caa56247b.jpg</td><td>4494</td><td>image</td><td>EventPlanning.com | Learn How To Become An Event Planner</td><td>Local save in /data/event-planning</td><td>Event Planning Tips,Event Planning Business,Event Ideas,Theme Ideas,Party Planning,Wedding Event Planner,Wedding Events,Tent Wedding,Weddings</td><td>10 Tech Tools that Help Event Planners Do Their Job - Learn About Event Planning</td><td>32c8ac38-4283-4275-8fd7-8ddc9c04e13b</td></tr><tr><td>quotes</td><td>The honeymoon phase is the most romantic stage of a relationship, and it's no wonder it's the one we miss the most it when gone and passed. Look to these romantic love quotes to… </td><td>1</td><td>942k</td><td>https://i.pinimg.com/originals/83/2b/d5/832bd5e2517d84e843e1c183a6c1b860.jpg</td><td>7679</td><td>image</td><td>YourTango</td><td>Local save in /data/quotes</td><td>Love Quotes For Him Cute,Love Quotes For Him Boyfriend,Quotes About Moving On From Love,Falling In Love Quotes,Love Quotes Funny,Inspirational Quotes About Love,Romantic Love Quotes,New Quotes,Words Quotes</td><td>20 Romantic Love Quotes That Will Make You Fall In Love All Over Again</td><td>5f557e9c-ec27-4976-af4c-534190dc0941</td></tr><tr><td>education</td><td>March is the perfect time to pull out ALL your rainbow and weather activities! Turn your classroom into a seasonal storm with our Made For Me Literacy Weather Unit! This unit is… </td><td>1</td><td>21k</td><td>https://i.pinimg.com/originals/53/f0/f8/53f0f80e2048085e7e5a866cfd558ecd.png</td><td>4159</td><td>image</td><td>Teaching Special Thinkers</td><td>Local save in /data/education</td><td>Special Education Classroom,Classroom Community,Special Education Activities,Teaching Math,Preschool Kindergarten,Preschool Education,Science Classroom,Classroom Ideas,Lesson Plan For Kindergarten</td><td>Weather Activities For Kids - Teaching Special Thinkers</td><td>0c482cf8-b912-4886-83c6-fe57bf9eac00</td></tr><tr><td>art</td><td>Mit der Puste-Technik kann man einfach wunderschöne Kunstwerke gestalten! Lade dir einfach das Mädchen mit Schirm (auch verfügbar als Junge mit Schirm) herunter und los geht der… </td><td>1</td><td>71k</td><td>https://i.pinimg.com/videos/thumbnails/originals/76/53/0b/76530b1d736cea566c9a68dd8d96d3f7.0000001.jpg</td><td>674</td><td>video</td><td>Faminino | Basteln mit Kinder, Ratgeber und easy DIY-Ideen </td><td>Local save in /data/art</td><td>Crayon Art,Melted Crayon Crafts,Art Drawings Sketches Simple,Colorful Drawings,Diy Canvas Art,Art Club,Art Plastique,Art Activities,Diy Art</td><td>Regenbogen-Regen - Tanzendes Mädchen (inkl. Download)</td><td>db168555-2951-4295-8961-317efe30e0bb</td></tr><tr><td>finance</td><td>Credit Sesame offers free access to a version of your credit score + $50,000 in free identity theft insurance, but there are a few downsides to the service.</td><td>1</td><td>46k</td><td>https://i.pinimg.com/originals/e2/6d/7a/e26d7a597f2f83a21803ead5c401613e.png</td><td>5303</td><td>image</td><td>R.J. Weiss at The Ways To Wealth | Personal Finance | Debt Payoff</td><td>Local save in /data/finance</td><td>What Is Credit Score,Fix Your Credit,Build Credit,Improve Your Credit Score,Rebuilding Credit,Credit Repair Companies,Ideas Prácticas,Paying Off Credit Cards,Planning Budget</td><td>Credit Sesame Review: The Pros, Cons and Best Features</td><td>573cd520-b16e-41f0-a59a-e0d8d04d2ee2</td></tr><tr><td>christmas</td><td>Christmas Tree Topper Gnome - Hand Made Gnome Christmas Decoration, Funny Christmas Tree Topper, Also be Used as Curtain Tie, Unique Christmas Gnome Decoration UNIQUE TREE TOPPE… </td><td>1</td><td>71</td><td>https://i.pinimg.com/originals/21/7d/23/217d238c022c28ffa56a38972affa02c.jpg</td><td>2505</td><td>image</td><td>Everythingforhalloween</td><td>Local save in /data/christmas</td><td>Christmas Gnome,Christmas Humor,Unique Christmas Trees,Christmas Wreaths,Christmas Crafts,Xmas Ornaments,Christmas Tree Decorations,Christmas Sewing,Outdoor Christmas</td><td>Christmas Tree Topper Gnome Hand Made Gnome Christmas Decoration - GREY HAT</td><td>9d45e6c7-a4df-460c-8b00-4048ef9f93c6</td></tr><tr><td>finance</td><td>Budget like a boss with this all in one resource for personal finance to track your bills, expenses, debt, money goals, savings, and much more! In order to create financial awar… </td><td>1</td><td>8k</td><td>https://i.pinimg.com/originals/6e/ae/43/6eae43de87b268102f76268eedd719dd.png</td><td>5668</td><td>image</td><td>Iconic Style Inc | Fashion & Success</td><td>Local save in /data/finance</td><td>Financial Goals,Financial Planning,Investing For Retirement,Savings Challenge,Budgeting Worksheets,Finance Organization,Create A Budget,Budgeting Finances,Finance Tips</td><td>The Ultimate Personal Finance Planner  – Iconic Style Inc.</td><td>a93ab7df-4f91-497b-9d21-d2a253574928</td></tr><tr><td>education</td><td>If you feel like your progress monitoring for your special education IEP goals is scattered and disorganized, this blog post is for you! In this post, I share how to organize yo… </td><td>1</td><td>12k</td><td>https://i.pinimg.com/originals/10/6a/3e/106a3e3e4ee0c098c760ac33ac154e43.png</td><td>3918</td><td>image</td><td>The Primary Gal</td><td>Local save in /data/education</td><td>Special Education Organization,Special Education Activities,Special Education Classroom,Classroom Activities,Special Education Progress Monitoring,Primary Education,Resource Room Teacher,Learning Support,Organize</td><td>Organizing Progress Monitoring</td><td>39a09761-4a18-416f-b81c-cb186dcbc468</td></tr><tr><td>christmas</td><td>11 Farmhouse Christmas Stocking Ideas |Christmas stockings|ticking stripe stocking|farmhouse decor|christmas stocking ideas|farmhouse christmas|white christmas|shabby chic|chris… </td><td>1</td><td>91k</td><td>https://i.pinimg.com/originals/e5/8e/1e/e58e1e773fed9ea04e4cba7013e2d81a.jpg</td><td>1644</td><td>image</td><td>Hallstrom Home</td><td>Local save in /data/christmas</td><td>Christmas Fireplace,Christmas Mantels,Christmas Home,Christmas Tree Crafts,Fireplace Mantel Christmas Decorations,Homemade Christmas,Christmas Holidays,Christmas Ideas,Merry Christmas</td><td>11 Farmhouse Christmas Stocking Ideas – Hallstrom Home</td><td>28af63b4-eed9-4a41-b0c0-4d1f8fba491d</td></tr><tr><td>christmas</td><td>How to make paper Christmas decorations - Budget DIY tutorial on make Christmas tree baubles and tree decorations from card. Craft project inspiration</td><td>1</td><td>312</td><td>https://i.pinimg.com/originals/bd/f5/83/bdf5837852efc91234919e4507be1f3f.jpg</td><td>2377</td><td>image</td><td>Rachel Hedges</td><td>Local save in /data/christmas</td><td>Paper Christmas Decorations,Christmas Tree Paper Craft,Christmas Room,Christmas Ornament Crafts,Xmas Crafts,Diy Christmas Gifts,Christmas Tree Decorations To Make,Personalised Christmas Decorations,How To Make Christmas Tree</td><td>DIY Paper decorations {12 Crafts of Christmas}</td><td>33bae33d-dfb5-4463-8eec-44840a9a5991</td></tr><tr><td>home-decor</td><td>In This House The latest in home decorating. Beautiful wall vinyl decals, that are simple to apply, are a great accent piece for any room, come in an array of colors, and are a… </td><td>1</td><td>7k</td><td>https://i.pinimg.com/originals/a4/57/56/a457562af7802a3ca441e6b24fe116cd.jpg</td><td>6266</td><td>image</td><td>Boop Decals</td><td>Local save in /data/home-decor</td><td>Inexpensive Home Decor,Easy Home Decor,Cheap Home Decor,Painted Staircases,Painted Stairs,Staircase Painting,Escalier Design,Foyer Decorating,Budget Decorating</td><td>In This House Stairs Version 3 Decor Decal Sticker Wall Vinyl Art - saphire blue</td><td>9862005f-97e2-4c97-ada6-05d732844415</td></tr><tr><td>travel</td><td>Sigöldugljúfur waterfall near Landmannalaugar in Iceland. Click for the full list of the most beautiful waterfalls in Iceland. #Iceland #europe #photography #travel #travelguide… </td><td>1</td><td>25k</td><td>https://i.pinimg.com/originals/1d/78/37/1d78374e72c9eb4a9d27039861bbd355.jpg</td><td>9977</td><td>image</td><td>Norman - Luxury travel</td><td>Local save in /data/travel</td><td>Travel Photography Inspiration,Travel Inspiration,Beautiful Waterfalls,Beautiful Landscapes,Beautiful Scenery,Beautiful Things,Beautiful Pictures,Dream Pictures,Beautiful Beautiful</td><td>15 jaw-droppingly beautiful waterfalls in Iceland</td><td>3719f505-20cc-485b-8b01-ea2aee6f6e62</td></tr><tr><td>tattoos</td><td>Grim ReaperThe latest in home decorating. Beautiful wall vinyl decals, that are simple to apply, are a great accent piece for any room, come in an array of colors, and are a che… </td><td>1</td><td>7k</td><td>https://i.pinimg.com/originals/bb/99/0b/bb990b140f181542b9a9d4ff2b4efb4b.jpg</td><td>8795</td><td>image</td><td>Boop Decals</td><td>Local save in /data/tattoos</td><td>Wall Decal Sticker,Vinyl Wall Decals,Wall Stickers,Vinyl Art,Reaper Drawing,Tattoo Tradicional,Grim Reaper Tattoo,Simple Skull,Wood Burning Patterns</td><td>Traditional Grim Reaper Tattoo Decal Sticker Wall Vinyl Art Home Decor Skull Flowers - white</td><td>36d73381-9e73-423a-a0c4-aee0658331bc</td></tr><tr><td>education</td><td>Engaging sentence building activity to teach your students about sentences and their parts. The perfect addition to your literacy centers in kindergarten and first-grade!</td><td>1</td><td>37k</td><td>https://i.pinimg.com/originals/e6/4c/db/e64cdb723d74f92ea280872849c1c0c2.jpg</td><td>3695</td><td>image</td><td>Deanna Jump | Kindergarten and First Grade Teaching Resources</td><td>Local save in /data/education</td><td>Centers First Grade,First Grade Activities,Teaching First Grade,Reading Stations,Writing Station,Reading Centers,Work Stations,1st Grade Writing,First Grade Reading</td><td>Sentence Building Center Activity</td><td>274d6096-7592-4d9d-b800-6cc239c0d33a</td></tr><tr><td>vehicles</td><td>It’s really difficult to imagine what definite post-apocalyptic scenario the ARMORTRUCK concept was designed for because truth be told, it looks like the kind of...</td><td>1</td><td>416k</td><td>https://i.pinimg.com/originals/0e/93/69/0e9369655753d22181900e013a12973a.jpg</td><td>10775</td><td>image</td><td>Yanko Design - Form Beyond Function</td><td>Local save in /data/vehicles</td><td>Cool Sports Cars,Sport Cars,Cool Cars,Future Concept Cars,Future Car,Army Vehicles,Armored Vehicles,Audi Ai,Armored Truck</td><td>This armored vehicle is for people who think the Tesla Cybertruck isn’t intense enough - Yanko Design</td><td>2fcb1acc-3aef-40af-be09-cd979be0a0f1</td></tr><tr><td>event-planning</td><td>A party doesn't have to cost an arm and a leg to be amazing. Fun and cheap DIY party decorations are all things that you can make yourself! Give it a try!</td><td>1</td><td>42k</td><td>https://i.pinimg.com/originals/2e/9e/7e/2e9e7eb160b70fccb554a25af077bf5e.jpg</td><td>4459</td><td>image</td><td>Caroline|CarolineVencil.com | Saving & Making Money | Pro Blogger</td><td>Local save in /data/event-planning</td><td>Trendy Wedding,Dream Wedding,Elegant Wedding,Perfect Wedding,Spring Wedding,Rustic Wedding,Romantic Weddings,Vintage Weddings,Wedding House</td><td>Fun and Cheap DIY Party Decorations For All Celebrations</td><td>c57ab99a-a118-435f-9748-c2b1d6dc19dc</td></tr><tr><td>event-planning</td><td>Customizar estes vidros vai depender da necessidade de cada um, o bom mesmo é que aproveitamos tudo, desde correntes que não usamos mais, brincos, fitas, flores, cordões, fios d… </td><td>1</td><td>546</td><td>https://i.pinimg.com/originals/7d/5e/8e/7d5e8e22bf5acf11b3343882bf485710.jpg</td><td>4965</td><td>image</td><td>Penha Lucia</td><td>Local save in /data/event-planning</td><td>Wedding Table,Diy Wedding,Wedding Reception,Rustic Wedding,Wedding Day,Wedding Flowers,Wedding Bells,Party Planning,Wedding Planning</td><td>Potes de vidro de conserva, na decoração, organização, vasos, faça você mesmo!</td><td>1255901f-78fc-4cc7-a471-5ac19210c17b</td></tr><tr><td>art</td><td>Californian artist Isabel Emrich paints dazzling depictions of women submerged in water. Each colorful oil painting captures moments of tranquility below the water’s surface, as… </td><td>1</td><td>2M</td><td>https://i.pinimg.com/originals/41/6c/9a/416c9a9ba8841dd369aadd00d10d729d.jpg</td><td>8</td><td>image</td><td>Bored Panda</td><td>Local save in /data/art</td><td>Art Sketches,Art Drawings,L'art Du Portrait,Self Portrait Artists,Portrait Ideas,Art Du Croquis,Underwater Painting,Breathing Underwater,Reflection Art</td><td>Californian Artist Isabel Emrich Paints Dazzling Depictions Of Women Submerged Underwater</td><td>8e75ccf1-915a-49df-a16b-2c5b9190b568</td></tr><tr><td>education</td><td>30 Great Motivational and Inspirational Quotes for Teachers #inspirationalquotes #teacherquotes #teaching #wisdom #teachers</td><td>1</td><td>42k</td><td>https://i.pinimg.com/originals/0b/25/f9/0b25f9ce3793ffbae57a70ad7e7061b3.jpg</td><td>4215</td><td>image</td><td>A Teachable Teacher</td><td>Local save in /data/education</td><td>Special Education Quotes,Education Quotes For Teachers,Educational Quotes For Students,Quotes For The Classroom,Free Education,Teacher Education,Famous Quotes About Education,Sayings For Teachers,Being A Teacher Quotes</td><td>10 Not-So-Obvious Quotes for Teachers - A Teachable Teacher</td><td>610a0d8c-ec25-415f-924b-449d0d9e17c5</td></tr><tr><td>diy-and-crafts</td><td>Looking for some cute winter crafts for kids? Children's wintertime craft ideas are some of the most adorable, with everything from snowflakes to snowmen, icy icicles and igloos… </td><td>1</td><td>985k</td><td>https://i.pinimg.com/originals/61/68/b6/6168b6a5c804bfaea1f30ff8e3d23b6d.jpg</td><td>2644</td><td>image</td><td>DIY Joy - Crafts, Home Improvement, Decor & Recipes</td><td>Local save in /data/diy-and-crafts</td><td>Kids Crafts,Winter Crafts For Toddlers,Daycare Crafts,Winter Kids,Cute Crafts,Projects For Kids,Art Projects,Winter Preschool Crafts,Preschool Age</td><td>35 Winter Crafts for Kids</td><td>d0a27977-f766-47f9-8648-134a73453ba6</td></tr><tr><td>quotes</td><td>I'm slowly learning that even if I react, it won't change anything, it won't make people suddenly love and respect me, it won't magically change their minds. Sometimes it's bett… </td><td>1</td><td>236k</td><td>https://i.pinimg.com/originals/58/38/bb/5838bb6e21c3c6e85b3537bb16ace86c.jpg</td><td>7942</td><td>image</td><td>The Mindset Journey</td><td>Local save in /data/quotes</td><td>Quotable Quotes,Wisdom Quotes,True Quotes,Great Quotes,Words Quotes,Quotes To Live By,Motivational Quotes,Inspirational Quotes,Quotes On Inner Peace</td><td>I'm Slowly Learning That Even If I React, It Won't Change Anything</td><td>9938ca78-8642-44e8-877b-86727367134e</td></tr><tr><td>travel</td><td>Iceland is a total dream country to visit, especially if you're keen on the kind of trip that's a little different from a beach or tropical holiday. Luxury Travel | Ultimate Des… </td><td>1</td><td>459k</td><td>https://i.pinimg.com/originals/88/2e/fd/882efd22de67b7b644309649dadd75ef.jpg</td><td>9986</td><td>image</td><td>Hand Luggage Only</td><td>Local save in /data/travel</td><td>Beautiful Places To Travel,Best Places To Travel,Cool Places To Visit,Best Vacations,Vacation Trips,Vacation Spots,Vacation Places,European Vacation,European Travel</td><td>Your Epic 1-Week Travel Itinerary To Visit Iceland</td><td>ba0857f3-f2d8-4e52-8504-3bb9bdabaa04</td></tr><tr><td>finance</td><td>This print ready digital resource journal and planner is a guide to assist budding entrepreneurs in turning that dream into a business. It walks one through the steps from idea… </td><td>1</td><td>11</td><td>https://i.pinimg.com/originals/fa/99/a5/fa99a5660983fc84ed71e18f727db3ae.png</td><td>5211</td><td>image</td><td>JasanaTees</td><td>Local save in /data/finance</td><td>Business Planner,Business Advice,Start Up Business,Business Entrepreneur,Business Quotes,Bakery Business,Business Branding,Entrepreneur Inspiration,Business Inspiration</td><td>Vision to Fruition Business Resource Journal & Planner</td><td>6c06e71e-5158-4d99-b0c2-fe606ebe5a9c</td></tr><tr><td>mens-fashion</td><td>Product Name: Leisure Motion Standing Collar Warm Cotton Jacket Item NO.: 4356748476465 Weight: 0.8 kg = 1.7637 lb = 28.2192 oz Category: Men's Outerwear > Men's Jackets Tag: 20… </td><td>1</td><td>31k</td><td>https://i.pinimg.com/originals/80/78/65/807865c3b7f390a6be457a79bf7b5d2c.jpg</td><td>7216</td><td>image</td><td>joymanmall</td><td>Local save in /data/mens-fashion</td><td>Winter Outfits Men,Stylish Mens Outfits,Casual Outfits,Urban Style Outfits Men,Men Winter Fashion,Outfits For Men,Smart Casual Outfit,Mens Winter,Simple Outfits</td><td>Leisure Motion Standing Collar Warm Cotton Jacket</td><td>bed8c98e-c3af-458f-91bb-49d9e0ac0bfa</td></tr><tr><td>tattoos</td><td>On rêve d'un joli tatouage... mais lorsque l'on pense aux petites aiguilles qui vont venir dessiner le motif choisi : on se dit que ce n'est pas pour nous ! Mais plutôt que de c… </td><td>1</td><td>494k</td><td>https://i.pinimg.com/originals/bd/36/bb/bd36bbb67fb1901d9589604d8b7aa29d.jpg</td><td>8943</td><td>image</td><td>aufeminin</td><td>Local save in /data/tattoos</td><td>Word Tattoos On Hand,Small Hand Tattoos,Hand Tattoos For Women,Meaningful Tattoos For Women,Dainty Tattoos,Little Tattoos,Mini Tattoos,Tattoo With Words,Tattoo Hand</td><td>30 tatouages minimalistes pour enfin sauter le pas</td><td>11216553-04ce-4909-aa72-a1993331eab2</td></tr><tr><td>christmas</td><td>Get your front porch and front yard ready for Christmas with DIY projects. Check out these cute and fun items that are simple to make and budget friendly!</td><td>1</td><td>37k</td><td>https://i.pinimg.com/originals/6c/f5/78/6cf578a49bebdc39426f16e509ff9b88.jpg</td><td>2254</td><td>image</td><td>A Fresh-Squeezed Life</td><td>Local save in /data/christmas</td><td>Christmas Decorations Diy Crafts,Xmas Crafts,Christmas Projects,Christmas Home,Holiday Decor,Decor Crafts,Halloween Decorations,Fall Decor,Diy Christmas Lights</td><td>OUTDOOR FARMHOUSE CHRISTMAS DECORATING IDEAS - A Fresh-Squeezed Life</td><td>7a668b10-e2ed-4637-898e-99f29056f572</td></tr><tr><td>tattoos</td><td>Without being autonomous, I’m a big fan of tattoos. As a way, the visual decoration of your free patten body and the method of communication are important things for you, your l… </td><td>1</td><td>49k</td><td>https://i.pinimg.com/originals/5e/d9/cd/5ed9cd725179b76b4a0b2ce360358412.jpg</td><td>9324</td><td>image</td><td>hotcrochet.com </td><td>Local save in /data/tattoos</td><td>Leg Tattoos,Body Art Tattoos,Small Tattoos,Sleeve Tattoos,Tatoos,Finger Tattoos,Tattoo Forearm,Tattoo On Leg,Female Arm Tattoos</td><td>50+ Great Designs For Small Tattoo İdeas And Small Tattoos - hotcrochet .com</td><td>01056b26-ea0f-47c4-a9f6-7548909c005e</td></tr><tr><td>art</td><td>Create your own artistic interpretations of famous artists' work with these Famous Artists Crafts for Kids!Famous Artist Projects for Kids! Meet the Masters with these fun and F… </td><td>1</td><td>546</td><td>https://i.pinimg.com/originals/c3/bb/14/c3bb14258c81daeb80e1e8abcfc2fe5a.jpg</td><td>212</td><td>image</td><td>Sherree Wilkinson</td><td>Local save in /data/art</td><td>Classroom Art Projects,School Art Projects,Art Classroom,Art History Projects For Kids,Mondrian,Famous Artists For Kids,Famous Artists Paintings,Kids Art Class,Art Lessons Elementary</td><td>Famous Artists Crafts for Kids</td><td>2e574c57-7e92-405b-8364-0a64475170a3</td></tr><tr><td>beauty</td><td>Cool Personal self care routine:) #skincareroutine #skincaretips The post Personal self care routine:) #skincareroutine #skincaretips… appeared first on Beauty 2018-2019 Trends… </td><td>1</td><td>340k</td><td>https://i.pinimg.com/originals/39/4e/4a/394e4af45d816accc2a19ed471004ef1.jpg</td><td>1125</td><td>image</td><td>Woman's Day</td><td>Local save in /data/beauty</td><td>Skin Care Routine For 20s,Self Care Routine,Skincare Routine,Nail Care Routine,Beauty Care Routine,Skin Routine,Vie Motivation,How To Clean Makeup Brushes,Anti Aging Skin Care</td><td>12 Ways You're Ruining Your Nails</td><td>281804ae-f80e-454a-952e-0b1dd568cbf3</td></tr><tr><td>quotes</td><td>If you're feeling a little hopeless when it comes to dating, check out these 40 'I love you' quotes that will make you believe in love again. #lovequotes #romanticquotes #sweetm… </td><td>1</td><td>942k</td><td>https://i.pinimg.com/originals/58/5c/80/585c80e189d9457b006a44b8ca73d1db.jpg</td><td>7689</td><td>image</td><td>YourTango</td><td>Local save in /data/quotes</td><td>Love Quotes Poetry,Life Quotes Love,Love Yourself Quotes,Love Poems,Love Quotes For Him,Words Quotes,Quotes Quotes,Making Love Quotes,Funny Quotes</td><td>40 'I Love You' Quotes That Will Make You Believe In Love Again</td><td>7d0dbc82-1add-4558-b4bf-8e7d0358f0b5</td></tr><tr><td>education</td><td>Working on addition? Try making a post-it math activity as a great alternative to worksheets! An easy number sense activity for math facts.</td><td>1</td><td>203k</td><td>https://i.pinimg.com/originals/df/12/99/df1299e092338e8bf2ac6764717a8ad7.png</td><td>4055</td><td>image</td><td>Susie Allison | Busy Toddler</td><td>Local save in /data/education</td><td>Number Sense Activities,Math Activities For Kids,Fun Math,Kids Math,Addition Activities,Preschool Classroom Centers,Child Development Activities,Lego Math,Addition Games</td><td>Post-It Math Activity for Teaching Addition - Busy Toddler</td><td>1e18abb3-42f1-4d75-bdb3-86b3f8f79c6c</td></tr><tr><td>education</td><td>It doesn’t take a genius to educate a large family at home, but it does take quite a bit of focus and ingenuity. Here are some homeschool hacks to help.</td><td>1</td><td>5k</td><td>https://i.pinimg.com/originals/05/20/71/0520712dd7fd34916cd93730aea33121.jpg</td><td>3471</td><td>image</td><td>Sherry Hayes</td><td>Local save in /data/education</td><td>Planning School,School Planner,Professor,Homeschool Curriculum,Homeschooling Resources,Learning Activities,Homeschooling Statistics,Homeschool Supplies,Kids Learning</td><td>More than 15 Homeschool Hacks from a Mom of 15 • Mom Delights</td><td>99662f47-2474-412d-abc2-945f1eee68dc</td></tr><tr><td>travel</td><td>Exploring Zion and Bryce Canyon: A Week In Utah — Allison Anderson - Solo Female Travel Blog</td><td>1</td><td>8k</td><td>https://i.pinimg.com/originals/c9/8f/7c/c98f7c011726892b61cae6a0828ca2bf.jpg</td><td>10283</td><td>image</td><td>Allison Anderson | Solo Travel & Lifestyle Blog</td><td>Local save in /data/travel</td><td>Beautiful Places To Travel,Cool Places To Visit,Places To Go,Nature Architecture,Travel Photographie,Blog Voyage,Travel Aesthetic,Vacation Ideas,Vacation Countdown</td><td>Exploring Zion and Bryce Canyon: A Week In Utah — Allison Anderson - Solo Female Travel Blog</td><td>0571551c-8aa3-4620-8e95-e17efa0123c7</td></tr><tr><td>home-decor</td><td>The best cheap decorating trick there is to hop your home #homedecor #farmhouse #wilshirecollections</td><td>1</td><td>79k</td><td>https://i.pinimg.com/originals/b8/45/e7/b845e795ad72a5e82e585b6a4dd37770.jpg</td><td>6213</td><td>image</td><td>Stacey Collins | Wilshire Collections</td><td>Local save in /data/home-decor</td><td>Shabby Chic Homes,Shabby Chic Decor,Home Decor Bedroom,Entryway Decor,Cheap Bedroom Decor,Furniture Makeover,Home Furniture,Rustic Furniture,Furniture Ideas</td><td>The best cheap decorating trick there is! How to transition your decor without breaking the bank!</td><td>7e8f55fd-2e82-4d72-af4c-e5b2c7f9ea5d</td></tr><tr><td>travel</td><td>21 Best Christmas Trips in America | usa Christmas trips | Christmas trips usa | where to spend Christmas in the usa | Christmas travel destinations | christmas travel destinati… </td><td>1</td><td>47k</td><td>https://i.pinimg.com/originals/1a/6d/9c/1a6d9c144b37fcbcd4dc8325e5e35dab.jpg</td><td>9784</td><td>image</td><td>Follow Me Away</td><td>Local save in /data/travel</td><td>Best Christmas Vacations,Christmas Getaways,Christmas Destinations,Christmas Travel,Christmas Town,Holiday Travel,Vacation Destinations,Dream Vacations,Winter Vacations</td><td>21 Best Christmas Trips in America</td><td>8ff9c540-e7b6-43f6-abc7-bb629d43ae9c</td></tr><tr><td>christmas</td><td>I’m thrilled to share with you our Old World European Inspired Christmas home tour. Come away with European Christmas decorating ideas!</td><td>1</td><td>64k</td><td>https://i.pinimg.com/originals/e5/f5/90/e5f5909c5a9c1e440921c18993fcca5c.jpg</td><td>2239</td><td>image</td><td>TIDBITS</td><td>Local save in /data/christmas</td><td>Old Time Christmas,Christmas Home,Christmas Crafts,Christmas Holidays,Christmas Ideas,Old Fashioned Christmas Decorations,Christmas Tree Decorations,Xmas Ornaments,Christmas Interiors</td><td>Old World European Inspired Christmas Home Tour | TIDBITS by Cami</td><td>ba565e4f-c082-467b-8045-1bf0b90795e2</td></tr><tr><td>event-planning</td><td>No description available Story format</td><td>1</td><td>3k</td><td>https://i.pinimg.com/videos/thumbnails/originals/e5/0f/71/e50f712c843c382634955f6577e472ea.0000001.jpg</td><td>4495</td><td>multi-video(story page format)</td><td>Small Business Tips on Branding and Marketing.</td><td>Local save in /data/event-planning</td><td>Business Notes,Business Planner,Business Advice,Small Business Marketing,Business Motivation,Best Small Business Ideas,Small Business Plan,Starting A Business,Diy Business Ideas</td><td>5 most important things to do  before you launch your Small Business.</td><td>86275306-bdd1-46dc-a50b-b2fc9ff7670a</td></tr><tr><td>tattoos</td><td>Wedding Ring Tattoos: Pastel Flowers Ring Tattoo. A dainty flower ring tattoo inked in a watercolor style. Click through for 30 wedding ring tattoo ideas. #weddingringtattoos #r… </td><td>1</td><td>538k</td><td>https://i.pinimg.com/originals/a8/9f/6a/a89f6a93b23732b610ec66fc5f8b2068.jpg</td><td>9245</td><td>image</td><td>Byrdie</td><td>Local save in /data/tattoos</td><td>Dainty Tattoos,Mom Tattoos,Couple Tattoos,Body Art Tattoos,Tatoos,Couples Ring Tattoos,Love Symbol Tattoos,Finger Tattoo For Women,Small Finger Tattoos</td><td>Wedding Ring Tattoos: Pastel Flowers Ring Tattoo</td><td>23387186-8009-480b-a361-a38fad0e77ed</td></tr><tr><td>diy-and-crafts</td><td>Fun art activity for kids! And a great way to make DIY wrapping paper!</td><td>1</td><td>73k</td><td>https://i.pinimg.com/videos/thumbnails/originals/f2/be/7e/f2be7e6b347a2a25cb048d83d24024dc.0000001.jpg</td><td>2662</td><td>video</td><td>Happy Toddler Playtime</td><td>Local save in /data/diy-and-crafts</td><td>Preschool Christmas Crafts,Christmas Activities For Kids,Toddler Christmas,Craft Activities For Kids,Preschool Crafts,Holiday Crafts,Kids Christmas Art,Art Crafts For Kids,Nursery Activities</td><td>Potato Stamped Christmas Lights Activity - HAPPY TODDLER PLAYTIME</td><td>6e71d765-a43c-4187-bc1e-3e3fa21cea1d</td></tr><tr><td>tattoos</td><td>\"A new age of consciousness\", and it's written in the stars. As we enter the Age of Aquarius, or the 'Golden Age' we are certainly experiencing a change in global consciousness… </td><td>1</td><td>6k</td><td>https://i.pinimg.com/originals/b4/61/fc/b461fc3aac0f5c002a4686ed53b5a5fd.jpg</td><td>9421</td><td>image</td><td>Round The World Magazine</td><td>Local save in /data/tattoos</td><td>Petite Tattoos,Dainty Tattoos,Dope Tattoos,Back Tattoos,Mini Tattoos,Body Art Tattoos,Small Tattoos,Sleeve Tattoos,Tattoos Of Dates</td><td>A List of 198 Spiritual Tattoo Ideas and Designs</td><td>2eb2066b-7fbd-44bc-b5a7-0f5c4120d083</td></tr><tr><td>christmas</td><td>Flocked Buffalo Check Christmas Tree. With handmade ornaments and mercury glass. Perfect farmhouse christmas tree</td><td>1</td><td>68k</td><td>https://i.pinimg.com/originals/3a/b8/b4/3ab8b4be75fd641fcd3025b9fe0a2ca0.jpg</td><td>1743</td><td>image</td><td>Weekend Craft</td><td>Local save in /data/christmas</td><td>Simple Christmas Tree Decorations,Flocked Christmas Trees Decorated,Black Christmas Trees,Ribbon On Christmas Tree,Beautiful Christmas Trees,Plaid Christmas,Christmas Time,Buffalo Check Christmas Decor,Christmas Wreaths</td><td>Flocked Buffalo Check Christmas Tree</td><td>b7b2ca88-5581-4aaf-a16b-92cd2d69bf5a</td></tr><tr><td>quotes</td><td>#selfconfidence #strength #feelings #emotions #selfawareness #inspirationalquotes #shortinspirationalquotes #wordsofwisdom #quotestoliveby</td><td>1</td><td>228k</td><td>https://i.pinimg.com/originals/7c/77/45/7c774503eeca16e0d5e38a880fe6df3e.jpg</td><td>8371</td><td>image</td><td>Iva A. Ursano Amazing Me Movement</td><td>Local save in /data/quotes</td><td>Short Inspirational Quotes,Great Quotes,Motivational Quotes,Uplifting Quotes,Wisdom Quotes,True Quotes,Quotes To Live By,On My Own Quotes,I Needed You Quotes</td><td>Dear Me, F*ck You - A Raw and Real Open Letter to Myself</td><td>4fd5f9ce-ffe1-405a-ae75-7ec89368f8c9</td></tr><tr><td>tattoos</td><td>Buy a cheap copy of A Daily Word: 366 Scriptural Devotions for Growing Christians by Paul Chappell 1598940767 9781598940763 - A gently used book at a great low price. Free shipp… </td><td>1</td><td>12</td><td>https://i.pinimg.com/originals/85/c8/6e/85c86e7714e5d986fa890ec7b1c30e9e.jpg</td><td>8759</td><td>image</td><td>Juna Saito</td><td>Local save in /data/tattoos</td><td>Little Tattoos,Mini Tattoos,Cute Tattoos,Body Art Tattoos,Tatoos,Pretty Tattoos,Dainty Tattoos,Ankle Tattoos,Sexy Tattoos</td><td>A Daily Word: 366 Scriptural Devotions for Growing Christians by Paul</td><td>d0176c81-9a41-4765-b420-e4769925e616</td></tr><tr><td>quotes</td><td>There are more ways to say I love you than those three little words. Here are some fantastic I love you quotes for everyone!</td><td>1</td><td>166k</td><td>https://i.pinimg.com/originals/09/61/ff/0961ff7eaca61d4d3191fd7a2182ddb0.jpg</td><td>7669</td><td>image</td><td>Women.com</td><td>Local save in /data/quotes</td><td>Cute Love Quotes,Love Quotes For Her,Love Yourself Quotes,Quotes To Live By,Best Quotes Of All Time,Love For Her,Love Qoutes,You Make Me Happy Quotes,Funny Romantic Quotes</td><td>'I Love  You' Quotes: 22 Heartwarming Quotes To Help You Say 'I Love You’</td><td>7b3dbe06-46de-40f6-8a2b-4fe0ff616167</td></tr><tr><td>diy-and-crafts</td><td>Here is a list of 20 creative and fun snowflake activities and crafts for babies, toddlers, preschoolers & kindergartners!</td><td>1</td><td>73k</td><td>https://i.pinimg.com/originals/ae/b4/9d/aeb49df0feaa7f1adc5a522049664e78.jpg</td><td>2720</td><td>image</td><td>Happy Toddler Playtime</td><td>Local save in /data/diy-and-crafts</td><td>Preschool Christmas,Christmas Activities,Craft Activities,Toddler Activities,Winter Preschool Crafts,Kids Crafts,Christmas Crafts,Motor Activities,Therapy Activities</td><td>Snowflake Crafts & Activities - HAPPY TODDLER PLAYTIME</td><td>cef62b5d-ad06-4faf-aac9-2690550a3e66</td></tr><tr><td>home-decor</td><td>We have decked the halls here at our house and I am very excited to share my very first Christmas home tour!</td><td>1</td><td>21k</td><td>https://i.pinimg.com/originals/95/a4/89/95a48915f36ba0976bdd96bd124adfda.jpg</td><td>6050</td><td>image</td><td>Micheala Diane Designs |  Interior Design, Home Styling and DIY Projects</td><td>Local save in /data/home-decor</td><td>Christmas Living Rooms,Cozy Living Rooms,Home Living Room,Living Room Furniture,Living Room Designs,Modern Furniture,Apartment Living,Antique Furniture,Rustic Furniture</td><td>Our Christmas Home Tour</td><td>5c1aaf3e-7860-4235-b620-a47545c3d85a</td></tr><tr><td>quotes</td><td>There is nothing more satisfying than saying \"screw you\" to the one who broke your heart. These break up quotes will help save your sorry, hurting soul from the heartbreak.</td><td>1</td><td>942k</td><td>https://i.pinimg.com/originals/b0/a5/75/b0a5750fcb889384446d6558f4b6765e.jpg</td><td>7823</td><td>image</td><td>YourTango</td><td>Local save in /data/quotes</td><td>Crush Quotes,Mood Quotes,Life Quotes,Quotes Quotes,Qoutes,Friend Quotes,So True Quotes,Love Quotes To Him,Being Hurt Quotes</td><td>30 Quotes For When You Want To Say A Big “F-YOU” To Your Scumbag Ex</td><td>f2abad27-56e6-4294-80af-965d73cf5196</td></tr><tr><td>christmas</td><td>Set the table for feasting, toasting, and general merrymaking on Christmas Day and all of the winter days leading up to it.</td><td>1</td><td>2M</td><td>https://i.pinimg.com/originals/6b/34/48/6b344828a514cfeb22a44333c957b800.jpg</td><td>1783</td><td>image</td><td>Martha Stewart Living</td><td>Local save in /data/christmas</td><td>Noel Christmas,Christmas Crafts,Christmas Ornaments,Nordic Christmas,Modern Christmas,Christmas Christmas,Christmas Wedding,Christmas Movies,Christmas Table Settings</td><td>Beautiful Christmas Table Settings That Will Enchant Your Guests</td><td>cd0ae216-8140-492d-8d9f-4d9414da82b0</td></tr><tr><td>tattoos</td><td>The best love can be the one with yourself. These self-love tattoos bring your focus back on yourself and inspire you to love yourself unconditionally.</td><td>1</td><td>190k</td><td>https://i.pinimg.com/originals/f8/30/3b/f8303b9c2cb4d1cc1db4bf7ac89820cc.jpg</td><td>9405</td><td>image</td><td>Our Mindful Life</td><td>Local save in /data/tattoos</td><td>Dope Tattoos,Mini Tattoos,Body Art Tattoos,Sleeve Tattoos,Cool Guy Tattoos,Tatoos,Small Tattoos For Guys,Cool Small Tattoos,Tattoos For Women</td><td>40 Empowering Self-love Tattoos And Meaning - Our Mindful Life</td><td>27948f02-bbac-4f38-81e8-d4c7d7db1f03</td></tr><tr><td>quotes</td><td>It's time to take off the cuff put on you by narcissists. These 29 toxic relationship quotes are so sad but true. And they may be the wake up call you need.</td><td>1</td><td>190k</td><td>https://i.pinimg.com/originals/ba/77/f8/ba77f8d93c839b9d1bdf002803a3c949.jpg</td><td>8037</td><td>image</td><td>Our Mindful Life</td><td>Local save in /data/quotes</td><td>Good Night Quotes,Love Mom Quotes,Niece Quotes,Now Quotes,Daughter Love Quotes,Words Quotes,Quotes To Live By,Sayings,Bad Mother Quotes</td><td>32 Toxic Relationship Quotes That Empower You To Leave For Good</td><td>1c04a065-0f75-471d-99a8-b0027ae2491d</td></tr><tr><td>home-decor</td><td>What I love and swoon over is a more soulful kitchen, perhaps even moody. Dark painted cabinets, natural woods and mixed materials are sublime</td><td>1</td><td>15k</td><td>https://i.pinimg.com/originals/d4/c2/e2/d4c2e2f7e0c76e75ba0bfb15a2331669.jpg</td><td>6448</td><td>image</td><td>Linda Merrill Decorative Surroundings</td><td>Local save in /data/home-decor</td><td>Kitchen Redo,Home Decor Kitchen,Kitchen Interior,New Kitchen,Home Kitchens,Kitchen Dining,Kitchen Ideas,Devol Kitchens,Kitchen Cabinets</td><td>Ode to the Soulful Kitchen - Linda Merrill</td><td>902facca-9884-4e89-9264-c4a8b9e4bc5e</td></tr><tr><td>quotes</td><td>New Year Resolution Fitness Plan + FREE PRINTABLES – 12 Things To Change In 2017</td><td>1</td><td>110k</td><td>https://i.pinimg.com/originals/da/22/90/da22901ea1d4d05d4058f39b59520db7.jpg</td><td>8289</td><td>image</td><td>Fit Girl's Diary</td><td>Local save in /data/quotes</td><td>Motivation Sportive,Gewichtsverlust Motivation,Exercise Motivation,Exercise Routines,Motivation Inspiration,Exercise Schedule,Exercise Cardio,Weight Loss Motivation Quotes,Fitness Inspiration Quotes</td><td>New Year Resolution Fitness Plan - 12 Things To Change in 2017</td><td>312c2c1e-9c0e-4335-bd4e-a4413ba1573c</td></tr><tr><td>finance</td><td>No description available Story format</td><td>1</td><td>553</td><td>https://i.pinimg.com/videos/thumbnails/originals/b7/d7/c4/b7d7c48a96edd7189343d7d5e35c8d1f.0000001.jpg</td><td>5285</td><td>multi-video(story page format)</td><td>Freedom4Life - Financial Management, Affiliate Marketer, Blogger</td><td>Local save in /data/finance</td><td>Financial Tips,Financial Literacy,Financial Planning,Teen Life Hacks,Useful Life Hacks,David Ramsey,Finance Books,Feel Good Videos,Money Tips</td><td>How Millionaires Avoid Uncle Sam - Tik Tok Credit @johnefinance</td><td>38d51f28-a376-4eb1-9197-c29f423f385d</td></tr><tr><td>event-planning</td><td>From cool photo booth backdrops to what camera to use, here's everything you need to make brilliant memories!</td><td>1</td><td>93k</td><td>https://i.pinimg.com/originals/b3/3d/c0/b33dc03ede5178fe2f50dbc7c7cf8fcf.jpg</td><td>4554</td><td>image</td><td>Hitched</td><td>Local save in /data/event-planning</td><td>Backyard Wedding Decorations,Wedding Ceremony Backdrop,Wedding Backyard,Hanging Decorations,Backdrop Decorations,Ceremony Decorations,Diy Backdrop,Backdrops,Backdrop Photobooth</td><td>How to Make Your Own DIY Photo Booth: 6 Easy Steps</td><td>9861220c-66ac-43b1-9bbb-da679e43c99c</td></tr><tr><td>mens-fashion</td><td>TRACKLIST:00:00 WORLD STAY SPINNIN' [Prod. Chemztat]02:49 SIXTEEN [Prod. TrellGotWings]04:47 WANG BASS [Prod. Lexi Banks]07:16 GIHAD [Prod. TrellGotWings]09:...</td><td>1</td><td>939</td><td>https://i.pinimg.com/originals/51/de/f4/51def4b3fe8b94894a97e9a2e5659a41.jpg</td><td>7232</td><td>image</td><td>Logan Klein</td><td>Local save in /data/mens-fashion</td><td>Mens Fashion Blog,Fashion Mode,Look Fashion,Fashion Outfits,Fashion Trends,Skater Fashion,Petite Fashion,Curvy Fashion,Fashion Bloggers</td><td>\"CONSPIRACY\" WHITE T [FULL TAPE]</td><td>619956f5-b7a8-4557-a866-b85ce8753352</td></tr><tr><td>travel</td><td>Outfit Details: Look 1- Lisa Marie Fernandez Dress, Mark Cross Bag (sold out, similar here), K. Jacques Sandals, Raen Sunglasses…</td><td>1</td><td>399k</td><td>https://i.pinimg.com/originals/02/46/f4/0246f45631ddc2643379a164890751ae.jpg</td><td>9504</td><td>image</td><td>Julia Berolzheimer</td><td>Local save in /data/travel</td><td>St Tropez France,Places To Travel,Places To Go,Travel Destinations,Vacation Places,Reisen In Europa,Destination Voyage,French Countryside,France Travel</td><td>Grimaud & St. Tropez, France - Julia Berolzheimer</td><td>cddc38b6-3697-44cb-a4ec-91b3f583bede</td></tr><tr><td>quotes</td><td>Become who you want to be! Spend you time wisely. Today is the time to change. Travel, explore and enjoy the world.</td><td>1</td><td>37k</td><td>https://i.pinimg.com/originals/ac/5a/04/ac5a04a7d7c1450985231b64fda0b6b2.jpg</td><td>7973</td><td>image</td><td>2sharemyjoy.com | Vegan Recipes & Meal Plans</td><td>Local save in /data/quotes</td><td>The Words,Affirmations,Quote Posters,Found Out,Quotes To Live By,Wake Up Quotes,Quotes Quotes,Motivational Quotes For Women,Quotes For Being Strong</td><td>20 Best Plant Based Protein Sources (Vegan)</td><td>06cd7ed7-ce3f-4aba-bf5b-eb5993b6153c</td></tr><tr><td>art</td><td>Looking for inspirations to create the mysterious forest world and enchant the viewer’s eye? This is all that you’re gonna need to achieve just that!</td><td>1</td><td>556k</td><td>https://i.pinimg.com/originals/08/8e/0a/088e0a25e0a270b28b3c437713ea43ad.jpg</td><td>355</td><td>image</td><td>Homesthetics.net</td><td>Local save in /data/art</td><td>Fantasy Kunst,Environment Design,Fantasy Landscape,Landscape Art,Landscape Drawings,Forest Landscape,Art Design,Tree Art,Oeuvre D'art</td><td>51 Enigmatic Forest Concept Art That Will Amaze You</td><td>bf5e698d-d5b6-46f6-b450-2218f9a8b5c9</td></tr><tr><td>finance</td><td>Are you a good tipper? I was a server for five years and have seen tips of all ranges. I have even witnessed customers being chased after for a bigger tip!</td><td>1</td><td>8k</td><td>https://i.pinimg.com/originals/90/ff/24/90ff24f43bc2050c559a9170d49923be.jpg</td><td>5736</td><td>image</td><td>Jen | Save to Splurge</td><td>Local save in /data/finance</td><td>Money On My Mind,Show Me The Money,Money Tips,Money Saving Tips,Creating Wealth,Budget Organization,Frugal Living Tips,Money Matters,Finance Tips</td><td>Are You a Good Tipper? |</td><td>313643d5-4d17-4bd5-9401-e818fe09e4d7</td></tr><tr><td>travel</td><td>No description available Story format</td><td>1</td><td>2k</td><td>https://i.pinimg.com/videos/thumbnails/originals/59/e7/b3/59e7b35cd8f993b6c9d8db9aa26d3d0d.0000001.jpg</td><td>9749</td><td>multi-video(story page format)</td><td>Travel with Munia</td><td>Local save in /data/travel</td><td>World Most Beautiful Place,Beautiful Photos Of Nature,Beautiful Places In The World,Beautiful Places To Visit,Cool Places To Visit,Beautiful Vacation Spots,Most Beautiful Pictures,Beautiful Things,Places To Go</td><td>so love travel 💘??</td><td>8487bc7f-fd9e-44a4-88f5-4ea8583b45f1</td></tr><tr><td>beauty</td><td>Many natural hair products use \"greenwashing\" marketing tactics to seem natural. Here's a handy chart to help you separate the good from the bad.</td><td>1</td><td>81k</td><td>https://i.pinimg.com/originals/9c/73/dd/9c73ddd9711541a7f9f6f4b3a252657d.jpg</td><td>1199</td><td>image</td><td>Mama Natural</td><td>Local save in /data/beauty</td><td>Beauty Care,Beauty Skin,Beauty Hacks,Health And Beauty,Beauty Tips,Beauty Products,Hair Products,Diy Beauty,Healthy Beauty</td><td>Natural Beauty Products: The Good, The Bad, and The Ugly</td><td>203ac75e-9655-47f6-8f20-5d74fbe7578b</td></tr><tr><td>mens-fashion</td><td>ZAFUL offers a wide selection of trendy fashion style women's clothing. Affordable prices on new tops, dresses, outerwear and more.</td><td>1</td><td>893k</td><td>https://i.pinimg.com/originals/57/90/b0/5790b00bab6068621985512217fd7d7c.jpg</td><td>7057</td><td>image</td><td>ZAFUL</td><td>Local save in /data/mens-fashion</td><td>Best Mens Fashion,Suit Fashion,Male Fashion,Fashion Menswear,Fashion Styles,Fashion Outfits,Fashion Shorts,Men's Outfits,Fashion 2018</td><td>Trendy Fashion Style Women's Clothing Online Shopping</td><td>742873e9-a0a1-46d4-b17b-9a90949f49e4</td></tr><tr><td>event-planning</td><td>No description available Story format</td><td>1</td><td>3k</td><td>https://i.pinimg.com/videos/thumbnails/originals/92/56/25/92562542fb6adf027834e77b4da03eb6.0000001.jpg</td><td>4741</td><td>multi-video(story page format)</td><td>FemaleInspiring</td><td>Local save in /data/event-planning</td><td>Tshirt Business,Craft Business,Business Design,Business Stationary,Business Planner,Jobs For Teens,Teen Jobs,Ways To Get Money,Best Small Business Ideas</td><td>I just launched my notebooks. Designed by me 🤍</td><td>9c491de1-6911-44bb-8a8f-78c8a302f5be</td></tr><tr><td>event-planning</td><td>Read advice on TheKnot.com. Get tips on etiquette and find suggestions for your wedding.</td><td>1</td><td>545k</td><td>https://i.pinimg.com/originals/ec/a4/6c/eca46cc4f6378d29c6757224395ff9ac.jpg</td><td>4594</td><td>image</td><td>The Knot</td><td>Local save in /data/event-planning</td><td>Diy Photo Backdrop,Diy Photo Booth,Backdrop Ideas,Photo Booths,Balloon Backdrop,Photo Backdrops,Booth Ideas,Photo Props,Budget Wedding</td><td>5 DIY Backdrops For Your Photo Booth, Ceremony and Reception!</td><td>b7944394-f559-4162-9212-d53c9a4493dc</td></tr><tr><td>home-decor</td><td>Add some pep to your step with these shoppable finds.</td><td>1</td><td>5M</td><td>https://i.pinimg.com/originals/8f/56/f0/8f56f0819e6f4d1ea90c9cde8d59a697.jpg</td><td>6569</td><td>image</td><td>Apartment Therapy</td><td>Local save in /data/home-decor</td><td>Home Decor Kitchen,Kitchen Interior,New Kitchen,Home Kitchens,Kitchen With Plants,Bohemian Kitchen Decor,Apartment Kitchen Decorating,Boho Decor,Kitchen Modern</td><td>Everything You Need to Know About the Kitchen's Top Design Trend</td><td>4b68882a-3b19-4dc1-b555-4009475fe01e</td></tr><tr><td>education</td><td>Simon Says Ideas Printable</td><td>1</td><td>903k</td><td>https://i.pinimg.com/originals/f8/8c/9a/f88c9a979594d25713c06646f6820ff6.jpg</td><td>3709</td><td>image</td><td>The Best Ideas for Kids</td><td>Local save in /data/education</td><td>Games For English Class,Toddler Activities,Fun Activities,Movement Activities,Outside Activities For Kids,Physical Activities For Kids,Activities For 4 Year Olds,Icebreakers For Kids,Charades For Kids</td><td>Simon Says Ideas - The Best Ideas for Kids</td><td>9c6340e5-98df-4285-b239-5e4f200455e4</td></tr><tr><td>education</td><td>Total Pages: 40 + editable pages File Size: 30 MB Download Preview</td><td>1</td><td>52k</td><td>https://i.pinimg.com/originals/61/e2/ab/61e2ab97ee6e1939b94b4f157bbf3ae8.png</td><td>3583</td><td>image</td><td>The Printable Princess</td><td>Local save in /data/education</td><td>Home Learning,Learning Resources,Teacher Resources,Learning Spaces,Teacher Sites,Teacher Binder,Teacher Planner Free,Learning People,Teacher Lesson Planner</td><td>10 Weeks of Distance Learning Activities</td><td>92dd3852-4545-4609-bcd1-7432e5ce5300</td></tr><tr><td>education</td><td>Amazing advice and encouragement for new teachers, from teachers who care!</td><td>1</td><td>3k</td><td>https://i.pinimg.com/originals/ec/57/ee/ec57ee6c67f87e11da600244de1d2070.jpg</td><td>4275</td><td>image</td><td>Coach's Corner</td><td>Local save in /data/education</td><td>1st Year Teachers,First Year Teaching,Student Teaching,Teacher Books,Teacher Resources,Teacher Stuff,Teachers Toolbox,Teacher Quotes,Teaching Strategies</td><td>First Year Teacher Tips - Primary Flourish</td><td>e619ec42-1801-4806-924a-5225fca3297a</td></tr><tr><td>education</td><td>A provocative look at higher education as featured in The New York Times Two decades ago A Nation at Risk sounded a national alarm on K-12 education. Now, an equally urgent alar… </td><td>1</td><td>2M</td><td>https://i.pinimg.com/originals/90/1b/e2/901be2bc9c4beca25dc9db05844beff7.jpg</td><td>3798</td><td>image</td><td>Walmart</td><td>Local save in /data/education</td><td>N,o, ,T,a,g,s, ,A,v,a,i,l,a,b,l,e</td><td>Declining by Degrees : Higher Education at Risk (Paperback)</td><td>3566de93-1adc-4c88-8f48-4e8073cd2942</td></tr><tr><td>finance</td><td>No description available Story format</td><td>1</td><td>760</td><td>https://i.pinimg.com/videos/thumbnails/originals/5b/d0/9e/5bd09e26bc69c212cf5057ecbe2b6417.0000001.jpg</td><td>5357</td><td>multi-video(story page format)</td><td>Kenya. Finances 101</td><td>Local save in /data/finance</td><td>Ways To Save Money,Money Tips,Money Saving Tips,Money Budget,Budgeting Finances,Budgeting Tips,Financial Tips,Financial Planning,Goal Planning</td><td>Useful Budgeting tips for beginner</td><td>a402b531-eb6e-4f48-b447-e8aed916fb67</td></tr><tr><td>tattoos</td><td>An interesting post from POPSUGAR Love & Sex. Check it out!</td><td>1</td><td>5M</td><td>https://i.pinimg.com/originals/64/63/bb/6463bb6e81b19ebb3d32ea933e88c048.jpg</td><td>8695</td><td>image</td><td>POPSUGAR</td><td>Local save in /data/tattoos</td><td>Discreet Tattoos For Women,Sexy Tattoos For Women,Tiny Tattoos For Girls,Small Hip Tattoos Women,Bum Tattoo Women,Tattoed Women,Cute Tiny Tattoos,Diskrete Tattoos,Mini Tattoos</td><td>70 Sexy (but Discreet) Tattoos For Women</td><td>825bab46-ee99-49c8-ad3c-858eb161222f</td></tr><tr><td>travel</td><td>No description available Story format</td><td>1</td><td>10k</td><td>https://i.pinimg.com/videos/thumbnails/originals/31/e2/6f/31e26f10e39e45b77b678d0bc77bbb0f.0000001.jpg</td><td>9660</td><td>multi-video(story page format)</td><td>Michelle Norris</td><td>Local save in /data/travel</td><td>Vacation Places,Dream Vacations,Vacation Trips,Vacation Spots,Fun Places To Go,Beautiful Places To Travel,Travel Aesthetic,Beautiful Buildings,Travel Around The World</td><td>Travel inspo </td><td>29e7e64b-386f-4db9-b788-e088954ee8fa</td></tr><tr><td>mens-fashion</td><td>Men’s Summer fashion sporty outfit inspiration. Like it? #mensfashion #style #streetstyle #outfit</td><td>1</td><td>6k</td><td>https://i.pinimg.com/originals/0b/8d/88/0b8d888c865e2f5cc2ce34c6d82fd369.jpg</td><td>6817</td><td>image</td><td>PERDREAMS</td><td>Local save in /data/mens-fashion</td><td>Summer Outfits Men,Sporty Outfits,Athletic Outfits,Mode Outfits,Summer Men,Winter Outfits,Men Summer Fashion,Summer Ideas,Mens Athletic Fashion</td><td>Summer Outfits Men</td><td>6b387785-c30f-490a-958b-0b0b976b138f</td></tr><tr><td>vehicles</td><td>We cover the best SUV's, electric, luxury, and sports cars to bring you the latest automotive news from modern marvels to vintage classics.</td><td>1</td><td>112k</td><td>https://i.pinimg.com/originals/23/d5/b9/23d5b9aa5e94152faaa91fde7e69e1c1.jpg</td><td>10580</td><td>image</td><td>Man of Many</td><td>Local save in /data/vehicles</td><td>Hummer For Sale,New Hummer,Hummer Truck,Hummer Cars,Hummer H3,Offroad,Tactical Truck,Armored Truck,Car Wheels</td><td>Cars Archives</td><td>dafddbc3-f4ef-49e7-a1de-703a1096f899</td></tr><tr><td>mens-fashion</td><td>Showing the latest trends in men's clothing, hair styles, and more...</td><td>1</td><td>47</td><td>https://i.pinimg.com/originals/ed/39/11/ed39110092f8a80f3234989d9d740b3a.jpg</td><td>7420</td><td>image</td><td>ThatUserNameIsAlreadyTakenT</td><td>Local save in /data/mens-fashion</td><td>Sharp Dressed Man,Well Dressed Men,Caban Bleu Marine,Fashion Models,Mens Fashion,Trendy Fashion,Fashion Black,La Mode Masculine,Gentleman Style</td><td>Men's Fashion for 2013</td><td>c3fad5a1-ba91-4c37-9b95-0fea075a0b53</td></tr><tr><td>mens-fashion</td><td>Become the best-dressed guy.</td><td>1</td><td>613k</td><td>https://i.pinimg.com/originals/80/33/18/803318ed61b44f69843712e17f7a72ac.jpg</td><td>7534</td><td>image</td><td>Mens Fashion - LIFESTYLE BY PS </td><td>Local save in /data/mens-fashion</td><td>Fashion Mode,Suit Fashion,Fashion Photo,Fashion Outfits,Fashion Clothes,Fashion Trends,Style Fashion,Mens Summer Dress Clothes,Clothes For Men</td><td>My 5 Favourite Outfits From This Celeb's Instagram Account</td><td>914a7de6-9e7f-4098-bcf3-664112b998f5</td></tr><tr><td>quotes</td><td>Relationship Rules is a modern-age lifestyle/love blog that discusses everything from breakups to being amazing parents.</td><td>1</td><td>1</td><td>https://i.pinimg.com/originals/0b/27/f5/0b27f5109baa91be35be51f9ba467572.webp</td><td>8339</td><td>image</td><td>Wamda</td><td>Local save in /data/quotes</td><td>Now Quotes,Life Quotes Love,Self Love Quotes,Wisdom Quotes,True Quotes,Words Quotes,Wise Words,Quotes To Live By,One Word Sayings</td><td>Relationship Rules</td><td>221d9e5c-be3b-40f4-9257-b1102a488021</td></tr><tr><td>home-decor</td><td>Neutral Christmas Reading Nook Decor via @caligirlinasouthernworld</td><td>1</td><td>67k</td><td>https://i.pinimg.com/originals/57/a8/65/57a86581b4e5b8ff706624f23c233def.jpg</td><td>6147</td><td>image</td><td>Curated Interior</td><td>Local save in /data/home-decor</td><td>Living Room Decor,Bedroom Decor,Deep Seat Cushions,Cozy Corner,Home And Deco,Ballard Designs,Home Interior,Interior Design,Upholstered Chairs</td><td>25 Neutral Christmas Decor Ideas</td><td>68bfa7e0-8887-48e4-8b0a-301da999253b</td></tr><tr><td>mens-fashion</td><td>Beat the heat in style.</td><td>1</td><td>613k</td><td>https://i.pinimg.com/originals/b4/6b/31/b46b31424987b090b179a35d30aac8ad.jpg</td><td>6755</td><td>image</td><td>Mens Fashion - LIFESTYLE BY PS </td><td>Local save in /data/mens-fashion</td><td>Nice Casual Outfits For Men,Cool Summer Outfits,Men Casual,Formal Outfits,Casual Summer,Men Summer,Mens Classy Outfits,Casual Styles,Summer Ideas</td><td>9 Coolest Summer Outfit Formulas For Stylish Guys</td><td>56e0ec59-0d05-4985-878e-06033be5d87d</td></tr><tr><td>quotes</td><td>I over analyze situations because I'm scared of what will happen if I'm not prepared for it.</td><td>1</td><td>5M</td><td>https://i.pinimg.com/originals/83/bc/73/83bc73b11f083bc1754215a13d026c2d.jpg</td><td>8328</td><td>image</td><td>The Minds Journal</td><td>Local save in /data/quotes</td><td>Now Quotes,Hard Quotes,Real Quotes,True Quotes,Qoutes,Quotes Love,Feeling Broken Quotes,Quotes Deep Feelings,Quotes On Anxiety</td><td>I Over Analyze Situations</td><td>7adb0cba-f804-48b7-9458-254681242e5e</td></tr><tr><td>quotes</td><td>#quotes</td><td>1</td><td>942k</td><td>https://i.pinimg.com/originals/e8/f1/cf/e8f1cfc18c4a9333555ab1ed672928b3.jpg</td><td>8194</td><td>image</td><td>YourTango</td><td>Local save in /data/quotes</td><td>Motivational Frases,Best Inspirational Quotes,Great Quotes,Quotes To Live By,Most Inspiring Quotes,Inspiring Words,Life Quotes Inspirational Motivation,Best Motivational Quotes Ever,Cherish Quotes</td><td>Pin on Language Learning & Motivational Quotes</td><td>baab6ab6-4221-4c58-8ba7-fcc2c39e5e96</td></tr><tr><td>quotes</td><td>You only fail when you stop trying.</td><td>1</td><td>166k</td><td>https://i.pinimg.com/originals/60/38/cb/6038cb0faa1970c963d7da164e331fb3.jpg</td><td>8110</td><td>image</td><td>Women.com</td><td>Local save in /data/quotes</td><td>The Words,Cool Words,Good Life Quotes,Great Quotes,Quote Life,Life Is Beautiful Quotes,Beautiful Quotes Inspirational,Qoutes Of Life,Amazing Quotes</td><td>50 Spot-On Motivational Quotes That Will Make Your Heart Soar</td><td>03949ea0-2240-45c7-af64-5265e80fa140</td></tr><tr><td>mens-fashion</td><td>Source: gezzasmenswear.tumblr.com source More menswear & suits!</td><td>1</td><td>920</td><td>https://i.pinimg.com/originals/28/31/6c/28316c8e0390a8e6bcbf2dcad4a8aa8c.jpg</td><td>7033</td><td>image</td><td>The Church Of Truth And Logic</td><td>Local save in /data/mens-fashion</td><td>Mens Fashion Blog,Estilo Fashion,Mens Fashion Suits,Mens Suits,Fashion Outfits,Womens Fashion,Fashion Tips,Fashion Ideas,Fashion 2016</td><td>THE SUIT MEN</td><td>b2d19af8-1c48-48c4-b7c0-ac8834f2be1e</td></tr><tr><td>quotes</td><td>Your Anger? It's Telling You Where You Feel Powerless – The Minds Journal</td><td>1</td><td>5M</td><td>https://i.pinimg.com/originals/c1/7f/c8/c17fc8e527358adbfe1a3840e1a85880.jpg</td><td>7618</td><td>image</td><td>The Minds Journal</td><td>Local save in /data/quotes</td><td>The Words,Wisdom Quotes,Me Quotes,Anger Quotes,Sport Quotes,Truth Quotes,Famous Quotes,Qoutes,Funny Quotes</td><td>17 Heart-Centred Ways to Simplify Your Life</td><td>b8bb119f-30b2-4231-a73b-af6caf1d41d4</td></tr><tr><td>vehicles</td><td>Tail end of this gorgeous 1959 Cadillac old car.</td><td>1</td><td>3k</td><td>https://i.pinimg.com/originals/1d/f5/9c/1df59c35a1d9183b44d7bde39e686ac9.jpg</td><td>10619</td><td>image</td><td>Amazing Classic Cars</td><td>Local save in /data/vehicles</td><td>Retro Cars,Vintage Cars,Antique Cars,1959 Cadillac,1957 Chevrolet,Chevrolet Trucks,Chevrolet Impala,Convertible,Chevy Girl</td><td>1959 Cadillac - Amazing Classic Cars</td><td>364f43e3-486b-4270-855c-1a330465424c</td></tr><tr><td>beauty</td><td>I'll take a dozen, please.</td><td>1</td><td>346k</td><td>https://i.pinimg.com/originals/76/eb/60/76eb607d7d1791bae028de1031d9a27e.jpg</td><td>1515</td><td>image</td><td>Allure</td><td>Local save in /data/beauty</td><td>Makeup 101,Drugstore Makeup,Makeup Goals,Skin Makeup,Makeup Inspo,Beauty Makeup,Makeup Ideas,Best Drugstore Lashes,Makeup Products</td><td>These $1 False Lashes Look EXACTLY Like Pricy Lash Extensions</td><td>bfc38060-0c9a-4107-8f3e-fdf2341269ba</td></tr><tr><td>art</td><td>Caption this - 14 April</td><td>1</td><td>5M</td><td>https://i.pinimg.com/originals/63/e2/95/63e29597b8aff80f2f5e9c004fb50699.png</td><td>858</td><td>image</td><td>The Minds Journal</td><td>Local save in /data/art</td><td>Dark Art Drawings,Art Drawings Sketches Simple,Pencil Art Drawings,Cool Drawings,Drawings With Meaning,Random Drawings,Eye Drawings,Japanese Drawings,Unique Drawings</td><td>Caption this - 14 April</td><td>9fe497af-3991-48d3-873c-f9af4e28d3ab</td></tr><tr><td>vehicles</td><td>No description available</td><td>1</td><td>18</td><td>https://i.pinimg.com/originals/86/da/39/86da39f34c43d4fdd721100f3123a54d.jpg</td><td>10846</td><td>image</td><td>Katie</td><td>Local save in /data/vehicles</td><td>Luxury Sports Cars,Top Luxury Cars,Sport Cars,Bmw Sport,Jaguar Sport,Tesla Roadster,Aston Martin Vanquish,Bmw I8,Bugatti Veyron</td><td>Luxury Cars Tesla Vehicles 51 Ideas For 2019</td><td>4fbb063a-5d44-44b8-a65d-3d4f91065cbf</td></tr><tr><td>vehicles</td><td>No description available</td><td>1</td><td>171k</td><td>https://i.pinimg.com/originals/a0/b9/d8/a0b9d873c610a1793b9888dd2bd7075d.jpg</td><td>10962</td><td>image</td><td>vintagetopia</td><td>Local save in /data/vehicles</td><td>Chevrolet Camaro 1969,67 Camaro,Chevy Chevelle Ss,Chevy Pickups,Corvette,Ford Mustang 1969,Mustang Cobra,Old Muscle Cars,Chevy Muscle Cars</td><td>Chevrolet Camaro 1969</td><td>332ce8f1-303d-4692-9d3a-3d630c0b14b6</td></tr><tr><td>travel</td><td>No description available Story format</td><td>0</td><td>67</td><td>Image src error.</td><td>9732</td><td>multi-video(story page format)</td><td>Sus42</td><td>Local save in /data/travel</td><td>Places To Travel,Places To See,Travel Destinations,Dream Vacations,Vacation Spots,Voyage Europe,Places Around The World,Beautiful Places In The World,Wonderful Places</td><td>Brienz Switzerland</td><td>0eca4770-10eb-407a-859c-10fd52e38dcb</td></tr><tr><td>quotes</td><td>No description available Story format</td><td>0</td><td>2k</td><td>Image src error.</td><td>7981</td><td>multi-video(story page format)</td><td>MONTANO DIANA ✿◕‿◕✿</td><td>Local save in /data/quotes</td><td>Positive Affirmations Quotes,Affirmation Quotes,Wisdom Quotes,True Quotes,Words Quotes,Wise Words,Positive Quotes,Motivational Quotes,Wall Of Quotes</td><td>THINGS</td><td>9f34995c-4e78-4638-bfd2-1fe267ab5dea</td></tr><tr><td>vehicles</td><td>Jaguar E-Type.</td><td>1</td><td>710</td><td>https://i.pinimg.com/originals/22/40/a9/2240a9bba22d1b6061f189fb1314da96.jpg</td><td>10826</td><td>image</td><td>Philippe Steele</td><td>Local save in /data/vehicles</td><td>Jaguar E Type,Jaguar Cars,Jaguar Xk,Classic Sports Cars,Classic Cars,Retro Cars,Vintage Cars,Automobile,Muscle Cars</td><td>Cooler Than Before - Jaguar E-Type.</td><td>528f81e8-1066-49bd-828c-bd4ee4221842</td></tr><tr><td>vehicles</td><td>only the best</td><td>1</td><td>12k</td><td>https://i.pinimg.com/originals/ac/cc/3d/accc3d0ed4bf4ef230133c97c9340828.jpg</td><td>10708</td><td>image</td><td>Kirsten |  Life & Style in Britain</td><td>Local save in /data/vehicles</td><td>Landrover Defender,Defender 90,Landrover Series,My Dream Car,Dream Cars,Mercedes Benz G,Automobile,Cool Jeeps,Car Goals</td><td>only the best</td><td>f80e0f30-4fc2-4a0f-a028-6fa9b9bb1a0e</td></tr><tr><td>quotes</td><td>No description available Story format</td><td>0</td><td>375</td><td>Image src error.</td><td>8269</td><td>multi-video(story page format)</td><td>Draaz Scarf</td><td>Local save in /data/quotes</td><td>Happy Wallpaper,Wallpaper Quotes,Wallpaper Backgrounds,Iphone Wallpaper,Trendy Wallpaper,Positive Quotes Wallpaper,Kawaii Wallpaper,Cheer Quotes,Happy Quotes</td><td>Sunday quotes</td><td>0555ba9a-3399-46ce-b4b0-ceb736292971</td></tr><tr><td>art</td><td>No description available</td><td>1</td><td>89</td><td>https://i.pinimg.com/originals/2c/ce/e0/2ccee086f875967dcfec26433c20f460.jpg</td><td>17</td><td>image</td><td>Kate Smith</td><td>Local save in /data/art</td><td>Art Drawings Sketches,Tattoo Drawings,Cool Art Drawings,Drawing Art,Skull Drawings,Skull Sketch,Drawing Birds,Bird Sketch,Skull Artwork</td><td>Art Drawings Sketches</td><td>599e1538-7ede-4150-b16b-2a35b1b226b5</td></tr><tr><td>art</td><td>Caption this - 22 November 2019</td><td>1</td><td>5M</td><td>https://i.pinimg.com/originals/78/f5/57/78f557f158809f46d0bcc185755537e7.jpg</td><td>423</td><td>image</td><td>The Minds Journal</td><td>Local save in /data/art</td><td>Arte Horror,Horror Art,Dark Fantasy Art,Art Inspo,Art Sinistre,Art Jouet,Sad Paintings,Art Noir,Deep Art</td><td>Caption this - 22 November 2019</td><td>fa2abf2d-c5e0-4194-928e-032f140b8be6</td></tr><tr><td>vehicles</td><td>No description available Story format</td><td>0</td><td>49k</td><td>Image src error.</td><td>10903</td><td>multi-video(story page format)</td><td>Tim Adam - Car Enthusiast</td><td>Local save in /data/vehicles</td><td>Nissan 370z,Nissan Z Cars,Best Jdm Cars,Best Luxury Cars,Weird Cars,Cool Cars,Strange Cars,Crazy Cars,Pimped Out Cars</td><td>Nissan 370Z</td><td>d2b2e6b6-8c99-414d-93a2-8e0db3407896</td></tr><tr><td>tattoos</td><td>No description available Story format</td><td>0</td><td>900</td><td>Image src error.</td><td>8531</td><td>multi-video(story page format)</td><td>jellyaz</td><td>Local save in /data/tattoos</td><td>Dope Tattoos,Mini Tattoos,Dainty Tattoos,Little Tattoos,Small Tattoos,Tatoos,Awesome Tattoos,Random Tattoos,Pretty Tattoos</td><td>word tattoos</td><td>27f3a5e5-a542-49d2-96e2-56ffcf224708</td></tr><tr><td>mens-fashion</td><td>No description available Story format</td><td>0</td><td>User Info Error</td><td>Image src error.</td><td>7504</td><td>multi-video(story page format)</td><td>User Info Error</td><td>Local save in /data/mens-fashion</td><td>N,o, ,T,a,g,s, ,A,v,a,i,l,a,b,l,e</td><td>No Title Data Available</td><td>5a575d8d-385e-4b29-a87c-d04f147eb42a</td></tr></tbody></table></div>"
      ]
     },
     "metadata": {
      "application/vnd.databricks.v1+output": {
       "addedWidgets": {},
       "aggData": [],
       "aggError": "",
       "aggOverflow": false,
       "aggSchema": [],
       "aggSeriesLimitReached": false,
       "aggType": "",
       "arguments": {},
       "columnCustomDisplayInfos": {},
       "data": [
        [
         "quotes",
         "Here are 15 inspirational quotes to start your day feeling motivated and positive. Inspiring words are a great tool to combat anxiety and fear. They can offer hope and spark you… ",
         1,
         "19k",
         "https://i.pinimg.com/originals/db/ce/e4/dbcee4c357b42cb18fcefa044aacd55a.jpg",
         8161,
         "image",
         "Dream Dash Journal",
         "Local save in /data/quotes",
         "Good Vibes Quotes Positivity,Positive Quotes For Life Encouragement,Positive Morning Quotes,Funny Positive Quotes,Positive Uplifting Quotes,Feeling Positive Quotes,Motivational Quotes For Success Positivity,Positive Quotes About Love,Morning Qoutes",
         "15 Inspirational quotes to start your day off feeling motivated and positive. Inspiring words can he",
         "da45e81e-3768-4e7c-862f-a1aae4289cf4"
        ],
        [
         "event-planning",
         "Brand Name: HeronsbillOrigin: CN(Origin)is_customized: NoPattern: stripedModel Number: LED-D04Material: CopperOccasion: Wedding & EngagementOccasion: Christening & BaptismOccasi… ",
         1,
         "649",
         "https://i.pinimg.com/originals/47/47/de/4747de8c2310834f982702dda0263ec6.jpg",
         4678,
         "image",
         "Qfdian",
         "Local save in /data/event-planning",
         "Party Girlande,Led Curtain Lights,Icicle Lights,Window Lights,Backdrop Lights,Twinkle Lights,Backdrop Photobooth,Wall Lights,Wall Fairy Lights",
         "qfdian 3m 100/200/300 LED Curtain String Light Garland Wedding Party Decorations Table Bachelorette Birthday Christmas New Year Festoon - Colorful With Hook / 3MX2M 200LED",
         "b512bba6-5ce9-4414-ab31-156a3bff6320"
        ],
        [
         "quotes",
         "Motivational quotes. Motivational quotes for success. Motivational quotes for women. Affirmations for self-love. Affirmations for positivity. Positive mindset. Law of attraction… ",
         1,
         "45k",
         "https://i.pinimg.com/originals/53/86/6d/53866d35a32393ba29c75582a428bc09.jpg",
         8468,
         "image",
         "Boss Babe Chronicles | Personal Development, Finances, Self Care",
         "Local save in /data/quotes",
         "Positive Self Affirmations,Positive Affirmations Quotes,Affirmation Quotes,Positive Mindset,Postive Quotes,Positive Uplifting Quotes,Affirmations Success,Law Of Attraction Affirmations,Law Of Attraction Quotes",
         "50 Positive Affirmations That Will Change Your Life",
         "bb3ea8aa-c9c0-4164-b050-aa7811c051a0"
        ],
        [
         "quotes",
         "It's possible to reprogram your thoughts and fill your life with more success and happiness. No matter what your current beliefs are, you can change them for the better.",
         1,
         "17k",
         "https://i.pinimg.com/originals/b1/4a/fa/b14afaae339fca00365b8ba8dea67c57.jpg",
         8359,
         "image",
         "Lovely Refinement Health & Wellness",
         "Local save in /data/quotes",
         "Positive Quotes For Life Encouragement,Good Life Quotes,Self Love Quotes,Inspiring Quotes About Life,Quotes To Live By,Quotes Positive,Happy Quotes About Life,Cute Quotes About Happiness,Quotes About Mindset",
         "5 Ways To Reprogram Your Thoughts For More Happiness - Lovely Refinement",
         "1856773e-ee8a-4ab8-8325-2a5bd306d825"
        ],
        [
         "christmas",
         "This artificial pre-lit skinny Christmas tree is designed with plenty branches and one branch tip at the top in a small slim pencil tree shape for you to save space! You can DIY… ",
         1,
         "5k",
         "https://i.pinimg.com/originals/d9/ab/c0/d9abc01ad3ffde9365869e472c33c375.jpg",
         2227,
         "image",
         "Wear24-7",
         "Local save in /data/christmas",
         "Cashmere Christmas Tree,Skinny Christmas Tree,Pencil Christmas Tree,Christmas Tree With Snow,Flocked Christmas Trees,Christmas Greenery,Christmas Fireplace,Christmas Store,Holiday Ornaments",
         "VEIKOUS 6ft/7.5ft Slim Pencil Christmas Tree Pre-lit with Adjustable Lights and Stand - 7.5 Foot",
         "c2358cc5-7458-4350-a413-7689c2360b3a"
        ],
        [
         "diy-and-crafts",
         "HALLOWEEN CRAFTS FOR KIDS: Spider handprint craft - this is too cute! A perfect Halloween craft for preschoolers, kindergarten or toddlers. #halloween #halloweencrafts #kidscraf… ",
         1,
         "903k",
         "https://i.pinimg.com/videos/thumbnails/originals/78/27/21/782721435dc388129a66ef4dba432b06.0000001.jpg",
         3421,
         "video",
         "The Best Ideas for Kids",
         "Local save in /data/diy-and-crafts",
         "Halloween Arts And Crafts,Halloween Crafts For Toddlers,Halloween Tags,Halloween Crafts For Kids,Toddler Crafts,Kids Crafts,Diy For Kids,Halloween Preschool Activities,Decor Crafts",
         "Spider Handprint Craft - The Best Ideas for Kids",
         "49dec45b-e807-4f2c-b442-a92ff4ef0d6c"
        ],
        [
         "event-planning",
         "Being an event planner could easily be described as one of the most stressful yet entertaining jobs in the universe. With all of the food, guests, promoting, tracking, analyzing… ",
         1,
         "4k",
         "https://i.pinimg.com/originals/47/78/6b/47786be4dc12f7401504b68caa56247b.jpg",
         4494,
         "image",
         "EventPlanning.com | Learn How To Become An Event Planner",
         "Local save in /data/event-planning",
         "Event Planning Tips,Event Planning Business,Event Ideas,Theme Ideas,Party Planning,Wedding Event Planner,Wedding Events,Tent Wedding,Weddings",
         "10 Tech Tools that Help Event Planners Do Their Job - Learn About Event Planning",
         "32c8ac38-4283-4275-8fd7-8ddc9c04e13b"
        ],
        [
         "quotes",
         "The honeymoon phase is the most romantic stage of a relationship, and it's no wonder it's the one we miss the most it when gone and passed. Look to these romantic love quotes to… ",
         1,
         "942k",
         "https://i.pinimg.com/originals/83/2b/d5/832bd5e2517d84e843e1c183a6c1b860.jpg",
         7679,
         "image",
         "YourTango",
         "Local save in /data/quotes",
         "Love Quotes For Him Cute,Love Quotes For Him Boyfriend,Quotes About Moving On From Love,Falling In Love Quotes,Love Quotes Funny,Inspirational Quotes About Love,Romantic Love Quotes,New Quotes,Words Quotes",
         "20 Romantic Love Quotes That Will Make You Fall In Love All Over Again",
         "5f557e9c-ec27-4976-af4c-534190dc0941"
        ],
        [
         "education",
         "March is the perfect time to pull out ALL your rainbow and weather activities! Turn your classroom into a seasonal storm with our Made For Me Literacy Weather Unit! This unit is… ",
         1,
         "21k",
         "https://i.pinimg.com/originals/53/f0/f8/53f0f80e2048085e7e5a866cfd558ecd.png",
         4159,
         "image",
         "Teaching Special Thinkers",
         "Local save in /data/education",
         "Special Education Classroom,Classroom Community,Special Education Activities,Teaching Math,Preschool Kindergarten,Preschool Education,Science Classroom,Classroom Ideas,Lesson Plan For Kindergarten",
         "Weather Activities For Kids - Teaching Special Thinkers",
         "0c482cf8-b912-4886-83c6-fe57bf9eac00"
        ],
        [
         "art",
         "Mit der Puste-Technik kann man einfach wunderschöne Kunstwerke gestalten! Lade dir einfach das Mädchen mit Schirm (auch verfügbar als Junge mit Schirm) herunter und los geht der… ",
         1,
         "71k",
         "https://i.pinimg.com/videos/thumbnails/originals/76/53/0b/76530b1d736cea566c9a68dd8d96d3f7.0000001.jpg",
         674,
         "video",
         "Faminino | Basteln mit Kinder, Ratgeber und easy DIY-Ideen ",
         "Local save in /data/art",
         "Crayon Art,Melted Crayon Crafts,Art Drawings Sketches Simple,Colorful Drawings,Diy Canvas Art,Art Club,Art Plastique,Art Activities,Diy Art",
         "Regenbogen-Regen - Tanzendes Mädchen (inkl. Download)",
         "db168555-2951-4295-8961-317efe30e0bb"
        ],
        [
         "finance",
         "Credit Sesame offers free access to a version of your credit score + $50,000 in free identity theft insurance, but there are a few downsides to the service.",
         1,
         "46k",
         "https://i.pinimg.com/originals/e2/6d/7a/e26d7a597f2f83a21803ead5c401613e.png",
         5303,
         "image",
         "R.J. Weiss at The Ways To Wealth | Personal Finance | Debt Payoff",
         "Local save in /data/finance",
         "What Is Credit Score,Fix Your Credit,Build Credit,Improve Your Credit Score,Rebuilding Credit,Credit Repair Companies,Ideas Prácticas,Paying Off Credit Cards,Planning Budget",
         "Credit Sesame Review: The Pros, Cons and Best Features",
         "573cd520-b16e-41f0-a59a-e0d8d04d2ee2"
        ],
        [
         "christmas",
         "Christmas Tree Topper Gnome - Hand Made Gnome Christmas Decoration, Funny Christmas Tree Topper, Also be Used as Curtain Tie, Unique Christmas Gnome Decoration UNIQUE TREE TOPPE… ",
         1,
         "71",
         "https://i.pinimg.com/originals/21/7d/23/217d238c022c28ffa56a38972affa02c.jpg",
         2505,
         "image",
         "Everythingforhalloween",
         "Local save in /data/christmas",
         "Christmas Gnome,Christmas Humor,Unique Christmas Trees,Christmas Wreaths,Christmas Crafts,Xmas Ornaments,Christmas Tree Decorations,Christmas Sewing,Outdoor Christmas",
         "Christmas Tree Topper Gnome Hand Made Gnome Christmas Decoration - GREY HAT",
         "9d45e6c7-a4df-460c-8b00-4048ef9f93c6"
        ],
        [
         "finance",
         "Budget like a boss with this all in one resource for personal finance to track your bills, expenses, debt, money goals, savings, and much more! In order to create financial awar… ",
         1,
         "8k",
         "https://i.pinimg.com/originals/6e/ae/43/6eae43de87b268102f76268eedd719dd.png",
         5668,
         "image",
         "Iconic Style Inc | Fashion & Success",
         "Local save in /data/finance",
         "Financial Goals,Financial Planning,Investing For Retirement,Savings Challenge,Budgeting Worksheets,Finance Organization,Create A Budget,Budgeting Finances,Finance Tips",
         "The Ultimate Personal Finance Planner  – Iconic Style Inc.",
         "a93ab7df-4f91-497b-9d21-d2a253574928"
        ],
        [
         "education",
         "If you feel like your progress monitoring for your special education IEP goals is scattered and disorganized, this blog post is for you! In this post, I share how to organize yo… ",
         1,
         "12k",
         "https://i.pinimg.com/originals/10/6a/3e/106a3e3e4ee0c098c760ac33ac154e43.png",
         3918,
         "image",
         "The Primary Gal",
         "Local save in /data/education",
         "Special Education Organization,Special Education Activities,Special Education Classroom,Classroom Activities,Special Education Progress Monitoring,Primary Education,Resource Room Teacher,Learning Support,Organize",
         "Organizing Progress Monitoring",
         "39a09761-4a18-416f-b81c-cb186dcbc468"
        ],
        [
         "christmas",
         "11 Farmhouse Christmas Stocking Ideas |Christmas stockings|ticking stripe stocking|farmhouse decor|christmas stocking ideas|farmhouse christmas|white christmas|shabby chic|chris… ",
         1,
         "91k",
         "https://i.pinimg.com/originals/e5/8e/1e/e58e1e773fed9ea04e4cba7013e2d81a.jpg",
         1644,
         "image",
         "Hallstrom Home",
         "Local save in /data/christmas",
         "Christmas Fireplace,Christmas Mantels,Christmas Home,Christmas Tree Crafts,Fireplace Mantel Christmas Decorations,Homemade Christmas,Christmas Holidays,Christmas Ideas,Merry Christmas",
         "11 Farmhouse Christmas Stocking Ideas – Hallstrom Home",
         "28af63b4-eed9-4a41-b0c0-4d1f8fba491d"
        ],
        [
         "christmas",
         "How to make paper Christmas decorations - Budget DIY tutorial on make Christmas tree baubles and tree decorations from card. Craft project inspiration",
         1,
         "312",
         "https://i.pinimg.com/originals/bd/f5/83/bdf5837852efc91234919e4507be1f3f.jpg",
         2377,
         "image",
         "Rachel Hedges",
         "Local save in /data/christmas",
         "Paper Christmas Decorations,Christmas Tree Paper Craft,Christmas Room,Christmas Ornament Crafts,Xmas Crafts,Diy Christmas Gifts,Christmas Tree Decorations To Make,Personalised Christmas Decorations,How To Make Christmas Tree",
         "DIY Paper decorations {12 Crafts of Christmas}",
         "33bae33d-dfb5-4463-8eec-44840a9a5991"
        ],
        [
         "home-decor",
         "In This House The latest in home decorating. Beautiful wall vinyl decals, that are simple to apply, are a great accent piece for any room, come in an array of colors, and are a… ",
         1,
         "7k",
         "https://i.pinimg.com/originals/a4/57/56/a457562af7802a3ca441e6b24fe116cd.jpg",
         6266,
         "image",
         "Boop Decals",
         "Local save in /data/home-decor",
         "Inexpensive Home Decor,Easy Home Decor,Cheap Home Decor,Painted Staircases,Painted Stairs,Staircase Painting,Escalier Design,Foyer Decorating,Budget Decorating",
         "In This House Stairs Version 3 Decor Decal Sticker Wall Vinyl Art - saphire blue",
         "9862005f-97e2-4c97-ada6-05d732844415"
        ],
        [
         "travel",
         "Sigöldugljúfur waterfall near Landmannalaugar in Iceland. Click for the full list of the most beautiful waterfalls in Iceland. #Iceland #europe #photography #travel #travelguide… ",
         1,
         "25k",
         "https://i.pinimg.com/originals/1d/78/37/1d78374e72c9eb4a9d27039861bbd355.jpg",
         9977,
         "image",
         "Norman - Luxury travel",
         "Local save in /data/travel",
         "Travel Photography Inspiration,Travel Inspiration,Beautiful Waterfalls,Beautiful Landscapes,Beautiful Scenery,Beautiful Things,Beautiful Pictures,Dream Pictures,Beautiful Beautiful",
         "15 jaw-droppingly beautiful waterfalls in Iceland",
         "3719f505-20cc-485b-8b01-ea2aee6f6e62"
        ],
        [
         "tattoos",
         "Grim ReaperThe latest in home decorating. Beautiful wall vinyl decals, that are simple to apply, are a great accent piece for any room, come in an array of colors, and are a che… ",
         1,
         "7k",
         "https://i.pinimg.com/originals/bb/99/0b/bb990b140f181542b9a9d4ff2b4efb4b.jpg",
         8795,
         "image",
         "Boop Decals",
         "Local save in /data/tattoos",
         "Wall Decal Sticker,Vinyl Wall Decals,Wall Stickers,Vinyl Art,Reaper Drawing,Tattoo Tradicional,Grim Reaper Tattoo,Simple Skull,Wood Burning Patterns",
         "Traditional Grim Reaper Tattoo Decal Sticker Wall Vinyl Art Home Decor Skull Flowers - white",
         "36d73381-9e73-423a-a0c4-aee0658331bc"
        ],
        [
         "education",
         "Engaging sentence building activity to teach your students about sentences and their parts. The perfect addition to your literacy centers in kindergarten and first-grade!",
         1,
         "37k",
         "https://i.pinimg.com/originals/e6/4c/db/e64cdb723d74f92ea280872849c1c0c2.jpg",
         3695,
         "image",
         "Deanna Jump | Kindergarten and First Grade Teaching Resources",
         "Local save in /data/education",
         "Centers First Grade,First Grade Activities,Teaching First Grade,Reading Stations,Writing Station,Reading Centers,Work Stations,1st Grade Writing,First Grade Reading",
         "Sentence Building Center Activity",
         "274d6096-7592-4d9d-b800-6cc239c0d33a"
        ],
        [
         "vehicles",
         "It’s really difficult to imagine what definite post-apocalyptic scenario the ARMORTRUCK concept was designed for because truth be told, it looks like the kind of...",
         1,
         "416k",
         "https://i.pinimg.com/originals/0e/93/69/0e9369655753d22181900e013a12973a.jpg",
         10775,
         "image",
         "Yanko Design - Form Beyond Function",
         "Local save in /data/vehicles",
         "Cool Sports Cars,Sport Cars,Cool Cars,Future Concept Cars,Future Car,Army Vehicles,Armored Vehicles,Audi Ai,Armored Truck",
         "This armored vehicle is for people who think the Tesla Cybertruck isn’t intense enough - Yanko Design",
         "2fcb1acc-3aef-40af-be09-cd979be0a0f1"
        ],
        [
         "event-planning",
         "A party doesn't have to cost an arm and a leg to be amazing. Fun and cheap DIY party decorations are all things that you can make yourself! Give it a try!",
         1,
         "42k",
         "https://i.pinimg.com/originals/2e/9e/7e/2e9e7eb160b70fccb554a25af077bf5e.jpg",
         4459,
         "image",
         "Caroline|CarolineVencil.com | Saving & Making Money | Pro Blogger",
         "Local save in /data/event-planning",
         "Trendy Wedding,Dream Wedding,Elegant Wedding,Perfect Wedding,Spring Wedding,Rustic Wedding,Romantic Weddings,Vintage Weddings,Wedding House",
         "Fun and Cheap DIY Party Decorations For All Celebrations",
         "c57ab99a-a118-435f-9748-c2b1d6dc19dc"
        ],
        [
         "event-planning",
         "Customizar estes vidros vai depender da necessidade de cada um, o bom mesmo é que aproveitamos tudo, desde correntes que não usamos mais, brincos, fitas, flores, cordões, fios d… ",
         1,
         "546",
         "https://i.pinimg.com/originals/7d/5e/8e/7d5e8e22bf5acf11b3343882bf485710.jpg",
         4965,
         "image",
         "Penha Lucia",
         "Local save in /data/event-planning",
         "Wedding Table,Diy Wedding,Wedding Reception,Rustic Wedding,Wedding Day,Wedding Flowers,Wedding Bells,Party Planning,Wedding Planning",
         "Potes de vidro de conserva, na decoração, organização, vasos, faça você mesmo!",
         "1255901f-78fc-4cc7-a471-5ac19210c17b"
        ],
        [
         "art",
         "Californian artist Isabel Emrich paints dazzling depictions of women submerged in water. Each colorful oil painting captures moments of tranquility below the water’s surface, as… ",
         1,
         "2M",
         "https://i.pinimg.com/originals/41/6c/9a/416c9a9ba8841dd369aadd00d10d729d.jpg",
         8,
         "image",
         "Bored Panda",
         "Local save in /data/art",
         "Art Sketches,Art Drawings,L'art Du Portrait,Self Portrait Artists,Portrait Ideas,Art Du Croquis,Underwater Painting,Breathing Underwater,Reflection Art",
         "Californian Artist Isabel Emrich Paints Dazzling Depictions Of Women Submerged Underwater",
         "8e75ccf1-915a-49df-a16b-2c5b9190b568"
        ],
        [
         "education",
         "30 Great Motivational and Inspirational Quotes for Teachers #inspirationalquotes #teacherquotes #teaching #wisdom #teachers",
         1,
         "42k",
         "https://i.pinimg.com/originals/0b/25/f9/0b25f9ce3793ffbae57a70ad7e7061b3.jpg",
         4215,
         "image",
         "A Teachable Teacher",
         "Local save in /data/education",
         "Special Education Quotes,Education Quotes For Teachers,Educational Quotes For Students,Quotes For The Classroom,Free Education,Teacher Education,Famous Quotes About Education,Sayings For Teachers,Being A Teacher Quotes",
         "10 Not-So-Obvious Quotes for Teachers - A Teachable Teacher",
         "610a0d8c-ec25-415f-924b-449d0d9e17c5"
        ],
        [
         "diy-and-crafts",
         "Looking for some cute winter crafts for kids? Children's wintertime craft ideas are some of the most adorable, with everything from snowflakes to snowmen, icy icicles and igloos… ",
         1,
         "985k",
         "https://i.pinimg.com/originals/61/68/b6/6168b6a5c804bfaea1f30ff8e3d23b6d.jpg",
         2644,
         "image",
         "DIY Joy - Crafts, Home Improvement, Decor & Recipes",
         "Local save in /data/diy-and-crafts",
         "Kids Crafts,Winter Crafts For Toddlers,Daycare Crafts,Winter Kids,Cute Crafts,Projects For Kids,Art Projects,Winter Preschool Crafts,Preschool Age",
         "35 Winter Crafts for Kids",
         "d0a27977-f766-47f9-8648-134a73453ba6"
        ],
        [
         "quotes",
         "I'm slowly learning that even if I react, it won't change anything, it won't make people suddenly love and respect me, it won't magically change their minds. Sometimes it's bett… ",
         1,
         "236k",
         "https://i.pinimg.com/originals/58/38/bb/5838bb6e21c3c6e85b3537bb16ace86c.jpg",
         7942,
         "image",
         "The Mindset Journey",
         "Local save in /data/quotes",
         "Quotable Quotes,Wisdom Quotes,True Quotes,Great Quotes,Words Quotes,Quotes To Live By,Motivational Quotes,Inspirational Quotes,Quotes On Inner Peace",
         "I'm Slowly Learning That Even If I React, It Won't Change Anything",
         "9938ca78-8642-44e8-877b-86727367134e"
        ],
        [
         "travel",
         "Iceland is a total dream country to visit, especially if you're keen on the kind of trip that's a little different from a beach or tropical holiday. Luxury Travel | Ultimate Des… ",
         1,
         "459k",
         "https://i.pinimg.com/originals/88/2e/fd/882efd22de67b7b644309649dadd75ef.jpg",
         9986,
         "image",
         "Hand Luggage Only",
         "Local save in /data/travel",
         "Beautiful Places To Travel,Best Places To Travel,Cool Places To Visit,Best Vacations,Vacation Trips,Vacation Spots,Vacation Places,European Vacation,European Travel",
         "Your Epic 1-Week Travel Itinerary To Visit Iceland",
         "ba0857f3-f2d8-4e52-8504-3bb9bdabaa04"
        ],
        [
         "finance",
         "This print ready digital resource journal and planner is a guide to assist budding entrepreneurs in turning that dream into a business. It walks one through the steps from idea… ",
         1,
         "11",
         "https://i.pinimg.com/originals/fa/99/a5/fa99a5660983fc84ed71e18f727db3ae.png",
         5211,
         "image",
         "JasanaTees",
         "Local save in /data/finance",
         "Business Planner,Business Advice,Start Up Business,Business Entrepreneur,Business Quotes,Bakery Business,Business Branding,Entrepreneur Inspiration,Business Inspiration",
         "Vision to Fruition Business Resource Journal & Planner",
         "6c06e71e-5158-4d99-b0c2-fe606ebe5a9c"
        ],
        [
         "mens-fashion",
         "Product Name: Leisure Motion Standing Collar Warm Cotton Jacket Item NO.: 4356748476465 Weight: 0.8 kg = 1.7637 lb = 28.2192 oz Category: Men's Outerwear > Men's Jackets Tag: 20… ",
         1,
         "31k",
         "https://i.pinimg.com/originals/80/78/65/807865c3b7f390a6be457a79bf7b5d2c.jpg",
         7216,
         "image",
         "joymanmall",
         "Local save in /data/mens-fashion",
         "Winter Outfits Men,Stylish Mens Outfits,Casual Outfits,Urban Style Outfits Men,Men Winter Fashion,Outfits For Men,Smart Casual Outfit,Mens Winter,Simple Outfits",
         "Leisure Motion Standing Collar Warm Cotton Jacket",
         "bed8c98e-c3af-458f-91bb-49d9e0ac0bfa"
        ],
        [
         "tattoos",
         "On rêve d'un joli tatouage... mais lorsque l'on pense aux petites aiguilles qui vont venir dessiner le motif choisi : on se dit que ce n'est pas pour nous ! Mais plutôt que de c… ",
         1,
         "494k",
         "https://i.pinimg.com/originals/bd/36/bb/bd36bbb67fb1901d9589604d8b7aa29d.jpg",
         8943,
         "image",
         "aufeminin",
         "Local save in /data/tattoos",
         "Word Tattoos On Hand,Small Hand Tattoos,Hand Tattoos For Women,Meaningful Tattoos For Women,Dainty Tattoos,Little Tattoos,Mini Tattoos,Tattoo With Words,Tattoo Hand",
         "30 tatouages minimalistes pour enfin sauter le pas",
         "11216553-04ce-4909-aa72-a1993331eab2"
        ],
        [
         "christmas",
         "Get your front porch and front yard ready for Christmas with DIY projects. Check out these cute and fun items that are simple to make and budget friendly!",
         1,
         "37k",
         "https://i.pinimg.com/originals/6c/f5/78/6cf578a49bebdc39426f16e509ff9b88.jpg",
         2254,
         "image",
         "A Fresh-Squeezed Life",
         "Local save in /data/christmas",
         "Christmas Decorations Diy Crafts,Xmas Crafts,Christmas Projects,Christmas Home,Holiday Decor,Decor Crafts,Halloween Decorations,Fall Decor,Diy Christmas Lights",
         "OUTDOOR FARMHOUSE CHRISTMAS DECORATING IDEAS - A Fresh-Squeezed Life",
         "7a668b10-e2ed-4637-898e-99f29056f572"
        ],
        [
         "tattoos",
         "Without being autonomous, I’m a big fan of tattoos. As a way, the visual decoration of your free patten body and the method of communication are important things for you, your l… ",
         1,
         "49k",
         "https://i.pinimg.com/originals/5e/d9/cd/5ed9cd725179b76b4a0b2ce360358412.jpg",
         9324,
         "image",
         "hotcrochet.com ",
         "Local save in /data/tattoos",
         "Leg Tattoos,Body Art Tattoos,Small Tattoos,Sleeve Tattoos,Tatoos,Finger Tattoos,Tattoo Forearm,Tattoo On Leg,Female Arm Tattoos",
         "50+ Great Designs For Small Tattoo İdeas And Small Tattoos - hotcrochet .com",
         "01056b26-ea0f-47c4-a9f6-7548909c005e"
        ],
        [
         "art",
         "Create your own artistic interpretations of famous artists' work with these Famous Artists Crafts for Kids!Famous Artist Projects for Kids! Meet the Masters with these fun and F… ",
         1,
         "546",
         "https://i.pinimg.com/originals/c3/bb/14/c3bb14258c81daeb80e1e8abcfc2fe5a.jpg",
         212,
         "image",
         "Sherree Wilkinson",
         "Local save in /data/art",
         "Classroom Art Projects,School Art Projects,Art Classroom,Art History Projects For Kids,Mondrian,Famous Artists For Kids,Famous Artists Paintings,Kids Art Class,Art Lessons Elementary",
         "Famous Artists Crafts for Kids",
         "2e574c57-7e92-405b-8364-0a64475170a3"
        ],
        [
         "beauty",
         "Cool Personal self care routine:) #skincareroutine #skincaretips The post Personal self care routine:) #skincareroutine #skincaretips… appeared first on Beauty 2018-2019 Trends… ",
         1,
         "340k",
         "https://i.pinimg.com/originals/39/4e/4a/394e4af45d816accc2a19ed471004ef1.jpg",
         1125,
         "image",
         "Woman's Day",
         "Local save in /data/beauty",
         "Skin Care Routine For 20s,Self Care Routine,Skincare Routine,Nail Care Routine,Beauty Care Routine,Skin Routine,Vie Motivation,How To Clean Makeup Brushes,Anti Aging Skin Care",
         "12 Ways You're Ruining Your Nails",
         "281804ae-f80e-454a-952e-0b1dd568cbf3"
        ],
        [
         "quotes",
         "If you're feeling a little hopeless when it comes to dating, check out these 40 'I love you' quotes that will make you believe in love again. #lovequotes #romanticquotes #sweetm… ",
         1,
         "942k",
         "https://i.pinimg.com/originals/58/5c/80/585c80e189d9457b006a44b8ca73d1db.jpg",
         7689,
         "image",
         "YourTango",
         "Local save in /data/quotes",
         "Love Quotes Poetry,Life Quotes Love,Love Yourself Quotes,Love Poems,Love Quotes For Him,Words Quotes,Quotes Quotes,Making Love Quotes,Funny Quotes",
         "40 'I Love You' Quotes That Will Make You Believe In Love Again",
         "7d0dbc82-1add-4558-b4bf-8e7d0358f0b5"
        ],
        [
         "education",
         "Working on addition? Try making a post-it math activity as a great alternative to worksheets! An easy number sense activity for math facts.",
         1,
         "203k",
         "https://i.pinimg.com/originals/df/12/99/df1299e092338e8bf2ac6764717a8ad7.png",
         4055,
         "image",
         "Susie Allison | Busy Toddler",
         "Local save in /data/education",
         "Number Sense Activities,Math Activities For Kids,Fun Math,Kids Math,Addition Activities,Preschool Classroom Centers,Child Development Activities,Lego Math,Addition Games",
         "Post-It Math Activity for Teaching Addition - Busy Toddler",
         "1e18abb3-42f1-4d75-bdb3-86b3f8f79c6c"
        ],
        [
         "education",
         "It doesn’t take a genius to educate a large family at home, but it does take quite a bit of focus and ingenuity. Here are some homeschool hacks to help.",
         1,
         "5k",
         "https://i.pinimg.com/originals/05/20/71/0520712dd7fd34916cd93730aea33121.jpg",
         3471,
         "image",
         "Sherry Hayes",
         "Local save in /data/education",
         "Planning School,School Planner,Professor,Homeschool Curriculum,Homeschooling Resources,Learning Activities,Homeschooling Statistics,Homeschool Supplies,Kids Learning",
         "More than 15 Homeschool Hacks from a Mom of 15 • Mom Delights",
         "99662f47-2474-412d-abc2-945f1eee68dc"
        ],
        [
         "travel",
         "Exploring Zion and Bryce Canyon: A Week In Utah — Allison Anderson - Solo Female Travel Blog",
         1,
         "8k",
         "https://i.pinimg.com/originals/c9/8f/7c/c98f7c011726892b61cae6a0828ca2bf.jpg",
         10283,
         "image",
         "Allison Anderson | Solo Travel & Lifestyle Blog",
         "Local save in /data/travel",
         "Beautiful Places To Travel,Cool Places To Visit,Places To Go,Nature Architecture,Travel Photographie,Blog Voyage,Travel Aesthetic,Vacation Ideas,Vacation Countdown",
         "Exploring Zion and Bryce Canyon: A Week In Utah — Allison Anderson - Solo Female Travel Blog",
         "0571551c-8aa3-4620-8e95-e17efa0123c7"
        ],
        [
         "home-decor",
         "The best cheap decorating trick there is to hop your home #homedecor #farmhouse #wilshirecollections",
         1,
         "79k",
         "https://i.pinimg.com/originals/b8/45/e7/b845e795ad72a5e82e585b6a4dd37770.jpg",
         6213,
         "image",
         "Stacey Collins | Wilshire Collections",
         "Local save in /data/home-decor",
         "Shabby Chic Homes,Shabby Chic Decor,Home Decor Bedroom,Entryway Decor,Cheap Bedroom Decor,Furniture Makeover,Home Furniture,Rustic Furniture,Furniture Ideas",
         "The best cheap decorating trick there is! How to transition your decor without breaking the bank!",
         "7e8f55fd-2e82-4d72-af4c-e5b2c7f9ea5d"
        ],
        [
         "travel",
         "21 Best Christmas Trips in America | usa Christmas trips | Christmas trips usa | where to spend Christmas in the usa | Christmas travel destinations | christmas travel destinati… ",
         1,
         "47k",
         "https://i.pinimg.com/originals/1a/6d/9c/1a6d9c144b37fcbcd4dc8325e5e35dab.jpg",
         9784,
         "image",
         "Follow Me Away",
         "Local save in /data/travel",
         "Best Christmas Vacations,Christmas Getaways,Christmas Destinations,Christmas Travel,Christmas Town,Holiday Travel,Vacation Destinations,Dream Vacations,Winter Vacations",
         "21 Best Christmas Trips in America",
         "8ff9c540-e7b6-43f6-abc7-bb629d43ae9c"
        ],
        [
         "christmas",
         "I’m thrilled to share with you our Old World European Inspired Christmas home tour. Come away with European Christmas decorating ideas!",
         1,
         "64k",
         "https://i.pinimg.com/originals/e5/f5/90/e5f5909c5a9c1e440921c18993fcca5c.jpg",
         2239,
         "image",
         "TIDBITS",
         "Local save in /data/christmas",
         "Old Time Christmas,Christmas Home,Christmas Crafts,Christmas Holidays,Christmas Ideas,Old Fashioned Christmas Decorations,Christmas Tree Decorations,Xmas Ornaments,Christmas Interiors",
         "Old World European Inspired Christmas Home Tour | TIDBITS by Cami",
         "ba565e4f-c082-467b-8045-1bf0b90795e2"
        ],
        [
         "event-planning",
         "No description available Story format",
         1,
         "3k",
         "https://i.pinimg.com/videos/thumbnails/originals/e5/0f/71/e50f712c843c382634955f6577e472ea.0000001.jpg",
         4495,
         "multi-video(story page format)",
         "Small Business Tips on Branding and Marketing.",
         "Local save in /data/event-planning",
         "Business Notes,Business Planner,Business Advice,Small Business Marketing,Business Motivation,Best Small Business Ideas,Small Business Plan,Starting A Business,Diy Business Ideas",
         "5 most important things to do  before you launch your Small Business.",
         "86275306-bdd1-46dc-a50b-b2fc9ff7670a"
        ],
        [
         "tattoos",
         "Wedding Ring Tattoos: Pastel Flowers Ring Tattoo. A dainty flower ring tattoo inked in a watercolor style. Click through for 30 wedding ring tattoo ideas. #weddingringtattoos #r… ",
         1,
         "538k",
         "https://i.pinimg.com/originals/a8/9f/6a/a89f6a93b23732b610ec66fc5f8b2068.jpg",
         9245,
         "image",
         "Byrdie",
         "Local save in /data/tattoos",
         "Dainty Tattoos,Mom Tattoos,Couple Tattoos,Body Art Tattoos,Tatoos,Couples Ring Tattoos,Love Symbol Tattoos,Finger Tattoo For Women,Small Finger Tattoos",
         "Wedding Ring Tattoos: Pastel Flowers Ring Tattoo",
         "23387186-8009-480b-a361-a38fad0e77ed"
        ],
        [
         "diy-and-crafts",
         "Fun art activity for kids! And a great way to make DIY wrapping paper!",
         1,
         "73k",
         "https://i.pinimg.com/videos/thumbnails/originals/f2/be/7e/f2be7e6b347a2a25cb048d83d24024dc.0000001.jpg",
         2662,
         "video",
         "Happy Toddler Playtime",
         "Local save in /data/diy-and-crafts",
         "Preschool Christmas Crafts,Christmas Activities For Kids,Toddler Christmas,Craft Activities For Kids,Preschool Crafts,Holiday Crafts,Kids Christmas Art,Art Crafts For Kids,Nursery Activities",
         "Potato Stamped Christmas Lights Activity - HAPPY TODDLER PLAYTIME",
         "6e71d765-a43c-4187-bc1e-3e3fa21cea1d"
        ],
        [
         "tattoos",
         "\"A new age of consciousness\", and it's written in the stars. As we enter the Age of Aquarius, or the 'Golden Age' we are certainly experiencing a change in global consciousness… ",
         1,
         "6k",
         "https://i.pinimg.com/originals/b4/61/fc/b461fc3aac0f5c002a4686ed53b5a5fd.jpg",
         9421,
         "image",
         "Round The World Magazine",
         "Local save in /data/tattoos",
         "Petite Tattoos,Dainty Tattoos,Dope Tattoos,Back Tattoos,Mini Tattoos,Body Art Tattoos,Small Tattoos,Sleeve Tattoos,Tattoos Of Dates",
         "A List of 198 Spiritual Tattoo Ideas and Designs",
         "2eb2066b-7fbd-44bc-b5a7-0f5c4120d083"
        ],
        [
         "christmas",
         "Flocked Buffalo Check Christmas Tree. With handmade ornaments and mercury glass. Perfect farmhouse christmas tree",
         1,
         "68k",
         "https://i.pinimg.com/originals/3a/b8/b4/3ab8b4be75fd641fcd3025b9fe0a2ca0.jpg",
         1743,
         "image",
         "Weekend Craft",
         "Local save in /data/christmas",
         "Simple Christmas Tree Decorations,Flocked Christmas Trees Decorated,Black Christmas Trees,Ribbon On Christmas Tree,Beautiful Christmas Trees,Plaid Christmas,Christmas Time,Buffalo Check Christmas Decor,Christmas Wreaths",
         "Flocked Buffalo Check Christmas Tree",
         "b7b2ca88-5581-4aaf-a16b-92cd2d69bf5a"
        ],
        [
         "quotes",
         "#selfconfidence #strength #feelings #emotions #selfawareness #inspirationalquotes #shortinspirationalquotes #wordsofwisdom #quotestoliveby",
         1,
         "228k",
         "https://i.pinimg.com/originals/7c/77/45/7c774503eeca16e0d5e38a880fe6df3e.jpg",
         8371,
         "image",
         "Iva A. Ursano Amazing Me Movement",
         "Local save in /data/quotes",
         "Short Inspirational Quotes,Great Quotes,Motivational Quotes,Uplifting Quotes,Wisdom Quotes,True Quotes,Quotes To Live By,On My Own Quotes,I Needed You Quotes",
         "Dear Me, F*ck You - A Raw and Real Open Letter to Myself",
         "4fd5f9ce-ffe1-405a-ae75-7ec89368f8c9"
        ],
        [
         "tattoos",
         "Buy a cheap copy of A Daily Word: 366 Scriptural Devotions for Growing Christians by Paul Chappell 1598940767 9781598940763 - A gently used book at a great low price. Free shipp… ",
         1,
         "12",
         "https://i.pinimg.com/originals/85/c8/6e/85c86e7714e5d986fa890ec7b1c30e9e.jpg",
         8759,
         "image",
         "Juna Saito",
         "Local save in /data/tattoos",
         "Little Tattoos,Mini Tattoos,Cute Tattoos,Body Art Tattoos,Tatoos,Pretty Tattoos,Dainty Tattoos,Ankle Tattoos,Sexy Tattoos",
         "A Daily Word: 366 Scriptural Devotions for Growing Christians by Paul",
         "d0176c81-9a41-4765-b420-e4769925e616"
        ],
        [
         "quotes",
         "There are more ways to say I love you than those three little words. Here are some fantastic I love you quotes for everyone!",
         1,
         "166k",
         "https://i.pinimg.com/originals/09/61/ff/0961ff7eaca61d4d3191fd7a2182ddb0.jpg",
         7669,
         "image",
         "Women.com",
         "Local save in /data/quotes",
         "Cute Love Quotes,Love Quotes For Her,Love Yourself Quotes,Quotes To Live By,Best Quotes Of All Time,Love For Her,Love Qoutes,You Make Me Happy Quotes,Funny Romantic Quotes",
         "'I Love  You' Quotes: 22 Heartwarming Quotes To Help You Say 'I Love You’",
         "7b3dbe06-46de-40f6-8a2b-4fe0ff616167"
        ],
        [
         "diy-and-crafts",
         "Here is a list of 20 creative and fun snowflake activities and crafts for babies, toddlers, preschoolers & kindergartners!",
         1,
         "73k",
         "https://i.pinimg.com/originals/ae/b4/9d/aeb49df0feaa7f1adc5a522049664e78.jpg",
         2720,
         "image",
         "Happy Toddler Playtime",
         "Local save in /data/diy-and-crafts",
         "Preschool Christmas,Christmas Activities,Craft Activities,Toddler Activities,Winter Preschool Crafts,Kids Crafts,Christmas Crafts,Motor Activities,Therapy Activities",
         "Snowflake Crafts & Activities - HAPPY TODDLER PLAYTIME",
         "cef62b5d-ad06-4faf-aac9-2690550a3e66"
        ],
        [
         "home-decor",
         "We have decked the halls here at our house and I am very excited to share my very first Christmas home tour!",
         1,
         "21k",
         "https://i.pinimg.com/originals/95/a4/89/95a48915f36ba0976bdd96bd124adfda.jpg",
         6050,
         "image",
         "Micheala Diane Designs |  Interior Design, Home Styling and DIY Projects",
         "Local save in /data/home-decor",
         "Christmas Living Rooms,Cozy Living Rooms,Home Living Room,Living Room Furniture,Living Room Designs,Modern Furniture,Apartment Living,Antique Furniture,Rustic Furniture",
         "Our Christmas Home Tour",
         "5c1aaf3e-7860-4235-b620-a47545c3d85a"
        ],
        [
         "quotes",
         "There is nothing more satisfying than saying \"screw you\" to the one who broke your heart. These break up quotes will help save your sorry, hurting soul from the heartbreak.",
         1,
         "942k",
         "https://i.pinimg.com/originals/b0/a5/75/b0a5750fcb889384446d6558f4b6765e.jpg",
         7823,
         "image",
         "YourTango",
         "Local save in /data/quotes",
         "Crush Quotes,Mood Quotes,Life Quotes,Quotes Quotes,Qoutes,Friend Quotes,So True Quotes,Love Quotes To Him,Being Hurt Quotes",
         "30 Quotes For When You Want To Say A Big “F-YOU” To Your Scumbag Ex",
         "f2abad27-56e6-4294-80af-965d73cf5196"
        ],
        [
         "christmas",
         "Set the table for feasting, toasting, and general merrymaking on Christmas Day and all of the winter days leading up to it.",
         1,
         "2M",
         "https://i.pinimg.com/originals/6b/34/48/6b344828a514cfeb22a44333c957b800.jpg",
         1783,
         "image",
         "Martha Stewart Living",
         "Local save in /data/christmas",
         "Noel Christmas,Christmas Crafts,Christmas Ornaments,Nordic Christmas,Modern Christmas,Christmas Christmas,Christmas Wedding,Christmas Movies,Christmas Table Settings",
         "Beautiful Christmas Table Settings That Will Enchant Your Guests",
         "cd0ae216-8140-492d-8d9f-4d9414da82b0"
        ],
        [
         "tattoos",
         "The best love can be the one with yourself. These self-love tattoos bring your focus back on yourself and inspire you to love yourself unconditionally.",
         1,
         "190k",
         "https://i.pinimg.com/originals/f8/30/3b/f8303b9c2cb4d1cc1db4bf7ac89820cc.jpg",
         9405,
         "image",
         "Our Mindful Life",
         "Local save in /data/tattoos",
         "Dope Tattoos,Mini Tattoos,Body Art Tattoos,Sleeve Tattoos,Cool Guy Tattoos,Tatoos,Small Tattoos For Guys,Cool Small Tattoos,Tattoos For Women",
         "40 Empowering Self-love Tattoos And Meaning - Our Mindful Life",
         "27948f02-bbac-4f38-81e8-d4c7d7db1f03"
        ],
        [
         "quotes",
         "It's time to take off the cuff put on you by narcissists. These 29 toxic relationship quotes are so sad but true. And they may be the wake up call you need.",
         1,
         "190k",
         "https://i.pinimg.com/originals/ba/77/f8/ba77f8d93c839b9d1bdf002803a3c949.jpg",
         8037,
         "image",
         "Our Mindful Life",
         "Local save in /data/quotes",
         "Good Night Quotes,Love Mom Quotes,Niece Quotes,Now Quotes,Daughter Love Quotes,Words Quotes,Quotes To Live By,Sayings,Bad Mother Quotes",
         "32 Toxic Relationship Quotes That Empower You To Leave For Good",
         "1c04a065-0f75-471d-99a8-b0027ae2491d"
        ],
        [
         "home-decor",
         "What I love and swoon over is a more soulful kitchen, perhaps even moody. Dark painted cabinets, natural woods and mixed materials are sublime",
         1,
         "15k",
         "https://i.pinimg.com/originals/d4/c2/e2/d4c2e2f7e0c76e75ba0bfb15a2331669.jpg",
         6448,
         "image",
         "Linda Merrill Decorative Surroundings",
         "Local save in /data/home-decor",
         "Kitchen Redo,Home Decor Kitchen,Kitchen Interior,New Kitchen,Home Kitchens,Kitchen Dining,Kitchen Ideas,Devol Kitchens,Kitchen Cabinets",
         "Ode to the Soulful Kitchen - Linda Merrill",
         "902facca-9884-4e89-9264-c4a8b9e4bc5e"
        ],
        [
         "quotes",
         "New Year Resolution Fitness Plan + FREE PRINTABLES – 12 Things To Change In 2017",
         1,
         "110k",
         "https://i.pinimg.com/originals/da/22/90/da22901ea1d4d05d4058f39b59520db7.jpg",
         8289,
         "image",
         "Fit Girl's Diary",
         "Local save in /data/quotes",
         "Motivation Sportive,Gewichtsverlust Motivation,Exercise Motivation,Exercise Routines,Motivation Inspiration,Exercise Schedule,Exercise Cardio,Weight Loss Motivation Quotes,Fitness Inspiration Quotes",
         "New Year Resolution Fitness Plan - 12 Things To Change in 2017",
         "312c2c1e-9c0e-4335-bd4e-a4413ba1573c"
        ],
        [
         "finance",
         "No description available Story format",
         1,
         "553",
         "https://i.pinimg.com/videos/thumbnails/originals/b7/d7/c4/b7d7c48a96edd7189343d7d5e35c8d1f.0000001.jpg",
         5285,
         "multi-video(story page format)",
         "Freedom4Life - Financial Management, Affiliate Marketer, Blogger",
         "Local save in /data/finance",
         "Financial Tips,Financial Literacy,Financial Planning,Teen Life Hacks,Useful Life Hacks,David Ramsey,Finance Books,Feel Good Videos,Money Tips",
         "How Millionaires Avoid Uncle Sam - Tik Tok Credit @johnefinance",
         "38d51f28-a376-4eb1-9197-c29f423f385d"
        ],
        [
         "event-planning",
         "From cool photo booth backdrops to what camera to use, here's everything you need to make brilliant memories!",
         1,
         "93k",
         "https://i.pinimg.com/originals/b3/3d/c0/b33dc03ede5178fe2f50dbc7c7cf8fcf.jpg",
         4554,
         "image",
         "Hitched",
         "Local save in /data/event-planning",
         "Backyard Wedding Decorations,Wedding Ceremony Backdrop,Wedding Backyard,Hanging Decorations,Backdrop Decorations,Ceremony Decorations,Diy Backdrop,Backdrops,Backdrop Photobooth",
         "How to Make Your Own DIY Photo Booth: 6 Easy Steps",
         "9861220c-66ac-43b1-9bbb-da679e43c99c"
        ],
        [
         "mens-fashion",
         "TRACKLIST:00:00 WORLD STAY SPINNIN' [Prod. Chemztat]02:49 SIXTEEN [Prod. TrellGotWings]04:47 WANG BASS [Prod. Lexi Banks]07:16 GIHAD [Prod. TrellGotWings]09:...",
         1,
         "939",
         "https://i.pinimg.com/originals/51/de/f4/51def4b3fe8b94894a97e9a2e5659a41.jpg",
         7232,
         "image",
         "Logan Klein",
         "Local save in /data/mens-fashion",
         "Mens Fashion Blog,Fashion Mode,Look Fashion,Fashion Outfits,Fashion Trends,Skater Fashion,Petite Fashion,Curvy Fashion,Fashion Bloggers",
         "\"CONSPIRACY\" WHITE T [FULL TAPE]",
         "619956f5-b7a8-4557-a866-b85ce8753352"
        ],
        [
         "travel",
         "Outfit Details: Look 1- Lisa Marie Fernandez Dress, Mark Cross Bag (sold out, similar here), K. Jacques Sandals, Raen Sunglasses…",
         1,
         "399k",
         "https://i.pinimg.com/originals/02/46/f4/0246f45631ddc2643379a164890751ae.jpg",
         9504,
         "image",
         "Julia Berolzheimer",
         "Local save in /data/travel",
         "St Tropez France,Places To Travel,Places To Go,Travel Destinations,Vacation Places,Reisen In Europa,Destination Voyage,French Countryside,France Travel",
         "Grimaud & St. Tropez, France - Julia Berolzheimer",
         "cddc38b6-3697-44cb-a4ec-91b3f583bede"
        ],
        [
         "quotes",
         "Become who you want to be! Spend you time wisely. Today is the time to change. Travel, explore and enjoy the world.",
         1,
         "37k",
         "https://i.pinimg.com/originals/ac/5a/04/ac5a04a7d7c1450985231b64fda0b6b2.jpg",
         7973,
         "image",
         "2sharemyjoy.com | Vegan Recipes & Meal Plans",
         "Local save in /data/quotes",
         "The Words,Affirmations,Quote Posters,Found Out,Quotes To Live By,Wake Up Quotes,Quotes Quotes,Motivational Quotes For Women,Quotes For Being Strong",
         "20 Best Plant Based Protein Sources (Vegan)",
         "06cd7ed7-ce3f-4aba-bf5b-eb5993b6153c"
        ],
        [
         "art",
         "Looking for inspirations to create the mysterious forest world and enchant the viewer’s eye? This is all that you’re gonna need to achieve just that!",
         1,
         "556k",
         "https://i.pinimg.com/originals/08/8e/0a/088e0a25e0a270b28b3c437713ea43ad.jpg",
         355,
         "image",
         "Homesthetics.net",
         "Local save in /data/art",
         "Fantasy Kunst,Environment Design,Fantasy Landscape,Landscape Art,Landscape Drawings,Forest Landscape,Art Design,Tree Art,Oeuvre D'art",
         "51 Enigmatic Forest Concept Art That Will Amaze You",
         "bf5e698d-d5b6-46f6-b450-2218f9a8b5c9"
        ],
        [
         "finance",
         "Are you a good tipper? I was a server for five years and have seen tips of all ranges. I have even witnessed customers being chased after for a bigger tip!",
         1,
         "8k",
         "https://i.pinimg.com/originals/90/ff/24/90ff24f43bc2050c559a9170d49923be.jpg",
         5736,
         "image",
         "Jen | Save to Splurge",
         "Local save in /data/finance",
         "Money On My Mind,Show Me The Money,Money Tips,Money Saving Tips,Creating Wealth,Budget Organization,Frugal Living Tips,Money Matters,Finance Tips",
         "Are You a Good Tipper? |",
         "313643d5-4d17-4bd5-9401-e818fe09e4d7"
        ],
        [
         "travel",
         "No description available Story format",
         1,
         "2k",
         "https://i.pinimg.com/videos/thumbnails/originals/59/e7/b3/59e7b35cd8f993b6c9d8db9aa26d3d0d.0000001.jpg",
         9749,
         "multi-video(story page format)",
         "Travel with Munia",
         "Local save in /data/travel",
         "World Most Beautiful Place,Beautiful Photos Of Nature,Beautiful Places In The World,Beautiful Places To Visit,Cool Places To Visit,Beautiful Vacation Spots,Most Beautiful Pictures,Beautiful Things,Places To Go",
         "so love travel 💘??",
         "8487bc7f-fd9e-44a4-88f5-4ea8583b45f1"
        ],
        [
         "beauty",
         "Many natural hair products use \"greenwashing\" marketing tactics to seem natural. Here's a handy chart to help you separate the good from the bad.",
         1,
         "81k",
         "https://i.pinimg.com/originals/9c/73/dd/9c73ddd9711541a7f9f6f4b3a252657d.jpg",
         1199,
         "image",
         "Mama Natural",
         "Local save in /data/beauty",
         "Beauty Care,Beauty Skin,Beauty Hacks,Health And Beauty,Beauty Tips,Beauty Products,Hair Products,Diy Beauty,Healthy Beauty",
         "Natural Beauty Products: The Good, The Bad, and The Ugly",
         "203ac75e-9655-47f6-8f20-5d74fbe7578b"
        ],
        [
         "mens-fashion",
         "ZAFUL offers a wide selection of trendy fashion style women's clothing. Affordable prices on new tops, dresses, outerwear and more.",
         1,
         "893k",
         "https://i.pinimg.com/originals/57/90/b0/5790b00bab6068621985512217fd7d7c.jpg",
         7057,
         "image",
         "ZAFUL",
         "Local save in /data/mens-fashion",
         "Best Mens Fashion,Suit Fashion,Male Fashion,Fashion Menswear,Fashion Styles,Fashion Outfits,Fashion Shorts,Men's Outfits,Fashion 2018",
         "Trendy Fashion Style Women's Clothing Online Shopping",
         "742873e9-a0a1-46d4-b17b-9a90949f49e4"
        ],
        [
         "event-planning",
         "No description available Story format",
         1,
         "3k",
         "https://i.pinimg.com/videos/thumbnails/originals/92/56/25/92562542fb6adf027834e77b4da03eb6.0000001.jpg",
         4741,
         "multi-video(story page format)",
         "FemaleInspiring",
         "Local save in /data/event-planning",
         "Tshirt Business,Craft Business,Business Design,Business Stationary,Business Planner,Jobs For Teens,Teen Jobs,Ways To Get Money,Best Small Business Ideas",
         "I just launched my notebooks. Designed by me 🤍",
         "9c491de1-6911-44bb-8a8f-78c8a302f5be"
        ],
        [
         "event-planning",
         "Read advice on TheKnot.com. Get tips on etiquette and find suggestions for your wedding.",
         1,
         "545k",
         "https://i.pinimg.com/originals/ec/a4/6c/eca46cc4f6378d29c6757224395ff9ac.jpg",
         4594,
         "image",
         "The Knot",
         "Local save in /data/event-planning",
         "Diy Photo Backdrop,Diy Photo Booth,Backdrop Ideas,Photo Booths,Balloon Backdrop,Photo Backdrops,Booth Ideas,Photo Props,Budget Wedding",
         "5 DIY Backdrops For Your Photo Booth, Ceremony and Reception!",
         "b7944394-f559-4162-9212-d53c9a4493dc"
        ],
        [
         "home-decor",
         "Add some pep to your step with these shoppable finds.",
         1,
         "5M",
         "https://i.pinimg.com/originals/8f/56/f0/8f56f0819e6f4d1ea90c9cde8d59a697.jpg",
         6569,
         "image",
         "Apartment Therapy",
         "Local save in /data/home-decor",
         "Home Decor Kitchen,Kitchen Interior,New Kitchen,Home Kitchens,Kitchen With Plants,Bohemian Kitchen Decor,Apartment Kitchen Decorating,Boho Decor,Kitchen Modern",
         "Everything You Need to Know About the Kitchen's Top Design Trend",
         "4b68882a-3b19-4dc1-b555-4009475fe01e"
        ],
        [
         "education",
         "Simon Says Ideas Printable",
         1,
         "903k",
         "https://i.pinimg.com/originals/f8/8c/9a/f88c9a979594d25713c06646f6820ff6.jpg",
         3709,
         "image",
         "The Best Ideas for Kids",
         "Local save in /data/education",
         "Games For English Class,Toddler Activities,Fun Activities,Movement Activities,Outside Activities For Kids,Physical Activities For Kids,Activities For 4 Year Olds,Icebreakers For Kids,Charades For Kids",
         "Simon Says Ideas - The Best Ideas for Kids",
         "9c6340e5-98df-4285-b239-5e4f200455e4"
        ],
        [
         "education",
         "Total Pages: 40 + editable pages File Size: 30 MB Download Preview",
         1,
         "52k",
         "https://i.pinimg.com/originals/61/e2/ab/61e2ab97ee6e1939b94b4f157bbf3ae8.png",
         3583,
         "image",
         "The Printable Princess",
         "Local save in /data/education",
         "Home Learning,Learning Resources,Teacher Resources,Learning Spaces,Teacher Sites,Teacher Binder,Teacher Planner Free,Learning People,Teacher Lesson Planner",
         "10 Weeks of Distance Learning Activities",
         "92dd3852-4545-4609-bcd1-7432e5ce5300"
        ],
        [
         "education",
         "Amazing advice and encouragement for new teachers, from teachers who care!",
         1,
         "3k",
         "https://i.pinimg.com/originals/ec/57/ee/ec57ee6c67f87e11da600244de1d2070.jpg",
         4275,
         "image",
         "Coach's Corner",
         "Local save in /data/education",
         "1st Year Teachers,First Year Teaching,Student Teaching,Teacher Books,Teacher Resources,Teacher Stuff,Teachers Toolbox,Teacher Quotes,Teaching Strategies",
         "First Year Teacher Tips - Primary Flourish",
         "e619ec42-1801-4806-924a-5225fca3297a"
        ],
        [
         "education",
         "A provocative look at higher education as featured in The New York Times Two decades ago A Nation at Risk sounded a national alarm on K-12 education. Now, an equally urgent alar… ",
         1,
         "2M",
         "https://i.pinimg.com/originals/90/1b/e2/901be2bc9c4beca25dc9db05844beff7.jpg",
         3798,
         "image",
         "Walmart",
         "Local save in /data/education",
         "N,o, ,T,a,g,s, ,A,v,a,i,l,a,b,l,e",
         "Declining by Degrees : Higher Education at Risk (Paperback)",
         "3566de93-1adc-4c88-8f48-4e8073cd2942"
        ],
        [
         "finance",
         "No description available Story format",
         1,
         "760",
         "https://i.pinimg.com/videos/thumbnails/originals/5b/d0/9e/5bd09e26bc69c212cf5057ecbe2b6417.0000001.jpg",
         5357,
         "multi-video(story page format)",
         "Kenya. Finances 101",
         "Local save in /data/finance",
         "Ways To Save Money,Money Tips,Money Saving Tips,Money Budget,Budgeting Finances,Budgeting Tips,Financial Tips,Financial Planning,Goal Planning",
         "Useful Budgeting tips for beginner",
         "a402b531-eb6e-4f48-b447-e8aed916fb67"
        ],
        [
         "tattoos",
         "An interesting post from POPSUGAR Love & Sex. Check it out!",
         1,
         "5M",
         "https://i.pinimg.com/originals/64/63/bb/6463bb6e81b19ebb3d32ea933e88c048.jpg",
         8695,
         "image",
         "POPSUGAR",
         "Local save in /data/tattoos",
         "Discreet Tattoos For Women,Sexy Tattoos For Women,Tiny Tattoos For Girls,Small Hip Tattoos Women,Bum Tattoo Women,Tattoed Women,Cute Tiny Tattoos,Diskrete Tattoos,Mini Tattoos",
         "70 Sexy (but Discreet) Tattoos For Women",
         "825bab46-ee99-49c8-ad3c-858eb161222f"
        ],
        [
         "travel",
         "No description available Story format",
         1,
         "10k",
         "https://i.pinimg.com/videos/thumbnails/originals/31/e2/6f/31e26f10e39e45b77b678d0bc77bbb0f.0000001.jpg",
         9660,
         "multi-video(story page format)",
         "Michelle Norris",
         "Local save in /data/travel",
         "Vacation Places,Dream Vacations,Vacation Trips,Vacation Spots,Fun Places To Go,Beautiful Places To Travel,Travel Aesthetic,Beautiful Buildings,Travel Around The World",
         "Travel inspo ",
         "29e7e64b-386f-4db9-b788-e088954ee8fa"
        ],
        [
         "mens-fashion",
         "Men’s Summer fashion sporty outfit inspiration. Like it? #mensfashion #style #streetstyle #outfit",
         1,
         "6k",
         "https://i.pinimg.com/originals/0b/8d/88/0b8d888c865e2f5cc2ce34c6d82fd369.jpg",
         6817,
         "image",
         "PERDREAMS",
         "Local save in /data/mens-fashion",
         "Summer Outfits Men,Sporty Outfits,Athletic Outfits,Mode Outfits,Summer Men,Winter Outfits,Men Summer Fashion,Summer Ideas,Mens Athletic Fashion",
         "Summer Outfits Men",
         "6b387785-c30f-490a-958b-0b0b976b138f"
        ],
        [
         "vehicles",
         "We cover the best SUV's, electric, luxury, and sports cars to bring you the latest automotive news from modern marvels to vintage classics.",
         1,
         "112k",
         "https://i.pinimg.com/originals/23/d5/b9/23d5b9aa5e94152faaa91fde7e69e1c1.jpg",
         10580,
         "image",
         "Man of Many",
         "Local save in /data/vehicles",
         "Hummer For Sale,New Hummer,Hummer Truck,Hummer Cars,Hummer H3,Offroad,Tactical Truck,Armored Truck,Car Wheels",
         "Cars Archives",
         "dafddbc3-f4ef-49e7-a1de-703a1096f899"
        ],
        [
         "mens-fashion",
         "Showing the latest trends in men's clothing, hair styles, and more...",
         1,
         "47",
         "https://i.pinimg.com/originals/ed/39/11/ed39110092f8a80f3234989d9d740b3a.jpg",
         7420,
         "image",
         "ThatUserNameIsAlreadyTakenT",
         "Local save in /data/mens-fashion",
         "Sharp Dressed Man,Well Dressed Men,Caban Bleu Marine,Fashion Models,Mens Fashion,Trendy Fashion,Fashion Black,La Mode Masculine,Gentleman Style",
         "Men's Fashion for 2013",
         "c3fad5a1-ba91-4c37-9b95-0fea075a0b53"
        ],
        [
         "mens-fashion",
         "Become the best-dressed guy.",
         1,
         "613k",
         "https://i.pinimg.com/originals/80/33/18/803318ed61b44f69843712e17f7a72ac.jpg",
         7534,
         "image",
         "Mens Fashion - LIFESTYLE BY PS ",
         "Local save in /data/mens-fashion",
         "Fashion Mode,Suit Fashion,Fashion Photo,Fashion Outfits,Fashion Clothes,Fashion Trends,Style Fashion,Mens Summer Dress Clothes,Clothes For Men",
         "My 5 Favourite Outfits From This Celeb's Instagram Account",
         "914a7de6-9e7f-4098-bcf3-664112b998f5"
        ],
        [
         "quotes",
         "Relationship Rules is a modern-age lifestyle/love blog that discusses everything from breakups to being amazing parents.",
         1,
         "1",
         "https://i.pinimg.com/originals/0b/27/f5/0b27f5109baa91be35be51f9ba467572.webp",
         8339,
         "image",
         "Wamda",
         "Local save in /data/quotes",
         "Now Quotes,Life Quotes Love,Self Love Quotes,Wisdom Quotes,True Quotes,Words Quotes,Wise Words,Quotes To Live By,One Word Sayings",
         "Relationship Rules",
         "221d9e5c-be3b-40f4-9257-b1102a488021"
        ],
        [
         "home-decor",
         "Neutral Christmas Reading Nook Decor via @caligirlinasouthernworld",
         1,
         "67k",
         "https://i.pinimg.com/originals/57/a8/65/57a86581b4e5b8ff706624f23c233def.jpg",
         6147,
         "image",
         "Curated Interior",
         "Local save in /data/home-decor",
         "Living Room Decor,Bedroom Decor,Deep Seat Cushions,Cozy Corner,Home And Deco,Ballard Designs,Home Interior,Interior Design,Upholstered Chairs",
         "25 Neutral Christmas Decor Ideas",
         "68bfa7e0-8887-48e4-8b0a-301da999253b"
        ],
        [
         "mens-fashion",
         "Beat the heat in style.",
         1,
         "613k",
         "https://i.pinimg.com/originals/b4/6b/31/b46b31424987b090b179a35d30aac8ad.jpg",
         6755,
         "image",
         "Mens Fashion - LIFESTYLE BY PS ",
         "Local save in /data/mens-fashion",
         "Nice Casual Outfits For Men,Cool Summer Outfits,Men Casual,Formal Outfits,Casual Summer,Men Summer,Mens Classy Outfits,Casual Styles,Summer Ideas",
         "9 Coolest Summer Outfit Formulas For Stylish Guys",
         "56e0ec59-0d05-4985-878e-06033be5d87d"
        ],
        [
         "quotes",
         "I over analyze situations because I'm scared of what will happen if I'm not prepared for it.",
         1,
         "5M",
         "https://i.pinimg.com/originals/83/bc/73/83bc73b11f083bc1754215a13d026c2d.jpg",
         8328,
         "image",
         "The Minds Journal",
         "Local save in /data/quotes",
         "Now Quotes,Hard Quotes,Real Quotes,True Quotes,Qoutes,Quotes Love,Feeling Broken Quotes,Quotes Deep Feelings,Quotes On Anxiety",
         "I Over Analyze Situations",
         "7adb0cba-f804-48b7-9458-254681242e5e"
        ],
        [
         "quotes",
         "#quotes",
         1,
         "942k",
         "https://i.pinimg.com/originals/e8/f1/cf/e8f1cfc18c4a9333555ab1ed672928b3.jpg",
         8194,
         "image",
         "YourTango",
         "Local save in /data/quotes",
         "Motivational Frases,Best Inspirational Quotes,Great Quotes,Quotes To Live By,Most Inspiring Quotes,Inspiring Words,Life Quotes Inspirational Motivation,Best Motivational Quotes Ever,Cherish Quotes",
         "Pin on Language Learning & Motivational Quotes",
         "baab6ab6-4221-4c58-8ba7-fcc2c39e5e96"
        ],
        [
         "quotes",
         "You only fail when you stop trying.",
         1,
         "166k",
         "https://i.pinimg.com/originals/60/38/cb/6038cb0faa1970c963d7da164e331fb3.jpg",
         8110,
         "image",
         "Women.com",
         "Local save in /data/quotes",
         "The Words,Cool Words,Good Life Quotes,Great Quotes,Quote Life,Life Is Beautiful Quotes,Beautiful Quotes Inspirational,Qoutes Of Life,Amazing Quotes",
         "50 Spot-On Motivational Quotes That Will Make Your Heart Soar",
         "03949ea0-2240-45c7-af64-5265e80fa140"
        ],
        [
         "mens-fashion",
         "Source: gezzasmenswear.tumblr.com source More menswear & suits!",
         1,
         "920",
         "https://i.pinimg.com/originals/28/31/6c/28316c8e0390a8e6bcbf2dcad4a8aa8c.jpg",
         7033,
         "image",
         "The Church Of Truth And Logic",
         "Local save in /data/mens-fashion",
         "Mens Fashion Blog,Estilo Fashion,Mens Fashion Suits,Mens Suits,Fashion Outfits,Womens Fashion,Fashion Tips,Fashion Ideas,Fashion 2016",
         "THE SUIT MEN",
         "b2d19af8-1c48-48c4-b7c0-ac8834f2be1e"
        ],
        [
         "quotes",
         "Your Anger? It's Telling You Where You Feel Powerless – The Minds Journal",
         1,
         "5M",
         "https://i.pinimg.com/originals/c1/7f/c8/c17fc8e527358adbfe1a3840e1a85880.jpg",
         7618,
         "image",
         "The Minds Journal",
         "Local save in /data/quotes",
         "The Words,Wisdom Quotes,Me Quotes,Anger Quotes,Sport Quotes,Truth Quotes,Famous Quotes,Qoutes,Funny Quotes",
         "17 Heart-Centred Ways to Simplify Your Life",
         "b8bb119f-30b2-4231-a73b-af6caf1d41d4"
        ],
        [
         "vehicles",
         "Tail end of this gorgeous 1959 Cadillac old car.",
         1,
         "3k",
         "https://i.pinimg.com/originals/1d/f5/9c/1df59c35a1d9183b44d7bde39e686ac9.jpg",
         10619,
         "image",
         "Amazing Classic Cars",
         "Local save in /data/vehicles",
         "Retro Cars,Vintage Cars,Antique Cars,1959 Cadillac,1957 Chevrolet,Chevrolet Trucks,Chevrolet Impala,Convertible,Chevy Girl",
         "1959 Cadillac - Amazing Classic Cars",
         "364f43e3-486b-4270-855c-1a330465424c"
        ],
        [
         "beauty",
         "I'll take a dozen, please.",
         1,
         "346k",
         "https://i.pinimg.com/originals/76/eb/60/76eb607d7d1791bae028de1031d9a27e.jpg",
         1515,
         "image",
         "Allure",
         "Local save in /data/beauty",
         "Makeup 101,Drugstore Makeup,Makeup Goals,Skin Makeup,Makeup Inspo,Beauty Makeup,Makeup Ideas,Best Drugstore Lashes,Makeup Products",
         "These $1 False Lashes Look EXACTLY Like Pricy Lash Extensions",
         "bfc38060-0c9a-4107-8f3e-fdf2341269ba"
        ],
        [
         "art",
         "Caption this - 14 April",
         1,
         "5M",
         "https://i.pinimg.com/originals/63/e2/95/63e29597b8aff80f2f5e9c004fb50699.png",
         858,
         "image",
         "The Minds Journal",
         "Local save in /data/art",
         "Dark Art Drawings,Art Drawings Sketches Simple,Pencil Art Drawings,Cool Drawings,Drawings With Meaning,Random Drawings,Eye Drawings,Japanese Drawings,Unique Drawings",
         "Caption this - 14 April",
         "9fe497af-3991-48d3-873c-f9af4e28d3ab"
        ],
        [
         "vehicles",
         "No description available",
         1,
         "18",
         "https://i.pinimg.com/originals/86/da/39/86da39f34c43d4fdd721100f3123a54d.jpg",
         10846,
         "image",
         "Katie",
         "Local save in /data/vehicles",
         "Luxury Sports Cars,Top Luxury Cars,Sport Cars,Bmw Sport,Jaguar Sport,Tesla Roadster,Aston Martin Vanquish,Bmw I8,Bugatti Veyron",
         "Luxury Cars Tesla Vehicles 51 Ideas For 2019",
         "4fbb063a-5d44-44b8-a65d-3d4f91065cbf"
        ],
        [
         "vehicles",
         "No description available",
         1,
         "171k",
         "https://i.pinimg.com/originals/a0/b9/d8/a0b9d873c610a1793b9888dd2bd7075d.jpg",
         10962,
         "image",
         "vintagetopia",
         "Local save in /data/vehicles",
         "Chevrolet Camaro 1969,67 Camaro,Chevy Chevelle Ss,Chevy Pickups,Corvette,Ford Mustang 1969,Mustang Cobra,Old Muscle Cars,Chevy Muscle Cars",
         "Chevrolet Camaro 1969",
         "332ce8f1-303d-4692-9d3a-3d630c0b14b6"
        ],
        [
         "travel",
         "No description available Story format",
         0,
         "67",
         "Image src error.",
         9732,
         "multi-video(story page format)",
         "Sus42",
         "Local save in /data/travel",
         "Places To Travel,Places To See,Travel Destinations,Dream Vacations,Vacation Spots,Voyage Europe,Places Around The World,Beautiful Places In The World,Wonderful Places",
         "Brienz Switzerland",
         "0eca4770-10eb-407a-859c-10fd52e38dcb"
        ],
        [
         "quotes",
         "No description available Story format",
         0,
         "2k",
         "Image src error.",
         7981,
         "multi-video(story page format)",
         "MONTANO DIANA ✿◕‿◕✿",
         "Local save in /data/quotes",
         "Positive Affirmations Quotes,Affirmation Quotes,Wisdom Quotes,True Quotes,Words Quotes,Wise Words,Positive Quotes,Motivational Quotes,Wall Of Quotes",
         "THINGS",
         "9f34995c-4e78-4638-bfd2-1fe267ab5dea"
        ],
        [
         "vehicles",
         "Jaguar E-Type.",
         1,
         "710",
         "https://i.pinimg.com/originals/22/40/a9/2240a9bba22d1b6061f189fb1314da96.jpg",
         10826,
         "image",
         "Philippe Steele",
         "Local save in /data/vehicles",
         "Jaguar E Type,Jaguar Cars,Jaguar Xk,Classic Sports Cars,Classic Cars,Retro Cars,Vintage Cars,Automobile,Muscle Cars",
         "Cooler Than Before - Jaguar E-Type.",
         "528f81e8-1066-49bd-828c-bd4ee4221842"
        ],
        [
         "vehicles",
         "only the best",
         1,
         "12k",
         "https://i.pinimg.com/originals/ac/cc/3d/accc3d0ed4bf4ef230133c97c9340828.jpg",
         10708,
         "image",
         "Kirsten |  Life & Style in Britain",
         "Local save in /data/vehicles",
         "Landrover Defender,Defender 90,Landrover Series,My Dream Car,Dream Cars,Mercedes Benz G,Automobile,Cool Jeeps,Car Goals",
         "only the best",
         "f80e0f30-4fc2-4a0f-a028-6fa9b9bb1a0e"
        ],
        [
         "quotes",
         "No description available Story format",
         0,
         "375",
         "Image src error.",
         8269,
         "multi-video(story page format)",
         "Draaz Scarf",
         "Local save in /data/quotes",
         "Happy Wallpaper,Wallpaper Quotes,Wallpaper Backgrounds,Iphone Wallpaper,Trendy Wallpaper,Positive Quotes Wallpaper,Kawaii Wallpaper,Cheer Quotes,Happy Quotes",
         "Sunday quotes",
         "0555ba9a-3399-46ce-b4b0-ceb736292971"
        ],
        [
         "art",
         "No description available",
         1,
         "89",
         "https://i.pinimg.com/originals/2c/ce/e0/2ccee086f875967dcfec26433c20f460.jpg",
         17,
         "image",
         "Kate Smith",
         "Local save in /data/art",
         "Art Drawings Sketches,Tattoo Drawings,Cool Art Drawings,Drawing Art,Skull Drawings,Skull Sketch,Drawing Birds,Bird Sketch,Skull Artwork",
         "Art Drawings Sketches",
         "599e1538-7ede-4150-b16b-2a35b1b226b5"
        ],
        [
         "art",
         "Caption this - 22 November 2019",
         1,
         "5M",
         "https://i.pinimg.com/originals/78/f5/57/78f557f158809f46d0bcc185755537e7.jpg",
         423,
         "image",
         "The Minds Journal",
         "Local save in /data/art",
         "Arte Horror,Horror Art,Dark Fantasy Art,Art Inspo,Art Sinistre,Art Jouet,Sad Paintings,Art Noir,Deep Art",
         "Caption this - 22 November 2019",
         "fa2abf2d-c5e0-4194-928e-032f140b8be6"
        ],
        [
         "vehicles",
         "No description available Story format",
         0,
         "49k",
         "Image src error.",
         10903,
         "multi-video(story page format)",
         "Tim Adam - Car Enthusiast",
         "Local save in /data/vehicles",
         "Nissan 370z,Nissan Z Cars,Best Jdm Cars,Best Luxury Cars,Weird Cars,Cool Cars,Strange Cars,Crazy Cars,Pimped Out Cars",
         "Nissan 370Z",
         "d2b2e6b6-8c99-414d-93a2-8e0db3407896"
        ],
        [
         "tattoos",
         "No description available Story format",
         0,
         "900",
         "Image src error.",
         8531,
         "multi-video(story page format)",
         "jellyaz",
         "Local save in /data/tattoos",
         "Dope Tattoos,Mini Tattoos,Dainty Tattoos,Little Tattoos,Small Tattoos,Tatoos,Awesome Tattoos,Random Tattoos,Pretty Tattoos",
         "word tattoos",
         "27f3a5e5-a542-49d2-96e2-56ffcf224708"
        ],
        [
         "mens-fashion",
         "No description available Story format",
         0,
         "User Info Error",
         "Image src error.",
         7504,
         "multi-video(story page format)",
         "User Info Error",
         "Local save in /data/mens-fashion",
         "N,o, ,T,a,g,s, ,A,v,a,i,l,a,b,l,e",
         "No Title Data Available",
         "5a575d8d-385e-4b29-a87c-d04f147eb42a"
        ]
       ],
       "datasetInfos": [],
       "dbfsResultPath": null,
       "isJsonSchema": true,
       "metadata": {},
       "overflow": false,
       "plotOptions": {
        "customPlotOptions": {},
        "displayType": "table",
        "pivotAggregation": null,
        "pivotColumns": null,
        "xColumns": null,
        "yColumns": null
       },
       "removedWidgets": [],
       "schema": [
        {
         "metadata": "{}",
         "name": "category",
         "type": "\"string\""
        },
        {
         "metadata": "{}",
         "name": "description",
         "type": "\"string\""
        },
        {
         "metadata": "{}",
         "name": "downloaded",
         "type": "\"long\""
        },
        {
         "metadata": "{}",
         "name": "follower_count",
         "type": "\"string\""
        },
        {
         "metadata": "{}",
         "name": "image_src",
         "type": "\"string\""
        },
        {
         "metadata": "{}",
         "name": "index",
         "type": "\"long\""
        },
        {
         "metadata": "{}",
         "name": "is_image_or_video",
         "type": "\"string\""
        },
        {
         "metadata": "{}",
         "name": "poster_name",
         "type": "\"string\""
        },
        {
         "metadata": "{}",
         "name": "save_location",
         "type": "\"string\""
        },
        {
         "metadata": "{}",
         "name": "tag_list",
         "type": "\"string\""
        },
        {
         "metadata": "{}",
         "name": "title",
         "type": "\"string\""
        },
        {
         "metadata": "{}",
         "name": "unique_id",
         "type": "\"string\""
        }
       ],
       "type": "table"
      }
     },
     "output_type": "display_data"
    },
    {
     "output_type": "display_data",
     "data": {
      "text/html": [
       "<style scoped>\n",
       "  .table-result-container {\n",
       "    max-height: 300px;\n",
       "    overflow: auto;\n",
       "  }\n",
       "  table, th, td {\n",
       "    border: 1px solid black;\n",
       "    border-collapse: collapse;\n",
       "  }\n",
       "  th, td {\n",
       "    padding: 5px;\n",
       "  }\n",
       "  th {\n",
       "    text-align: left;\n",
       "  }\n",
       "</style><div class='table-result-container'><table class='table-result'><thead style='background-color: white'><tr><th>country</th><th>ind</th><th>latitude</th><th>longitude</th><th>timestamp</th></tr></thead><tbody><tr><td>British Indian Ocean Territory (Chagos Archipelago)</td><td>7216</td><td>-86.5675</td><td>-149.565</td><td>2020-08-19 00:32:59</td></tr><tr><td>United States Minor Outlying Islands</td><td>9732</td><td>-31.2934</td><td>-154.838</td><td>2021-03-09 15:16:13</td></tr><tr><td>Falkland Islands (Malvinas)</td><td>1644</td><td>-47.1523</td><td>-151.883</td><td>2017-11-15 15:58:54</td></tr><tr><td>Bouvet Island (Bouvetoya)</td><td>8695</td><td>-84.3984</td><td>-144.933</td><td>2021-01-14 01:06:27</td></tr><tr><td>Bouvet Island (Bouvetoya)</td><td>1125</td><td>-18.0738</td><td>-83.9147</td><td>2018-07-02 10:40:58</td></tr><tr><td>Slovakia (Slovak Republic)</td><td>5668</td><td>8.92926</td><td>-12.1636</td><td>2019-04-30 16:25:13</td></tr><tr><td>Bouvet Island (Bouvetoya)</td><td>9784</td><td>-88.516</td><td>-178.811</td><td>2022-02-25 12:30:26</td></tr><tr><td>United States of America</td><td>10846</td><td>38.3898</td><td>62.1414</td><td>2017-10-23 14:20:19</td></tr><tr><td>Bosnia and Herzegovina</td><td>6050</td><td>-85.2391</td><td>-26.6006</td><td>2018-10-25 00:03:16</td></tr><tr><td>British Virgin Islands</td><td>8161</td><td>-59.1209</td><td>-93.9878</td><td>2022-01-08 23:39:59</td></tr><tr><td>Saint Kitts and Nevis</td><td>10962</td><td>-27.3474</td><td>-162.83</td><td>2022-04-28 18:49:25</td></tr><tr><td>British Virgin Islands</td><td>9421</td><td>-69.0434</td><td>-156.04</td><td>2019-08-03 09:35:53</td></tr><tr><td>Saint Kitts and Nevis</td><td>7973</td><td>-68.0247</td><td>59.5982</td><td>2021-11-14 10:16:04</td></tr><tr><td>Antigua and Barbuda</td><td>5357</td><td>56.8317</td><td>90.6551</td><td>2018-03-01 04:28:29</td></tr><tr><td>French Polynesia</td><td>5285</td><td>-27.2307</td><td>-7.64365</td><td>2018-03-21 13:20:42</td></tr><tr><td>French Polynesia</td><td>4495</td><td>-59.1849</td><td>-77.2275</td><td>2018-05-18 15:10:24</td></tr><tr><td>French Polynesia</td><td>2505</td><td>-55.6353</td><td>-80.5324</td><td>2019-04-28 11:42:47</td></tr><tr><td>French Polynesia</td><td>3583</td><td>-84.8365</td><td>-122.171</td><td>2018-05-20 00:19:26</td></tr><tr><td>American Samoa</td><td>8943</td><td>-68.8926</td><td>-164.968</td><td>2019-06-20 17:13:03</td></tr><tr><td>American Samoa</td><td>9245</td><td>-81.8896</td><td>-153.897</td><td>2020-07-01 11:42:57</td></tr><tr><td>American Samoa</td><td>355</td><td>-86.4433</td><td>-178.772</td><td>2019-12-02 23:33:24</td></tr><tr><td>Saint Helena</td><td>10619</td><td>-68.9094</td><td>121.026</td><td>2022-09-29 00:05:47</td></tr><tr><td>Afghanistan</td><td>7669</td><td>-87.8179</td><td>-178.525</td><td>2022-07-22 15:42:22</td></tr><tr><td>Afghanistan</td><td>2644</td><td>-75.7662</td><td>-171.892</td><td>2020-08-13 14:26:22</td></tr><tr><td>New Caledonia</td><td>674</td><td>81.1893</td><td>-112.978</td><td>2020-01-16 04:13:22</td></tr><tr><td>Burkina Faso</td><td>2377</td><td>38.2875</td><td>-173.383</td><td>2021-10-29 02:25:35</td></tr><tr><td>Afghanistan</td><td>3798</td><td>-88.5478</td><td>-174.971</td><td>2018-04-13 02:57:54</td></tr><tr><td>Afghanistan</td><td>8110</td><td>-87.8179</td><td>-178.525</td><td>2020-09-19 00:49:06</td></tr><tr><td>Netherlands</td><td>1199</td><td>-87.8894</td><td>159.146</td><td>2019-03-25 21:22:21</td></tr><tr><td>Costa Rica</td><td>1783</td><td>-25.6124</td><td>-79.4675</td><td>2019-09-23 05:59:45</td></tr><tr><td>Switzerland</td><td>3471</td><td>89.7829</td><td>-112.862</td><td>2018-10-04 06:04:30</td></tr><tr><td>Montenegro</td><td>10283</td><td>16.4155</td><td>52.0849</td><td>2022-03-25 17:53:03</td></tr><tr><td>Gibraltar</td><td>4965</td><td>-7.32487</td><td>-114.681</td><td>2021-05-18 00:18:38</td></tr><tr><td>Cameroon</td><td>10580</td><td>-46.4736</td><td>-131.272</td><td>2018-01-18 11:44:48</td></tr><tr><td>Argentina</td><td>5736</td><td>-87.2245</td><td>-100.213</td><td>2019-06-16 03:40:54</td></tr><tr><td>Venezuela</td><td>3695</td><td>-22.6504</td><td>-118.144</td><td>2021-10-07 13:58:57</td></tr><tr><td>Armenia</td><td>10775</td><td>-82.9685</td><td>-178.095</td><td>2022-05-26 05:21:29</td></tr><tr><td>Barbados</td><td>4594</td><td>-71.9711</td><td>-117.877</td><td>2021-03-12 06:31:36</td></tr><tr><td>Slovenia</td><td>2254</td><td>-29.0643</td><td>-36.5475</td><td>2018-09-10 02:59:20</td></tr><tr><td>Mongolia</td><td>7057</td><td>-60.6942</td><td>-125.106</td><td>2020-11-13 07:13:30</td></tr><tr><td>Ecuador</td><td>10708</td><td>-52.3057</td><td>-140.529</td><td>2019-12-09 14:31:34</td></tr><tr><td>Algeria</td><td>4459</td><td>-72.3958</td><td>-164.414</td><td>2021-09-14 03:32:58</td></tr><tr><td>Algeria</td><td>7689</td><td>-89.5173</td><td>-179.689</td><td>2020-07-19 21:28:10</td></tr><tr><td>Argentina</td><td>8795</td><td>-89.63</td><td>-179.022</td><td>2020-12-31 20:02:40</td></tr><tr><td>Argentina</td><td>6266</td><td>-89.63</td><td>-179.022</td><td>2022-02-28 18:16:08</td></tr><tr><td>Albania</td><td>6213</td><td>-62.9651</td><td>-164.763</td><td>2022-04-07 11:36:09</td></tr><tr><td>Barbados</td><td>9324</td><td>66.9839</td><td>-57.7807</td><td>2019-02-24 02:25:15</td></tr><tr><td>Andorra</td><td>9405</td><td>-84.7363</td><td>-179.087</td><td>2022-04-04 04:11:10</td></tr><tr><td>Mauritania</td><td>7981</td><td>23.151</td><td>29.5156</td><td>2018-03-18 02:04:23</td></tr><tr><td>Andorra</td><td>3421</td><td>-87.1113</td><td>-159.587</td><td>2022-03-13 09:30:31</td></tr><tr><td>Bahamas</td><td>4275</td><td>-64.3819</td><td>-42.3103</td><td>2022-10-01 07:55:59</td></tr><tr><td>Bolivia</td><td>6147</td><td>-67.7278</td><td>-174.505</td><td>2022-08-11 20:24:45</td></tr><tr><td>Bahamas</td><td>4494</td><td>-75.4909</td><td>-179.908</td><td>2021-11-01 16:12:22</td></tr><tr><td>Andorra</td><td>3709</td><td>-87.1113</td><td>-159.587</td><td>2018-11-15 08:35:23</td></tr><tr><td>Algeria</td><td>6569</td><td>-83.1105</td><td>-161.928</td><td>2022-07-11 06:20:34</td></tr><tr><td>Belgium</td><td>3918</td><td>-51.5221</td><td>-27.8373</td><td>2021-03-07 23:40:40</td></tr><tr><td>Algeria</td><td>7534</td><td>-86.4791</td><td>-169.547</td><td>2022-09-10 16:36:49</td></tr><tr><td>Tunisia</td><td>9749</td><td>-44.6516</td><td>-5.39518</td><td>2022-02-06 22:14:06</td></tr><tr><td>Algeria</td><td>7679</td><td>-89.5173</td><td>-179.689</td><td>2019-08-07 19:34:57</td></tr><tr><td>Algeria</td><td>8194</td><td>-89.5173</td><td>-179.689</td><td>2018-12-16 10:25:04</td></tr><tr><td>Andorra</td><td>8037</td><td>-84.7363</td><td>-179.087</td><td>2018-11-25 11:12:37</td></tr><tr><td>Algeria</td><td>7823</td><td>-89.5173</td><td>-179.689</td><td>2021-07-09 04:30:30</td></tr><tr><td>Morocco</td><td>4678</td><td>-62.7152</td><td>-8.81515</td><td>2018-10-20 11:31:51</td></tr><tr><td>Algeria</td><td>6755</td><td>-86.4791</td><td>-169.547</td><td>2022-08-20 07:15:07</td></tr><tr><td>Bahrain</td><td>5303</td><td>-19.1403</td><td>-164.987</td><td>2020-08-27 19:51:06</td></tr><tr><td>Hungary</td><td>5211</td><td>-69.6437</td><td>-165.918</td><td>2021-07-16 08:24:11</td></tr><tr><td>Indonesia</td><td>1743</td><td>49.4155</td><td>104.425</td><td>2021-03-03 02:29:53</td></tr><tr><td>Albania</td><td>7504</td><td>-89.9787</td><td>-173.293</td><td>2018-03-09 01:42:05</td></tr><tr><td>Eritrea</td><td>2239</td><td>-54.4889</td><td>-141.406</td><td>2019-06-16 07:19:57</td></tr><tr><td>Aruba</td><td>10903</td><td>-51.2174</td><td>-166.894</td><td>2022-09-24 15:08:40</td></tr><tr><td>Lithuania</td><td>17</td><td>-1.51818</td><td>107.633</td><td>2021-07-05 18:26:56</td></tr><tr><td>Algeria</td><td>8371</td><td>-74.408</td><td>-178.774</td><td>2017-12-31 10:41:46</td></tr><tr><td>Belgium</td><td>2662</td><td>-73.6491</td><td>-136.57</td><td>2022-06-03 12:06:01</td></tr><tr><td>Belarus</td><td>7033</td><td>-2.60513</td><td>159.898</td><td>2021-12-19 14:13:10</td></tr><tr><td>Belize</td><td>4159</td><td>-88.6506</td><td>-120.682</td><td>2022-09-09 12:08:59</td></tr><tr><td>Morocco</td><td>8289</td><td>-37.8103</td><td>37.5739</td><td>2017-12-07 02:38:08</td></tr><tr><td>Belgium</td><td>4741</td><td>78.7424</td><td>-158.436</td><td>2020-05-23 01:44:05</td></tr><tr><td>Belize</td><td>8359</td><td>-80.3079</td><td>-171.244</td><td>2020-07-16 20:24:58</td></tr><tr><td>Ireland</td><td>7942</td><td>-64.6662</td><td>102.771</td><td>2018-11-15 10:44:45</td></tr><tr><td>Belgium</td><td>2720</td><td>-73.6491</td><td>-136.57</td><td>2022-01-11 00:50:56</td></tr><tr><td>Guyana</td><td>8531</td><td>0.125052</td><td>-20.8616</td><td>2019-03-19 23:30:15</td></tr><tr><td>Bahamas</td><td>8269</td><td>15.8561</td><td>-61.9993</td><td>2021-04-06 06:17:05</td></tr><tr><td>Algeria</td><td>8468</td><td>-88.355</td><td>-96.0131</td><td>2018-11-07 14:07:07</td></tr><tr><td>Cyprus</td><td>4215</td><td>-52.0459</td><td>-123.666</td><td>2018-03-03 20:47:57</td></tr><tr><td>Djibouti</td><td>8339</td><td>32.1883</td><td>-75.976</td><td>2018-09-02 14:07:26</td></tr><tr><td>Georgia</td><td>4055</td><td>16.8902</td><td>-123.373</td><td>2021-09-23 06:42:16</td></tr><tr><td>Namibia</td><td>4554</td><td>-26.5464</td><td>63.4702</td><td>2018-09-15 06:54:36</td></tr><tr><td>Algeria</td><td>9986</td><td>-74.7055</td><td>-177.87</td><td>2018-11-27 03:44:01</td></tr><tr><td>Jamaica</td><td>8759</td><td>13.0697</td><td>-91.4079</td><td>2021-01-31 09:35:08</td></tr><tr><td>Egypt</td><td>1515</td><td>-72.9292</td><td>-118.487</td><td>2022-02-23 07:19:29</td></tr><tr><td>Aruba</td><td>2227</td><td>-71.5025</td><td>-179.257</td><td>2020-07-01 01:42:01</td></tr><tr><td>Ireland</td><td>9660</td><td>71.6743</td><td>31.6639</td><td>2021-06-24 01:19:51</td></tr><tr><td>Belize</td><td>9504</td><td>-66.8221</td><td>67.7029</td><td>2018-05-03 05:30:03</td></tr><tr><td>Uganda</td><td>7420</td><td>-46.8337</td><td>96.8292</td><td>2022-06-01 08:22:27</td></tr><tr><td>Jersey</td><td>10826</td><td>44.4191</td><td>30.4447</td><td>2021-05-01 00:33:28</td></tr><tr><td>Sweden</td><td>7232</td><td>86.6392</td><td>-140.982</td><td>2020-05-17 23:58:46</td></tr><tr><td>Kuwait</td><td>6817</td><td>-30.8649</td><td>104.405</td><td>2021-03-24 13:58:57</td></tr><tr><td>Egypt</td><td>9977</td><td>-29.5615</td><td>-121.487</td><td>2020-03-31 22:25:18</td></tr><tr><td>Albania</td><td>8328</td><td>-87.2</td><td>-177.109</td><td>2018-02-26 03:52:48</td></tr><tr><td>Albania</td><td>7618</td><td>-87.2</td><td>-177.109</td><td>2019-02-22 04:51:26</td></tr><tr><td>Chile</td><td>6448</td><td>-77.1693</td><td>-110.98</td><td>2021-06-10 20:08:18</td></tr><tr><td>Albania</td><td>8</td><td>-88.8298</td><td>-170.188</td><td>2019-09-20 10:00:31</td></tr><tr><td>Albania</td><td>858</td><td>-87.2</td><td>-177.109</td><td>2021-08-19 05:36:37</td></tr><tr><td>Albania</td><td>423</td><td>-87.2</td><td>-177.109</td><td>2021-06-11 01:38:37</td></tr><tr><td>Fiji</td><td>212</td><td>-16.9141</td><td>4.27975</td><td>2020-10-24 01:39:17</td></tr></tbody></table></div>"
      ]
     },
     "metadata": {
      "application/vnd.databricks.v1+output": {
       "addedWidgets": {},
       "aggData": [],
       "aggError": "",
       "aggOverflow": false,
       "aggSchema": [],
       "aggSeriesLimitReached": false,
       "aggType": "",
       "arguments": {},
       "columnCustomDisplayInfos": {},
       "data": [
        [
         "British Indian Ocean Territory (Chagos Archipelago)",
         7216,
         -86.5675,
         -149.565,
         "2020-08-19 00:32:59"
        ],
        [
         "United States Minor Outlying Islands",
         9732,
         -31.2934,
         -154.838,
         "2021-03-09 15:16:13"
        ],
        [
         "Falkland Islands (Malvinas)",
         1644,
         -47.1523,
         -151.883,
         "2017-11-15 15:58:54"
        ],
        [
         "Bouvet Island (Bouvetoya)",
         8695,
         -84.3984,
         -144.933,
         "2021-01-14 01:06:27"
        ],
        [
         "Bouvet Island (Bouvetoya)",
         1125,
         -18.0738,
         -83.9147,
         "2018-07-02 10:40:58"
        ],
        [
         "Slovakia (Slovak Republic)",
         5668,
         8.92926,
         -12.1636,
         "2019-04-30 16:25:13"
        ],
        [
         "Bouvet Island (Bouvetoya)",
         9784,
         -88.516,
         -178.811,
         "2022-02-25 12:30:26"
        ],
        [
         "United States of America",
         10846,
         38.3898,
         62.1414,
         "2017-10-23 14:20:19"
        ],
        [
         "Bosnia and Herzegovina",
         6050,
         -85.2391,
         -26.6006,
         "2018-10-25 00:03:16"
        ],
        [
         "British Virgin Islands",
         8161,
         -59.1209,
         -93.9878,
         "2022-01-08 23:39:59"
        ],
        [
         "Saint Kitts and Nevis",
         10962,
         -27.3474,
         -162.83,
         "2022-04-28 18:49:25"
        ],
        [
         "British Virgin Islands",
         9421,
         -69.0434,
         -156.04,
         "2019-08-03 09:35:53"
        ],
        [
         "Saint Kitts and Nevis",
         7973,
         -68.0247,
         59.5982,
         "2021-11-14 10:16:04"
        ],
        [
         "Antigua and Barbuda",
         5357,
         56.8317,
         90.6551,
         "2018-03-01 04:28:29"
        ],
        [
         "French Polynesia",
         5285,
         -27.2307,
         -7.64365,
         "2018-03-21 13:20:42"
        ],
        [
         "French Polynesia",
         4495,
         -59.1849,
         -77.2275,
         "2018-05-18 15:10:24"
        ],
        [
         "French Polynesia",
         2505,
         -55.6353,
         -80.5324,
         "2019-04-28 11:42:47"
        ],
        [
         "French Polynesia",
         3583,
         -84.8365,
         -122.171,
         "2018-05-20 00:19:26"
        ],
        [
         "American Samoa",
         8943,
         -68.8926,
         -164.968,
         "2019-06-20 17:13:03"
        ],
        [
         "American Samoa",
         9245,
         -81.8896,
         -153.897,
         "2020-07-01 11:42:57"
        ],
        [
         "American Samoa",
         355,
         -86.4433,
         -178.772,
         "2019-12-02 23:33:24"
        ],
        [
         "Saint Helena",
         10619,
         -68.9094,
         121.026,
         "2022-09-29 00:05:47"
        ],
        [
         "Afghanistan",
         7669,
         -87.8179,
         -178.525,
         "2022-07-22 15:42:22"
        ],
        [
         "Afghanistan",
         2644,
         -75.7662,
         -171.892,
         "2020-08-13 14:26:22"
        ],
        [
         "New Caledonia",
         674,
         81.1893,
         -112.978,
         "2020-01-16 04:13:22"
        ],
        [
         "Burkina Faso",
         2377,
         38.2875,
         -173.383,
         "2021-10-29 02:25:35"
        ],
        [
         "Afghanistan",
         3798,
         -88.5478,
         -174.971,
         "2018-04-13 02:57:54"
        ],
        [
         "Afghanistan",
         8110,
         -87.8179,
         -178.525,
         "2020-09-19 00:49:06"
        ],
        [
         "Netherlands",
         1199,
         -87.8894,
         159.146,
         "2019-03-25 21:22:21"
        ],
        [
         "Costa Rica",
         1783,
         -25.6124,
         -79.4675,
         "2019-09-23 05:59:45"
        ],
        [
         "Switzerland",
         3471,
         89.7829,
         -112.862,
         "2018-10-04 06:04:30"
        ],
        [
         "Montenegro",
         10283,
         16.4155,
         52.0849,
         "2022-03-25 17:53:03"
        ],
        [
         "Gibraltar",
         4965,
         -7.32487,
         -114.681,
         "2021-05-18 00:18:38"
        ],
        [
         "Cameroon",
         10580,
         -46.4736,
         -131.272,
         "2018-01-18 11:44:48"
        ],
        [
         "Argentina",
         5736,
         -87.2245,
         -100.213,
         "2019-06-16 03:40:54"
        ],
        [
         "Venezuela",
         3695,
         -22.6504,
         -118.144,
         "2021-10-07 13:58:57"
        ],
        [
         "Armenia",
         10775,
         -82.9685,
         -178.095,
         "2022-05-26 05:21:29"
        ],
        [
         "Barbados",
         4594,
         -71.9711,
         -117.877,
         "2021-03-12 06:31:36"
        ],
        [
         "Slovenia",
         2254,
         -29.0643,
         -36.5475,
         "2018-09-10 02:59:20"
        ],
        [
         "Mongolia",
         7057,
         -60.6942,
         -125.106,
         "2020-11-13 07:13:30"
        ],
        [
         "Ecuador",
         10708,
         -52.3057,
         -140.529,
         "2019-12-09 14:31:34"
        ],
        [
         "Algeria",
         4459,
         -72.3958,
         -164.414,
         "2021-09-14 03:32:58"
        ],
        [
         "Algeria",
         7689,
         -89.5173,
         -179.689,
         "2020-07-19 21:28:10"
        ],
        [
         "Argentina",
         8795,
         -89.63,
         -179.022,
         "2020-12-31 20:02:40"
        ],
        [
         "Argentina",
         6266,
         -89.63,
         -179.022,
         "2022-02-28 18:16:08"
        ],
        [
         "Albania",
         6213,
         -62.9651,
         -164.763,
         "2022-04-07 11:36:09"
        ],
        [
         "Barbados",
         9324,
         66.9839,
         -57.7807,
         "2019-02-24 02:25:15"
        ],
        [
         "Andorra",
         9405,
         -84.7363,
         -179.087,
         "2022-04-04 04:11:10"
        ],
        [
         "Mauritania",
         7981,
         23.151,
         29.5156,
         "2018-03-18 02:04:23"
        ],
        [
         "Andorra",
         3421,
         -87.1113,
         -159.587,
         "2022-03-13 09:30:31"
        ],
        [
         "Bahamas",
         4275,
         -64.3819,
         -42.3103,
         "2022-10-01 07:55:59"
        ],
        [
         "Bolivia",
         6147,
         -67.7278,
         -174.505,
         "2022-08-11 20:24:45"
        ],
        [
         "Bahamas",
         4494,
         -75.4909,
         -179.908,
         "2021-11-01 16:12:22"
        ],
        [
         "Andorra",
         3709,
         -87.1113,
         -159.587,
         "2018-11-15 08:35:23"
        ],
        [
         "Algeria",
         6569,
         -83.1105,
         -161.928,
         "2022-07-11 06:20:34"
        ],
        [
         "Belgium",
         3918,
         -51.5221,
         -27.8373,
         "2021-03-07 23:40:40"
        ],
        [
         "Algeria",
         7534,
         -86.4791,
         -169.547,
         "2022-09-10 16:36:49"
        ],
        [
         "Tunisia",
         9749,
         -44.6516,
         -5.39518,
         "2022-02-06 22:14:06"
        ],
        [
         "Algeria",
         7679,
         -89.5173,
         -179.689,
         "2019-08-07 19:34:57"
        ],
        [
         "Algeria",
         8194,
         -89.5173,
         -179.689,
         "2018-12-16 10:25:04"
        ],
        [
         "Andorra",
         8037,
         -84.7363,
         -179.087,
         "2018-11-25 11:12:37"
        ],
        [
         "Algeria",
         7823,
         -89.5173,
         -179.689,
         "2021-07-09 04:30:30"
        ],
        [
         "Morocco",
         4678,
         -62.7152,
         -8.81515,
         "2018-10-20 11:31:51"
        ],
        [
         "Algeria",
         6755,
         -86.4791,
         -169.547,
         "2022-08-20 07:15:07"
        ],
        [
         "Bahrain",
         5303,
         -19.1403,
         -164.987,
         "2020-08-27 19:51:06"
        ],
        [
         "Hungary",
         5211,
         -69.6437,
         -165.918,
         "2021-07-16 08:24:11"
        ],
        [
         "Indonesia",
         1743,
         49.4155,
         104.425,
         "2021-03-03 02:29:53"
        ],
        [
         "Albania",
         7504,
         -89.9787,
         -173.293,
         "2018-03-09 01:42:05"
        ],
        [
         "Eritrea",
         2239,
         -54.4889,
         -141.406,
         "2019-06-16 07:19:57"
        ],
        [
         "Aruba",
         10903,
         -51.2174,
         -166.894,
         "2022-09-24 15:08:40"
        ],
        [
         "Lithuania",
         17,
         -1.51818,
         107.633,
         "2021-07-05 18:26:56"
        ],
        [
         "Algeria",
         8371,
         -74.408,
         -178.774,
         "2017-12-31 10:41:46"
        ],
        [
         "Belgium",
         2662,
         -73.6491,
         -136.57,
         "2022-06-03 12:06:01"
        ],
        [
         "Belarus",
         7033,
         -2.60513,
         159.898,
         "2021-12-19 14:13:10"
        ],
        [
         "Belize",
         4159,
         -88.6506,
         -120.682,
         "2022-09-09 12:08:59"
        ],
        [
         "Morocco",
         8289,
         -37.8103,
         37.5739,
         "2017-12-07 02:38:08"
        ],
        [
         "Belgium",
         4741,
         78.7424,
         -158.436,
         "2020-05-23 01:44:05"
        ],
        [
         "Belize",
         8359,
         -80.3079,
         -171.244,
         "2020-07-16 20:24:58"
        ],
        [
         "Ireland",
         7942,
         -64.6662,
         102.771,
         "2018-11-15 10:44:45"
        ],
        [
         "Belgium",
         2720,
         -73.6491,
         -136.57,
         "2022-01-11 00:50:56"
        ],
        [
         "Guyana",
         8531,
         0.125052,
         -20.8616,
         "2019-03-19 23:30:15"
        ],
        [
         "Bahamas",
         8269,
         15.8561,
         -61.9993,
         "2021-04-06 06:17:05"
        ],
        [
         "Algeria",
         8468,
         -88.355,
         -96.0131,
         "2018-11-07 14:07:07"
        ],
        [
         "Cyprus",
         4215,
         -52.0459,
         -123.666,
         "2018-03-03 20:47:57"
        ],
        [
         "Djibouti",
         8339,
         32.1883,
         -75.976,
         "2018-09-02 14:07:26"
        ],
        [
         "Georgia",
         4055,
         16.8902,
         -123.373,
         "2021-09-23 06:42:16"
        ],
        [
         "Namibia",
         4554,
         -26.5464,
         63.4702,
         "2018-09-15 06:54:36"
        ],
        [
         "Algeria",
         9986,
         -74.7055,
         -177.87,
         "2018-11-27 03:44:01"
        ],
        [
         "Jamaica",
         8759,
         13.0697,
         -91.4079,
         "2021-01-31 09:35:08"
        ],
        [
         "Egypt",
         1515,
         -72.9292,
         -118.487,
         "2022-02-23 07:19:29"
        ],
        [
         "Aruba",
         2227,
         -71.5025,
         -179.257,
         "2020-07-01 01:42:01"
        ],
        [
         "Ireland",
         9660,
         71.6743,
         31.6639,
         "2021-06-24 01:19:51"
        ],
        [
         "Belize",
         9504,
         -66.8221,
         67.7029,
         "2018-05-03 05:30:03"
        ],
        [
         "Uganda",
         7420,
         -46.8337,
         96.8292,
         "2022-06-01 08:22:27"
        ],
        [
         "Jersey",
         10826,
         44.4191,
         30.4447,
         "2021-05-01 00:33:28"
        ],
        [
         "Sweden",
         7232,
         86.6392,
         -140.982,
         "2020-05-17 23:58:46"
        ],
        [
         "Kuwait",
         6817,
         -30.8649,
         104.405,
         "2021-03-24 13:58:57"
        ],
        [
         "Egypt",
         9977,
         -29.5615,
         -121.487,
         "2020-03-31 22:25:18"
        ],
        [
         "Albania",
         8328,
         -87.2,
         -177.109,
         "2018-02-26 03:52:48"
        ],
        [
         "Albania",
         7618,
         -87.2,
         -177.109,
         "2019-02-22 04:51:26"
        ],
        [
         "Chile",
         6448,
         -77.1693,
         -110.98,
         "2021-06-10 20:08:18"
        ],
        [
         "Albania",
         8,
         -88.8298,
         -170.188,
         "2019-09-20 10:00:31"
        ],
        [
         "Albania",
         858,
         -87.2,
         -177.109,
         "2021-08-19 05:36:37"
        ],
        [
         "Albania",
         423,
         -87.2,
         -177.109,
         "2021-06-11 01:38:37"
        ],
        [
         "Fiji",
         212,
         -16.9141,
         4.27975,
         "2020-10-24 01:39:17"
        ]
       ],
       "datasetInfos": [],
       "dbfsResultPath": null,
       "isJsonSchema": true,
       "metadata": {},
       "overflow": false,
       "plotOptions": {
        "customPlotOptions": {},
        "displayType": "table",
        "pivotAggregation": null,
        "pivotColumns": null,
        "xColumns": null,
        "yColumns": null
       },
       "removedWidgets": [],
       "schema": [
        {
         "metadata": "{}",
         "name": "country",
         "type": "\"string\""
        },
        {
         "metadata": "{}",
         "name": "ind",
         "type": "\"long\""
        },
        {
         "metadata": "{}",
         "name": "latitude",
         "type": "\"double\""
        },
        {
         "metadata": "{}",
         "name": "longitude",
         "type": "\"double\""
        },
        {
         "metadata": "{}",
         "name": "timestamp",
         "type": "\"string\""
        }
       ],
       "type": "table"
      }
     },
     "output_type": "display_data"
    },
    {
     "output_type": "display_data",
     "data": {
      "text/html": [
       "<style scoped>\n",
       "  .table-result-container {\n",
       "    max-height: 300px;\n",
       "    overflow: auto;\n",
       "  }\n",
       "  table, th, td {\n",
       "    border: 1px solid black;\n",
       "    border-collapse: collapse;\n",
       "  }\n",
       "  th, td {\n",
       "    padding: 5px;\n",
       "  }\n",
       "  th {\n",
       "    text-align: left;\n",
       "  }\n",
       "</style><div class='table-result-container'><table class='table-result'><thead style='background-color: white'><tr><th>age</th><th>date_joined</th><th>first_name</th><th>ind</th><th>last_name</th></tr></thead><tbody><tr><td>20</td><td>2015-10-23 04:13:23</td><td>Alexandria</td><td>3798</td><td>Alvarado</td></tr><tr><td>28</td><td>2015-12-18 10:50:10</td><td>Jennifer</td><td>10903</td><td>Arellano</td></tr><tr><td>42</td><td>2016-12-09 08:27:49</td><td>Shelley</td><td>10283</td><td>Jefferson</td></tr><tr><td>43</td><td>2016-02-27 17:57:17</td><td>Christopher</td><td>5211</td><td>Keller</td></tr><tr><td>60</td><td>2016-07-29 12:38:45</td><td>Kathleen</td><td>2377</td><td>Alvarado</td></tr><tr><td>42</td><td>2016-06-22 14:06:33</td><td>Christopher</td><td>1199</td><td>Adams</td></tr><tr><td>20</td><td>2015-11-20 09:08:00</td><td>Andrew</td><td>7669</td><td>Alexander</td></tr><tr><td>42</td><td>2016-07-22 10:18:12</td><td>Sherry</td><td>10619</td><td>Thompson</td></tr><tr><td>23</td><td>2016-03-10 06:28:23</td><td>Lauren</td><td>9660</td><td>Patterson</td></tr><tr><td>26</td><td>2016-03-11 23:42:05</td><td>Amanda</td><td>10580</td><td>Anderson</td></tr><tr><td>25</td><td>2015-12-02 11:20:58</td><td>Darryl</td><td>4159</td><td>Alexander</td></tr><tr><td>39</td><td>2016-01-27 22:19:07</td><td>Jeremy</td><td>10826</td><td>Peterson</td></tr><tr><td>23</td><td>2015-12-01 18:15:02</td><td>Christine</td><td>8468</td><td>Cortez</td></tr><tr><td>22</td><td>2015-11-06 05:05:43</td><td>Alexandra</td><td>9986</td><td>Austin</td></tr><tr><td>20</td><td>2015-11-20 09:08:00</td><td>Andrew</td><td>8110</td><td>Alexander</td></tr><tr><td>28</td><td>2017-04-21 01:59:00</td><td>Jackie</td><td>1515</td><td>Buchanan</td></tr><tr><td>32</td><td>2015-10-28 15:48:24</td><td>Alexander</td><td>4459</td><td>Adams</td></tr><tr><td>21</td><td>2015-10-25 07:36:08</td><td>Aaron</td><td>9405</td><td>Alexander</td></tr><tr><td>57</td><td>2017-04-17 11:06:29</td><td>Maria</td><td>4594</td><td>Robertson</td></tr><tr><td>41</td><td>2016-06-23 07:44:01</td><td>Melissa</td><td>4741</td><td>Rowland</td></tr><tr><td>28</td><td>2016-08-25 21:46:59</td><td>Angela</td><td>212</td><td>Carpenter</td></tr><tr><td>37</td><td>2016-05-18 06:56:32</td><td>Douglas</td><td>1644</td><td>Griffin</td></tr><tr><td>35</td><td>2017-07-18 18:13:08</td><td>William</td><td>3695</td><td>Freeman</td></tr><tr><td>28</td><td>2015-12-20 22:09:10</td><td>Annette</td><td>9784</td><td>Andrews</td></tr><tr><td>21</td><td>2015-10-25 07:36:08</td><td>Aaron</td><td>8037</td><td>Alexander</td></tr><tr><td>55</td><td>2016-07-26 23:44:27</td><td>Zachary</td><td>4678</td><td>Elliott</td></tr><tr><td>20</td><td>2015-10-21 22:27:27</td><td>Albert</td><td>8795</td><td>Allison</td></tr><tr><td>24</td><td>2015-10-25 03:23:53</td><td>Benjamin</td><td>8371</td><td>Adams</td></tr><tr><td>21</td><td>2015-10-24 05:35:27</td><td>Aaron</td><td>8328</td><td>Anderson</td></tr><tr><td>20</td><td>2015-10-21 22:27:27</td><td>Albert</td><td>6266</td><td>Allison</td></tr><tr><td>21</td><td>2015-10-24 05:35:27</td><td>Aaron</td><td>7618</td><td>Anderson</td></tr><tr><td>20</td><td>2015-10-28 21:44:56</td><td>Angela</td><td>3421</td><td>Andrews</td></tr><tr><td>20</td><td>2015-10-23 13:07:00</td><td>Alexandra</td><td>355</td><td>Allen</td></tr><tr><td>24</td><td>2015-11-05 03:10:40</td><td>Kayla</td><td>9504</td><td>Hamilton</td></tr><tr><td>38</td><td>2015-12-23 03:37:21</td><td>Daniel</td><td>4275</td><td>Aguirre</td></tr><tr><td>20</td><td>2015-10-28 21:44:56</td><td>Angela</td><td>3709</td><td>Andrews</td></tr><tr><td>28</td><td>2017-04-25 04:52:52</td><td>Daniel</td><td>6817</td><td>Hopkins</td></tr><tr><td>32</td><td>2017-01-18 06:33:51</td><td>Kristen</td><td>2505</td><td>Arnold</td></tr><tr><td>20</td><td>2017-09-21 16:31:15</td><td>Nicholas</td><td>2254</td><td>Bates</td></tr><tr><td>59</td><td>2016-12-22 14:33:38</td><td>Melissa</td><td>4554</td><td>Harris</td></tr><tr><td>22</td><td>2016-02-09 17:01:38</td><td>Carlos</td><td>5303</td><td>Estrada</td></tr><tr><td>55</td><td>2017-05-05 14:00:28</td><td>Catherine</td><td>17</td><td>Bowen</td></tr><tr><td>45</td><td>2016-03-13 00:09:23</td><td>Carol</td><td>5285</td><td>Stewart</td></tr><tr><td>20</td><td>2015-11-30 10:24:37</td><td>Courtney</td><td>2662</td><td>Berg</td></tr><tr><td>23</td><td>2015-11-30 08:07:07</td><td>Amanda</td><td>6213</td><td>Carter</td></tr><tr><td>20</td><td>2015-11-02 04:40:42</td><td>Aaron</td><td>10775</td><td>Bailey</td></tr><tr><td>34</td><td>2016-12-24 21:02:56</td><td>Marcus</td><td>7981</td><td>Sparks</td></tr><tr><td>33</td><td>2016-12-02 14:46:50</td><td>Robin</td><td>10846</td><td>Morris</td></tr><tr><td>28</td><td>2015-10-29 08:51:34</td><td>Angela</td><td>6147</td><td>Flores</td></tr><tr><td>22</td><td>2015-11-30 10:51:59</td><td>Allison</td><td>4494</td><td>Adams</td></tr><tr><td>21</td><td>2017-06-27 01:28:42</td><td>Brenda</td><td>8289</td><td>Hodges</td></tr><tr><td>37</td><td>2016-08-09 10:50:36</td><td>Lisa</td><td>7420</td><td>Faulkner</td></tr><tr><td>20</td><td>2016-01-28 01:03:35</td><td>Cynthia</td><td>6569</td><td>Adams</td></tr><tr><td>30</td><td>2016-05-14 06:22:36</td><td>Chelsea</td><td>8359</td><td>Brown</td></tr><tr><td>21</td><td>2015-10-24 05:35:27</td><td>Aaron</td><td>858</td><td>Anderson</td></tr><tr><td>59</td><td>2016-06-02 08:15:17</td><td>Tiffany</td><td>7942</td><td>Heath</td></tr><tr><td>20</td><td>2015-11-30 10:24:37</td><td>Courtney</td><td>2720</td><td>Berg</td></tr><tr><td>36</td><td>2016-02-05 15:30:20</td><td>Jeffrey</td><td>4215</td><td>Gomez</td></tr><tr><td>55</td><td>2016-01-02 07:26:05</td><td>Ashley</td><td>8339</td><td>Wilson</td></tr><tr><td>21</td><td>2015-10-24 05:35:27</td><td>Aaron</td><td>423</td><td>Anderson</td></tr><tr><td>23</td><td>2016-03-30 16:14:41</td><td>Briana</td><td>1783</td><td>Bryant</td></tr><tr><td>31</td><td>2015-12-23 16:03:26</td><td>John</td><td>10708</td><td>Fleming</td></tr><tr><td>45</td><td>2016-01-31 07:20:27</td><td>Brian</td><td>8759</td><td>Herrera</td></tr><tr><td>20</td><td>2016-01-24 09:18:29</td><td>James</td><td>8161</td><td>Goodwin</td></tr><tr><td>46</td><td>2017-03-31 11:14:54</td><td>Emily</td><td>1743</td><td>Freeman</td></tr><tr><td>20</td><td>2015-10-23 16:08:41</td><td>Aaron</td><td>7689</td><td>Abbott</td></tr><tr><td>30</td><td>2017-10-10 11:30:57</td><td>Gregory</td><td>9732</td><td>Bell</td></tr><tr><td>22</td><td>2016-04-09 18:38:22</td><td>Devin</td><td>6448</td><td>Chaney</td></tr><tr><td>29</td><td>2015-11-11 09:20:35</td><td>Emily</td><td>3918</td><td>Arroyo</td></tr><tr><td>22</td><td>2017-07-25 09:49:49</td><td>Jesse</td><td>8531</td><td>Torres</td></tr><tr><td>20</td><td>2016-08-06 04:17:55</td><td>Karen</td><td>8269</td><td>Graham</td></tr><tr><td>20</td><td>2015-10-26 04:12:32</td><td>Angela</td><td>7534</td><td>Allen</td></tr><tr><td>46</td><td>2016-05-01 10:44:18</td><td>Arthur</td><td>9749</td><td>Riggs</td></tr><tr><td>20</td><td>2015-10-23 16:08:41</td><td>Aaron</td><td>7679</td><td>Abbott</td></tr><tr><td>20</td><td>2015-10-23 16:08:41</td><td>Aaron</td><td>8194</td><td>Abbott</td></tr><tr><td>27</td><td>2015-11-11 01:45:05</td><td>Grant</td><td>4055</td><td>George</td></tr><tr><td>30</td><td>2016-01-06 06:16:55</td><td>Gina</td><td>9977</td><td>Ramirez</td></tr><tr><td>29</td><td>2015-10-24 02:11:21</td><td>Amanda</td><td>9421</td><td>Allen</td></tr><tr><td>20</td><td>2015-10-23 16:08:41</td><td>Aaron</td><td>7823</td><td>Abbott</td></tr><tr><td>20</td><td>2015-10-26 04:12:32</td><td>Angela</td><td>6755</td><td>Allen</td></tr><tr><td>20</td><td>2017-01-23 16:38:11</td><td>Kristin</td><td>5668</td><td>Khan</td></tr><tr><td>28</td><td>2016-04-22 09:11:58</td><td>Brianna</td><td>2239</td><td>Bell</td></tr><tr><td>51</td><td>2016-09-27 09:30:39</td><td>Laura</td><td>4965</td><td>Lopez</td></tr><tr><td>30</td><td>2015-12-01 13:34:35</td><td>Wendy</td><td>7033</td><td>Jones</td></tr><tr><td>23</td><td>2015-10-29 19:12:55</td><td>Amy</td><td>8943</td><td>Andrews</td></tr><tr><td>55</td><td>2017-05-05 03:44:58</td><td>Casey</td><td>5357</td><td>Perry</td></tr><tr><td>37</td><td>2016-10-06 22:01:38</td><td>Timothy</td><td>674</td><td>Ward</td></tr><tr><td>30</td><td>2017-08-23 23:49:00</td><td>Don</td><td>7232</td><td>Johnson</td></tr><tr><td>21</td><td>2015-10-28 03:16:59</td><td>April</td><td>7216</td><td>Blake</td></tr><tr><td>21</td><td>2016-05-10 01:52:46</td><td>Jay</td><td>7057</td><td>Hampton</td></tr><tr><td>25</td><td>2017-05-20 00:38:48</td><td>Glenda</td><td>3471</td><td>Ward</td></tr><tr><td>20</td><td>2015-11-10 05:57:33</td><td>Angela</td><td>9245</td><td>Berg</td></tr><tr><td>20</td><td>2015-10-24 11:23:51</td><td>Abigail</td><td>7504</td><td>Ali</td></tr><tr><td>34</td><td>2016-10-29 04:19:15</td><td>Karen</td><td>1125</td><td>Hill</td></tr><tr><td>38</td><td>2015-11-21 18:19:10</td><td>Anna</td><td>5736</td><td>Cross</td></tr><tr><td>23</td><td>2016-06-23 14:38:00</td><td>Julie</td><td>10962</td><td>Cox</td></tr><tr><td>21</td><td>2015-10-31 07:37:40</td><td>Amy</td><td>2644</td><td>Atkins</td></tr><tr><td>32</td><td>2016-07-29 05:30:55</td><td>David</td><td>7973</td><td>Duke</td></tr><tr><td>20</td><td>2016-04-15 17:11:11</td><td>David</td><td>3583</td><td>Bell</td></tr><tr><td>21</td><td>2015-11-08 16:14:16</td><td>Amy</td><td>8695</td><td>Brown</td></tr><tr><td>20</td><td>2015-10-24 05:05:28</td><td>Amy</td><td>2227</td><td>Adams</td></tr><tr><td>39</td><td>2016-03-18 18:09:26</td><td>Adam</td><td>4495</td><td>Cook</td></tr><tr><td>34</td><td>2016-01-08 20:49:30</td><td>Amy</td><td>6050</td><td>Brown</td></tr><tr><td>20</td><td>2015-10-21 21:26:45</td><td>Adam</td><td>8</td><td>Acosta</td></tr><tr><td>49</td><td>2017-04-13 11:19:44</td><td>Amy</td><td>9324</td><td>Fox</td></tr></tbody></table></div>"
      ]
     },
     "metadata": {
      "application/vnd.databricks.v1+output": {
       "addedWidgets": {},
       "aggData": [],
       "aggError": "",
       "aggOverflow": false,
       "aggSchema": [],
       "aggSeriesLimitReached": false,
       "aggType": "",
       "arguments": {},
       "columnCustomDisplayInfos": {},
       "data": [
        [
         20,
         "2015-10-23 04:13:23",
         "Alexandria",
         3798,
         "Alvarado"
        ],
        [
         28,
         "2015-12-18 10:50:10",
         "Jennifer",
         10903,
         "Arellano"
        ],
        [
         42,
         "2016-12-09 08:27:49",
         "Shelley",
         10283,
         "Jefferson"
        ],
        [
         43,
         "2016-02-27 17:57:17",
         "Christopher",
         5211,
         "Keller"
        ],
        [
         60,
         "2016-07-29 12:38:45",
         "Kathleen",
         2377,
         "Alvarado"
        ],
        [
         42,
         "2016-06-22 14:06:33",
         "Christopher",
         1199,
         "Adams"
        ],
        [
         20,
         "2015-11-20 09:08:00",
         "Andrew",
         7669,
         "Alexander"
        ],
        [
         42,
         "2016-07-22 10:18:12",
         "Sherry",
         10619,
         "Thompson"
        ],
        [
         23,
         "2016-03-10 06:28:23",
         "Lauren",
         9660,
         "Patterson"
        ],
        [
         26,
         "2016-03-11 23:42:05",
         "Amanda",
         10580,
         "Anderson"
        ],
        [
         25,
         "2015-12-02 11:20:58",
         "Darryl",
         4159,
         "Alexander"
        ],
        [
         39,
         "2016-01-27 22:19:07",
         "Jeremy",
         10826,
         "Peterson"
        ],
        [
         23,
         "2015-12-01 18:15:02",
         "Christine",
         8468,
         "Cortez"
        ],
        [
         22,
         "2015-11-06 05:05:43",
         "Alexandra",
         9986,
         "Austin"
        ],
        [
         20,
         "2015-11-20 09:08:00",
         "Andrew",
         8110,
         "Alexander"
        ],
        [
         28,
         "2017-04-21 01:59:00",
         "Jackie",
         1515,
         "Buchanan"
        ],
        [
         32,
         "2015-10-28 15:48:24",
         "Alexander",
         4459,
         "Adams"
        ],
        [
         21,
         "2015-10-25 07:36:08",
         "Aaron",
         9405,
         "Alexander"
        ],
        [
         57,
         "2017-04-17 11:06:29",
         "Maria",
         4594,
         "Robertson"
        ],
        [
         41,
         "2016-06-23 07:44:01",
         "Melissa",
         4741,
         "Rowland"
        ],
        [
         28,
         "2016-08-25 21:46:59",
         "Angela",
         212,
         "Carpenter"
        ],
        [
         37,
         "2016-05-18 06:56:32",
         "Douglas",
         1644,
         "Griffin"
        ],
        [
         35,
         "2017-07-18 18:13:08",
         "William",
         3695,
         "Freeman"
        ],
        [
         28,
         "2015-12-20 22:09:10",
         "Annette",
         9784,
         "Andrews"
        ],
        [
         21,
         "2015-10-25 07:36:08",
         "Aaron",
         8037,
         "Alexander"
        ],
        [
         55,
         "2016-07-26 23:44:27",
         "Zachary",
         4678,
         "Elliott"
        ],
        [
         20,
         "2015-10-21 22:27:27",
         "Albert",
         8795,
         "Allison"
        ],
        [
         24,
         "2015-10-25 03:23:53",
         "Benjamin",
         8371,
         "Adams"
        ],
        [
         21,
         "2015-10-24 05:35:27",
         "Aaron",
         8328,
         "Anderson"
        ],
        [
         20,
         "2015-10-21 22:27:27",
         "Albert",
         6266,
         "Allison"
        ],
        [
         21,
         "2015-10-24 05:35:27",
         "Aaron",
         7618,
         "Anderson"
        ],
        [
         20,
         "2015-10-28 21:44:56",
         "Angela",
         3421,
         "Andrews"
        ],
        [
         20,
         "2015-10-23 13:07:00",
         "Alexandra",
         355,
         "Allen"
        ],
        [
         24,
         "2015-11-05 03:10:40",
         "Kayla",
         9504,
         "Hamilton"
        ],
        [
         38,
         "2015-12-23 03:37:21",
         "Daniel",
         4275,
         "Aguirre"
        ],
        [
         20,
         "2015-10-28 21:44:56",
         "Angela",
         3709,
         "Andrews"
        ],
        [
         28,
         "2017-04-25 04:52:52",
         "Daniel",
         6817,
         "Hopkins"
        ],
        [
         32,
         "2017-01-18 06:33:51",
         "Kristen",
         2505,
         "Arnold"
        ],
        [
         20,
         "2017-09-21 16:31:15",
         "Nicholas",
         2254,
         "Bates"
        ],
        [
         59,
         "2016-12-22 14:33:38",
         "Melissa",
         4554,
         "Harris"
        ],
        [
         22,
         "2016-02-09 17:01:38",
         "Carlos",
         5303,
         "Estrada"
        ],
        [
         55,
         "2017-05-05 14:00:28",
         "Catherine",
         17,
         "Bowen"
        ],
        [
         45,
         "2016-03-13 00:09:23",
         "Carol",
         5285,
         "Stewart"
        ],
        [
         20,
         "2015-11-30 10:24:37",
         "Courtney",
         2662,
         "Berg"
        ],
        [
         23,
         "2015-11-30 08:07:07",
         "Amanda",
         6213,
         "Carter"
        ],
        [
         20,
         "2015-11-02 04:40:42",
         "Aaron",
         10775,
         "Bailey"
        ],
        [
         34,
         "2016-12-24 21:02:56",
         "Marcus",
         7981,
         "Sparks"
        ],
        [
         33,
         "2016-12-02 14:46:50",
         "Robin",
         10846,
         "Morris"
        ],
        [
         28,
         "2015-10-29 08:51:34",
         "Angela",
         6147,
         "Flores"
        ],
        [
         22,
         "2015-11-30 10:51:59",
         "Allison",
         4494,
         "Adams"
        ],
        [
         21,
         "2017-06-27 01:28:42",
         "Brenda",
         8289,
         "Hodges"
        ],
        [
         37,
         "2016-08-09 10:50:36",
         "Lisa",
         7420,
         "Faulkner"
        ],
        [
         20,
         "2016-01-28 01:03:35",
         "Cynthia",
         6569,
         "Adams"
        ],
        [
         30,
         "2016-05-14 06:22:36",
         "Chelsea",
         8359,
         "Brown"
        ],
        [
         21,
         "2015-10-24 05:35:27",
         "Aaron",
         858,
         "Anderson"
        ],
        [
         59,
         "2016-06-02 08:15:17",
         "Tiffany",
         7942,
         "Heath"
        ],
        [
         20,
         "2015-11-30 10:24:37",
         "Courtney",
         2720,
         "Berg"
        ],
        [
         36,
         "2016-02-05 15:30:20",
         "Jeffrey",
         4215,
         "Gomez"
        ],
        [
         55,
         "2016-01-02 07:26:05",
         "Ashley",
         8339,
         "Wilson"
        ],
        [
         21,
         "2015-10-24 05:35:27",
         "Aaron",
         423,
         "Anderson"
        ],
        [
         23,
         "2016-03-30 16:14:41",
         "Briana",
         1783,
         "Bryant"
        ],
        [
         31,
         "2015-12-23 16:03:26",
         "John",
         10708,
         "Fleming"
        ],
        [
         45,
         "2016-01-31 07:20:27",
         "Brian",
         8759,
         "Herrera"
        ],
        [
         20,
         "2016-01-24 09:18:29",
         "James",
         8161,
         "Goodwin"
        ],
        [
         46,
         "2017-03-31 11:14:54",
         "Emily",
         1743,
         "Freeman"
        ],
        [
         20,
         "2015-10-23 16:08:41",
         "Aaron",
         7689,
         "Abbott"
        ],
        [
         30,
         "2017-10-10 11:30:57",
         "Gregory",
         9732,
         "Bell"
        ],
        [
         22,
         "2016-04-09 18:38:22",
         "Devin",
         6448,
         "Chaney"
        ],
        [
         29,
         "2015-11-11 09:20:35",
         "Emily",
         3918,
         "Arroyo"
        ],
        [
         22,
         "2017-07-25 09:49:49",
         "Jesse",
         8531,
         "Torres"
        ],
        [
         20,
         "2016-08-06 04:17:55",
         "Karen",
         8269,
         "Graham"
        ],
        [
         20,
         "2015-10-26 04:12:32",
         "Angela",
         7534,
         "Allen"
        ],
        [
         46,
         "2016-05-01 10:44:18",
         "Arthur",
         9749,
         "Riggs"
        ],
        [
         20,
         "2015-10-23 16:08:41",
         "Aaron",
         7679,
         "Abbott"
        ],
        [
         20,
         "2015-10-23 16:08:41",
         "Aaron",
         8194,
         "Abbott"
        ],
        [
         27,
         "2015-11-11 01:45:05",
         "Grant",
         4055,
         "George"
        ],
        [
         30,
         "2016-01-06 06:16:55",
         "Gina",
         9977,
         "Ramirez"
        ],
        [
         29,
         "2015-10-24 02:11:21",
         "Amanda",
         9421,
         "Allen"
        ],
        [
         20,
         "2015-10-23 16:08:41",
         "Aaron",
         7823,
         "Abbott"
        ],
        [
         20,
         "2015-10-26 04:12:32",
         "Angela",
         6755,
         "Allen"
        ],
        [
         20,
         "2017-01-23 16:38:11",
         "Kristin",
         5668,
         "Khan"
        ],
        [
         28,
         "2016-04-22 09:11:58",
         "Brianna",
         2239,
         "Bell"
        ],
        [
         51,
         "2016-09-27 09:30:39",
         "Laura",
         4965,
         "Lopez"
        ],
        [
         30,
         "2015-12-01 13:34:35",
         "Wendy",
         7033,
         "Jones"
        ],
        [
         23,
         "2015-10-29 19:12:55",
         "Amy",
         8943,
         "Andrews"
        ],
        [
         55,
         "2017-05-05 03:44:58",
         "Casey",
         5357,
         "Perry"
        ],
        [
         37,
         "2016-10-06 22:01:38",
         "Timothy",
         674,
         "Ward"
        ],
        [
         30,
         "2017-08-23 23:49:00",
         "Don",
         7232,
         "Johnson"
        ],
        [
         21,
         "2015-10-28 03:16:59",
         "April",
         7216,
         "Blake"
        ],
        [
         21,
         "2016-05-10 01:52:46",
         "Jay",
         7057,
         "Hampton"
        ],
        [
         25,
         "2017-05-20 00:38:48",
         "Glenda",
         3471,
         "Ward"
        ],
        [
         20,
         "2015-11-10 05:57:33",
         "Angela",
         9245,
         "Berg"
        ],
        [
         20,
         "2015-10-24 11:23:51",
         "Abigail",
         7504,
         "Ali"
        ],
        [
         34,
         "2016-10-29 04:19:15",
         "Karen",
         1125,
         "Hill"
        ],
        [
         38,
         "2015-11-21 18:19:10",
         "Anna",
         5736,
         "Cross"
        ],
        [
         23,
         "2016-06-23 14:38:00",
         "Julie",
         10962,
         "Cox"
        ],
        [
         21,
         "2015-10-31 07:37:40",
         "Amy",
         2644,
         "Atkins"
        ],
        [
         32,
         "2016-07-29 05:30:55",
         "David",
         7973,
         "Duke"
        ],
        [
         20,
         "2016-04-15 17:11:11",
         "David",
         3583,
         "Bell"
        ],
        [
         21,
         "2015-11-08 16:14:16",
         "Amy",
         8695,
         "Brown"
        ],
        [
         20,
         "2015-10-24 05:05:28",
         "Amy",
         2227,
         "Adams"
        ],
        [
         39,
         "2016-03-18 18:09:26",
         "Adam",
         4495,
         "Cook"
        ],
        [
         34,
         "2016-01-08 20:49:30",
         "Amy",
         6050,
         "Brown"
        ],
        [
         20,
         "2015-10-21 21:26:45",
         "Adam",
         8,
         "Acosta"
        ],
        [
         49,
         "2017-04-13 11:19:44",
         "Amy",
         9324,
         "Fox"
        ]
       ],
       "datasetInfos": [],
       "dbfsResultPath": null,
       "isJsonSchema": true,
       "metadata": {},
       "overflow": false,
       "plotOptions": {
        "customPlotOptions": {},
        "displayType": "table",
        "pivotAggregation": null,
        "pivotColumns": null,
        "xColumns": null,
        "yColumns": null
       },
       "removedWidgets": [],
       "schema": [
        {
         "metadata": "{}",
         "name": "age",
         "type": "\"long\""
        },
        {
         "metadata": "{}",
         "name": "date_joined",
         "type": "\"string\""
        },
        {
         "metadata": "{}",
         "name": "first_name",
         "type": "\"string\""
        },
        {
         "metadata": "{}",
         "name": "ind",
         "type": "\"long\""
        },
        {
         "metadata": "{}",
         "name": "last_name",
         "type": "\"string\""
        }
       ],
       "type": "table"
      }
     },
     "output_type": "display_data"
    }
   ],
   "source": [
    "from pyspark.sql.functions import *\n",
    "from pyspark.sql.types import *\n",
    "import urllib\n",
    "\n",
    "topics =  {'df_pin':'0ecf5ea19ac5.pin', 'df_geo':'0ecf5ea19ac5.geo', 'df_user':'0ecf5ea19ac5.user'}\n",
    "# File location and type\n",
    "# Asterisk(*) indicates reading all the content of the specified file that have .json extension\n",
    "for df, topic in topics.items():\n",
    "    file_location = f\"/mnt/0ecf5ea19ac5_s3_mount/topics/{topic}/partition=0/*.json\" \n",
    "    file_type = \"json\"\n",
    "    # Ask Spark to infer the schema\n",
    "    infer_schema = \"true\"\n",
    "    # Read in JSONs from mounted S3 bucket\n",
    "    df = spark.read.format(file_type) \\\n",
    "    .option(\"inferSchema\", infer_schema) \\\n",
    "    .load(file_location)\n",
    "    # Display Spark dataframe to check its content\n",
    "    if 'pin' in topic:\n",
    "        df_pin = df\n",
    "    elif 'geo' in topic:\n",
    "        df_geo = df\n",
    "    elif 'user' in topic:\n",
    "        df_user = df\n",
    "    display(df)\n",
    "    "
   ]
  },
  {
   "cell_type": "markdown",
   "metadata": {
    "application/vnd.databricks.v1+cell": {
     "cellMetadata": {
      "byteLimit": 2048000,
      "rowLimit": 10000
     },
     "inputWidgets": {},
     "nuid": "0b6847cc-3de3-4d42-96fe-d524c238a0e4",
     "showTitle": false,
     "title": ""
    }
   },
   "source": [
    "# Data Cleaning\n",
    "\n",
    "## Data cleaning for df_pin<br>\n",
    "\n",
    "- Remove duplicate rows in the dataframe\n",
    "- Rename the column index to ind\n",
    "- Re-order the column names in the dataframe\n",
    "- Replace the values of follower_count column wherever necessary and hence converting the column into a integer data type\n",
    "- Remove any additional strings from the save_location column\n",
    "- Replace all the NA with None\n",
    "- Drop the rows where all columns have null values"
   ]
  },
  {
   "cell_type": "code",
   "execution_count": 0,
   "metadata": {
    "application/vnd.databricks.v1+cell": {
     "cellMetadata": {
      "byteLimit": 2048000,
      "rowLimit": 10000
     },
     "inputWidgets": {},
     "nuid": "d0ab4c6d-44f2-4899-99f6-0da7816b1873",
     "showTitle": false,
     "title": ""
    }
   },
   "outputs": [
    {
     "output_type": "display_data",
     "data": {
      "text/html": [
       "<style scoped>\n",
       "  .table-result-container {\n",
       "    max-height: 300px;\n",
       "    overflow: auto;\n",
       "  }\n",
       "  table, th, td {\n",
       "    border: 1px solid black;\n",
       "    border-collapse: collapse;\n",
       "  }\n",
       "  th, td {\n",
       "    padding: 5px;\n",
       "  }\n",
       "  th {\n",
       "    text-align: left;\n",
       "  }\n",
       "</style><div class='table-result-container'><table class='table-result'><thead style='background-color: white'><tr><th>ind</th><th>unique_id</th><th>title</th><th>description</th><th>follower_count</th><th>poster_name</th><th>tag_list</th><th>is_image_or_video</th><th>image_src</th><th>save_location</th><th>category</th><th>downloaded</th></tr></thead><tbody><tr><td>4494</td><td>32c8ac38-4283-4275-8fd7-8ddc9c04e13b</td><td>10 Tech Tools that Help Event Planners Do Their Job - Learn About Event Planning</td><td>Being an event planner could easily be described as one of the most stressful yet entertaining jobs in the universe. With all of the food, guests, promoting, tracking, analyzing… </td><td>4000</td><td>EventPlanning.com | Learn How To Become An Event Planner</td><td>Event Planning Tips,Event Planning Business,Event Ideas,Theme Ideas,Party Planning,Wedding Event Planner,Wedding Events,Tent Wedding,Weddings</td><td>image</td><td>https://i.pinimg.com/originals/47/78/6b/47786be4dc12f7401504b68caa56247b.jpg</td><td>/data/event-planning</td><td>event-planning</td><td>1</td></tr><tr><td>9977</td><td>3719f505-20cc-485b-8b01-ea2aee6f6e62</td><td>15 jaw-droppingly beautiful waterfalls in Iceland</td><td>Sigöldugljúfur waterfall near Landmannalaugar in Iceland. Click for the full list of the most beautiful waterfalls in Iceland. #Iceland #europe #photography #travel #travelguide… </td><td>25000</td><td>Norman - Luxury travel</td><td>Travel Photography Inspiration,Travel Inspiration,Beautiful Waterfalls,Beautiful Landscapes,Beautiful Scenery,Beautiful Things,Beautiful Pictures,Dream Pictures,Beautiful Beautiful</td><td>image</td><td>https://i.pinimg.com/originals/1d/78/37/1d78374e72c9eb4a9d27039861bbd355.jpg</td><td>/data/travel</td><td>travel</td><td>1</td></tr><tr><td>5303</td><td>573cd520-b16e-41f0-a59a-e0d8d04d2ee2</td><td>Credit Sesame Review: The Pros, Cons and Best Features</td><td>Credit Sesame offers free access to a version of your credit score + $50,000 in free identity theft insurance, but there are a few downsides to the service.</td><td>46000</td><td>R.J. Weiss at The Ways To Wealth | Personal Finance | Debt Payoff</td><td>What Is Credit Score,Fix Your Credit,Build Credit,Improve Your Credit Score,Rebuilding Credit,Credit Repair Companies,Ideas Prácticas,Paying Off Credit Cards,Planning Budget</td><td>image</td><td>https://i.pinimg.com/originals/e2/6d/7a/e26d7a597f2f83a21803ead5c401613e.png</td><td>/data/finance</td><td>finance</td><td>1</td></tr><tr><td>7679</td><td>5f557e9c-ec27-4976-af4c-534190dc0941</td><td>20 Romantic Love Quotes That Will Make You Fall In Love All Over Again</td><td>The honeymoon phase is the most romantic stage of a relationship, and it's no wonder it's the one we miss the most it when gone and passed. Look to these romantic love quotes to… </td><td>942000</td><td>YourTango</td><td>Love Quotes For Him Cute,Love Quotes For Him Boyfriend,Quotes About Moving On From Love,Falling In Love Quotes,Love Quotes Funny,Inspirational Quotes About Love,Romantic Love Quotes,New Quotes,Words Quotes</td><td>image</td><td>https://i.pinimg.com/originals/83/2b/d5/832bd5e2517d84e843e1c183a6c1b860.jpg</td><td>/data/quotes</td><td>quotes</td><td>1</td></tr><tr><td>7216</td><td>bed8c98e-c3af-458f-91bb-49d9e0ac0bfa</td><td>Leisure Motion Standing Collar Warm Cotton Jacket</td><td>Product Name: Leisure Motion Standing Collar Warm Cotton Jacket Item NO.: 4356748476465 Weight: 0.8 kg = 1.7637 lb = 28.2192 oz Category: Men's Outerwear > Men's Jackets Tag: 20… </td><td>31000</td><td>joymanmall</td><td>Winter Outfits Men,Stylish Mens Outfits,Casual Outfits,Urban Style Outfits Men,Men Winter Fashion,Outfits For Men,Smart Casual Outfit,Mens Winter,Simple Outfits</td><td>image</td><td>https://i.pinimg.com/originals/80/78/65/807865c3b7f390a6be457a79bf7b5d2c.jpg</td><td>/data/mens-fashion</td><td>mens-fashion</td><td>1</td></tr><tr><td>4678</td><td>b512bba6-5ce9-4414-ab31-156a3bff6320</td><td>qfdian 3m 100/200/300 LED Curtain String Light Garland Wedding Party Decorations Table Bachelorette Birthday Christmas New Year Festoon - Colorful With Hook / 3MX2M 200LED</td><td>Brand Name: HeronsbillOrigin: CN(Origin)is_customized: NoPattern: stripedModel Number: LED-D04Material: CopperOccasion: Wedding & EngagementOccasion: Christening & BaptismOccasi… </td><td>649</td><td>Qfdian</td><td>Party Girlande,Led Curtain Lights,Icicle Lights,Window Lights,Backdrop Lights,Twinkle Lights,Backdrop Photobooth,Wall Lights,Wall Fairy Lights</td><td>image</td><td>https://i.pinimg.com/originals/47/47/de/4747de8c2310834f982702dda0263ec6.jpg</td><td>/data/event-planning</td><td>event-planning</td><td>1</td></tr><tr><td>2227</td><td>c2358cc5-7458-4350-a413-7689c2360b3a</td><td>VEIKOUS 6ft/7.5ft Slim Pencil Christmas Tree Pre-lit with Adjustable Lights and Stand - 7.5 Foot</td><td>This artificial pre-lit skinny Christmas tree is designed with plenty branches and one branch tip at the top in a small slim pencil tree shape for you to save space! You can DIY… </td><td>5000</td><td>Wear24-7</td><td>Cashmere Christmas Tree,Skinny Christmas Tree,Pencil Christmas Tree,Christmas Tree With Snow,Flocked Christmas Trees,Christmas Greenery,Christmas Fireplace,Christmas Store,Holiday Ornaments</td><td>image</td><td>https://i.pinimg.com/originals/d9/ab/c0/d9abc01ad3ffde9365869e472c33c375.jpg</td><td>/data/christmas</td><td>christmas</td><td>1</td></tr><tr><td>4459</td><td>c57ab99a-a118-435f-9748-c2b1d6dc19dc</td><td>Fun and Cheap DIY Party Decorations For All Celebrations</td><td>A party doesn't have to cost an arm and a leg to be amazing. Fun and cheap DIY party decorations are all things that you can make yourself! Give it a try!</td><td>42000</td><td>Caroline|CarolineVencil.com | Saving & Making Money | Pro Blogger</td><td>Trendy Wedding,Dream Wedding,Elegant Wedding,Perfect Wedding,Spring Wedding,Rustic Wedding,Romantic Weddings,Vintage Weddings,Wedding House</td><td>image</td><td>https://i.pinimg.com/originals/2e/9e/7e/2e9e7eb160b70fccb554a25af077bf5e.jpg</td><td>/data/event-planning</td><td>event-planning</td><td>1</td></tr><tr><td>8359</td><td>1856773e-ee8a-4ab8-8325-2a5bd306d825</td><td>5 Ways To Reprogram Your Thoughts For More Happiness - Lovely Refinement</td><td>It's possible to reprogram your thoughts and fill your life with more success and happiness. No matter what your current beliefs are, you can change them for the better.</td><td>17000</td><td>Lovely Refinement Health & Wellness</td><td>Positive Quotes For Life Encouragement,Good Life Quotes,Self Love Quotes,Inspiring Quotes About Life,Quotes To Live By,Quotes Positive,Happy Quotes About Life,Cute Quotes About Happiness,Quotes About Mindset</td><td>image</td><td>https://i.pinimg.com/originals/b1/4a/fa/b14afaae339fca00365b8ba8dea67c57.jpg</td><td>/data/quotes</td><td>quotes</td><td>1</td></tr><tr><td>674</td><td>db168555-2951-4295-8961-317efe30e0bb</td><td>Regenbogen-Regen - Tanzendes Mädchen (inkl. Download)</td><td>Mit der Puste-Technik kann man einfach wunderschöne Kunstwerke gestalten! Lade dir einfach das Mädchen mit Schirm (auch verfügbar als Junge mit Schirm) herunter und los geht der… </td><td>71000</td><td>Faminino | Basteln mit Kinder, Ratgeber und easy DIY-Ideen </td><td>Crayon Art,Melted Crayon Crafts,Art Drawings Sketches Simple,Colorful Drawings,Diy Canvas Art,Art Club,Art Plastique,Art Activities,Diy Art</td><td>video</td><td>https://i.pinimg.com/videos/thumbnails/originals/76/53/0b/76530b1d736cea566c9a68dd8d96d3f7.0000001.jpg</td><td>/data/art</td><td>art</td><td>1</td></tr><tr><td>5211</td><td>6c06e71e-5158-4d99-b0c2-fe606ebe5a9c</td><td>Vision to Fruition Business Resource Journal & Planner</td><td>This print ready digital resource journal and planner is a guide to assist budding entrepreneurs in turning that dream into a business. It walks one through the steps from idea… </td><td>11</td><td>JasanaTees</td><td>Business Planner,Business Advice,Start Up Business,Business Entrepreneur,Business Quotes,Bakery Business,Business Branding,Entrepreneur Inspiration,Business Inspiration</td><td>image</td><td>https://i.pinimg.com/originals/fa/99/a5/fa99a5660983fc84ed71e18f727db3ae.png</td><td>/data/finance</td><td>finance</td><td>1</td></tr><tr><td>8</td><td>8e75ccf1-915a-49df-a16b-2c5b9190b568</td><td>Californian Artist Isabel Emrich Paints Dazzling Depictions Of Women Submerged Underwater</td><td>Californian artist Isabel Emrich paints dazzling depictions of women submerged in water. Each colorful oil painting captures moments of tranquility below the water’s surface, as… </td><td>2000000</td><td>Bored Panda</td><td>Art Sketches,Art Drawings,L'art Du Portrait,Self Portrait Artists,Portrait Ideas,Art Du Croquis,Underwater Painting,Breathing Underwater,Reflection Art</td><td>image</td><td>https://i.pinimg.com/originals/41/6c/9a/416c9a9ba8841dd369aadd00d10d729d.jpg</td><td>/data/art</td><td>art</td><td>1</td></tr><tr><td>3918</td><td>39a09761-4a18-416f-b81c-cb186dcbc468</td><td>Organizing Progress Monitoring</td><td>If you feel like your progress monitoring for your special education IEP goals is scattered and disorganized, this blog post is for you! In this post, I share how to organize yo… </td><td>12000</td><td>The Primary Gal</td><td>Special Education Organization,Special Education Activities,Special Education Classroom,Classroom Activities,Special Education Progress Monitoring,Primary Education,Resource Room Teacher,Learning Support,Organize</td><td>image</td><td>https://i.pinimg.com/originals/10/6a/3e/106a3e3e4ee0c098c760ac33ac154e43.png</td><td>/data/education</td><td>education</td><td>1</td></tr><tr><td>4965</td><td>1255901f-78fc-4cc7-a471-5ac19210c17b</td><td>Potes de vidro de conserva, na decoração, organização, vasos, faça você mesmo!</td><td>Customizar estes vidros vai depender da necessidade de cada um, o bom mesmo é que aproveitamos tudo, desde correntes que não usamos mais, brincos, fitas, flores, cordões, fios d… </td><td>546</td><td>Penha Lucia</td><td>Wedding Table,Diy Wedding,Wedding Reception,Rustic Wedding,Wedding Day,Wedding Flowers,Wedding Bells,Party Planning,Wedding Planning</td><td>image</td><td>https://i.pinimg.com/originals/7d/5e/8e/7d5e8e22bf5acf11b3343882bf485710.jpg</td><td>/data/event-planning</td><td>event-planning</td><td>1</td></tr><tr><td>2254</td><td>7a668b10-e2ed-4637-898e-99f29056f572</td><td>OUTDOOR FARMHOUSE CHRISTMAS DECORATING IDEAS - A Fresh-Squeezed Life</td><td>Get your front porch and front yard ready for Christmas with DIY projects. Check out these cute and fun items that are simple to make and budget friendly!</td><td>37000</td><td>A Fresh-Squeezed Life</td><td>Christmas Decorations Diy Crafts,Xmas Crafts,Christmas Projects,Christmas Home,Holiday Decor,Decor Crafts,Halloween Decorations,Fall Decor,Diy Christmas Lights</td><td>image</td><td>https://i.pinimg.com/originals/6c/f5/78/6cf578a49bebdc39426f16e509ff9b88.jpg</td><td>/data/christmas</td><td>christmas</td><td>1</td></tr><tr><td>3421</td><td>49dec45b-e807-4f2c-b442-a92ff4ef0d6c</td><td>Spider Handprint Craft - The Best Ideas for Kids</td><td>HALLOWEEN CRAFTS FOR KIDS: Spider handprint craft - this is too cute! A perfect Halloween craft for preschoolers, kindergarten or toddlers. #halloween #halloweencrafts #kidscraf… </td><td>903000</td><td>The Best Ideas for Kids</td><td>Halloween Arts And Crafts,Halloween Crafts For Toddlers,Halloween Tags,Halloween Crafts For Kids,Toddler Crafts,Kids Crafts,Diy For Kids,Halloween Preschool Activities,Decor Crafts</td><td>video</td><td>https://i.pinimg.com/videos/thumbnails/originals/78/27/21/782721435dc388129a66ef4dba432b06.0000001.jpg</td><td>/data/diy-and-crafts</td><td>diy-and-crafts</td><td>1</td></tr><tr><td>1644</td><td>28af63b4-eed9-4a41-b0c0-4d1f8fba491d</td><td>11 Farmhouse Christmas Stocking Ideas – Hallstrom Home</td><td>11 Farmhouse Christmas Stocking Ideas |Christmas stockings|ticking stripe stocking|farmhouse decor|christmas stocking ideas|farmhouse christmas|white christmas|shabby chic|chris… </td><td>91000</td><td>Hallstrom Home</td><td>Christmas Fireplace,Christmas Mantels,Christmas Home,Christmas Tree Crafts,Fireplace Mantel Christmas Decorations,Homemade Christmas,Christmas Holidays,Christmas Ideas,Merry Christmas</td><td>image</td><td>https://i.pinimg.com/originals/e5/8e/1e/e58e1e773fed9ea04e4cba7013e2d81a.jpg</td><td>/data/christmas</td><td>christmas</td><td>1</td></tr><tr><td>8468</td><td>bb3ea8aa-c9c0-4164-b050-aa7811c051a0</td><td>50 Positive Affirmations That Will Change Your Life</td><td>Motivational quotes. Motivational quotes for success. Motivational quotes for women. Affirmations for self-love. Affirmations for positivity. Positive mindset. Law of attraction… </td><td>45000</td><td>Boss Babe Chronicles | Personal Development, Finances, Self Care</td><td>Positive Self Affirmations,Positive Affirmations Quotes,Affirmation Quotes,Positive Mindset,Postive Quotes,Positive Uplifting Quotes,Affirmations Success,Law Of Attraction Affirmations,Law Of Attraction Quotes</td><td>image</td><td>https://i.pinimg.com/originals/53/86/6d/53866d35a32393ba29c75582a428bc09.jpg</td><td>/data/quotes</td><td>quotes</td><td>1</td></tr><tr><td>2505</td><td>9d45e6c7-a4df-460c-8b00-4048ef9f93c6</td><td>Christmas Tree Topper Gnome Hand Made Gnome Christmas Decoration - GREY HAT</td><td>Christmas Tree Topper Gnome - Hand Made Gnome Christmas Decoration, Funny Christmas Tree Topper, Also be Used as Curtain Tie, Unique Christmas Gnome Decoration UNIQUE TREE TOPPE… </td><td>71</td><td>Everythingforhalloween</td><td>Christmas Gnome,Christmas Humor,Unique Christmas Trees,Christmas Wreaths,Christmas Crafts,Xmas Ornaments,Christmas Tree Decorations,Christmas Sewing,Outdoor Christmas</td><td>image</td><td>https://i.pinimg.com/originals/21/7d/23/217d238c022c28ffa56a38972affa02c.jpg</td><td>/data/christmas</td><td>christmas</td><td>1</td></tr><tr><td>7942</td><td>9938ca78-8642-44e8-877b-86727367134e</td><td>I'm Slowly Learning That Even If I React, It Won't Change Anything</td><td>I'm slowly learning that even if I react, it won't change anything, it won't make people suddenly love and respect me, it won't magically change their minds. Sometimes it's bett… </td><td>236000</td><td>The Mindset Journey</td><td>Quotable Quotes,Wisdom Quotes,True Quotes,Great Quotes,Words Quotes,Quotes To Live By,Motivational Quotes,Inspirational Quotes,Quotes On Inner Peace</td><td>image</td><td>https://i.pinimg.com/originals/58/38/bb/5838bb6e21c3c6e85b3537bb16ace86c.jpg</td><td>/data/quotes</td><td>quotes</td><td>1</td></tr><tr><td>2377</td><td>33bae33d-dfb5-4463-8eec-44840a9a5991</td><td>DIY Paper decorations {12 Crafts of Christmas}</td><td>How to make paper Christmas decorations - Budget DIY tutorial on make Christmas tree baubles and tree decorations from card. Craft project inspiration</td><td>312</td><td>Rachel Hedges</td><td>Paper Christmas Decorations,Christmas Tree Paper Craft,Christmas Room,Christmas Ornament Crafts,Xmas Crafts,Diy Christmas Gifts,Christmas Tree Decorations To Make,Personalised Christmas Decorations,How To Make Christmas Tree</td><td>image</td><td>https://i.pinimg.com/originals/bd/f5/83/bdf5837852efc91234919e4507be1f3f.jpg</td><td>/data/christmas</td><td>christmas</td><td>1</td></tr><tr><td>2644</td><td>d0a27977-f766-47f9-8648-134a73453ba6</td><td>35 Winter Crafts for Kids</td><td>Looking for some cute winter crafts for kids? Children's wintertime craft ideas are some of the most adorable, with everything from snowflakes to snowmen, icy icicles and igloos… </td><td>985000</td><td>DIY Joy - Crafts, Home Improvement, Decor & Recipes</td><td>Kids Crafts,Winter Crafts For Toddlers,Daycare Crafts,Winter Kids,Cute Crafts,Projects For Kids,Art Projects,Winter Preschool Crafts,Preschool Age</td><td>image</td><td>https://i.pinimg.com/originals/61/68/b6/6168b6a5c804bfaea1f30ff8e3d23b6d.jpg</td><td>/data/diy-and-crafts</td><td>diy-and-crafts</td><td>1</td></tr><tr><td>8943</td><td>11216553-04ce-4909-aa72-a1993331eab2</td><td>30 tatouages minimalistes pour enfin sauter le pas</td><td>On rêve d'un joli tatouage... mais lorsque l'on pense aux petites aiguilles qui vont venir dessiner le motif choisi : on se dit que ce n'est pas pour nous ! Mais plutôt que de c… </td><td>494000</td><td>aufeminin</td><td>Word Tattoos On Hand,Small Hand Tattoos,Hand Tattoos For Women,Meaningful Tattoos For Women,Dainty Tattoos,Little Tattoos,Mini Tattoos,Tattoo With Words,Tattoo Hand</td><td>image</td><td>https://i.pinimg.com/originals/bd/36/bb/bd36bbb67fb1901d9589604d8b7aa29d.jpg</td><td>/data/tattoos</td><td>tattoos</td><td>1</td></tr><tr><td>4159</td><td>0c482cf8-b912-4886-83c6-fe57bf9eac00</td><td>Weather Activities For Kids - Teaching Special Thinkers</td><td>March is the perfect time to pull out ALL your rainbow and weather activities! Turn your classroom into a seasonal storm with our Made For Me Literacy Weather Unit! This unit is… </td><td>21000</td><td>Teaching Special Thinkers</td><td>Special Education Classroom,Classroom Community,Special Education Activities,Teaching Math,Preschool Kindergarten,Preschool Education,Science Classroom,Classroom Ideas,Lesson Plan For Kindergarten</td><td>image</td><td>https://i.pinimg.com/originals/53/f0/f8/53f0f80e2048085e7e5a866cfd558ecd.png</td><td>/data/education</td><td>education</td><td>1</td></tr><tr><td>5668</td><td>a93ab7df-4f91-497b-9d21-d2a253574928</td><td>The Ultimate Personal Finance Planner  – Iconic Style Inc.</td><td>Budget like a boss with this all in one resource for personal finance to track your bills, expenses, debt, money goals, savings, and much more! In order to create financial awar… </td><td>8000</td><td>Iconic Style Inc | Fashion & Success</td><td>Financial Goals,Financial Planning,Investing For Retirement,Savings Challenge,Budgeting Worksheets,Finance Organization,Create A Budget,Budgeting Finances,Finance Tips</td><td>image</td><td>https://i.pinimg.com/originals/6e/ae/43/6eae43de87b268102f76268eedd719dd.png</td><td>/data/finance</td><td>finance</td><td>1</td></tr><tr><td>4215</td><td>610a0d8c-ec25-415f-924b-449d0d9e17c5</td><td>10 Not-So-Obvious Quotes for Teachers - A Teachable Teacher</td><td>30 Great Motivational and Inspirational Quotes for Teachers #inspirationalquotes #teacherquotes #teaching #wisdom #teachers</td><td>42000</td><td>A Teachable Teacher</td><td>Special Education Quotes,Education Quotes For Teachers,Educational Quotes For Students,Quotes For The Classroom,Free Education,Teacher Education,Famous Quotes About Education,Sayings For Teachers,Being A Teacher Quotes</td><td>image</td><td>https://i.pinimg.com/originals/0b/25/f9/0b25f9ce3793ffbae57a70ad7e7061b3.jpg</td><td>/data/education</td><td>education</td><td>1</td></tr><tr><td>6266</td><td>9862005f-97e2-4c97-ada6-05d732844415</td><td>In This House Stairs Version 3 Decor Decal Sticker Wall Vinyl Art - saphire blue</td><td>In This House The latest in home decorating. Beautiful wall vinyl decals, that are simple to apply, are a great accent piece for any room, come in an array of colors, and are a… </td><td>7000</td><td>Boop Decals</td><td>Inexpensive Home Decor,Easy Home Decor,Cheap Home Decor,Painted Staircases,Painted Stairs,Staircase Painting,Escalier Design,Foyer Decorating,Budget Decorating</td><td>image</td><td>https://i.pinimg.com/originals/a4/57/56/a457562af7802a3ca441e6b24fe116cd.jpg</td><td>/data/home-decor</td><td>home-decor</td><td>1</td></tr><tr><td>10775</td><td>2fcb1acc-3aef-40af-be09-cd979be0a0f1</td><td>This armored vehicle is for people who think the Tesla Cybertruck isn’t intense enough - Yanko Design</td><td>It’s really difficult to imagine what definite post-apocalyptic scenario the ARMORTRUCK concept was designed for because truth be told, it looks like the kind of...</td><td>416000</td><td>Yanko Design - Form Beyond Function</td><td>Cool Sports Cars,Sport Cars,Cool Cars,Future Concept Cars,Future Car,Army Vehicles,Armored Vehicles,Audi Ai,Armored Truck</td><td>image</td><td>https://i.pinimg.com/originals/0e/93/69/0e9369655753d22181900e013a12973a.jpg</td><td>/data/vehicles</td><td>vehicles</td><td>1</td></tr><tr><td>9986</td><td>ba0857f3-f2d8-4e52-8504-3bb9bdabaa04</td><td>Your Epic 1-Week Travel Itinerary To Visit Iceland</td><td>Iceland is a total dream country to visit, especially if you're keen on the kind of trip that's a little different from a beach or tropical holiday. Luxury Travel | Ultimate Des… </td><td>459000</td><td>Hand Luggage Only</td><td>Beautiful Places To Travel,Best Places To Travel,Cool Places To Visit,Best Vacations,Vacation Trips,Vacation Spots,Vacation Places,European Vacation,European Travel</td><td>image</td><td>https://i.pinimg.com/originals/88/2e/fd/882efd22de67b7b644309649dadd75ef.jpg</td><td>/data/travel</td><td>travel</td><td>1</td></tr><tr><td>8161</td><td>da45e81e-3768-4e7c-862f-a1aae4289cf4</td><td>15 Inspirational quotes to start your day off feeling motivated and positive. Inspiring words can he</td><td>Here are 15 inspirational quotes to start your day feeling motivated and positive. Inspiring words are a great tool to combat anxiety and fear. They can offer hope and spark you… </td><td>19000</td><td>Dream Dash Journal</td><td>Good Vibes Quotes Positivity,Positive Quotes For Life Encouragement,Positive Morning Quotes,Funny Positive Quotes,Positive Uplifting Quotes,Feeling Positive Quotes,Motivational Quotes For Success Positivity,Positive Quotes About Love,Morning Qoutes</td><td>image</td><td>https://i.pinimg.com/originals/db/ce/e4/dbcee4c357b42cb18fcefa044aacd55a.jpg</td><td>/data/quotes</td><td>quotes</td><td>1</td></tr><tr><td>3695</td><td>274d6096-7592-4d9d-b800-6cc239c0d33a</td><td>Sentence Building Center Activity</td><td>Engaging sentence building activity to teach your students about sentences and their parts. The perfect addition to your literacy centers in kindergarten and first-grade!</td><td>37000</td><td>Deanna Jump | Kindergarten and First Grade Teaching Resources</td><td>Centers First Grade,First Grade Activities,Teaching First Grade,Reading Stations,Writing Station,Reading Centers,Work Stations,1st Grade Writing,First Grade Reading</td><td>image</td><td>https://i.pinimg.com/originals/e6/4c/db/e64cdb723d74f92ea280872849c1c0c2.jpg</td><td>/data/education</td><td>education</td><td>1</td></tr><tr><td>8795</td><td>36d73381-9e73-423a-a0c4-aee0658331bc</td><td>Traditional Grim Reaper Tattoo Decal Sticker Wall Vinyl Art Home Decor Skull Flowers - white</td><td>Grim ReaperThe latest in home decorating. Beautiful wall vinyl decals, that are simple to apply, are a great accent piece for any room, come in an array of colors, and are a che… </td><td>7000</td><td>Boop Decals</td><td>Wall Decal Sticker,Vinyl Wall Decals,Wall Stickers,Vinyl Art,Reaper Drawing,Tattoo Tradicional,Grim Reaper Tattoo,Simple Skull,Wood Burning Patterns</td><td>image</td><td>https://i.pinimg.com/originals/bb/99/0b/bb990b140f181542b9a9d4ff2b4efb4b.jpg</td><td>/data/tattoos</td><td>tattoos</td><td>1</td></tr><tr><td>4495</td><td>86275306-bdd1-46dc-a50b-b2fc9ff7670a</td><td>5 most important things to do  before you launch your Small Business.</td><td>No description available Story format</td><td>3000</td><td>Small Business Tips on Branding and Marketing.</td><td>Business Notes,Business Planner,Business Advice,Small Business Marketing,Business Motivation,Best Small Business Ideas,Small Business Plan,Starting A Business,Diy Business Ideas</td><td>multi-video(story page format)</td><td>https://i.pinimg.com/videos/thumbnails/originals/e5/0f/71/e50f712c843c382634955f6577e472ea.0000001.jpg</td><td>/data/event-planning</td><td>event-planning</td><td>1</td></tr><tr><td>9421</td><td>2eb2066b-7fbd-44bc-b5a7-0f5c4120d083</td><td>A List of 198 Spiritual Tattoo Ideas and Designs</td><td>\"A new age of consciousness\", and it's written in the stars. As we enter the Age of Aquarius, or the 'Golden Age' we are certainly experiencing a change in global consciousness… </td><td>6000</td><td>Round The World Magazine</td><td>Petite Tattoos,Dainty Tattoos,Dope Tattoos,Back Tattoos,Mini Tattoos,Body Art Tattoos,Small Tattoos,Sleeve Tattoos,Tattoos Of Dates</td><td>image</td><td>https://i.pinimg.com/originals/b4/61/fc/b461fc3aac0f5c002a4686ed53b5a5fd.jpg</td><td>/data/tattoos</td><td>tattoos</td><td>1</td></tr><tr><td>6213</td><td>7e8f55fd-2e82-4d72-af4c-e5b2c7f9ea5d</td><td>The best cheap decorating trick there is! How to transition your decor without breaking the bank!</td><td>The best cheap decorating trick there is to hop your home #homedecor #farmhouse #wilshirecollections</td><td>79000</td><td>Stacey Collins | Wilshire Collections</td><td>Shabby Chic Homes,Shabby Chic Decor,Home Decor Bedroom,Entryway Decor,Cheap Bedroom Decor,Furniture Makeover,Home Furniture,Rustic Furniture,Furniture Ideas</td><td>image</td><td>https://i.pinimg.com/originals/b8/45/e7/b845e795ad72a5e82e585b6a4dd37770.jpg</td><td>/data/home-decor</td><td>home-decor</td><td>1</td></tr><tr><td>1743</td><td>b7b2ca88-5581-4aaf-a16b-92cd2d69bf5a</td><td>Flocked Buffalo Check Christmas Tree</td><td>Flocked Buffalo Check Christmas Tree. With handmade ornaments and mercury glass. Perfect farmhouse christmas tree</td><td>68000</td><td>Weekend Craft</td><td>Simple Christmas Tree Decorations,Flocked Christmas Trees Decorated,Black Christmas Trees,Ribbon On Christmas Tree,Beautiful Christmas Trees,Plaid Christmas,Christmas Time,Buffalo Check Christmas Decor,Christmas Wreaths</td><td>image</td><td>https://i.pinimg.com/originals/3a/b8/b4/3ab8b4be75fd641fcd3025b9fe0a2ca0.jpg</td><td>/data/christmas</td><td>christmas</td><td>1</td></tr><tr><td>9324</td><td>01056b26-ea0f-47c4-a9f6-7548909c005e</td><td>50+ Great Designs For Small Tattoo İdeas And Small Tattoos - hotcrochet .com</td><td>Without being autonomous, I’m a big fan of tattoos. As a way, the visual decoration of your free patten body and the method of communication are important things for you, your l… </td><td>49000</td><td>hotcrochet.com </td><td>Leg Tattoos,Body Art Tattoos,Small Tattoos,Sleeve Tattoos,Tatoos,Finger Tattoos,Tattoo Forearm,Tattoo On Leg,Female Arm Tattoos</td><td>image</td><td>https://i.pinimg.com/originals/5e/d9/cd/5ed9cd725179b76b4a0b2ce360358412.jpg</td><td>/data/tattoos</td><td>tattoos</td><td>1</td></tr><tr><td>1125</td><td>281804ae-f80e-454a-952e-0b1dd568cbf3</td><td>12 Ways You're Ruining Your Nails</td><td>Cool Personal self care routine:) #skincareroutine #skincaretips The post Personal self care routine:) #skincareroutine #skincaretips… appeared first on Beauty 2018-2019 Trends… </td><td>340000</td><td>Woman's Day</td><td>Skin Care Routine For 20s,Self Care Routine,Skincare Routine,Nail Care Routine,Beauty Care Routine,Skin Routine,Vie Motivation,How To Clean Makeup Brushes,Anti Aging Skin Care</td><td>image</td><td>https://i.pinimg.com/originals/39/4e/4a/394e4af45d816accc2a19ed471004ef1.jpg</td><td>/data/beauty</td><td>beauty</td><td>1</td></tr><tr><td>7823</td><td>f2abad27-56e6-4294-80af-965d73cf5196</td><td>30 Quotes For When You Want To Say A Big “F-YOU” To Your Scumbag Ex</td><td>There is nothing more satisfying than saying \"screw you\" to the one who broke your heart. These break up quotes will help save your sorry, hurting soul from the heartbreak.</td><td>942000</td><td>YourTango</td><td>Crush Quotes,Mood Quotes,Life Quotes,Quotes Quotes,Qoutes,Friend Quotes,So True Quotes,Love Quotes To Him,Being Hurt Quotes</td><td>image</td><td>https://i.pinimg.com/originals/b0/a5/75/b0a5750fcb889384446d6558f4b6765e.jpg</td><td>/data/quotes</td><td>quotes</td><td>1</td></tr><tr><td>9245</td><td>23387186-8009-480b-a361-a38fad0e77ed</td><td>Wedding Ring Tattoos: Pastel Flowers Ring Tattoo</td><td>Wedding Ring Tattoos: Pastel Flowers Ring Tattoo. A dainty flower ring tattoo inked in a watercolor style. Click through for 30 wedding ring tattoo ideas. #weddingringtattoos #r… </td><td>538000</td><td>Byrdie</td><td>Dainty Tattoos,Mom Tattoos,Couple Tattoos,Body Art Tattoos,Tatoos,Couples Ring Tattoos,Love Symbol Tattoos,Finger Tattoo For Women,Small Finger Tattoos</td><td>image</td><td>https://i.pinimg.com/originals/a8/9f/6a/a89f6a93b23732b610ec66fc5f8b2068.jpg</td><td>/data/tattoos</td><td>tattoos</td><td>1</td></tr><tr><td>5285</td><td>38d51f28-a376-4eb1-9197-c29f423f385d</td><td>How Millionaires Avoid Uncle Sam - Tik Tok Credit @johnefinance</td><td>No description available Story format</td><td>553</td><td>Freedom4Life - Financial Management, Affiliate Marketer, Blogger</td><td>Financial Tips,Financial Literacy,Financial Planning,Teen Life Hacks,Useful Life Hacks,David Ramsey,Finance Books,Feel Good Videos,Money Tips</td><td>multi-video(story page format)</td><td>https://i.pinimg.com/videos/thumbnails/originals/b7/d7/c4/b7d7c48a96edd7189343d7d5e35c8d1f.0000001.jpg</td><td>/data/finance</td><td>finance</td><td>1</td></tr><tr><td>3471</td><td>99662f47-2474-412d-abc2-945f1eee68dc</td><td>More than 15 Homeschool Hacks from a Mom of 15 • Mom Delights</td><td>It doesn’t take a genius to educate a large family at home, but it does take quite a bit of focus and ingenuity. Here are some homeschool hacks to help.</td><td>5000</td><td>Sherry Hayes</td><td>Planning School,School Planner,Professor,Homeschool Curriculum,Homeschooling Resources,Learning Activities,Homeschooling Statistics,Homeschool Supplies,Kids Learning</td><td>image</td><td>https://i.pinimg.com/originals/05/20/71/0520712dd7fd34916cd93730aea33121.jpg</td><td>/data/education</td><td>education</td><td>1</td></tr><tr><td>6050</td><td>5c1aaf3e-7860-4235-b620-a47545c3d85a</td><td>Our Christmas Home Tour</td><td>We have decked the halls here at our house and I am very excited to share my very first Christmas home tour!</td><td>21000</td><td>Micheala Diane Designs |  Interior Design, Home Styling and DIY Projects</td><td>Christmas Living Rooms,Cozy Living Rooms,Home Living Room,Living Room Furniture,Living Room Designs,Modern Furniture,Apartment Living,Antique Furniture,Rustic Furniture</td><td>image</td><td>https://i.pinimg.com/originals/95/a4/89/95a48915f36ba0976bdd96bd124adfda.jpg</td><td>/data/home-decor</td><td>home-decor</td><td>1</td></tr><tr><td>8037</td><td>1c04a065-0f75-471d-99a8-b0027ae2491d</td><td>32 Toxic Relationship Quotes That Empower You To Leave For Good</td><td>It's time to take off the cuff put on you by narcissists. These 29 toxic relationship quotes are so sad but true. And they may be the wake up call you need.</td><td>190000</td><td>Our Mindful Life</td><td>Good Night Quotes,Love Mom Quotes,Niece Quotes,Now Quotes,Daughter Love Quotes,Words Quotes,Quotes To Live By,Sayings,Bad Mother Quotes</td><td>image</td><td>https://i.pinimg.com/originals/ba/77/f8/ba77f8d93c839b9d1bdf002803a3c949.jpg</td><td>/data/quotes</td><td>quotes</td><td>1</td></tr><tr><td>1783</td><td>cd0ae216-8140-492d-8d9f-4d9414da82b0</td><td>Beautiful Christmas Table Settings That Will Enchant Your Guests</td><td>Set the table for feasting, toasting, and general merrymaking on Christmas Day and all of the winter days leading up to it.</td><td>2000000</td><td>Martha Stewart Living</td><td>Noel Christmas,Christmas Crafts,Christmas Ornaments,Nordic Christmas,Modern Christmas,Christmas Christmas,Christmas Wedding,Christmas Movies,Christmas Table Settings</td><td>image</td><td>https://i.pinimg.com/originals/6b/34/48/6b344828a514cfeb22a44333c957b800.jpg</td><td>/data/christmas</td><td>christmas</td><td>1</td></tr><tr><td>9504</td><td>cddc38b6-3697-44cb-a4ec-91b3f583bede</td><td>Grimaud & St. Tropez, France - Julia Berolzheimer</td><td>Outfit Details: Look 1- Lisa Marie Fernandez Dress, Mark Cross Bag (sold out, similar here), K. Jacques Sandals, Raen Sunglasses…</td><td>399000</td><td>Julia Berolzheimer</td><td>St Tropez France,Places To Travel,Places To Go,Travel Destinations,Vacation Places,Reisen In Europa,Destination Voyage,French Countryside,France Travel</td><td>image</td><td>https://i.pinimg.com/originals/02/46/f4/0246f45631ddc2643379a164890751ae.jpg</td><td>/data/travel</td><td>travel</td><td>1</td></tr><tr><td>212</td><td>2e574c57-7e92-405b-8364-0a64475170a3</td><td>Famous Artists Crafts for Kids</td><td>Create your own artistic interpretations of famous artists' work with these Famous Artists Crafts for Kids!Famous Artist Projects for Kids! Meet the Masters with these fun and F… </td><td>546</td><td>Sherree Wilkinson</td><td>Classroom Art Projects,School Art Projects,Art Classroom,Art History Projects For Kids,Mondrian,Famous Artists For Kids,Famous Artists Paintings,Kids Art Class,Art Lessons Elementary</td><td>image</td><td>https://i.pinimg.com/originals/c3/bb/14/c3bb14258c81daeb80e1e8abcfc2fe5a.jpg</td><td>/data/art</td><td>art</td><td>1</td></tr><tr><td>7973</td><td>06cd7ed7-ce3f-4aba-bf5b-eb5993b6153c</td><td>20 Best Plant Based Protein Sources (Vegan)</td><td>Become who you want to be! Spend you time wisely. Today is the time to change. Travel, explore and enjoy the world.</td><td>37000</td><td>2sharemyjoy.com | Vegan Recipes & Meal Plans</td><td>The Words,Affirmations,Quote Posters,Found Out,Quotes To Live By,Wake Up Quotes,Quotes Quotes,Motivational Quotes For Women,Quotes For Being Strong</td><td>image</td><td>https://i.pinimg.com/originals/ac/5a/04/ac5a04a7d7c1450985231b64fda0b6b2.jpg</td><td>/data/quotes</td><td>quotes</td><td>1</td></tr><tr><td>9405</td><td>27948f02-bbac-4f38-81e8-d4c7d7db1f03</td><td>40 Empowering Self-love Tattoos And Meaning - Our Mindful Life</td><td>The best love can be the one with yourself. These self-love tattoos bring your focus back on yourself and inspire you to love yourself unconditionally.</td><td>190000</td><td>Our Mindful Life</td><td>Dope Tattoos,Mini Tattoos,Body Art Tattoos,Sleeve Tattoos,Cool Guy Tattoos,Tatoos,Small Tattoos For Guys,Cool Small Tattoos,Tattoos For Women</td><td>image</td><td>https://i.pinimg.com/originals/f8/30/3b/f8303b9c2cb4d1cc1db4bf7ac89820cc.jpg</td><td>/data/tattoos</td><td>tattoos</td><td>1</td></tr><tr><td>8289</td><td>312c2c1e-9c0e-4335-bd4e-a4413ba1573c</td><td>New Year Resolution Fitness Plan - 12 Things To Change in 2017</td><td>New Year Resolution Fitness Plan + FREE PRINTABLES – 12 Things To Change In 2017</td><td>110000</td><td>Fit Girl's Diary</td><td>Motivation Sportive,Gewichtsverlust Motivation,Exercise Motivation,Exercise Routines,Motivation Inspiration,Exercise Schedule,Exercise Cardio,Weight Loss Motivation Quotes,Fitness Inspiration Quotes</td><td>image</td><td>https://i.pinimg.com/originals/da/22/90/da22901ea1d4d05d4058f39b59520db7.jpg</td><td>/data/quotes</td><td>quotes</td><td>1</td></tr><tr><td>7689</td><td>7d0dbc82-1add-4558-b4bf-8e7d0358f0b5</td><td>40 'I Love You' Quotes That Will Make You Believe In Love Again</td><td>If you're feeling a little hopeless when it comes to dating, check out these 40 'I love you' quotes that will make you believe in love again. #lovequotes #romanticquotes #sweetm… </td><td>942000</td><td>YourTango</td><td>Love Quotes Poetry,Life Quotes Love,Love Yourself Quotes,Love Poems,Love Quotes For Him,Words Quotes,Quotes Quotes,Making Love Quotes,Funny Quotes</td><td>image</td><td>https://i.pinimg.com/originals/58/5c/80/585c80e189d9457b006a44b8ca73d1db.jpg</td><td>/data/quotes</td><td>quotes</td><td>1</td></tr><tr><td>10283</td><td>0571551c-8aa3-4620-8e95-e17efa0123c7</td><td>Exploring Zion and Bryce Canyon: A Week In Utah — Allison Anderson - Solo Female Travel Blog</td><td>Exploring Zion and Bryce Canyon: A Week In Utah — Allison Anderson - Solo Female Travel Blog</td><td>8000</td><td>Allison Anderson | Solo Travel & Lifestyle Blog</td><td>Beautiful Places To Travel,Cool Places To Visit,Places To Go,Nature Architecture,Travel Photographie,Blog Voyage,Travel Aesthetic,Vacation Ideas,Vacation Countdown</td><td>image</td><td>https://i.pinimg.com/originals/c9/8f/7c/c98f7c011726892b61cae6a0828ca2bf.jpg</td><td>/data/travel</td><td>travel</td><td>1</td></tr><tr><td>6448</td><td>902facca-9884-4e89-9264-c4a8b9e4bc5e</td><td>Ode to the Soulful Kitchen - Linda Merrill</td><td>What I love and swoon over is a more soulful kitchen, perhaps even moody. Dark painted cabinets, natural woods and mixed materials are sublime</td><td>15000</td><td>Linda Merrill Decorative Surroundings</td><td>Kitchen Redo,Home Decor Kitchen,Kitchen Interior,New Kitchen,Home Kitchens,Kitchen Dining,Kitchen Ideas,Devol Kitchens,Kitchen Cabinets</td><td>image</td><td>https://i.pinimg.com/originals/d4/c2/e2/d4c2e2f7e0c76e75ba0bfb15a2331669.jpg</td><td>/data/home-decor</td><td>home-decor</td><td>1</td></tr><tr><td>4055</td><td>1e18abb3-42f1-4d75-bdb3-86b3f8f79c6c</td><td>Post-It Math Activity for Teaching Addition - Busy Toddler</td><td>Working on addition? Try making a post-it math activity as a great alternative to worksheets! An easy number sense activity for math facts.</td><td>203000</td><td>Susie Allison | Busy Toddler</td><td>Number Sense Activities,Math Activities For Kids,Fun Math,Kids Math,Addition Activities,Preschool Classroom Centers,Child Development Activities,Lego Math,Addition Games</td><td>image</td><td>https://i.pinimg.com/originals/df/12/99/df1299e092338e8bf2ac6764717a8ad7.png</td><td>/data/education</td><td>education</td><td>1</td></tr><tr><td>355</td><td>bf5e698d-d5b6-46f6-b450-2218f9a8b5c9</td><td>51 Enigmatic Forest Concept Art That Will Amaze You</td><td>Looking for inspirations to create the mysterious forest world and enchant the viewer’s eye? This is all that you’re gonna need to achieve just that!</td><td>556000</td><td>Homesthetics.net</td><td>Fantasy Kunst,Environment Design,Fantasy Landscape,Landscape Art,Landscape Drawings,Forest Landscape,Art Design,Tree Art,Oeuvre D'art</td><td>image</td><td>https://i.pinimg.com/originals/08/8e/0a/088e0a25e0a270b28b3c437713ea43ad.jpg</td><td>/data/art</td><td>art</td><td>1</td></tr><tr><td>2720</td><td>cef62b5d-ad06-4faf-aac9-2690550a3e66</td><td>Snowflake Crafts & Activities - HAPPY TODDLER PLAYTIME</td><td>Here is a list of 20 creative and fun snowflake activities and crafts for babies, toddlers, preschoolers & kindergartners!</td><td>73000</td><td>Happy Toddler Playtime</td><td>Preschool Christmas,Christmas Activities,Craft Activities,Toddler Activities,Winter Preschool Crafts,Kids Crafts,Christmas Crafts,Motor Activities,Therapy Activities</td><td>image</td><td>https://i.pinimg.com/originals/ae/b4/9d/aeb49df0feaa7f1adc5a522049664e78.jpg</td><td>/data/diy-and-crafts</td><td>diy-and-crafts</td><td>1</td></tr><tr><td>9784</td><td>8ff9c540-e7b6-43f6-abc7-bb629d43ae9c</td><td>21 Best Christmas Trips in America</td><td>21 Best Christmas Trips in America | usa Christmas trips | Christmas trips usa | where to spend Christmas in the usa | Christmas travel destinations | christmas travel destinati… </td><td>47000</td><td>Follow Me Away</td><td>Best Christmas Vacations,Christmas Getaways,Christmas Destinations,Christmas Travel,Christmas Town,Holiday Travel,Vacation Destinations,Dream Vacations,Winter Vacations</td><td>image</td><td>https://i.pinimg.com/originals/1a/6d/9c/1a6d9c144b37fcbcd4dc8325e5e35dab.jpg</td><td>/data/travel</td><td>travel</td><td>1</td></tr><tr><td>4554</td><td>9861220c-66ac-43b1-9bbb-da679e43c99c</td><td>How to Make Your Own DIY Photo Booth: 6 Easy Steps</td><td>From cool photo booth backdrops to what camera to use, here's everything you need to make brilliant memories!</td><td>93000</td><td>Hitched</td><td>Backyard Wedding Decorations,Wedding Ceremony Backdrop,Wedding Backyard,Hanging Decorations,Backdrop Decorations,Ceremony Decorations,Diy Backdrop,Backdrops,Backdrop Photobooth</td><td>image</td><td>https://i.pinimg.com/originals/b3/3d/c0/b33dc03ede5178fe2f50dbc7c7cf8fcf.jpg</td><td>/data/event-planning</td><td>event-planning</td><td>1</td></tr><tr><td>7669</td><td>7b3dbe06-46de-40f6-8a2b-4fe0ff616167</td><td>'I Love  You' Quotes: 22 Heartwarming Quotes To Help You Say 'I Love You’</td><td>There are more ways to say I love you than those three little words. Here are some fantastic I love you quotes for everyone!</td><td>166000</td><td>Women.com</td><td>Cute Love Quotes,Love Quotes For Her,Love Yourself Quotes,Quotes To Live By,Best Quotes Of All Time,Love For Her,Love Qoutes,You Make Me Happy Quotes,Funny Romantic Quotes</td><td>image</td><td>https://i.pinimg.com/originals/09/61/ff/0961ff7eaca61d4d3191fd7a2182ddb0.jpg</td><td>/data/quotes</td><td>quotes</td><td>1</td></tr><tr><td>8371</td><td>4fd5f9ce-ffe1-405a-ae75-7ec89368f8c9</td><td>Dear Me, F*ck You - A Raw and Real Open Letter to Myself</td><td>#selfconfidence #strength #feelings #emotions #selfawareness #inspirationalquotes #shortinspirationalquotes #wordsofwisdom #quotestoliveby</td><td>228000</td><td>Iva A. Ursano Amazing Me Movement</td><td>Short Inspirational Quotes,Great Quotes,Motivational Quotes,Uplifting Quotes,Wisdom Quotes,True Quotes,Quotes To Live By,On My Own Quotes,I Needed You Quotes</td><td>image</td><td>https://i.pinimg.com/originals/7c/77/45/7c774503eeca16e0d5e38a880fe6df3e.jpg</td><td>/data/quotes</td><td>quotes</td><td>1</td></tr><tr><td>2662</td><td>6e71d765-a43c-4187-bc1e-3e3fa21cea1d</td><td>Potato Stamped Christmas Lights Activity - HAPPY TODDLER PLAYTIME</td><td>Fun art activity for kids! And a great way to make DIY wrapping paper!</td><td>73000</td><td>Happy Toddler Playtime</td><td>Preschool Christmas Crafts,Christmas Activities For Kids,Toddler Christmas,Craft Activities For Kids,Preschool Crafts,Holiday Crafts,Kids Christmas Art,Art Crafts For Kids,Nursery Activities</td><td>video</td><td>https://i.pinimg.com/videos/thumbnails/originals/f2/be/7e/f2be7e6b347a2a25cb048d83d24024dc.0000001.jpg</td><td>/data/diy-and-crafts</td><td>diy-and-crafts</td><td>1</td></tr><tr><td>2239</td><td>ba565e4f-c082-467b-8045-1bf0b90795e2</td><td>Old World European Inspired Christmas Home Tour | TIDBITS by Cami</td><td>I’m thrilled to share with you our Old World European Inspired Christmas home tour. Come away with European Christmas decorating ideas!</td><td>64000</td><td>TIDBITS</td><td>Old Time Christmas,Christmas Home,Christmas Crafts,Christmas Holidays,Christmas Ideas,Old Fashioned Christmas Decorations,Christmas Tree Decorations,Xmas Ornaments,Christmas Interiors</td><td>image</td><td>https://i.pinimg.com/originals/e5/f5/90/e5f5909c5a9c1e440921c18993fcca5c.jpg</td><td>/data/christmas</td><td>christmas</td><td>1</td></tr><tr><td>7232</td><td>619956f5-b7a8-4557-a866-b85ce8753352</td><td>\"CONSPIRACY\" WHITE T [FULL TAPE]</td><td>TRACKLIST:00:00 WORLD STAY SPINNIN' [Prod. Chemztat]02:49 SIXTEEN [Prod. TrellGotWings]04:47 WANG BASS [Prod. Lexi Banks]07:16 GIHAD [Prod. TrellGotWings]09:...</td><td>939</td><td>Logan Klein</td><td>Mens Fashion Blog,Fashion Mode,Look Fashion,Fashion Outfits,Fashion Trends,Skater Fashion,Petite Fashion,Curvy Fashion,Fashion Bloggers</td><td>image</td><td>https://i.pinimg.com/originals/51/de/f4/51def4b3fe8b94894a97e9a2e5659a41.jpg</td><td>/data/mens-fashion</td><td>mens-fashion</td><td>1</td></tr><tr><td>8759</td><td>d0176c81-9a41-4765-b420-e4769925e616</td><td>A Daily Word: 366 Scriptural Devotions for Growing Christians by Paul</td><td>Buy a cheap copy of A Daily Word: 366 Scriptural Devotions for Growing Christians by Paul Chappell 1598940767 9781598940763 - A gently used book at a great low price. Free shipp… </td><td>12</td><td>Juna Saito</td><td>Little Tattoos,Mini Tattoos,Cute Tattoos,Body Art Tattoos,Tatoos,Pretty Tattoos,Dainty Tattoos,Ankle Tattoos,Sexy Tattoos</td><td>image</td><td>https://i.pinimg.com/originals/85/c8/6e/85c86e7714e5d986fa890ec7b1c30e9e.jpg</td><td>/data/tattoos</td><td>tattoos</td><td>1</td></tr><tr><td>3798</td><td>3566de93-1adc-4c88-8f48-4e8073cd2942</td><td>Declining by Degrees : Higher Education at Risk (Paperback)</td><td>A provocative look at higher education as featured in The New York Times Two decades ago A Nation at Risk sounded a national alarm on K-12 education. Now, an equally urgent alar… </td><td>2000000</td><td>Walmart</td><td>N,o, ,T,a,g,s, ,A,v,a,i,l,a,b,l,e</td><td>image</td><td>https://i.pinimg.com/originals/90/1b/e2/901be2bc9c4beca25dc9db05844beff7.jpg</td><td>/data/education</td><td>education</td><td>1</td></tr><tr><td>1515</td><td>bfc38060-0c9a-4107-8f3e-fdf2341269ba</td><td>These $1 False Lashes Look EXACTLY Like Pricy Lash Extensions</td><td>I'll take a dozen, please.</td><td>346000</td><td>Allure</td><td>Makeup 101,Drugstore Makeup,Makeup Goals,Skin Makeup,Makeup Inspo,Beauty Makeup,Makeup Ideas,Best Drugstore Lashes,Makeup Products</td><td>image</td><td>https://i.pinimg.com/originals/76/eb/60/76eb607d7d1791bae028de1031d9a27e.jpg</td><td>/data/beauty</td><td>beauty</td><td>1</td></tr><tr><td>7033</td><td>b2d19af8-1c48-48c4-b7c0-ac8834f2be1e</td><td>THE SUIT MEN</td><td>Source: gezzasmenswear.tumblr.com source More menswear & suits!</td><td>920</td><td>The Church Of Truth And Logic</td><td>Mens Fashion Blog,Estilo Fashion,Mens Fashion Suits,Mens Suits,Fashion Outfits,Womens Fashion,Fashion Tips,Fashion Ideas,Fashion 2016</td><td>image</td><td>https://i.pinimg.com/originals/28/31/6c/28316c8e0390a8e6bcbf2dcad4a8aa8c.jpg</td><td>/data/mens-fashion</td><td>mens-fashion</td><td>1</td></tr><tr><td>10846</td><td>4fbb063a-5d44-44b8-a65d-3d4f91065cbf</td><td>Luxury Cars Tesla Vehicles 51 Ideas For 2019</td><td>No description available</td><td>18</td><td>Katie</td><td>Luxury Sports Cars,Top Luxury Cars,Sport Cars,Bmw Sport,Jaguar Sport,Tesla Roadster,Aston Martin Vanquish,Bmw I8,Bugatti Veyron</td><td>image</td><td>https://i.pinimg.com/originals/86/da/39/86da39f34c43d4fdd721100f3123a54d.jpg</td><td>/data/vehicles</td><td>vehicles</td><td>1</td></tr><tr><td>8339</td><td>221d9e5c-be3b-40f4-9257-b1102a488021</td><td>Relationship Rules</td><td>Relationship Rules is a modern-age lifestyle/love blog that discusses everything from breakups to being amazing parents.</td><td>1</td><td>Wamda</td><td>Now Quotes,Life Quotes Love,Self Love Quotes,Wisdom Quotes,True Quotes,Words Quotes,Wise Words,Quotes To Live By,One Word Sayings</td><td>image</td><td>https://i.pinimg.com/originals/0b/27/f5/0b27f5109baa91be35be51f9ba467572.webp</td><td>/data/quotes</td><td>quotes</td><td>1</td></tr><tr><td>5357</td><td>a402b531-eb6e-4f48-b447-e8aed916fb67</td><td>Useful Budgeting tips for beginner</td><td>No description available Story format</td><td>760</td><td>Kenya. Finances 101</td><td>Ways To Save Money,Money Tips,Money Saving Tips,Money Budget,Budgeting Finances,Budgeting Tips,Financial Tips,Financial Planning,Goal Planning</td><td>multi-video(story page format)</td><td>https://i.pinimg.com/videos/thumbnails/originals/5b/d0/9e/5bd09e26bc69c212cf5057ecbe2b6417.0000001.jpg</td><td>/data/finance</td><td>finance</td><td>1</td></tr><tr><td>1199</td><td>203ac75e-9655-47f6-8f20-5d74fbe7578b</td><td>Natural Beauty Products: The Good, The Bad, and The Ugly</td><td>Many natural hair products use \"greenwashing\" marketing tactics to seem natural. Here's a handy chart to help you separate the good from the bad.</td><td>81000</td><td>Mama Natural</td><td>Beauty Care,Beauty Skin,Beauty Hacks,Health And Beauty,Beauty Tips,Beauty Products,Hair Products,Diy Beauty,Healthy Beauty</td><td>image</td><td>https://i.pinimg.com/originals/9c/73/dd/9c73ddd9711541a7f9f6f4b3a252657d.jpg</td><td>/data/beauty</td><td>beauty</td><td>1</td></tr><tr><td>7534</td><td>914a7de6-9e7f-4098-bcf3-664112b998f5</td><td>My 5 Favourite Outfits From This Celeb's Instagram Account</td><td>Become the best-dressed guy.</td><td>613000</td><td>Mens Fashion - LIFESTYLE BY PS </td><td>Fashion Mode,Suit Fashion,Fashion Photo,Fashion Outfits,Fashion Clothes,Fashion Trends,Style Fashion,Mens Summer Dress Clothes,Clothes For Men</td><td>image</td><td>https://i.pinimg.com/originals/80/33/18/803318ed61b44f69843712e17f7a72ac.jpg</td><td>/data/mens-fashion</td><td>mens-fashion</td><td>1</td></tr><tr><td>9749</td><td>8487bc7f-fd9e-44a4-88f5-4ea8583b45f1</td><td>so love travel 💘??</td><td>No description available Story format</td><td>2000</td><td>Travel with Munia</td><td>World Most Beautiful Place,Beautiful Photos Of Nature,Beautiful Places In The World,Beautiful Places To Visit,Cool Places To Visit,Beautiful Vacation Spots,Most Beautiful Pictures,Beautiful Things,Places To Go</td><td>multi-video(story page format)</td><td>https://i.pinimg.com/videos/thumbnails/originals/59/e7/b3/59e7b35cd8f993b6c9d8db9aa26d3d0d.0000001.jpg</td><td>/data/travel</td><td>travel</td><td>1</td></tr><tr><td>6147</td><td>68bfa7e0-8887-48e4-8b0a-301da999253b</td><td>25 Neutral Christmas Decor Ideas</td><td>Neutral Christmas Reading Nook Decor via @caligirlinasouthernworld</td><td>67000</td><td>Curated Interior</td><td>Living Room Decor,Bedroom Decor,Deep Seat Cushions,Cozy Corner,Home And Deco,Ballard Designs,Home Interior,Interior Design,Upholstered Chairs</td><td>image</td><td>https://i.pinimg.com/originals/57/a8/65/57a86581b4e5b8ff706624f23c233def.jpg</td><td>/data/home-decor</td><td>home-decor</td><td>1</td></tr><tr><td>4594</td><td>b7944394-f559-4162-9212-d53c9a4493dc</td><td>5 DIY Backdrops For Your Photo Booth, Ceremony and Reception!</td><td>Read advice on TheKnot.com. Get tips on etiquette and find suggestions for your wedding.</td><td>545000</td><td>The Knot</td><td>Diy Photo Backdrop,Diy Photo Booth,Backdrop Ideas,Photo Booths,Balloon Backdrop,Photo Backdrops,Booth Ideas,Photo Props,Budget Wedding</td><td>image</td><td>https://i.pinimg.com/originals/ec/a4/6c/eca46cc4f6378d29c6757224395ff9ac.jpg</td><td>/data/event-planning</td><td>event-planning</td><td>1</td></tr><tr><td>6755</td><td>56e0ec59-0d05-4985-878e-06033be5d87d</td><td>9 Coolest Summer Outfit Formulas For Stylish Guys</td><td>Beat the heat in style.</td><td>613000</td><td>Mens Fashion - LIFESTYLE BY PS </td><td>Nice Casual Outfits For Men,Cool Summer Outfits,Men Casual,Formal Outfits,Casual Summer,Men Summer,Mens Classy Outfits,Casual Styles,Summer Ideas</td><td>image</td><td>https://i.pinimg.com/originals/b4/6b/31/b46b31424987b090b179a35d30aac8ad.jpg</td><td>/data/mens-fashion</td><td>mens-fashion</td><td>1</td></tr><tr><td>9660</td><td>29e7e64b-386f-4db9-b788-e088954ee8fa</td><td>Travel inspo </td><td>No description available Story format</td><td>10000</td><td>Michelle Norris</td><td>Vacation Places,Dream Vacations,Vacation Trips,Vacation Spots,Fun Places To Go,Beautiful Places To Travel,Travel Aesthetic,Beautiful Buildings,Travel Around The World</td><td>multi-video(story page format)</td><td>https://i.pinimg.com/videos/thumbnails/originals/31/e2/6f/31e26f10e39e45b77b678d0bc77bbb0f.0000001.jpg</td><td>/data/travel</td><td>travel</td><td>1</td></tr><tr><td>6569</td><td>4b68882a-3b19-4dc1-b555-4009475fe01e</td><td>Everything You Need to Know About the Kitchen's Top Design Trend</td><td>Add some pep to your step with these shoppable finds.</td><td>5000000</td><td>Apartment Therapy</td><td>Home Decor Kitchen,Kitchen Interior,New Kitchen,Home Kitchens,Kitchen With Plants,Bohemian Kitchen Decor,Apartment Kitchen Decorating,Boho Decor,Kitchen Modern</td><td>image</td><td>https://i.pinimg.com/originals/8f/56/f0/8f56f0819e6f4d1ea90c9cde8d59a697.jpg</td><td>/data/home-decor</td><td>home-decor</td><td>1</td></tr><tr><td>8695</td><td>825bab46-ee99-49c8-ad3c-858eb161222f</td><td>70 Sexy (but Discreet) Tattoos For Women</td><td>An interesting post from POPSUGAR Love & Sex. Check it out!</td><td>5000000</td><td>POPSUGAR</td><td>Discreet Tattoos For Women,Sexy Tattoos For Women,Tiny Tattoos For Girls,Small Hip Tattoos Women,Bum Tattoo Women,Tattoed Women,Cute Tiny Tattoos,Diskrete Tattoos,Mini Tattoos</td><td>image</td><td>https://i.pinimg.com/originals/64/63/bb/6463bb6e81b19ebb3d32ea933e88c048.jpg</td><td>/data/tattoos</td><td>tattoos</td><td>1</td></tr><tr><td>7057</td><td>742873e9-a0a1-46d4-b17b-9a90949f49e4</td><td>Trendy Fashion Style Women's Clothing Online Shopping</td><td>ZAFUL offers a wide selection of trendy fashion style women's clothing. Affordable prices on new tops, dresses, outerwear and more.</td><td>893000</td><td>ZAFUL</td><td>Best Mens Fashion,Suit Fashion,Male Fashion,Fashion Menswear,Fashion Styles,Fashion Outfits,Fashion Shorts,Men's Outfits,Fashion 2018</td><td>image</td><td>https://i.pinimg.com/originals/57/90/b0/5790b00bab6068621985512217fd7d7c.jpg</td><td>/data/mens-fashion</td><td>mens-fashion</td><td>1</td></tr><tr><td>3583</td><td>92dd3852-4545-4609-bcd1-7432e5ce5300</td><td>10 Weeks of Distance Learning Activities</td><td>Total Pages: 40 + editable pages File Size: 30 MB Download Preview</td><td>52000</td><td>The Printable Princess</td><td>Home Learning,Learning Resources,Teacher Resources,Learning Spaces,Teacher Sites,Teacher Binder,Teacher Planner Free,Learning People,Teacher Lesson Planner</td><td>image</td><td>https://i.pinimg.com/originals/61/e2/ab/61e2ab97ee6e1939b94b4f157bbf3ae8.png</td><td>/data/education</td><td>education</td><td>1</td></tr><tr><td>3709</td><td>9c6340e5-98df-4285-b239-5e4f200455e4</td><td>Simon Says Ideas - The Best Ideas for Kids</td><td>Simon Says Ideas Printable</td><td>903000</td><td>The Best Ideas for Kids</td><td>Games For English Class,Toddler Activities,Fun Activities,Movement Activities,Outside Activities For Kids,Physical Activities For Kids,Activities For 4 Year Olds,Icebreakers For Kids,Charades For Kids</td><td>image</td><td>https://i.pinimg.com/originals/f8/8c/9a/f88c9a979594d25713c06646f6820ff6.jpg</td><td>/data/education</td><td>education</td><td>1</td></tr><tr><td>9732</td><td>0eca4770-10eb-407a-859c-10fd52e38dcb</td><td>Brienz Switzerland</td><td>No description available Story format</td><td>67</td><td>Sus42</td><td>Places To Travel,Places To See,Travel Destinations,Dream Vacations,Vacation Spots,Voyage Europe,Places Around The World,Beautiful Places In The World,Wonderful Places</td><td>multi-video(story page format)</td><td>Image src error.</td><td>/data/travel</td><td>travel</td><td>0</td></tr><tr><td>8194</td><td>baab6ab6-4221-4c58-8ba7-fcc2c39e5e96</td><td>Pin on Language Learning & Motivational Quotes</td><td>#quotes</td><td>942000</td><td>YourTango</td><td>Motivational Frases,Best Inspirational Quotes,Great Quotes,Quotes To Live By,Most Inspiring Quotes,Inspiring Words,Life Quotes Inspirational Motivation,Best Motivational Quotes Ever,Cherish Quotes</td><td>image</td><td>https://i.pinimg.com/originals/e8/f1/cf/e8f1cfc18c4a9333555ab1ed672928b3.jpg</td><td>/data/quotes</td><td>quotes</td><td>1</td></tr><tr><td>8110</td><td>03949ea0-2240-45c7-af64-5265e80fa140</td><td>50 Spot-On Motivational Quotes That Will Make Your Heart Soar</td><td>You only fail when you stop trying.</td><td>166000</td><td>Women.com</td><td>The Words,Cool Words,Good Life Quotes,Great Quotes,Quote Life,Life Is Beautiful Quotes,Beautiful Quotes Inspirational,Qoutes Of Life,Amazing Quotes</td><td>image</td><td>https://i.pinimg.com/originals/60/38/cb/6038cb0faa1970c963d7da164e331fb3.jpg</td><td>/data/quotes</td><td>quotes</td><td>1</td></tr><tr><td>10580</td><td>dafddbc3-f4ef-49e7-a1de-703a1096f899</td><td>Cars Archives</td><td>We cover the best SUV's, electric, luxury, and sports cars to bring you the latest automotive news from modern marvels to vintage classics.</td><td>112000</td><td>Man of Many</td><td>Hummer For Sale,New Hummer,Hummer Truck,Hummer Cars,Hummer H3,Offroad,Tactical Truck,Armored Truck,Car Wheels</td><td>image</td><td>https://i.pinimg.com/originals/23/d5/b9/23d5b9aa5e94152faaa91fde7e69e1c1.jpg</td><td>/data/vehicles</td><td>vehicles</td><td>1</td></tr><tr><td>858</td><td>9fe497af-3991-48d3-873c-f9af4e28d3ab</td><td>Caption this - 14 April</td><td>Caption this - 14 April</td><td>5000000</td><td>The Minds Journal</td><td>Dark Art Drawings,Art Drawings Sketches Simple,Pencil Art Drawings,Cool Drawings,Drawings With Meaning,Random Drawings,Eye Drawings,Japanese Drawings,Unique Drawings</td><td>image</td><td>https://i.pinimg.com/originals/63/e2/95/63e29597b8aff80f2f5e9c004fb50699.png</td><td>/data/art</td><td>art</td><td>1</td></tr><tr><td>7618</td><td>b8bb119f-30b2-4231-a73b-af6caf1d41d4</td><td>17 Heart-Centred Ways to Simplify Your Life</td><td>Your Anger? It's Telling You Where You Feel Powerless – The Minds Journal</td><td>5000000</td><td>The Minds Journal</td><td>The Words,Wisdom Quotes,Me Quotes,Anger Quotes,Sport Quotes,Truth Quotes,Famous Quotes,Qoutes,Funny Quotes</td><td>image</td><td>https://i.pinimg.com/originals/c1/7f/c8/c17fc8e527358adbfe1a3840e1a85880.jpg</td><td>/data/quotes</td><td>quotes</td><td>1</td></tr><tr><td>4741</td><td>9c491de1-6911-44bb-8a8f-78c8a302f5be</td><td>I just launched my notebooks. Designed by me 🤍</td><td>No description available Story format</td><td>3000</td><td>FemaleInspiring</td><td>Tshirt Business,Craft Business,Business Design,Business Stationary,Business Planner,Jobs For Teens,Teen Jobs,Ways To Get Money,Best Small Business Ideas</td><td>multi-video(story page format)</td><td>https://i.pinimg.com/videos/thumbnails/originals/92/56/25/92562542fb6adf027834e77b4da03eb6.0000001.jpg</td><td>/data/event-planning</td><td>event-planning</td><td>1</td></tr><tr><td>10619</td><td>364f43e3-486b-4270-855c-1a330465424c</td><td>1959 Cadillac - Amazing Classic Cars</td><td>Tail end of this gorgeous 1959 Cadillac old car.</td><td>3000</td><td>Amazing Classic Cars</td><td>Retro Cars,Vintage Cars,Antique Cars,1959 Cadillac,1957 Chevrolet,Chevrolet Trucks,Chevrolet Impala,Convertible,Chevy Girl</td><td>image</td><td>https://i.pinimg.com/originals/1d/f5/9c/1df59c35a1d9183b44d7bde39e686ac9.jpg</td><td>/data/vehicles</td><td>vehicles</td><td>1</td></tr><tr><td>4275</td><td>e619ec42-1801-4806-924a-5225fca3297a</td><td>First Year Teacher Tips - Primary Flourish</td><td>Amazing advice and encouragement for new teachers, from teachers who care!</td><td>3000</td><td>Coach's Corner</td><td>1st Year Teachers,First Year Teaching,Student Teaching,Teacher Books,Teacher Resources,Teacher Stuff,Teachers Toolbox,Teacher Quotes,Teaching Strategies</td><td>image</td><td>https://i.pinimg.com/originals/ec/57/ee/ec57ee6c67f87e11da600244de1d2070.jpg</td><td>/data/education</td><td>education</td><td>1</td></tr><tr><td>10962</td><td>332ce8f1-303d-4692-9d3a-3d630c0b14b6</td><td>Chevrolet Camaro 1969</td><td>No description available</td><td>171000</td><td>vintagetopia</td><td>Chevrolet Camaro 1969,67 Camaro,Chevy Chevelle Ss,Chevy Pickups,Corvette,Ford Mustang 1969,Mustang Cobra,Old Muscle Cars,Chevy Muscle Cars</td><td>image</td><td>https://i.pinimg.com/originals/a0/b9/d8/a0b9d873c610a1793b9888dd2bd7075d.jpg</td><td>/data/vehicles</td><td>vehicles</td><td>1</td></tr><tr><td>6817</td><td>6b387785-c30f-490a-958b-0b0b976b138f</td><td>Summer Outfits Men</td><td>Men’s Summer fashion sporty outfit inspiration. Like it? #mensfashion #style #streetstyle #outfit</td><td>6000</td><td>PERDREAMS</td><td>Summer Outfits Men,Sporty Outfits,Athletic Outfits,Mode Outfits,Summer Men,Winter Outfits,Men Summer Fashion,Summer Ideas,Mens Athletic Fashion</td><td>image</td><td>https://i.pinimg.com/originals/0b/8d/88/0b8d888c865e2f5cc2ce34c6d82fd369.jpg</td><td>/data/mens-fashion</td><td>mens-fashion</td><td>1</td></tr><tr><td>8328</td><td>7adb0cba-f804-48b7-9458-254681242e5e</td><td>I Over Analyze Situations</td><td>I over analyze situations because I'm scared of what will happen if I'm not prepared for it.</td><td>5000000</td><td>The Minds Journal</td><td>Now Quotes,Hard Quotes,Real Quotes,True Quotes,Qoutes,Quotes Love,Feeling Broken Quotes,Quotes Deep Feelings,Quotes On Anxiety</td><td>image</td><td>https://i.pinimg.com/originals/83/bc/73/83bc73b11f083bc1754215a13d026c2d.jpg</td><td>/data/quotes</td><td>quotes</td><td>1</td></tr><tr><td>7420</td><td>c3fad5a1-ba91-4c37-9b95-0fea075a0b53</td><td>Men's Fashion for 2013</td><td>Showing the latest trends in men's clothing, hair styles, and more...</td><td>47</td><td>ThatUserNameIsAlreadyTakenT</td><td>Sharp Dressed Man,Well Dressed Men,Caban Bleu Marine,Fashion Models,Mens Fashion,Trendy Fashion,Fashion Black,La Mode Masculine,Gentleman Style</td><td>image</td><td>https://i.pinimg.com/originals/ed/39/11/ed39110092f8a80f3234989d9d740b3a.jpg</td><td>/data/mens-fashion</td><td>mens-fashion</td><td>1</td></tr><tr><td>5736</td><td>313643d5-4d17-4bd5-9401-e818fe09e4d7</td><td>Are You a Good Tipper? |</td><td>Are you a good tipper? I was a server for five years and have seen tips of all ranges. I have even witnessed customers being chased after for a bigger tip!</td><td>8000</td><td>Jen | Save to Splurge</td><td>Money On My Mind,Show Me The Money,Money Tips,Money Saving Tips,Creating Wealth,Budget Organization,Frugal Living Tips,Money Matters,Finance Tips</td><td>image</td><td>https://i.pinimg.com/originals/90/ff/24/90ff24f43bc2050c559a9170d49923be.jpg</td><td>/data/finance</td><td>finance</td><td>1</td></tr><tr><td>10708</td><td>f80e0f30-4fc2-4a0f-a028-6fa9b9bb1a0e</td><td>only the best</td><td>only the best</td><td>12000</td><td>Kirsten |  Life & Style in Britain</td><td>Landrover Defender,Defender 90,Landrover Series,My Dream Car,Dream Cars,Mercedes Benz G,Automobile,Cool Jeeps,Car Goals</td><td>image</td><td>https://i.pinimg.com/originals/ac/cc/3d/accc3d0ed4bf4ef230133c97c9340828.jpg</td><td>/data/vehicles</td><td>vehicles</td><td>1</td></tr><tr><td>7981</td><td>9f34995c-4e78-4638-bfd2-1fe267ab5dea</td><td>THINGS</td><td>No description available Story format</td><td>2000</td><td>MONTANO DIANA ✿◕‿◕✿</td><td>Positive Affirmations Quotes,Affirmation Quotes,Wisdom Quotes,True Quotes,Words Quotes,Wise Words,Positive Quotes,Motivational Quotes,Wall Of Quotes</td><td>multi-video(story page format)</td><td>Image src error.</td><td>/data/quotes</td><td>quotes</td><td>0</td></tr><tr><td>17</td><td>599e1538-7ede-4150-b16b-2a35b1b226b5</td><td>Art Drawings Sketches</td><td>No description available</td><td>89</td><td>Kate Smith</td><td>Art Drawings Sketches,Tattoo Drawings,Cool Art Drawings,Drawing Art,Skull Drawings,Skull Sketch,Drawing Birds,Bird Sketch,Skull Artwork</td><td>image</td><td>https://i.pinimg.com/originals/2c/ce/e0/2ccee086f875967dcfec26433c20f460.jpg</td><td>/data/art</td><td>art</td><td>1</td></tr><tr><td>8269</td><td>0555ba9a-3399-46ce-b4b0-ceb736292971</td><td>Sunday quotes</td><td>No description available Story format</td><td>375</td><td>Draaz Scarf</td><td>Happy Wallpaper,Wallpaper Quotes,Wallpaper Backgrounds,Iphone Wallpaper,Trendy Wallpaper,Positive Quotes Wallpaper,Kawaii Wallpaper,Cheer Quotes,Happy Quotes</td><td>multi-video(story page format)</td><td>Image src error.</td><td>/data/quotes</td><td>quotes</td><td>0</td></tr><tr><td>10903</td><td>d2b2e6b6-8c99-414d-93a2-8e0db3407896</td><td>Nissan 370Z</td><td>No description available Story format</td><td>49000</td><td>Tim Adam - Car Enthusiast</td><td>Nissan 370z,Nissan Z Cars,Best Jdm Cars,Best Luxury Cars,Weird Cars,Cool Cars,Strange Cars,Crazy Cars,Pimped Out Cars</td><td>multi-video(story page format)</td><td>Image src error.</td><td>/data/vehicles</td><td>vehicles</td><td>0</td></tr><tr><td>10826</td><td>528f81e8-1066-49bd-828c-bd4ee4221842</td><td>Cooler Than Before - Jaguar E-Type.</td><td>Jaguar E-Type.</td><td>710</td><td>Philippe Steele</td><td>Jaguar E Type,Jaguar Cars,Jaguar Xk,Classic Sports Cars,Classic Cars,Retro Cars,Vintage Cars,Automobile,Muscle Cars</td><td>image</td><td>https://i.pinimg.com/originals/22/40/a9/2240a9bba22d1b6061f189fb1314da96.jpg</td><td>/data/vehicles</td><td>vehicles</td><td>1</td></tr><tr><td>423</td><td>fa2abf2d-c5e0-4194-928e-032f140b8be6</td><td>Caption this - 22 November 2019</td><td>Caption this - 22 November 2019</td><td>5000000</td><td>The Minds Journal</td><td>Arte Horror,Horror Art,Dark Fantasy Art,Art Inspo,Art Sinistre,Art Jouet,Sad Paintings,Art Noir,Deep Art</td><td>image</td><td>https://i.pinimg.com/originals/78/f5/57/78f557f158809f46d0bcc185755537e7.jpg</td><td>/data/art</td><td>art</td><td>1</td></tr><tr><td>8531</td><td>27f3a5e5-a542-49d2-96e2-56ffcf224708</td><td>word tattoos</td><td>No description available Story format</td><td>900</td><td>jellyaz</td><td>Dope Tattoos,Mini Tattoos,Dainty Tattoos,Little Tattoos,Small Tattoos,Tatoos,Awesome Tattoos,Random Tattoos,Pretty Tattoos</td><td>multi-video(story page format)</td><td>Image src error.</td><td>/data/tattoos</td><td>tattoos</td><td>0</td></tr><tr><td>7504</td><td>5a575d8d-385e-4b29-a87c-d04f147eb42a</td><td>No Title Data Available</td><td>No description available Story format</td><td>null</td><td>User Info Error</td><td>N,o, ,T,a,g,s, ,A,v,a,i,l,a,b,l,e</td><td>multi-video(story page format)</td><td>Image src error.</td><td>/data/mens-fashion</td><td>mens-fashion</td><td>0</td></tr></tbody></table></div>"
      ]
     },
     "metadata": {
      "application/vnd.databricks.v1+output": {
       "addedWidgets": {},
       "aggData": [],
       "aggError": "",
       "aggOverflow": false,
       "aggSchema": [],
       "aggSeriesLimitReached": false,
       "aggType": "",
       "arguments": {},
       "columnCustomDisplayInfos": {},
       "data": [
        [
         4494,
         "32c8ac38-4283-4275-8fd7-8ddc9c04e13b",
         "10 Tech Tools that Help Event Planners Do Their Job - Learn About Event Planning",
         "Being an event planner could easily be described as one of the most stressful yet entertaining jobs in the universe. With all of the food, guests, promoting, tracking, analyzing… ",
         4000,
         "EventPlanning.com | Learn How To Become An Event Planner",
         "Event Planning Tips,Event Planning Business,Event Ideas,Theme Ideas,Party Planning,Wedding Event Planner,Wedding Events,Tent Wedding,Weddings",
         "image",
         "https://i.pinimg.com/originals/47/78/6b/47786be4dc12f7401504b68caa56247b.jpg",
         "/data/event-planning",
         "event-planning",
         1
        ],
        [
         9977,
         "3719f505-20cc-485b-8b01-ea2aee6f6e62",
         "15 jaw-droppingly beautiful waterfalls in Iceland",
         "Sigöldugljúfur waterfall near Landmannalaugar in Iceland. Click for the full list of the most beautiful waterfalls in Iceland. #Iceland #europe #photography #travel #travelguide… ",
         25000,
         "Norman - Luxury travel",
         "Travel Photography Inspiration,Travel Inspiration,Beautiful Waterfalls,Beautiful Landscapes,Beautiful Scenery,Beautiful Things,Beautiful Pictures,Dream Pictures,Beautiful Beautiful",
         "image",
         "https://i.pinimg.com/originals/1d/78/37/1d78374e72c9eb4a9d27039861bbd355.jpg",
         "/data/travel",
         "travel",
         1
        ],
        [
         5303,
         "573cd520-b16e-41f0-a59a-e0d8d04d2ee2",
         "Credit Sesame Review: The Pros, Cons and Best Features",
         "Credit Sesame offers free access to a version of your credit score + $50,000 in free identity theft insurance, but there are a few downsides to the service.",
         46000,
         "R.J. Weiss at The Ways To Wealth | Personal Finance | Debt Payoff",
         "What Is Credit Score,Fix Your Credit,Build Credit,Improve Your Credit Score,Rebuilding Credit,Credit Repair Companies,Ideas Prácticas,Paying Off Credit Cards,Planning Budget",
         "image",
         "https://i.pinimg.com/originals/e2/6d/7a/e26d7a597f2f83a21803ead5c401613e.png",
         "/data/finance",
         "finance",
         1
        ],
        [
         7679,
         "5f557e9c-ec27-4976-af4c-534190dc0941",
         "20 Romantic Love Quotes That Will Make You Fall In Love All Over Again",
         "The honeymoon phase is the most romantic stage of a relationship, and it's no wonder it's the one we miss the most it when gone and passed. Look to these romantic love quotes to… ",
         942000,
         "YourTango",
         "Love Quotes For Him Cute,Love Quotes For Him Boyfriend,Quotes About Moving On From Love,Falling In Love Quotes,Love Quotes Funny,Inspirational Quotes About Love,Romantic Love Quotes,New Quotes,Words Quotes",
         "image",
         "https://i.pinimg.com/originals/83/2b/d5/832bd5e2517d84e843e1c183a6c1b860.jpg",
         "/data/quotes",
         "quotes",
         1
        ],
        [
         7216,
         "bed8c98e-c3af-458f-91bb-49d9e0ac0bfa",
         "Leisure Motion Standing Collar Warm Cotton Jacket",
         "Product Name: Leisure Motion Standing Collar Warm Cotton Jacket Item NO.: 4356748476465 Weight: 0.8 kg = 1.7637 lb = 28.2192 oz Category: Men's Outerwear > Men's Jackets Tag: 20… ",
         31000,
         "joymanmall",
         "Winter Outfits Men,Stylish Mens Outfits,Casual Outfits,Urban Style Outfits Men,Men Winter Fashion,Outfits For Men,Smart Casual Outfit,Mens Winter,Simple Outfits",
         "image",
         "https://i.pinimg.com/originals/80/78/65/807865c3b7f390a6be457a79bf7b5d2c.jpg",
         "/data/mens-fashion",
         "mens-fashion",
         1
        ],
        [
         4678,
         "b512bba6-5ce9-4414-ab31-156a3bff6320",
         "qfdian 3m 100/200/300 LED Curtain String Light Garland Wedding Party Decorations Table Bachelorette Birthday Christmas New Year Festoon - Colorful With Hook / 3MX2M 200LED",
         "Brand Name: HeronsbillOrigin: CN(Origin)is_customized: NoPattern: stripedModel Number: LED-D04Material: CopperOccasion: Wedding & EngagementOccasion: Christening & BaptismOccasi… ",
         649,
         "Qfdian",
         "Party Girlande,Led Curtain Lights,Icicle Lights,Window Lights,Backdrop Lights,Twinkle Lights,Backdrop Photobooth,Wall Lights,Wall Fairy Lights",
         "image",
         "https://i.pinimg.com/originals/47/47/de/4747de8c2310834f982702dda0263ec6.jpg",
         "/data/event-planning",
         "event-planning",
         1
        ],
        [
         2227,
         "c2358cc5-7458-4350-a413-7689c2360b3a",
         "VEIKOUS 6ft/7.5ft Slim Pencil Christmas Tree Pre-lit with Adjustable Lights and Stand - 7.5 Foot",
         "This artificial pre-lit skinny Christmas tree is designed with plenty branches and one branch tip at the top in a small slim pencil tree shape for you to save space! You can DIY… ",
         5000,
         "Wear24-7",
         "Cashmere Christmas Tree,Skinny Christmas Tree,Pencil Christmas Tree,Christmas Tree With Snow,Flocked Christmas Trees,Christmas Greenery,Christmas Fireplace,Christmas Store,Holiday Ornaments",
         "image",
         "https://i.pinimg.com/originals/d9/ab/c0/d9abc01ad3ffde9365869e472c33c375.jpg",
         "/data/christmas",
         "christmas",
         1
        ],
        [
         4459,
         "c57ab99a-a118-435f-9748-c2b1d6dc19dc",
         "Fun and Cheap DIY Party Decorations For All Celebrations",
         "A party doesn't have to cost an arm and a leg to be amazing. Fun and cheap DIY party decorations are all things that you can make yourself! Give it a try!",
         42000,
         "Caroline|CarolineVencil.com | Saving & Making Money | Pro Blogger",
         "Trendy Wedding,Dream Wedding,Elegant Wedding,Perfect Wedding,Spring Wedding,Rustic Wedding,Romantic Weddings,Vintage Weddings,Wedding House",
         "image",
         "https://i.pinimg.com/originals/2e/9e/7e/2e9e7eb160b70fccb554a25af077bf5e.jpg",
         "/data/event-planning",
         "event-planning",
         1
        ],
        [
         8359,
         "1856773e-ee8a-4ab8-8325-2a5bd306d825",
         "5 Ways To Reprogram Your Thoughts For More Happiness - Lovely Refinement",
         "It's possible to reprogram your thoughts and fill your life with more success and happiness. No matter what your current beliefs are, you can change them for the better.",
         17000,
         "Lovely Refinement Health & Wellness",
         "Positive Quotes For Life Encouragement,Good Life Quotes,Self Love Quotes,Inspiring Quotes About Life,Quotes To Live By,Quotes Positive,Happy Quotes About Life,Cute Quotes About Happiness,Quotes About Mindset",
         "image",
         "https://i.pinimg.com/originals/b1/4a/fa/b14afaae339fca00365b8ba8dea67c57.jpg",
         "/data/quotes",
         "quotes",
         1
        ],
        [
         674,
         "db168555-2951-4295-8961-317efe30e0bb",
         "Regenbogen-Regen - Tanzendes Mädchen (inkl. Download)",
         "Mit der Puste-Technik kann man einfach wunderschöne Kunstwerke gestalten! Lade dir einfach das Mädchen mit Schirm (auch verfügbar als Junge mit Schirm) herunter und los geht der… ",
         71000,
         "Faminino | Basteln mit Kinder, Ratgeber und easy DIY-Ideen ",
         "Crayon Art,Melted Crayon Crafts,Art Drawings Sketches Simple,Colorful Drawings,Diy Canvas Art,Art Club,Art Plastique,Art Activities,Diy Art",
         "video",
         "https://i.pinimg.com/videos/thumbnails/originals/76/53/0b/76530b1d736cea566c9a68dd8d96d3f7.0000001.jpg",
         "/data/art",
         "art",
         1
        ],
        [
         5211,
         "6c06e71e-5158-4d99-b0c2-fe606ebe5a9c",
         "Vision to Fruition Business Resource Journal & Planner",
         "This print ready digital resource journal and planner is a guide to assist budding entrepreneurs in turning that dream into a business. It walks one through the steps from idea… ",
         11,
         "JasanaTees",
         "Business Planner,Business Advice,Start Up Business,Business Entrepreneur,Business Quotes,Bakery Business,Business Branding,Entrepreneur Inspiration,Business Inspiration",
         "image",
         "https://i.pinimg.com/originals/fa/99/a5/fa99a5660983fc84ed71e18f727db3ae.png",
         "/data/finance",
         "finance",
         1
        ],
        [
         8,
         "8e75ccf1-915a-49df-a16b-2c5b9190b568",
         "Californian Artist Isabel Emrich Paints Dazzling Depictions Of Women Submerged Underwater",
         "Californian artist Isabel Emrich paints dazzling depictions of women submerged in water. Each colorful oil painting captures moments of tranquility below the water’s surface, as… ",
         2000000,
         "Bored Panda",
         "Art Sketches,Art Drawings,L'art Du Portrait,Self Portrait Artists,Portrait Ideas,Art Du Croquis,Underwater Painting,Breathing Underwater,Reflection Art",
         "image",
         "https://i.pinimg.com/originals/41/6c/9a/416c9a9ba8841dd369aadd00d10d729d.jpg",
         "/data/art",
         "art",
         1
        ],
        [
         3918,
         "39a09761-4a18-416f-b81c-cb186dcbc468",
         "Organizing Progress Monitoring",
         "If you feel like your progress monitoring for your special education IEP goals is scattered and disorganized, this blog post is for you! In this post, I share how to organize yo… ",
         12000,
         "The Primary Gal",
         "Special Education Organization,Special Education Activities,Special Education Classroom,Classroom Activities,Special Education Progress Monitoring,Primary Education,Resource Room Teacher,Learning Support,Organize",
         "image",
         "https://i.pinimg.com/originals/10/6a/3e/106a3e3e4ee0c098c760ac33ac154e43.png",
         "/data/education",
         "education",
         1
        ],
        [
         4965,
         "1255901f-78fc-4cc7-a471-5ac19210c17b",
         "Potes de vidro de conserva, na decoração, organização, vasos, faça você mesmo!",
         "Customizar estes vidros vai depender da necessidade de cada um, o bom mesmo é que aproveitamos tudo, desde correntes que não usamos mais, brincos, fitas, flores, cordões, fios d… ",
         546,
         "Penha Lucia",
         "Wedding Table,Diy Wedding,Wedding Reception,Rustic Wedding,Wedding Day,Wedding Flowers,Wedding Bells,Party Planning,Wedding Planning",
         "image",
         "https://i.pinimg.com/originals/7d/5e/8e/7d5e8e22bf5acf11b3343882bf485710.jpg",
         "/data/event-planning",
         "event-planning",
         1
        ],
        [
         2254,
         "7a668b10-e2ed-4637-898e-99f29056f572",
         "OUTDOOR FARMHOUSE CHRISTMAS DECORATING IDEAS - A Fresh-Squeezed Life",
         "Get your front porch and front yard ready for Christmas with DIY projects. Check out these cute and fun items that are simple to make and budget friendly!",
         37000,
         "A Fresh-Squeezed Life",
         "Christmas Decorations Diy Crafts,Xmas Crafts,Christmas Projects,Christmas Home,Holiday Decor,Decor Crafts,Halloween Decorations,Fall Decor,Diy Christmas Lights",
         "image",
         "https://i.pinimg.com/originals/6c/f5/78/6cf578a49bebdc39426f16e509ff9b88.jpg",
         "/data/christmas",
         "christmas",
         1
        ],
        [
         3421,
         "49dec45b-e807-4f2c-b442-a92ff4ef0d6c",
         "Spider Handprint Craft - The Best Ideas for Kids",
         "HALLOWEEN CRAFTS FOR KIDS: Spider handprint craft - this is too cute! A perfect Halloween craft for preschoolers, kindergarten or toddlers. #halloween #halloweencrafts #kidscraf… ",
         903000,
         "The Best Ideas for Kids",
         "Halloween Arts And Crafts,Halloween Crafts For Toddlers,Halloween Tags,Halloween Crafts For Kids,Toddler Crafts,Kids Crafts,Diy For Kids,Halloween Preschool Activities,Decor Crafts",
         "video",
         "https://i.pinimg.com/videos/thumbnails/originals/78/27/21/782721435dc388129a66ef4dba432b06.0000001.jpg",
         "/data/diy-and-crafts",
         "diy-and-crafts",
         1
        ],
        [
         1644,
         "28af63b4-eed9-4a41-b0c0-4d1f8fba491d",
         "11 Farmhouse Christmas Stocking Ideas – Hallstrom Home",
         "11 Farmhouse Christmas Stocking Ideas |Christmas stockings|ticking stripe stocking|farmhouse decor|christmas stocking ideas|farmhouse christmas|white christmas|shabby chic|chris… ",
         91000,
         "Hallstrom Home",
         "Christmas Fireplace,Christmas Mantels,Christmas Home,Christmas Tree Crafts,Fireplace Mantel Christmas Decorations,Homemade Christmas,Christmas Holidays,Christmas Ideas,Merry Christmas",
         "image",
         "https://i.pinimg.com/originals/e5/8e/1e/e58e1e773fed9ea04e4cba7013e2d81a.jpg",
         "/data/christmas",
         "christmas",
         1
        ],
        [
         8468,
         "bb3ea8aa-c9c0-4164-b050-aa7811c051a0",
         "50 Positive Affirmations That Will Change Your Life",
         "Motivational quotes. Motivational quotes for success. Motivational quotes for women. Affirmations for self-love. Affirmations for positivity. Positive mindset. Law of attraction… ",
         45000,
         "Boss Babe Chronicles | Personal Development, Finances, Self Care",
         "Positive Self Affirmations,Positive Affirmations Quotes,Affirmation Quotes,Positive Mindset,Postive Quotes,Positive Uplifting Quotes,Affirmations Success,Law Of Attraction Affirmations,Law Of Attraction Quotes",
         "image",
         "https://i.pinimg.com/originals/53/86/6d/53866d35a32393ba29c75582a428bc09.jpg",
         "/data/quotes",
         "quotes",
         1
        ],
        [
         2505,
         "9d45e6c7-a4df-460c-8b00-4048ef9f93c6",
         "Christmas Tree Topper Gnome Hand Made Gnome Christmas Decoration - GREY HAT",
         "Christmas Tree Topper Gnome - Hand Made Gnome Christmas Decoration, Funny Christmas Tree Topper, Also be Used as Curtain Tie, Unique Christmas Gnome Decoration UNIQUE TREE TOPPE… ",
         71,
         "Everythingforhalloween",
         "Christmas Gnome,Christmas Humor,Unique Christmas Trees,Christmas Wreaths,Christmas Crafts,Xmas Ornaments,Christmas Tree Decorations,Christmas Sewing,Outdoor Christmas",
         "image",
         "https://i.pinimg.com/originals/21/7d/23/217d238c022c28ffa56a38972affa02c.jpg",
         "/data/christmas",
         "christmas",
         1
        ],
        [
         7942,
         "9938ca78-8642-44e8-877b-86727367134e",
         "I'm Slowly Learning That Even If I React, It Won't Change Anything",
         "I'm slowly learning that even if I react, it won't change anything, it won't make people suddenly love and respect me, it won't magically change their minds. Sometimes it's bett… ",
         236000,
         "The Mindset Journey",
         "Quotable Quotes,Wisdom Quotes,True Quotes,Great Quotes,Words Quotes,Quotes To Live By,Motivational Quotes,Inspirational Quotes,Quotes On Inner Peace",
         "image",
         "https://i.pinimg.com/originals/58/38/bb/5838bb6e21c3c6e85b3537bb16ace86c.jpg",
         "/data/quotes",
         "quotes",
         1
        ],
        [
         2377,
         "33bae33d-dfb5-4463-8eec-44840a9a5991",
         "DIY Paper decorations {12 Crafts of Christmas}",
         "How to make paper Christmas decorations - Budget DIY tutorial on make Christmas tree baubles and tree decorations from card. Craft project inspiration",
         312,
         "Rachel Hedges",
         "Paper Christmas Decorations,Christmas Tree Paper Craft,Christmas Room,Christmas Ornament Crafts,Xmas Crafts,Diy Christmas Gifts,Christmas Tree Decorations To Make,Personalised Christmas Decorations,How To Make Christmas Tree",
         "image",
         "https://i.pinimg.com/originals/bd/f5/83/bdf5837852efc91234919e4507be1f3f.jpg",
         "/data/christmas",
         "christmas",
         1
        ],
        [
         2644,
         "d0a27977-f766-47f9-8648-134a73453ba6",
         "35 Winter Crafts for Kids",
         "Looking for some cute winter crafts for kids? Children's wintertime craft ideas are some of the most adorable, with everything from snowflakes to snowmen, icy icicles and igloos… ",
         985000,
         "DIY Joy - Crafts, Home Improvement, Decor & Recipes",
         "Kids Crafts,Winter Crafts For Toddlers,Daycare Crafts,Winter Kids,Cute Crafts,Projects For Kids,Art Projects,Winter Preschool Crafts,Preschool Age",
         "image",
         "https://i.pinimg.com/originals/61/68/b6/6168b6a5c804bfaea1f30ff8e3d23b6d.jpg",
         "/data/diy-and-crafts",
         "diy-and-crafts",
         1
        ],
        [
         8943,
         "11216553-04ce-4909-aa72-a1993331eab2",
         "30 tatouages minimalistes pour enfin sauter le pas",
         "On rêve d'un joli tatouage... mais lorsque l'on pense aux petites aiguilles qui vont venir dessiner le motif choisi : on se dit que ce n'est pas pour nous ! Mais plutôt que de c… ",
         494000,
         "aufeminin",
         "Word Tattoos On Hand,Small Hand Tattoos,Hand Tattoos For Women,Meaningful Tattoos For Women,Dainty Tattoos,Little Tattoos,Mini Tattoos,Tattoo With Words,Tattoo Hand",
         "image",
         "https://i.pinimg.com/originals/bd/36/bb/bd36bbb67fb1901d9589604d8b7aa29d.jpg",
         "/data/tattoos",
         "tattoos",
         1
        ],
        [
         4159,
         "0c482cf8-b912-4886-83c6-fe57bf9eac00",
         "Weather Activities For Kids - Teaching Special Thinkers",
         "March is the perfect time to pull out ALL your rainbow and weather activities! Turn your classroom into a seasonal storm with our Made For Me Literacy Weather Unit! This unit is… ",
         21000,
         "Teaching Special Thinkers",
         "Special Education Classroom,Classroom Community,Special Education Activities,Teaching Math,Preschool Kindergarten,Preschool Education,Science Classroom,Classroom Ideas,Lesson Plan For Kindergarten",
         "image",
         "https://i.pinimg.com/originals/53/f0/f8/53f0f80e2048085e7e5a866cfd558ecd.png",
         "/data/education",
         "education",
         1
        ],
        [
         5668,
         "a93ab7df-4f91-497b-9d21-d2a253574928",
         "The Ultimate Personal Finance Planner  – Iconic Style Inc.",
         "Budget like a boss with this all in one resource for personal finance to track your bills, expenses, debt, money goals, savings, and much more! In order to create financial awar… ",
         8000,
         "Iconic Style Inc | Fashion & Success",
         "Financial Goals,Financial Planning,Investing For Retirement,Savings Challenge,Budgeting Worksheets,Finance Organization,Create A Budget,Budgeting Finances,Finance Tips",
         "image",
         "https://i.pinimg.com/originals/6e/ae/43/6eae43de87b268102f76268eedd719dd.png",
         "/data/finance",
         "finance",
         1
        ],
        [
         4215,
         "610a0d8c-ec25-415f-924b-449d0d9e17c5",
         "10 Not-So-Obvious Quotes for Teachers - A Teachable Teacher",
         "30 Great Motivational and Inspirational Quotes for Teachers #inspirationalquotes #teacherquotes #teaching #wisdom #teachers",
         42000,
         "A Teachable Teacher",
         "Special Education Quotes,Education Quotes For Teachers,Educational Quotes For Students,Quotes For The Classroom,Free Education,Teacher Education,Famous Quotes About Education,Sayings For Teachers,Being A Teacher Quotes",
         "image",
         "https://i.pinimg.com/originals/0b/25/f9/0b25f9ce3793ffbae57a70ad7e7061b3.jpg",
         "/data/education",
         "education",
         1
        ],
        [
         6266,
         "9862005f-97e2-4c97-ada6-05d732844415",
         "In This House Stairs Version 3 Decor Decal Sticker Wall Vinyl Art - saphire blue",
         "In This House The latest in home decorating. Beautiful wall vinyl decals, that are simple to apply, are a great accent piece for any room, come in an array of colors, and are a… ",
         7000,
         "Boop Decals",
         "Inexpensive Home Decor,Easy Home Decor,Cheap Home Decor,Painted Staircases,Painted Stairs,Staircase Painting,Escalier Design,Foyer Decorating,Budget Decorating",
         "image",
         "https://i.pinimg.com/originals/a4/57/56/a457562af7802a3ca441e6b24fe116cd.jpg",
         "/data/home-decor",
         "home-decor",
         1
        ],
        [
         10775,
         "2fcb1acc-3aef-40af-be09-cd979be0a0f1",
         "This armored vehicle is for people who think the Tesla Cybertruck isn’t intense enough - Yanko Design",
         "It’s really difficult to imagine what definite post-apocalyptic scenario the ARMORTRUCK concept was designed for because truth be told, it looks like the kind of...",
         416000,
         "Yanko Design - Form Beyond Function",
         "Cool Sports Cars,Sport Cars,Cool Cars,Future Concept Cars,Future Car,Army Vehicles,Armored Vehicles,Audi Ai,Armored Truck",
         "image",
         "https://i.pinimg.com/originals/0e/93/69/0e9369655753d22181900e013a12973a.jpg",
         "/data/vehicles",
         "vehicles",
         1
        ],
        [
         9986,
         "ba0857f3-f2d8-4e52-8504-3bb9bdabaa04",
         "Your Epic 1-Week Travel Itinerary To Visit Iceland",
         "Iceland is a total dream country to visit, especially if you're keen on the kind of trip that's a little different from a beach or tropical holiday. Luxury Travel | Ultimate Des… ",
         459000,
         "Hand Luggage Only",
         "Beautiful Places To Travel,Best Places To Travel,Cool Places To Visit,Best Vacations,Vacation Trips,Vacation Spots,Vacation Places,European Vacation,European Travel",
         "image",
         "https://i.pinimg.com/originals/88/2e/fd/882efd22de67b7b644309649dadd75ef.jpg",
         "/data/travel",
         "travel",
         1
        ],
        [
         8161,
         "da45e81e-3768-4e7c-862f-a1aae4289cf4",
         "15 Inspirational quotes to start your day off feeling motivated and positive. Inspiring words can he",
         "Here are 15 inspirational quotes to start your day feeling motivated and positive. Inspiring words are a great tool to combat anxiety and fear. They can offer hope and spark you… ",
         19000,
         "Dream Dash Journal",
         "Good Vibes Quotes Positivity,Positive Quotes For Life Encouragement,Positive Morning Quotes,Funny Positive Quotes,Positive Uplifting Quotes,Feeling Positive Quotes,Motivational Quotes For Success Positivity,Positive Quotes About Love,Morning Qoutes",
         "image",
         "https://i.pinimg.com/originals/db/ce/e4/dbcee4c357b42cb18fcefa044aacd55a.jpg",
         "/data/quotes",
         "quotes",
         1
        ],
        [
         3695,
         "274d6096-7592-4d9d-b800-6cc239c0d33a",
         "Sentence Building Center Activity",
         "Engaging sentence building activity to teach your students about sentences and their parts. The perfect addition to your literacy centers in kindergarten and first-grade!",
         37000,
         "Deanna Jump | Kindergarten and First Grade Teaching Resources",
         "Centers First Grade,First Grade Activities,Teaching First Grade,Reading Stations,Writing Station,Reading Centers,Work Stations,1st Grade Writing,First Grade Reading",
         "image",
         "https://i.pinimg.com/originals/e6/4c/db/e64cdb723d74f92ea280872849c1c0c2.jpg",
         "/data/education",
         "education",
         1
        ],
        [
         8795,
         "36d73381-9e73-423a-a0c4-aee0658331bc",
         "Traditional Grim Reaper Tattoo Decal Sticker Wall Vinyl Art Home Decor Skull Flowers - white",
         "Grim ReaperThe latest in home decorating. Beautiful wall vinyl decals, that are simple to apply, are a great accent piece for any room, come in an array of colors, and are a che… ",
         7000,
         "Boop Decals",
         "Wall Decal Sticker,Vinyl Wall Decals,Wall Stickers,Vinyl Art,Reaper Drawing,Tattoo Tradicional,Grim Reaper Tattoo,Simple Skull,Wood Burning Patterns",
         "image",
         "https://i.pinimg.com/originals/bb/99/0b/bb990b140f181542b9a9d4ff2b4efb4b.jpg",
         "/data/tattoos",
         "tattoos",
         1
        ],
        [
         4495,
         "86275306-bdd1-46dc-a50b-b2fc9ff7670a",
         "5 most important things to do  before you launch your Small Business.",
         "No description available Story format",
         3000,
         "Small Business Tips on Branding and Marketing.",
         "Business Notes,Business Planner,Business Advice,Small Business Marketing,Business Motivation,Best Small Business Ideas,Small Business Plan,Starting A Business,Diy Business Ideas",
         "multi-video(story page format)",
         "https://i.pinimg.com/videos/thumbnails/originals/e5/0f/71/e50f712c843c382634955f6577e472ea.0000001.jpg",
         "/data/event-planning",
         "event-planning",
         1
        ],
        [
         9421,
         "2eb2066b-7fbd-44bc-b5a7-0f5c4120d083",
         "A List of 198 Spiritual Tattoo Ideas and Designs",
         "\"A new age of consciousness\", and it's written in the stars. As we enter the Age of Aquarius, or the 'Golden Age' we are certainly experiencing a change in global consciousness… ",
         6000,
         "Round The World Magazine",
         "Petite Tattoos,Dainty Tattoos,Dope Tattoos,Back Tattoos,Mini Tattoos,Body Art Tattoos,Small Tattoos,Sleeve Tattoos,Tattoos Of Dates",
         "image",
         "https://i.pinimg.com/originals/b4/61/fc/b461fc3aac0f5c002a4686ed53b5a5fd.jpg",
         "/data/tattoos",
         "tattoos",
         1
        ],
        [
         6213,
         "7e8f55fd-2e82-4d72-af4c-e5b2c7f9ea5d",
         "The best cheap decorating trick there is! How to transition your decor without breaking the bank!",
         "The best cheap decorating trick there is to hop your home #homedecor #farmhouse #wilshirecollections",
         79000,
         "Stacey Collins | Wilshire Collections",
         "Shabby Chic Homes,Shabby Chic Decor,Home Decor Bedroom,Entryway Decor,Cheap Bedroom Decor,Furniture Makeover,Home Furniture,Rustic Furniture,Furniture Ideas",
         "image",
         "https://i.pinimg.com/originals/b8/45/e7/b845e795ad72a5e82e585b6a4dd37770.jpg",
         "/data/home-decor",
         "home-decor",
         1
        ],
        [
         1743,
         "b7b2ca88-5581-4aaf-a16b-92cd2d69bf5a",
         "Flocked Buffalo Check Christmas Tree",
         "Flocked Buffalo Check Christmas Tree. With handmade ornaments and mercury glass. Perfect farmhouse christmas tree",
         68000,
         "Weekend Craft",
         "Simple Christmas Tree Decorations,Flocked Christmas Trees Decorated,Black Christmas Trees,Ribbon On Christmas Tree,Beautiful Christmas Trees,Plaid Christmas,Christmas Time,Buffalo Check Christmas Decor,Christmas Wreaths",
         "image",
         "https://i.pinimg.com/originals/3a/b8/b4/3ab8b4be75fd641fcd3025b9fe0a2ca0.jpg",
         "/data/christmas",
         "christmas",
         1
        ],
        [
         9324,
         "01056b26-ea0f-47c4-a9f6-7548909c005e",
         "50+ Great Designs For Small Tattoo İdeas And Small Tattoos - hotcrochet .com",
         "Without being autonomous, I’m a big fan of tattoos. As a way, the visual decoration of your free patten body and the method of communication are important things for you, your l… ",
         49000,
         "hotcrochet.com ",
         "Leg Tattoos,Body Art Tattoos,Small Tattoos,Sleeve Tattoos,Tatoos,Finger Tattoos,Tattoo Forearm,Tattoo On Leg,Female Arm Tattoos",
         "image",
         "https://i.pinimg.com/originals/5e/d9/cd/5ed9cd725179b76b4a0b2ce360358412.jpg",
         "/data/tattoos",
         "tattoos",
         1
        ],
        [
         1125,
         "281804ae-f80e-454a-952e-0b1dd568cbf3",
         "12 Ways You're Ruining Your Nails",
         "Cool Personal self care routine:) #skincareroutine #skincaretips The post Personal self care routine:) #skincareroutine #skincaretips… appeared first on Beauty 2018-2019 Trends… ",
         340000,
         "Woman's Day",
         "Skin Care Routine For 20s,Self Care Routine,Skincare Routine,Nail Care Routine,Beauty Care Routine,Skin Routine,Vie Motivation,How To Clean Makeup Brushes,Anti Aging Skin Care",
         "image",
         "https://i.pinimg.com/originals/39/4e/4a/394e4af45d816accc2a19ed471004ef1.jpg",
         "/data/beauty",
         "beauty",
         1
        ],
        [
         7823,
         "f2abad27-56e6-4294-80af-965d73cf5196",
         "30 Quotes For When You Want To Say A Big “F-YOU” To Your Scumbag Ex",
         "There is nothing more satisfying than saying \"screw you\" to the one who broke your heart. These break up quotes will help save your sorry, hurting soul from the heartbreak.",
         942000,
         "YourTango",
         "Crush Quotes,Mood Quotes,Life Quotes,Quotes Quotes,Qoutes,Friend Quotes,So True Quotes,Love Quotes To Him,Being Hurt Quotes",
         "image",
         "https://i.pinimg.com/originals/b0/a5/75/b0a5750fcb889384446d6558f4b6765e.jpg",
         "/data/quotes",
         "quotes",
         1
        ],
        [
         9245,
         "23387186-8009-480b-a361-a38fad0e77ed",
         "Wedding Ring Tattoos: Pastel Flowers Ring Tattoo",
         "Wedding Ring Tattoos: Pastel Flowers Ring Tattoo. A dainty flower ring tattoo inked in a watercolor style. Click through for 30 wedding ring tattoo ideas. #weddingringtattoos #r… ",
         538000,
         "Byrdie",
         "Dainty Tattoos,Mom Tattoos,Couple Tattoos,Body Art Tattoos,Tatoos,Couples Ring Tattoos,Love Symbol Tattoos,Finger Tattoo For Women,Small Finger Tattoos",
         "image",
         "https://i.pinimg.com/originals/a8/9f/6a/a89f6a93b23732b610ec66fc5f8b2068.jpg",
         "/data/tattoos",
         "tattoos",
         1
        ],
        [
         5285,
         "38d51f28-a376-4eb1-9197-c29f423f385d",
         "How Millionaires Avoid Uncle Sam - Tik Tok Credit @johnefinance",
         "No description available Story format",
         553,
         "Freedom4Life - Financial Management, Affiliate Marketer, Blogger",
         "Financial Tips,Financial Literacy,Financial Planning,Teen Life Hacks,Useful Life Hacks,David Ramsey,Finance Books,Feel Good Videos,Money Tips",
         "multi-video(story page format)",
         "https://i.pinimg.com/videos/thumbnails/originals/b7/d7/c4/b7d7c48a96edd7189343d7d5e35c8d1f.0000001.jpg",
         "/data/finance",
         "finance",
         1
        ],
        [
         3471,
         "99662f47-2474-412d-abc2-945f1eee68dc",
         "More than 15 Homeschool Hacks from a Mom of 15 • Mom Delights",
         "It doesn’t take a genius to educate a large family at home, but it does take quite a bit of focus and ingenuity. Here are some homeschool hacks to help.",
         5000,
         "Sherry Hayes",
         "Planning School,School Planner,Professor,Homeschool Curriculum,Homeschooling Resources,Learning Activities,Homeschooling Statistics,Homeschool Supplies,Kids Learning",
         "image",
         "https://i.pinimg.com/originals/05/20/71/0520712dd7fd34916cd93730aea33121.jpg",
         "/data/education",
         "education",
         1
        ],
        [
         6050,
         "5c1aaf3e-7860-4235-b620-a47545c3d85a",
         "Our Christmas Home Tour",
         "We have decked the halls here at our house and I am very excited to share my very first Christmas home tour!",
         21000,
         "Micheala Diane Designs |  Interior Design, Home Styling and DIY Projects",
         "Christmas Living Rooms,Cozy Living Rooms,Home Living Room,Living Room Furniture,Living Room Designs,Modern Furniture,Apartment Living,Antique Furniture,Rustic Furniture",
         "image",
         "https://i.pinimg.com/originals/95/a4/89/95a48915f36ba0976bdd96bd124adfda.jpg",
         "/data/home-decor",
         "home-decor",
         1
        ],
        [
         8037,
         "1c04a065-0f75-471d-99a8-b0027ae2491d",
         "32 Toxic Relationship Quotes That Empower You To Leave For Good",
         "It's time to take off the cuff put on you by narcissists. These 29 toxic relationship quotes are so sad but true. And they may be the wake up call you need.",
         190000,
         "Our Mindful Life",
         "Good Night Quotes,Love Mom Quotes,Niece Quotes,Now Quotes,Daughter Love Quotes,Words Quotes,Quotes To Live By,Sayings,Bad Mother Quotes",
         "image",
         "https://i.pinimg.com/originals/ba/77/f8/ba77f8d93c839b9d1bdf002803a3c949.jpg",
         "/data/quotes",
         "quotes",
         1
        ],
        [
         1783,
         "cd0ae216-8140-492d-8d9f-4d9414da82b0",
         "Beautiful Christmas Table Settings That Will Enchant Your Guests",
         "Set the table for feasting, toasting, and general merrymaking on Christmas Day and all of the winter days leading up to it.",
         2000000,
         "Martha Stewart Living",
         "Noel Christmas,Christmas Crafts,Christmas Ornaments,Nordic Christmas,Modern Christmas,Christmas Christmas,Christmas Wedding,Christmas Movies,Christmas Table Settings",
         "image",
         "https://i.pinimg.com/originals/6b/34/48/6b344828a514cfeb22a44333c957b800.jpg",
         "/data/christmas",
         "christmas",
         1
        ],
        [
         9504,
         "cddc38b6-3697-44cb-a4ec-91b3f583bede",
         "Grimaud & St. Tropez, France - Julia Berolzheimer",
         "Outfit Details: Look 1- Lisa Marie Fernandez Dress, Mark Cross Bag (sold out, similar here), K. Jacques Sandals, Raen Sunglasses…",
         399000,
         "Julia Berolzheimer",
         "St Tropez France,Places To Travel,Places To Go,Travel Destinations,Vacation Places,Reisen In Europa,Destination Voyage,French Countryside,France Travel",
         "image",
         "https://i.pinimg.com/originals/02/46/f4/0246f45631ddc2643379a164890751ae.jpg",
         "/data/travel",
         "travel",
         1
        ],
        [
         212,
         "2e574c57-7e92-405b-8364-0a64475170a3",
         "Famous Artists Crafts for Kids",
         "Create your own artistic interpretations of famous artists' work with these Famous Artists Crafts for Kids!Famous Artist Projects for Kids! Meet the Masters with these fun and F… ",
         546,
         "Sherree Wilkinson",
         "Classroom Art Projects,School Art Projects,Art Classroom,Art History Projects For Kids,Mondrian,Famous Artists For Kids,Famous Artists Paintings,Kids Art Class,Art Lessons Elementary",
         "image",
         "https://i.pinimg.com/originals/c3/bb/14/c3bb14258c81daeb80e1e8abcfc2fe5a.jpg",
         "/data/art",
         "art",
         1
        ],
        [
         7973,
         "06cd7ed7-ce3f-4aba-bf5b-eb5993b6153c",
         "20 Best Plant Based Protein Sources (Vegan)",
         "Become who you want to be! Spend you time wisely. Today is the time to change. Travel, explore and enjoy the world.",
         37000,
         "2sharemyjoy.com | Vegan Recipes & Meal Plans",
         "The Words,Affirmations,Quote Posters,Found Out,Quotes To Live By,Wake Up Quotes,Quotes Quotes,Motivational Quotes For Women,Quotes For Being Strong",
         "image",
         "https://i.pinimg.com/originals/ac/5a/04/ac5a04a7d7c1450985231b64fda0b6b2.jpg",
         "/data/quotes",
         "quotes",
         1
        ],
        [
         9405,
         "27948f02-bbac-4f38-81e8-d4c7d7db1f03",
         "40 Empowering Self-love Tattoos And Meaning - Our Mindful Life",
         "The best love can be the one with yourself. These self-love tattoos bring your focus back on yourself and inspire you to love yourself unconditionally.",
         190000,
         "Our Mindful Life",
         "Dope Tattoos,Mini Tattoos,Body Art Tattoos,Sleeve Tattoos,Cool Guy Tattoos,Tatoos,Small Tattoos For Guys,Cool Small Tattoos,Tattoos For Women",
         "image",
         "https://i.pinimg.com/originals/f8/30/3b/f8303b9c2cb4d1cc1db4bf7ac89820cc.jpg",
         "/data/tattoos",
         "tattoos",
         1
        ],
        [
         8289,
         "312c2c1e-9c0e-4335-bd4e-a4413ba1573c",
         "New Year Resolution Fitness Plan - 12 Things To Change in 2017",
         "New Year Resolution Fitness Plan + FREE PRINTABLES – 12 Things To Change In 2017",
         110000,
         "Fit Girl's Diary",
         "Motivation Sportive,Gewichtsverlust Motivation,Exercise Motivation,Exercise Routines,Motivation Inspiration,Exercise Schedule,Exercise Cardio,Weight Loss Motivation Quotes,Fitness Inspiration Quotes",
         "image",
         "https://i.pinimg.com/originals/da/22/90/da22901ea1d4d05d4058f39b59520db7.jpg",
         "/data/quotes",
         "quotes",
         1
        ],
        [
         7689,
         "7d0dbc82-1add-4558-b4bf-8e7d0358f0b5",
         "40 'I Love You' Quotes That Will Make You Believe In Love Again",
         "If you're feeling a little hopeless when it comes to dating, check out these 40 'I love you' quotes that will make you believe in love again. #lovequotes #romanticquotes #sweetm… ",
         942000,
         "YourTango",
         "Love Quotes Poetry,Life Quotes Love,Love Yourself Quotes,Love Poems,Love Quotes For Him,Words Quotes,Quotes Quotes,Making Love Quotes,Funny Quotes",
         "image",
         "https://i.pinimg.com/originals/58/5c/80/585c80e189d9457b006a44b8ca73d1db.jpg",
         "/data/quotes",
         "quotes",
         1
        ],
        [
         10283,
         "0571551c-8aa3-4620-8e95-e17efa0123c7",
         "Exploring Zion and Bryce Canyon: A Week In Utah — Allison Anderson - Solo Female Travel Blog",
         "Exploring Zion and Bryce Canyon: A Week In Utah — Allison Anderson - Solo Female Travel Blog",
         8000,
         "Allison Anderson | Solo Travel & Lifestyle Blog",
         "Beautiful Places To Travel,Cool Places To Visit,Places To Go,Nature Architecture,Travel Photographie,Blog Voyage,Travel Aesthetic,Vacation Ideas,Vacation Countdown",
         "image",
         "https://i.pinimg.com/originals/c9/8f/7c/c98f7c011726892b61cae6a0828ca2bf.jpg",
         "/data/travel",
         "travel",
         1
        ],
        [
         6448,
         "902facca-9884-4e89-9264-c4a8b9e4bc5e",
         "Ode to the Soulful Kitchen - Linda Merrill",
         "What I love and swoon over is a more soulful kitchen, perhaps even moody. Dark painted cabinets, natural woods and mixed materials are sublime",
         15000,
         "Linda Merrill Decorative Surroundings",
         "Kitchen Redo,Home Decor Kitchen,Kitchen Interior,New Kitchen,Home Kitchens,Kitchen Dining,Kitchen Ideas,Devol Kitchens,Kitchen Cabinets",
         "image",
         "https://i.pinimg.com/originals/d4/c2/e2/d4c2e2f7e0c76e75ba0bfb15a2331669.jpg",
         "/data/home-decor",
         "home-decor",
         1
        ],
        [
         4055,
         "1e18abb3-42f1-4d75-bdb3-86b3f8f79c6c",
         "Post-It Math Activity for Teaching Addition - Busy Toddler",
         "Working on addition? Try making a post-it math activity as a great alternative to worksheets! An easy number sense activity for math facts.",
         203000,
         "Susie Allison | Busy Toddler",
         "Number Sense Activities,Math Activities For Kids,Fun Math,Kids Math,Addition Activities,Preschool Classroom Centers,Child Development Activities,Lego Math,Addition Games",
         "image",
         "https://i.pinimg.com/originals/df/12/99/df1299e092338e8bf2ac6764717a8ad7.png",
         "/data/education",
         "education",
         1
        ],
        [
         355,
         "bf5e698d-d5b6-46f6-b450-2218f9a8b5c9",
         "51 Enigmatic Forest Concept Art That Will Amaze You",
         "Looking for inspirations to create the mysterious forest world and enchant the viewer’s eye? This is all that you’re gonna need to achieve just that!",
         556000,
         "Homesthetics.net",
         "Fantasy Kunst,Environment Design,Fantasy Landscape,Landscape Art,Landscape Drawings,Forest Landscape,Art Design,Tree Art,Oeuvre D'art",
         "image",
         "https://i.pinimg.com/originals/08/8e/0a/088e0a25e0a270b28b3c437713ea43ad.jpg",
         "/data/art",
         "art",
         1
        ],
        [
         2720,
         "cef62b5d-ad06-4faf-aac9-2690550a3e66",
         "Snowflake Crafts & Activities - HAPPY TODDLER PLAYTIME",
         "Here is a list of 20 creative and fun snowflake activities and crafts for babies, toddlers, preschoolers & kindergartners!",
         73000,
         "Happy Toddler Playtime",
         "Preschool Christmas,Christmas Activities,Craft Activities,Toddler Activities,Winter Preschool Crafts,Kids Crafts,Christmas Crafts,Motor Activities,Therapy Activities",
         "image",
         "https://i.pinimg.com/originals/ae/b4/9d/aeb49df0feaa7f1adc5a522049664e78.jpg",
         "/data/diy-and-crafts",
         "diy-and-crafts",
         1
        ],
        [
         9784,
         "8ff9c540-e7b6-43f6-abc7-bb629d43ae9c",
         "21 Best Christmas Trips in America",
         "21 Best Christmas Trips in America | usa Christmas trips | Christmas trips usa | where to spend Christmas in the usa | Christmas travel destinations | christmas travel destinati… ",
         47000,
         "Follow Me Away",
         "Best Christmas Vacations,Christmas Getaways,Christmas Destinations,Christmas Travel,Christmas Town,Holiday Travel,Vacation Destinations,Dream Vacations,Winter Vacations",
         "image",
         "https://i.pinimg.com/originals/1a/6d/9c/1a6d9c144b37fcbcd4dc8325e5e35dab.jpg",
         "/data/travel",
         "travel",
         1
        ],
        [
         4554,
         "9861220c-66ac-43b1-9bbb-da679e43c99c",
         "How to Make Your Own DIY Photo Booth: 6 Easy Steps",
         "From cool photo booth backdrops to what camera to use, here's everything you need to make brilliant memories!",
         93000,
         "Hitched",
         "Backyard Wedding Decorations,Wedding Ceremony Backdrop,Wedding Backyard,Hanging Decorations,Backdrop Decorations,Ceremony Decorations,Diy Backdrop,Backdrops,Backdrop Photobooth",
         "image",
         "https://i.pinimg.com/originals/b3/3d/c0/b33dc03ede5178fe2f50dbc7c7cf8fcf.jpg",
         "/data/event-planning",
         "event-planning",
         1
        ],
        [
         7669,
         "7b3dbe06-46de-40f6-8a2b-4fe0ff616167",
         "'I Love  You' Quotes: 22 Heartwarming Quotes To Help You Say 'I Love You’",
         "There are more ways to say I love you than those three little words. Here are some fantastic I love you quotes for everyone!",
         166000,
         "Women.com",
         "Cute Love Quotes,Love Quotes For Her,Love Yourself Quotes,Quotes To Live By,Best Quotes Of All Time,Love For Her,Love Qoutes,You Make Me Happy Quotes,Funny Romantic Quotes",
         "image",
         "https://i.pinimg.com/originals/09/61/ff/0961ff7eaca61d4d3191fd7a2182ddb0.jpg",
         "/data/quotes",
         "quotes",
         1
        ],
        [
         8371,
         "4fd5f9ce-ffe1-405a-ae75-7ec89368f8c9",
         "Dear Me, F*ck You - A Raw and Real Open Letter to Myself",
         "#selfconfidence #strength #feelings #emotions #selfawareness #inspirationalquotes #shortinspirationalquotes #wordsofwisdom #quotestoliveby",
         228000,
         "Iva A. Ursano Amazing Me Movement",
         "Short Inspirational Quotes,Great Quotes,Motivational Quotes,Uplifting Quotes,Wisdom Quotes,True Quotes,Quotes To Live By,On My Own Quotes,I Needed You Quotes",
         "image",
         "https://i.pinimg.com/originals/7c/77/45/7c774503eeca16e0d5e38a880fe6df3e.jpg",
         "/data/quotes",
         "quotes",
         1
        ],
        [
         2662,
         "6e71d765-a43c-4187-bc1e-3e3fa21cea1d",
         "Potato Stamped Christmas Lights Activity - HAPPY TODDLER PLAYTIME",
         "Fun art activity for kids! And a great way to make DIY wrapping paper!",
         73000,
         "Happy Toddler Playtime",
         "Preschool Christmas Crafts,Christmas Activities For Kids,Toddler Christmas,Craft Activities For Kids,Preschool Crafts,Holiday Crafts,Kids Christmas Art,Art Crafts For Kids,Nursery Activities",
         "video",
         "https://i.pinimg.com/videos/thumbnails/originals/f2/be/7e/f2be7e6b347a2a25cb048d83d24024dc.0000001.jpg",
         "/data/diy-and-crafts",
         "diy-and-crafts",
         1
        ],
        [
         2239,
         "ba565e4f-c082-467b-8045-1bf0b90795e2",
         "Old World European Inspired Christmas Home Tour | TIDBITS by Cami",
         "I’m thrilled to share with you our Old World European Inspired Christmas home tour. Come away with European Christmas decorating ideas!",
         64000,
         "TIDBITS",
         "Old Time Christmas,Christmas Home,Christmas Crafts,Christmas Holidays,Christmas Ideas,Old Fashioned Christmas Decorations,Christmas Tree Decorations,Xmas Ornaments,Christmas Interiors",
         "image",
         "https://i.pinimg.com/originals/e5/f5/90/e5f5909c5a9c1e440921c18993fcca5c.jpg",
         "/data/christmas",
         "christmas",
         1
        ],
        [
         7232,
         "619956f5-b7a8-4557-a866-b85ce8753352",
         "\"CONSPIRACY\" WHITE T [FULL TAPE]",
         "TRACKLIST:00:00 WORLD STAY SPINNIN' [Prod. Chemztat]02:49 SIXTEEN [Prod. TrellGotWings]04:47 WANG BASS [Prod. Lexi Banks]07:16 GIHAD [Prod. TrellGotWings]09:...",
         939,
         "Logan Klein",
         "Mens Fashion Blog,Fashion Mode,Look Fashion,Fashion Outfits,Fashion Trends,Skater Fashion,Petite Fashion,Curvy Fashion,Fashion Bloggers",
         "image",
         "https://i.pinimg.com/originals/51/de/f4/51def4b3fe8b94894a97e9a2e5659a41.jpg",
         "/data/mens-fashion",
         "mens-fashion",
         1
        ],
        [
         8759,
         "d0176c81-9a41-4765-b420-e4769925e616",
         "A Daily Word: 366 Scriptural Devotions for Growing Christians by Paul",
         "Buy a cheap copy of A Daily Word: 366 Scriptural Devotions for Growing Christians by Paul Chappell 1598940767 9781598940763 - A gently used book at a great low price. Free shipp… ",
         12,
         "Juna Saito",
         "Little Tattoos,Mini Tattoos,Cute Tattoos,Body Art Tattoos,Tatoos,Pretty Tattoos,Dainty Tattoos,Ankle Tattoos,Sexy Tattoos",
         "image",
         "https://i.pinimg.com/originals/85/c8/6e/85c86e7714e5d986fa890ec7b1c30e9e.jpg",
         "/data/tattoos",
         "tattoos",
         1
        ],
        [
         3798,
         "3566de93-1adc-4c88-8f48-4e8073cd2942",
         "Declining by Degrees : Higher Education at Risk (Paperback)",
         "A provocative look at higher education as featured in The New York Times Two decades ago A Nation at Risk sounded a national alarm on K-12 education. Now, an equally urgent alar… ",
         2000000,
         "Walmart",
         "N,o, ,T,a,g,s, ,A,v,a,i,l,a,b,l,e",
         "image",
         "https://i.pinimg.com/originals/90/1b/e2/901be2bc9c4beca25dc9db05844beff7.jpg",
         "/data/education",
         "education",
         1
        ],
        [
         1515,
         "bfc38060-0c9a-4107-8f3e-fdf2341269ba",
         "These $1 False Lashes Look EXACTLY Like Pricy Lash Extensions",
         "I'll take a dozen, please.",
         346000,
         "Allure",
         "Makeup 101,Drugstore Makeup,Makeup Goals,Skin Makeup,Makeup Inspo,Beauty Makeup,Makeup Ideas,Best Drugstore Lashes,Makeup Products",
         "image",
         "https://i.pinimg.com/originals/76/eb/60/76eb607d7d1791bae028de1031d9a27e.jpg",
         "/data/beauty",
         "beauty",
         1
        ],
        [
         7033,
         "b2d19af8-1c48-48c4-b7c0-ac8834f2be1e",
         "THE SUIT MEN",
         "Source: gezzasmenswear.tumblr.com source More menswear & suits!",
         920,
         "The Church Of Truth And Logic",
         "Mens Fashion Blog,Estilo Fashion,Mens Fashion Suits,Mens Suits,Fashion Outfits,Womens Fashion,Fashion Tips,Fashion Ideas,Fashion 2016",
         "image",
         "https://i.pinimg.com/originals/28/31/6c/28316c8e0390a8e6bcbf2dcad4a8aa8c.jpg",
         "/data/mens-fashion",
         "mens-fashion",
         1
        ],
        [
         10846,
         "4fbb063a-5d44-44b8-a65d-3d4f91065cbf",
         "Luxury Cars Tesla Vehicles 51 Ideas For 2019",
         "No description available",
         18,
         "Katie",
         "Luxury Sports Cars,Top Luxury Cars,Sport Cars,Bmw Sport,Jaguar Sport,Tesla Roadster,Aston Martin Vanquish,Bmw I8,Bugatti Veyron",
         "image",
         "https://i.pinimg.com/originals/86/da/39/86da39f34c43d4fdd721100f3123a54d.jpg",
         "/data/vehicles",
         "vehicles",
         1
        ],
        [
         8339,
         "221d9e5c-be3b-40f4-9257-b1102a488021",
         "Relationship Rules",
         "Relationship Rules is a modern-age lifestyle/love blog that discusses everything from breakups to being amazing parents.",
         1,
         "Wamda",
         "Now Quotes,Life Quotes Love,Self Love Quotes,Wisdom Quotes,True Quotes,Words Quotes,Wise Words,Quotes To Live By,One Word Sayings",
         "image",
         "https://i.pinimg.com/originals/0b/27/f5/0b27f5109baa91be35be51f9ba467572.webp",
         "/data/quotes",
         "quotes",
         1
        ],
        [
         5357,
         "a402b531-eb6e-4f48-b447-e8aed916fb67",
         "Useful Budgeting tips for beginner",
         "No description available Story format",
         760,
         "Kenya. Finances 101",
         "Ways To Save Money,Money Tips,Money Saving Tips,Money Budget,Budgeting Finances,Budgeting Tips,Financial Tips,Financial Planning,Goal Planning",
         "multi-video(story page format)",
         "https://i.pinimg.com/videos/thumbnails/originals/5b/d0/9e/5bd09e26bc69c212cf5057ecbe2b6417.0000001.jpg",
         "/data/finance",
         "finance",
         1
        ],
        [
         1199,
         "203ac75e-9655-47f6-8f20-5d74fbe7578b",
         "Natural Beauty Products: The Good, The Bad, and The Ugly",
         "Many natural hair products use \"greenwashing\" marketing tactics to seem natural. Here's a handy chart to help you separate the good from the bad.",
         81000,
         "Mama Natural",
         "Beauty Care,Beauty Skin,Beauty Hacks,Health And Beauty,Beauty Tips,Beauty Products,Hair Products,Diy Beauty,Healthy Beauty",
         "image",
         "https://i.pinimg.com/originals/9c/73/dd/9c73ddd9711541a7f9f6f4b3a252657d.jpg",
         "/data/beauty",
         "beauty",
         1
        ],
        [
         7534,
         "914a7de6-9e7f-4098-bcf3-664112b998f5",
         "My 5 Favourite Outfits From This Celeb's Instagram Account",
         "Become the best-dressed guy.",
         613000,
         "Mens Fashion - LIFESTYLE BY PS ",
         "Fashion Mode,Suit Fashion,Fashion Photo,Fashion Outfits,Fashion Clothes,Fashion Trends,Style Fashion,Mens Summer Dress Clothes,Clothes For Men",
         "image",
         "https://i.pinimg.com/originals/80/33/18/803318ed61b44f69843712e17f7a72ac.jpg",
         "/data/mens-fashion",
         "mens-fashion",
         1
        ],
        [
         9749,
         "8487bc7f-fd9e-44a4-88f5-4ea8583b45f1",
         "so love travel 💘??",
         "No description available Story format",
         2000,
         "Travel with Munia",
         "World Most Beautiful Place,Beautiful Photos Of Nature,Beautiful Places In The World,Beautiful Places To Visit,Cool Places To Visit,Beautiful Vacation Spots,Most Beautiful Pictures,Beautiful Things,Places To Go",
         "multi-video(story page format)",
         "https://i.pinimg.com/videos/thumbnails/originals/59/e7/b3/59e7b35cd8f993b6c9d8db9aa26d3d0d.0000001.jpg",
         "/data/travel",
         "travel",
         1
        ],
        [
         6147,
         "68bfa7e0-8887-48e4-8b0a-301da999253b",
         "25 Neutral Christmas Decor Ideas",
         "Neutral Christmas Reading Nook Decor via @caligirlinasouthernworld",
         67000,
         "Curated Interior",
         "Living Room Decor,Bedroom Decor,Deep Seat Cushions,Cozy Corner,Home And Deco,Ballard Designs,Home Interior,Interior Design,Upholstered Chairs",
         "image",
         "https://i.pinimg.com/originals/57/a8/65/57a86581b4e5b8ff706624f23c233def.jpg",
         "/data/home-decor",
         "home-decor",
         1
        ],
        [
         4594,
         "b7944394-f559-4162-9212-d53c9a4493dc",
         "5 DIY Backdrops For Your Photo Booth, Ceremony and Reception!",
         "Read advice on TheKnot.com. Get tips on etiquette and find suggestions for your wedding.",
         545000,
         "The Knot",
         "Diy Photo Backdrop,Diy Photo Booth,Backdrop Ideas,Photo Booths,Balloon Backdrop,Photo Backdrops,Booth Ideas,Photo Props,Budget Wedding",
         "image",
         "https://i.pinimg.com/originals/ec/a4/6c/eca46cc4f6378d29c6757224395ff9ac.jpg",
         "/data/event-planning",
         "event-planning",
         1
        ],
        [
         6755,
         "56e0ec59-0d05-4985-878e-06033be5d87d",
         "9 Coolest Summer Outfit Formulas For Stylish Guys",
         "Beat the heat in style.",
         613000,
         "Mens Fashion - LIFESTYLE BY PS ",
         "Nice Casual Outfits For Men,Cool Summer Outfits,Men Casual,Formal Outfits,Casual Summer,Men Summer,Mens Classy Outfits,Casual Styles,Summer Ideas",
         "image",
         "https://i.pinimg.com/originals/b4/6b/31/b46b31424987b090b179a35d30aac8ad.jpg",
         "/data/mens-fashion",
         "mens-fashion",
         1
        ],
        [
         9660,
         "29e7e64b-386f-4db9-b788-e088954ee8fa",
         "Travel inspo ",
         "No description available Story format",
         10000,
         "Michelle Norris",
         "Vacation Places,Dream Vacations,Vacation Trips,Vacation Spots,Fun Places To Go,Beautiful Places To Travel,Travel Aesthetic,Beautiful Buildings,Travel Around The World",
         "multi-video(story page format)",
         "https://i.pinimg.com/videos/thumbnails/originals/31/e2/6f/31e26f10e39e45b77b678d0bc77bbb0f.0000001.jpg",
         "/data/travel",
         "travel",
         1
        ],
        [
         6569,
         "4b68882a-3b19-4dc1-b555-4009475fe01e",
         "Everything You Need to Know About the Kitchen's Top Design Trend",
         "Add some pep to your step with these shoppable finds.",
         5000000,
         "Apartment Therapy",
         "Home Decor Kitchen,Kitchen Interior,New Kitchen,Home Kitchens,Kitchen With Plants,Bohemian Kitchen Decor,Apartment Kitchen Decorating,Boho Decor,Kitchen Modern",
         "image",
         "https://i.pinimg.com/originals/8f/56/f0/8f56f0819e6f4d1ea90c9cde8d59a697.jpg",
         "/data/home-decor",
         "home-decor",
         1
        ],
        [
         8695,
         "825bab46-ee99-49c8-ad3c-858eb161222f",
         "70 Sexy (but Discreet) Tattoos For Women",
         "An interesting post from POPSUGAR Love & Sex. Check it out!",
         5000000,
         "POPSUGAR",
         "Discreet Tattoos For Women,Sexy Tattoos For Women,Tiny Tattoos For Girls,Small Hip Tattoos Women,Bum Tattoo Women,Tattoed Women,Cute Tiny Tattoos,Diskrete Tattoos,Mini Tattoos",
         "image",
         "https://i.pinimg.com/originals/64/63/bb/6463bb6e81b19ebb3d32ea933e88c048.jpg",
         "/data/tattoos",
         "tattoos",
         1
        ],
        [
         7057,
         "742873e9-a0a1-46d4-b17b-9a90949f49e4",
         "Trendy Fashion Style Women's Clothing Online Shopping",
         "ZAFUL offers a wide selection of trendy fashion style women's clothing. Affordable prices on new tops, dresses, outerwear and more.",
         893000,
         "ZAFUL",
         "Best Mens Fashion,Suit Fashion,Male Fashion,Fashion Menswear,Fashion Styles,Fashion Outfits,Fashion Shorts,Men's Outfits,Fashion 2018",
         "image",
         "https://i.pinimg.com/originals/57/90/b0/5790b00bab6068621985512217fd7d7c.jpg",
         "/data/mens-fashion",
         "mens-fashion",
         1
        ],
        [
         3583,
         "92dd3852-4545-4609-bcd1-7432e5ce5300",
         "10 Weeks of Distance Learning Activities",
         "Total Pages: 40 + editable pages File Size: 30 MB Download Preview",
         52000,
         "The Printable Princess",
         "Home Learning,Learning Resources,Teacher Resources,Learning Spaces,Teacher Sites,Teacher Binder,Teacher Planner Free,Learning People,Teacher Lesson Planner",
         "image",
         "https://i.pinimg.com/originals/61/e2/ab/61e2ab97ee6e1939b94b4f157bbf3ae8.png",
         "/data/education",
         "education",
         1
        ],
        [
         3709,
         "9c6340e5-98df-4285-b239-5e4f200455e4",
         "Simon Says Ideas - The Best Ideas for Kids",
         "Simon Says Ideas Printable",
         903000,
         "The Best Ideas for Kids",
         "Games For English Class,Toddler Activities,Fun Activities,Movement Activities,Outside Activities For Kids,Physical Activities For Kids,Activities For 4 Year Olds,Icebreakers For Kids,Charades For Kids",
         "image",
         "https://i.pinimg.com/originals/f8/8c/9a/f88c9a979594d25713c06646f6820ff6.jpg",
         "/data/education",
         "education",
         1
        ],
        [
         9732,
         "0eca4770-10eb-407a-859c-10fd52e38dcb",
         "Brienz Switzerland",
         "No description available Story format",
         67,
         "Sus42",
         "Places To Travel,Places To See,Travel Destinations,Dream Vacations,Vacation Spots,Voyage Europe,Places Around The World,Beautiful Places In The World,Wonderful Places",
         "multi-video(story page format)",
         "Image src error.",
         "/data/travel",
         "travel",
         0
        ],
        [
         8194,
         "baab6ab6-4221-4c58-8ba7-fcc2c39e5e96",
         "Pin on Language Learning & Motivational Quotes",
         "#quotes",
         942000,
         "YourTango",
         "Motivational Frases,Best Inspirational Quotes,Great Quotes,Quotes To Live By,Most Inspiring Quotes,Inspiring Words,Life Quotes Inspirational Motivation,Best Motivational Quotes Ever,Cherish Quotes",
         "image",
         "https://i.pinimg.com/originals/e8/f1/cf/e8f1cfc18c4a9333555ab1ed672928b3.jpg",
         "/data/quotes",
         "quotes",
         1
        ],
        [
         8110,
         "03949ea0-2240-45c7-af64-5265e80fa140",
         "50 Spot-On Motivational Quotes That Will Make Your Heart Soar",
         "You only fail when you stop trying.",
         166000,
         "Women.com",
         "The Words,Cool Words,Good Life Quotes,Great Quotes,Quote Life,Life Is Beautiful Quotes,Beautiful Quotes Inspirational,Qoutes Of Life,Amazing Quotes",
         "image",
         "https://i.pinimg.com/originals/60/38/cb/6038cb0faa1970c963d7da164e331fb3.jpg",
         "/data/quotes",
         "quotes",
         1
        ],
        [
         10580,
         "dafddbc3-f4ef-49e7-a1de-703a1096f899",
         "Cars Archives",
         "We cover the best SUV's, electric, luxury, and sports cars to bring you the latest automotive news from modern marvels to vintage classics.",
         112000,
         "Man of Many",
         "Hummer For Sale,New Hummer,Hummer Truck,Hummer Cars,Hummer H3,Offroad,Tactical Truck,Armored Truck,Car Wheels",
         "image",
         "https://i.pinimg.com/originals/23/d5/b9/23d5b9aa5e94152faaa91fde7e69e1c1.jpg",
         "/data/vehicles",
         "vehicles",
         1
        ],
        [
         858,
         "9fe497af-3991-48d3-873c-f9af4e28d3ab",
         "Caption this - 14 April",
         "Caption this - 14 April",
         5000000,
         "The Minds Journal",
         "Dark Art Drawings,Art Drawings Sketches Simple,Pencil Art Drawings,Cool Drawings,Drawings With Meaning,Random Drawings,Eye Drawings,Japanese Drawings,Unique Drawings",
         "image",
         "https://i.pinimg.com/originals/63/e2/95/63e29597b8aff80f2f5e9c004fb50699.png",
         "/data/art",
         "art",
         1
        ],
        [
         7618,
         "b8bb119f-30b2-4231-a73b-af6caf1d41d4",
         "17 Heart-Centred Ways to Simplify Your Life",
         "Your Anger? It's Telling You Where You Feel Powerless – The Minds Journal",
         5000000,
         "The Minds Journal",
         "The Words,Wisdom Quotes,Me Quotes,Anger Quotes,Sport Quotes,Truth Quotes,Famous Quotes,Qoutes,Funny Quotes",
         "image",
         "https://i.pinimg.com/originals/c1/7f/c8/c17fc8e527358adbfe1a3840e1a85880.jpg",
         "/data/quotes",
         "quotes",
         1
        ],
        [
         4741,
         "9c491de1-6911-44bb-8a8f-78c8a302f5be",
         "I just launched my notebooks. Designed by me 🤍",
         "No description available Story format",
         3000,
         "FemaleInspiring",
         "Tshirt Business,Craft Business,Business Design,Business Stationary,Business Planner,Jobs For Teens,Teen Jobs,Ways To Get Money,Best Small Business Ideas",
         "multi-video(story page format)",
         "https://i.pinimg.com/videos/thumbnails/originals/92/56/25/92562542fb6adf027834e77b4da03eb6.0000001.jpg",
         "/data/event-planning",
         "event-planning",
         1
        ],
        [
         10619,
         "364f43e3-486b-4270-855c-1a330465424c",
         "1959 Cadillac - Amazing Classic Cars",
         "Tail end of this gorgeous 1959 Cadillac old car.",
         3000,
         "Amazing Classic Cars",
         "Retro Cars,Vintage Cars,Antique Cars,1959 Cadillac,1957 Chevrolet,Chevrolet Trucks,Chevrolet Impala,Convertible,Chevy Girl",
         "image",
         "https://i.pinimg.com/originals/1d/f5/9c/1df59c35a1d9183b44d7bde39e686ac9.jpg",
         "/data/vehicles",
         "vehicles",
         1
        ],
        [
         4275,
         "e619ec42-1801-4806-924a-5225fca3297a",
         "First Year Teacher Tips - Primary Flourish",
         "Amazing advice and encouragement for new teachers, from teachers who care!",
         3000,
         "Coach's Corner",
         "1st Year Teachers,First Year Teaching,Student Teaching,Teacher Books,Teacher Resources,Teacher Stuff,Teachers Toolbox,Teacher Quotes,Teaching Strategies",
         "image",
         "https://i.pinimg.com/originals/ec/57/ee/ec57ee6c67f87e11da600244de1d2070.jpg",
         "/data/education",
         "education",
         1
        ],
        [
         10962,
         "332ce8f1-303d-4692-9d3a-3d630c0b14b6",
         "Chevrolet Camaro 1969",
         "No description available",
         171000,
         "vintagetopia",
         "Chevrolet Camaro 1969,67 Camaro,Chevy Chevelle Ss,Chevy Pickups,Corvette,Ford Mustang 1969,Mustang Cobra,Old Muscle Cars,Chevy Muscle Cars",
         "image",
         "https://i.pinimg.com/originals/a0/b9/d8/a0b9d873c610a1793b9888dd2bd7075d.jpg",
         "/data/vehicles",
         "vehicles",
         1
        ],
        [
         6817,
         "6b387785-c30f-490a-958b-0b0b976b138f",
         "Summer Outfits Men",
         "Men’s Summer fashion sporty outfit inspiration. Like it? #mensfashion #style #streetstyle #outfit",
         6000,
         "PERDREAMS",
         "Summer Outfits Men,Sporty Outfits,Athletic Outfits,Mode Outfits,Summer Men,Winter Outfits,Men Summer Fashion,Summer Ideas,Mens Athletic Fashion",
         "image",
         "https://i.pinimg.com/originals/0b/8d/88/0b8d888c865e2f5cc2ce34c6d82fd369.jpg",
         "/data/mens-fashion",
         "mens-fashion",
         1
        ],
        [
         8328,
         "7adb0cba-f804-48b7-9458-254681242e5e",
         "I Over Analyze Situations",
         "I over analyze situations because I'm scared of what will happen if I'm not prepared for it.",
         5000000,
         "The Minds Journal",
         "Now Quotes,Hard Quotes,Real Quotes,True Quotes,Qoutes,Quotes Love,Feeling Broken Quotes,Quotes Deep Feelings,Quotes On Anxiety",
         "image",
         "https://i.pinimg.com/originals/83/bc/73/83bc73b11f083bc1754215a13d026c2d.jpg",
         "/data/quotes",
         "quotes",
         1
        ],
        [
         7420,
         "c3fad5a1-ba91-4c37-9b95-0fea075a0b53",
         "Men's Fashion for 2013",
         "Showing the latest trends in men's clothing, hair styles, and more...",
         47,
         "ThatUserNameIsAlreadyTakenT",
         "Sharp Dressed Man,Well Dressed Men,Caban Bleu Marine,Fashion Models,Mens Fashion,Trendy Fashion,Fashion Black,La Mode Masculine,Gentleman Style",
         "image",
         "https://i.pinimg.com/originals/ed/39/11/ed39110092f8a80f3234989d9d740b3a.jpg",
         "/data/mens-fashion",
         "mens-fashion",
         1
        ],
        [
         5736,
         "313643d5-4d17-4bd5-9401-e818fe09e4d7",
         "Are You a Good Tipper? |",
         "Are you a good tipper? I was a server for five years and have seen tips of all ranges. I have even witnessed customers being chased after for a bigger tip!",
         8000,
         "Jen | Save to Splurge",
         "Money On My Mind,Show Me The Money,Money Tips,Money Saving Tips,Creating Wealth,Budget Organization,Frugal Living Tips,Money Matters,Finance Tips",
         "image",
         "https://i.pinimg.com/originals/90/ff/24/90ff24f43bc2050c559a9170d49923be.jpg",
         "/data/finance",
         "finance",
         1
        ],
        [
         10708,
         "f80e0f30-4fc2-4a0f-a028-6fa9b9bb1a0e",
         "only the best",
         "only the best",
         12000,
         "Kirsten |  Life & Style in Britain",
         "Landrover Defender,Defender 90,Landrover Series,My Dream Car,Dream Cars,Mercedes Benz G,Automobile,Cool Jeeps,Car Goals",
         "image",
         "https://i.pinimg.com/originals/ac/cc/3d/accc3d0ed4bf4ef230133c97c9340828.jpg",
         "/data/vehicles",
         "vehicles",
         1
        ],
        [
         7981,
         "9f34995c-4e78-4638-bfd2-1fe267ab5dea",
         "THINGS",
         "No description available Story format",
         2000,
         "MONTANO DIANA ✿◕‿◕✿",
         "Positive Affirmations Quotes,Affirmation Quotes,Wisdom Quotes,True Quotes,Words Quotes,Wise Words,Positive Quotes,Motivational Quotes,Wall Of Quotes",
         "multi-video(story page format)",
         "Image src error.",
         "/data/quotes",
         "quotes",
         0
        ],
        [
         17,
         "599e1538-7ede-4150-b16b-2a35b1b226b5",
         "Art Drawings Sketches",
         "No description available",
         89,
         "Kate Smith",
         "Art Drawings Sketches,Tattoo Drawings,Cool Art Drawings,Drawing Art,Skull Drawings,Skull Sketch,Drawing Birds,Bird Sketch,Skull Artwork",
         "image",
         "https://i.pinimg.com/originals/2c/ce/e0/2ccee086f875967dcfec26433c20f460.jpg",
         "/data/art",
         "art",
         1
        ],
        [
         8269,
         "0555ba9a-3399-46ce-b4b0-ceb736292971",
         "Sunday quotes",
         "No description available Story format",
         375,
         "Draaz Scarf",
         "Happy Wallpaper,Wallpaper Quotes,Wallpaper Backgrounds,Iphone Wallpaper,Trendy Wallpaper,Positive Quotes Wallpaper,Kawaii Wallpaper,Cheer Quotes,Happy Quotes",
         "multi-video(story page format)",
         "Image src error.",
         "/data/quotes",
         "quotes",
         0
        ],
        [
         10903,
         "d2b2e6b6-8c99-414d-93a2-8e0db3407896",
         "Nissan 370Z",
         "No description available Story format",
         49000,
         "Tim Adam - Car Enthusiast",
         "Nissan 370z,Nissan Z Cars,Best Jdm Cars,Best Luxury Cars,Weird Cars,Cool Cars,Strange Cars,Crazy Cars,Pimped Out Cars",
         "multi-video(story page format)",
         "Image src error.",
         "/data/vehicles",
         "vehicles",
         0
        ],
        [
         10826,
         "528f81e8-1066-49bd-828c-bd4ee4221842",
         "Cooler Than Before - Jaguar E-Type.",
         "Jaguar E-Type.",
         710,
         "Philippe Steele",
         "Jaguar E Type,Jaguar Cars,Jaguar Xk,Classic Sports Cars,Classic Cars,Retro Cars,Vintage Cars,Automobile,Muscle Cars",
         "image",
         "https://i.pinimg.com/originals/22/40/a9/2240a9bba22d1b6061f189fb1314da96.jpg",
         "/data/vehicles",
         "vehicles",
         1
        ],
        [
         423,
         "fa2abf2d-c5e0-4194-928e-032f140b8be6",
         "Caption this - 22 November 2019",
         "Caption this - 22 November 2019",
         5000000,
         "The Minds Journal",
         "Arte Horror,Horror Art,Dark Fantasy Art,Art Inspo,Art Sinistre,Art Jouet,Sad Paintings,Art Noir,Deep Art",
         "image",
         "https://i.pinimg.com/originals/78/f5/57/78f557f158809f46d0bcc185755537e7.jpg",
         "/data/art",
         "art",
         1
        ],
        [
         8531,
         "27f3a5e5-a542-49d2-96e2-56ffcf224708",
         "word tattoos",
         "No description available Story format",
         900,
         "jellyaz",
         "Dope Tattoos,Mini Tattoos,Dainty Tattoos,Little Tattoos,Small Tattoos,Tatoos,Awesome Tattoos,Random Tattoos,Pretty Tattoos",
         "multi-video(story page format)",
         "Image src error.",
         "/data/tattoos",
         "tattoos",
         0
        ],
        [
         7504,
         "5a575d8d-385e-4b29-a87c-d04f147eb42a",
         "No Title Data Available",
         "No description available Story format",
         null,
         "User Info Error",
         "N,o, ,T,a,g,s, ,A,v,a,i,l,a,b,l,e",
         "multi-video(story page format)",
         "Image src error.",
         "/data/mens-fashion",
         "mens-fashion",
         0
        ]
       ],
       "datasetInfos": [],
       "dbfsResultPath": null,
       "isJsonSchema": true,
       "metadata": {},
       "overflow": false,
       "plotOptions": {
        "customPlotOptions": {},
        "displayType": "table",
        "pivotAggregation": null,
        "pivotColumns": null,
        "xColumns": null,
        "yColumns": null
       },
       "removedWidgets": [],
       "schema": [
        {
         "metadata": "{}",
         "name": "ind",
         "type": "\"long\""
        },
        {
         "metadata": "{}",
         "name": "unique_id",
         "type": "\"string\""
        },
        {
         "metadata": "{}",
         "name": "title",
         "type": "\"string\""
        },
        {
         "metadata": "{}",
         "name": "description",
         "type": "\"string\""
        },
        {
         "metadata": "{}",
         "name": "follower_count",
         "type": "\"integer\""
        },
        {
         "metadata": "{}",
         "name": "poster_name",
         "type": "\"string\""
        },
        {
         "metadata": "{}",
         "name": "tag_list",
         "type": "\"string\""
        },
        {
         "metadata": "{}",
         "name": "is_image_or_video",
         "type": "\"string\""
        },
        {
         "metadata": "{}",
         "name": "image_src",
         "type": "\"string\""
        },
        {
         "metadata": "{}",
         "name": "save_location",
         "type": "\"string\""
        },
        {
         "metadata": "{}",
         "name": "category",
         "type": "\"string\""
        },
        {
         "metadata": "{}",
         "name": "downloaded",
         "type": "\"long\""
        }
       ],
       "type": "table"
      }
     },
     "output_type": "display_data"
    }
   ],
   "source": [
    "#df_pin data clean\n",
    "df_pin = df_pin.dropDuplicates()\n",
    "df_pin = df_pin.withColumnRenamed('index', 'ind')\n",
    "df_pin = df_pin.select(\"ind\", \"unique_id\", \"title\", \"description\", \"follower_count\", \"poster_name\", \n",
    "\"tag_list\", \"is_image_or_video\", \"image_src\", \"save_location\", \"category\", \"downloaded\")\n",
    "df_pin = df_pin.withColumn('follower_count', regexp_replace('follower_count', '[%k]', '000'))\n",
    "df_pin = df_pin.withColumn('follower_count', regexp_replace('follower_count', '[%M]', '000000'))\n",
    "df_pin = df_pin.withColumn('follower_count', regexp_replace('follower_count', '[%User Info Error%]', ''))\n",
    "df_pin = df_pin.withColumn('follower_count', df_pin['follower_count'].cast(IntegerType()))\n",
    "df_pin = df_pin.withColumn('save_location', regexp_replace('save_location', 'Local save in *', ''))\n",
    "df_pin.na.fill('None', ['is_image_or_video', 'image_src'])\n",
    "df_pin.na.drop(how = \"all\")\n",
    "display(df_pin)"
   ]
  },
  {
   "cell_type": "markdown",
   "metadata": {
    "application/vnd.databricks.v1+cell": {
     "cellMetadata": {
      "byteLimit": 2048000,
      "rowLimit": 10000
     },
     "inputWidgets": {},
     "nuid": "3fd88a33-7a22-4d56-8001-aa5776cbb0a1",
     "showTitle": false,
     "title": ""
    }
   },
   "source": [
    "## Data cleaning for df_geo\n",
    "- Remove duplicate rows in the dataframe\n",
    "- Create new column coordinates with the values to be the array of latitude and longitude column and deleting these two columns\n",
    "- Convert the timestamp column into a timestamp data type\n",
    "- Re-order the column names in the dataframe"
   ]
  },
  {
   "cell_type": "code",
   "execution_count": 0,
   "metadata": {
    "application/vnd.databricks.v1+cell": {
     "cellMetadata": {
      "byteLimit": 2048000,
      "rowLimit": 10000
     },
     "inputWidgets": {},
     "nuid": "000ef518-42c1-4a3f-927b-18d5cfca8e2f",
     "showTitle": false,
     "title": ""
    }
   },
   "outputs": [
    {
     "output_type": "display_data",
     "data": {
      "text/html": [
       "<style scoped>\n",
       "  .table-result-container {\n",
       "    max-height: 300px;\n",
       "    overflow: auto;\n",
       "  }\n",
       "  table, th, td {\n",
       "    border: 1px solid black;\n",
       "    border-collapse: collapse;\n",
       "  }\n",
       "  th, td {\n",
       "    padding: 5px;\n",
       "  }\n",
       "  th {\n",
       "    text-align: left;\n",
       "  }\n",
       "</style><div class='table-result-container'><table class='table-result'><thead style='background-color: white'><tr><th>ind</th><th>country</th><th>coordinates</th><th>timestamp</th></tr></thead><tbody><tr><td>7973</td><td>Saint Kitts and Nevis</td><td>List(-68.0247, 59.5982)</td><td>2021-11-14T10:16:04.000+0000</td></tr><tr><td>5668</td><td>Slovakia (Slovak Republic)</td><td>List(8.92926, -12.1636)</td><td>2019-04-30T16:25:13.000+0000</td></tr><tr><td>10962</td><td>Saint Kitts and Nevis</td><td>List(-27.3474, -162.83)</td><td>2022-04-28T18:49:25.000+0000</td></tr><tr><td>2644</td><td>Afghanistan</td><td>List(-75.7662, -171.892)</td><td>2020-08-13T14:26:22.000+0000</td></tr><tr><td>4495</td><td>French Polynesia</td><td>List(-59.1849, -77.2275)</td><td>2018-05-18T15:10:24.000+0000</td></tr><tr><td>10619</td><td>Saint Helena</td><td>List(-68.9094, 121.026)</td><td>2022-09-29T00:05:47.000+0000</td></tr><tr><td>8695</td><td>Bouvet Island (Bouvetoya)</td><td>List(-84.3984, -144.933)</td><td>2021-01-14T01:06:27.000+0000</td></tr><tr><td>2377</td><td>Burkina Faso</td><td>List(38.2875, -173.383)</td><td>2021-10-29T02:25:35.000+0000</td></tr><tr><td>10846</td><td>United States of America</td><td>List(38.3898, 62.1414)</td><td>2017-10-23T14:20:19.000+0000</td></tr><tr><td>3798</td><td>Afghanistan</td><td>List(-88.5478, -174.971)</td><td>2018-04-13T02:57:54.000+0000</td></tr><tr><td>9245</td><td>American Samoa</td><td>List(-81.8896, -153.897)</td><td>2020-07-01T11:42:57.000+0000</td></tr><tr><td>1644</td><td>Falkland Islands (Malvinas)</td><td>List(-47.1523, -151.883)</td><td>2017-11-15T15:58:54.000+0000</td></tr><tr><td>7216</td><td>British Indian Ocean Territory (Chagos Archipelago)</td><td>List(-86.5675, -149.565)</td><td>2020-08-19T00:32:59.000+0000</td></tr><tr><td>5285</td><td>French Polynesia</td><td>List(-27.2307, -7.64365)</td><td>2018-03-21T13:20:42.000+0000</td></tr><tr><td>674</td><td>New Caledonia</td><td>List(81.1893, -112.978)</td><td>2020-01-16T04:13:22.000+0000</td></tr><tr><td>8161</td><td>British Virgin Islands</td><td>List(-59.1209, -93.9878)</td><td>2022-01-08T23:39:59.000+0000</td></tr><tr><td>3583</td><td>French Polynesia</td><td>List(-84.8365, -122.171)</td><td>2018-05-20T00:19:26.000+0000</td></tr><tr><td>9784</td><td>Bouvet Island (Bouvetoya)</td><td>List(-88.516, -178.811)</td><td>2022-02-25T12:30:26.000+0000</td></tr><tr><td>8110</td><td>Afghanistan</td><td>List(-87.8179, -178.525)</td><td>2020-09-19T00:49:06.000+0000</td></tr><tr><td>1783</td><td>Costa Rica</td><td>List(-25.6124, -79.4675)</td><td>2019-09-23T05:59:45.000+0000</td></tr><tr><td>3471</td><td>Switzerland</td><td>List(89.7829, -112.862)</td><td>2018-10-04T06:04:30.000+0000</td></tr><tr><td>355</td><td>American Samoa</td><td>List(-86.4433, -178.772)</td><td>2019-12-02T23:33:24.000+0000</td></tr><tr><td>8943</td><td>American Samoa</td><td>List(-68.8926, -164.968)</td><td>2019-06-20T17:13:03.000+0000</td></tr><tr><td>1199</td><td>Netherlands</td><td>List(-87.8894, 159.146)</td><td>2019-03-25T21:22:21.000+0000</td></tr><tr><td>7669</td><td>Afghanistan</td><td>List(-87.8179, -178.525)</td><td>2022-07-22T15:42:22.000+0000</td></tr><tr><td>6050</td><td>Bosnia and Herzegovina</td><td>List(-85.2391, -26.6006)</td><td>2018-10-25T00:03:16.000+0000</td></tr><tr><td>5357</td><td>Antigua and Barbuda</td><td>List(56.8317, 90.6551)</td><td>2018-03-01T04:28:29.000+0000</td></tr><tr><td>10283</td><td>Montenegro</td><td>List(16.4155, 52.0849)</td><td>2022-03-25T17:53:03.000+0000</td></tr><tr><td>1125</td><td>Bouvet Island (Bouvetoya)</td><td>List(-18.0738, -83.9147)</td><td>2018-07-02T10:40:58.000+0000</td></tr><tr><td>9421</td><td>British Virgin Islands</td><td>List(-69.0434, -156.04)</td><td>2019-08-03T09:35:53.000+0000</td></tr><tr><td>2505</td><td>French Polynesia</td><td>List(-55.6353, -80.5324)</td><td>2019-04-28T11:42:47.000+0000</td></tr><tr><td>9732</td><td>United States Minor Outlying Islands</td><td>List(-31.2934, -154.838)</td><td>2021-03-09T15:16:13.000+0000</td></tr><tr><td>10775</td><td>Armenia</td><td>List(-82.9685, -178.095)</td><td>2022-05-26T05:21:29.000+0000</td></tr><tr><td>9324</td><td>Barbados</td><td>List(66.9839, -57.7807)</td><td>2019-02-24T02:25:15.000+0000</td></tr><tr><td>8037</td><td>Andorra</td><td>List(-84.7363, -179.087)</td><td>2018-11-25T11:12:37.000+0000</td></tr><tr><td>10708</td><td>Ecuador</td><td>List(-52.3057, -140.529)</td><td>2019-12-09T14:31:34.000+0000</td></tr><tr><td>6213</td><td>Albania</td><td>List(-62.9651, -164.763)</td><td>2022-04-07T11:36:09.000+0000</td></tr><tr><td>6569</td><td>Algeria</td><td>List(-83.1105, -161.928)</td><td>2022-07-11T06:20:34.000+0000</td></tr><tr><td>7679</td><td>Algeria</td><td>List(-89.5173, -179.689)</td><td>2019-08-07T19:34:57.000+0000</td></tr><tr><td>6755</td><td>Algeria</td><td>List(-86.4791, -169.547)</td><td>2022-08-20T07:15:07.000+0000</td></tr><tr><td>3421</td><td>Andorra</td><td>List(-87.1113, -159.587)</td><td>2022-03-13T09:30:31.000+0000</td></tr><tr><td>4494</td><td>Bahamas</td><td>List(-75.4909, -179.908)</td><td>2021-11-01T16:12:22.000+0000</td></tr><tr><td>3709</td><td>Andorra</td><td>List(-87.1113, -159.587)</td><td>2018-11-15T08:35:23.000+0000</td></tr><tr><td>5736</td><td>Argentina</td><td>List(-87.2245, -100.213)</td><td>2019-06-16T03:40:54.000+0000</td></tr><tr><td>7823</td><td>Algeria</td><td>List(-89.5173, -179.689)</td><td>2021-07-09T04:30:30.000+0000</td></tr><tr><td>7981</td><td>Mauritania</td><td>List(23.151, 29.5156)</td><td>2018-03-18T02:04:23.000+0000</td></tr><tr><td>4965</td><td>Gibraltar</td><td>List(-7.32487, -114.681)</td><td>2021-05-18T00:18:38.000+0000</td></tr><tr><td>4594</td><td>Barbados</td><td>List(-71.9711, -117.877)</td><td>2021-03-12T06:31:36.000+0000</td></tr><tr><td>3695</td><td>Venezuela</td><td>List(-22.6504, -118.144)</td><td>2021-10-07T13:58:57.000+0000</td></tr><tr><td>3918</td><td>Belgium</td><td>List(-51.5221, -27.8373)</td><td>2021-03-07T23:40:40.000+0000</td></tr><tr><td>6147</td><td>Bolivia</td><td>List(-67.7278, -174.505)</td><td>2022-08-11T20:24:45.000+0000</td></tr><tr><td>8194</td><td>Algeria</td><td>List(-89.5173, -179.689)</td><td>2018-12-16T10:25:04.000+0000</td></tr><tr><td>9405</td><td>Andorra</td><td>List(-84.7363, -179.087)</td><td>2022-04-04T04:11:10.000+0000</td></tr><tr><td>10580</td><td>Cameroon</td><td>List(-46.4736, -131.272)</td><td>2018-01-18T11:44:48.000+0000</td></tr><tr><td>9749</td><td>Tunisia</td><td>List(-44.6516, -5.39518)</td><td>2022-02-06T22:14:06.000+0000</td></tr><tr><td>4459</td><td>Algeria</td><td>List(-72.3958, -164.414)</td><td>2021-09-14T03:32:58.000+0000</td></tr><tr><td>2254</td><td>Slovenia</td><td>List(-29.0643, -36.5475)</td><td>2018-09-10T02:59:20.000+0000</td></tr><tr><td>4678</td><td>Morocco</td><td>List(-62.7152, -8.81515)</td><td>2018-10-20T11:31:51.000+0000</td></tr><tr><td>7689</td><td>Algeria</td><td>List(-89.5173, -179.689)</td><td>2020-07-19T21:28:10.000+0000</td></tr><tr><td>8795</td><td>Argentina</td><td>List(-89.63, -179.022)</td><td>2020-12-31T20:02:40.000+0000</td></tr><tr><td>7534</td><td>Algeria</td><td>List(-86.4791, -169.547)</td><td>2022-09-10T16:36:49.000+0000</td></tr><tr><td>7057</td><td>Mongolia</td><td>List(-60.6942, -125.106)</td><td>2020-11-13T07:13:30.000+0000</td></tr><tr><td>6266</td><td>Argentina</td><td>List(-89.63, -179.022)</td><td>2022-02-28T18:16:08.000+0000</td></tr><tr><td>4275</td><td>Bahamas</td><td>List(-64.3819, -42.3103)</td><td>2022-10-01T07:55:59.000+0000</td></tr><tr><td>2662</td><td>Belgium</td><td>List(-73.6491, -136.57)</td><td>2022-06-03T12:06:01.000+0000</td></tr><tr><td>7232</td><td>Sweden</td><td>List(86.6392, -140.982)</td><td>2020-05-17T23:58:46.000+0000</td></tr><tr><td>9504</td><td>Belize</td><td>List(-66.8221, 67.7029)</td><td>2018-05-03T05:30:03.000+0000</td></tr><tr><td>8289</td><td>Morocco</td><td>List(-37.8103, 37.5739)</td><td>2017-12-07T02:38:08.000+0000</td></tr><tr><td>4159</td><td>Belize</td><td>List(-88.6506, -120.682)</td><td>2022-09-09T12:08:59.000+0000</td></tr><tr><td>2227</td><td>Aruba</td><td>List(-71.5025, -179.257)</td><td>2020-07-01T01:42:01.000+0000</td></tr><tr><td>5211</td><td>Hungary</td><td>List(-69.6437, -165.918)</td><td>2021-07-16T08:24:11.000+0000</td></tr><tr><td>4741</td><td>Belgium</td><td>List(78.7424, -158.436)</td><td>2020-05-23T01:44:05.000+0000</td></tr><tr><td>4215</td><td>Cyprus</td><td>List(-52.0459, -123.666)</td><td>2018-03-03T20:47:57.000+0000</td></tr><tr><td>7033</td><td>Belarus</td><td>List(-2.60513, 159.898)</td><td>2021-12-19T14:13:10.000+0000</td></tr><tr><td>10826</td><td>Jersey</td><td>List(44.4191, 30.4447)</td><td>2021-05-01T00:33:28.000+0000</td></tr><tr><td>8468</td><td>Algeria</td><td>List(-88.355, -96.0131)</td><td>2018-11-07T14:07:07.000+0000</td></tr><tr><td>4554</td><td>Namibia</td><td>List(-26.5464, 63.4702)</td><td>2018-09-15T06:54:36.000+0000</td></tr><tr><td>8359</td><td>Belize</td><td>List(-80.3079, -171.244)</td><td>2020-07-16T20:24:58.000+0000</td></tr><tr><td>8339</td><td>Djibouti</td><td>List(32.1883, -75.976)</td><td>2018-09-02T14:07:26.000+0000</td></tr><tr><td>8371</td><td>Algeria</td><td>List(-74.408, -178.774)</td><td>2017-12-31T10:41:46.000+0000</td></tr><tr><td>8531</td><td>Guyana</td><td>List(0.125052, -20.8616)</td><td>2019-03-19T23:30:15.000+0000</td></tr><tr><td>7942</td><td>Ireland</td><td>List(-64.6662, 102.771)</td><td>2018-11-15T10:44:45.000+0000</td></tr><tr><td>2239</td><td>Eritrea</td><td>List(-54.4889, -141.406)</td><td>2019-06-16T07:19:57.000+0000</td></tr><tr><td>9986</td><td>Algeria</td><td>List(-74.7055, -177.87)</td><td>2018-11-27T03:44:01.000+0000</td></tr><tr><td>1515</td><td>Egypt</td><td>List(-72.9292, -118.487)</td><td>2022-02-23T07:19:29.000+0000</td></tr><tr><td>5303</td><td>Bahrain</td><td>List(-19.1403, -164.987)</td><td>2020-08-27T19:51:06.000+0000</td></tr><tr><td>8269</td><td>Bahamas</td><td>List(15.8561, -61.9993)</td><td>2021-04-06T06:17:05.000+0000</td></tr><tr><td>8759</td><td>Jamaica</td><td>List(13.0697, -91.4079)</td><td>2021-01-31T09:35:08.000+0000</td></tr><tr><td>10903</td><td>Aruba</td><td>List(-51.2174, -166.894)</td><td>2022-09-24T15:08:40.000+0000</td></tr><tr><td>9660</td><td>Ireland</td><td>List(71.6743, 31.6639)</td><td>2021-06-24T01:19:51.000+0000</td></tr><tr><td>17</td><td>Lithuania</td><td>List(-1.51818, 107.633)</td><td>2021-07-05T18:26:56.000+0000</td></tr><tr><td>7420</td><td>Uganda</td><td>List(-46.8337, 96.8292)</td><td>2022-06-01T08:22:27.000+0000</td></tr><tr><td>4055</td><td>Georgia</td><td>List(16.8902, -123.373)</td><td>2021-09-23T06:42:16.000+0000</td></tr><tr><td>7504</td><td>Albania</td><td>List(-89.9787, -173.293)</td><td>2018-03-09T01:42:05.000+0000</td></tr><tr><td>2720</td><td>Belgium</td><td>List(-73.6491, -136.57)</td><td>2022-01-11T00:50:56.000+0000</td></tr><tr><td>1743</td><td>Indonesia</td><td>List(49.4155, 104.425)</td><td>2021-03-03T02:29:53.000+0000</td></tr><tr><td>423</td><td>Albania</td><td>List(-87.2, -177.109)</td><td>2021-06-11T01:38:37.000+0000</td></tr><tr><td>6817</td><td>Kuwait</td><td>List(-30.8649, 104.405)</td><td>2021-03-24T13:58:57.000+0000</td></tr><tr><td>8</td><td>Albania</td><td>List(-88.8298, -170.188)</td><td>2019-09-20T10:00:31.000+0000</td></tr><tr><td>9977</td><td>Egypt</td><td>List(-29.5615, -121.487)</td><td>2020-03-31T22:25:18.000+0000</td></tr><tr><td>858</td><td>Albania</td><td>List(-87.2, -177.109)</td><td>2021-08-19T05:36:37.000+0000</td></tr><tr><td>7618</td><td>Albania</td><td>List(-87.2, -177.109)</td><td>2019-02-22T04:51:26.000+0000</td></tr><tr><td>6448</td><td>Chile</td><td>List(-77.1693, -110.98)</td><td>2021-06-10T20:08:18.000+0000</td></tr><tr><td>8328</td><td>Albania</td><td>List(-87.2, -177.109)</td><td>2018-02-26T03:52:48.000+0000</td></tr><tr><td>212</td><td>Fiji</td><td>List(-16.9141, 4.27975)</td><td>2020-10-24T01:39:17.000+0000</td></tr></tbody></table></div>"
      ]
     },
     "metadata": {
      "application/vnd.databricks.v1+output": {
       "addedWidgets": {},
       "aggData": [],
       "aggError": "",
       "aggOverflow": false,
       "aggSchema": [],
       "aggSeriesLimitReached": false,
       "aggType": "",
       "arguments": {},
       "columnCustomDisplayInfos": {},
       "data": [
        [
         7973,
         "Saint Kitts and Nevis",
         [
          -68.0247,
          59.5982
         ],
         "2021-11-14T10:16:04.000+0000"
        ],
        [
         5668,
         "Slovakia (Slovak Republic)",
         [
          8.92926,
          -12.1636
         ],
         "2019-04-30T16:25:13.000+0000"
        ],
        [
         10962,
         "Saint Kitts and Nevis",
         [
          -27.3474,
          -162.83
         ],
         "2022-04-28T18:49:25.000+0000"
        ],
        [
         2644,
         "Afghanistan",
         [
          -75.7662,
          -171.892
         ],
         "2020-08-13T14:26:22.000+0000"
        ],
        [
         4495,
         "French Polynesia",
         [
          -59.1849,
          -77.2275
         ],
         "2018-05-18T15:10:24.000+0000"
        ],
        [
         10619,
         "Saint Helena",
         [
          -68.9094,
          121.026
         ],
         "2022-09-29T00:05:47.000+0000"
        ],
        [
         8695,
         "Bouvet Island (Bouvetoya)",
         [
          -84.3984,
          -144.933
         ],
         "2021-01-14T01:06:27.000+0000"
        ],
        [
         2377,
         "Burkina Faso",
         [
          38.2875,
          -173.383
         ],
         "2021-10-29T02:25:35.000+0000"
        ],
        [
         10846,
         "United States of America",
         [
          38.3898,
          62.1414
         ],
         "2017-10-23T14:20:19.000+0000"
        ],
        [
         3798,
         "Afghanistan",
         [
          -88.5478,
          -174.971
         ],
         "2018-04-13T02:57:54.000+0000"
        ],
        [
         9245,
         "American Samoa",
         [
          -81.8896,
          -153.897
         ],
         "2020-07-01T11:42:57.000+0000"
        ],
        [
         1644,
         "Falkland Islands (Malvinas)",
         [
          -47.1523,
          -151.883
         ],
         "2017-11-15T15:58:54.000+0000"
        ],
        [
         7216,
         "British Indian Ocean Territory (Chagos Archipelago)",
         [
          -86.5675,
          -149.565
         ],
         "2020-08-19T00:32:59.000+0000"
        ],
        [
         5285,
         "French Polynesia",
         [
          -27.2307,
          -7.64365
         ],
         "2018-03-21T13:20:42.000+0000"
        ],
        [
         674,
         "New Caledonia",
         [
          81.1893,
          -112.978
         ],
         "2020-01-16T04:13:22.000+0000"
        ],
        [
         8161,
         "British Virgin Islands",
         [
          -59.1209,
          -93.9878
         ],
         "2022-01-08T23:39:59.000+0000"
        ],
        [
         3583,
         "French Polynesia",
         [
          -84.8365,
          -122.171
         ],
         "2018-05-20T00:19:26.000+0000"
        ],
        [
         9784,
         "Bouvet Island (Bouvetoya)",
         [
          -88.516,
          -178.811
         ],
         "2022-02-25T12:30:26.000+0000"
        ],
        [
         8110,
         "Afghanistan",
         [
          -87.8179,
          -178.525
         ],
         "2020-09-19T00:49:06.000+0000"
        ],
        [
         1783,
         "Costa Rica",
         [
          -25.6124,
          -79.4675
         ],
         "2019-09-23T05:59:45.000+0000"
        ],
        [
         3471,
         "Switzerland",
         [
          89.7829,
          -112.862
         ],
         "2018-10-04T06:04:30.000+0000"
        ],
        [
         355,
         "American Samoa",
         [
          -86.4433,
          -178.772
         ],
         "2019-12-02T23:33:24.000+0000"
        ],
        [
         8943,
         "American Samoa",
         [
          -68.8926,
          -164.968
         ],
         "2019-06-20T17:13:03.000+0000"
        ],
        [
         1199,
         "Netherlands",
         [
          -87.8894,
          159.146
         ],
         "2019-03-25T21:22:21.000+0000"
        ],
        [
         7669,
         "Afghanistan",
         [
          -87.8179,
          -178.525
         ],
         "2022-07-22T15:42:22.000+0000"
        ],
        [
         6050,
         "Bosnia and Herzegovina",
         [
          -85.2391,
          -26.6006
         ],
         "2018-10-25T00:03:16.000+0000"
        ],
        [
         5357,
         "Antigua and Barbuda",
         [
          56.8317,
          90.6551
         ],
         "2018-03-01T04:28:29.000+0000"
        ],
        [
         10283,
         "Montenegro",
         [
          16.4155,
          52.0849
         ],
         "2022-03-25T17:53:03.000+0000"
        ],
        [
         1125,
         "Bouvet Island (Bouvetoya)",
         [
          -18.0738,
          -83.9147
         ],
         "2018-07-02T10:40:58.000+0000"
        ],
        [
         9421,
         "British Virgin Islands",
         [
          -69.0434,
          -156.04
         ],
         "2019-08-03T09:35:53.000+0000"
        ],
        [
         2505,
         "French Polynesia",
         [
          -55.6353,
          -80.5324
         ],
         "2019-04-28T11:42:47.000+0000"
        ],
        [
         9732,
         "United States Minor Outlying Islands",
         [
          -31.2934,
          -154.838
         ],
         "2021-03-09T15:16:13.000+0000"
        ],
        [
         10775,
         "Armenia",
         [
          -82.9685,
          -178.095
         ],
         "2022-05-26T05:21:29.000+0000"
        ],
        [
         9324,
         "Barbados",
         [
          66.9839,
          -57.7807
         ],
         "2019-02-24T02:25:15.000+0000"
        ],
        [
         8037,
         "Andorra",
         [
          -84.7363,
          -179.087
         ],
         "2018-11-25T11:12:37.000+0000"
        ],
        [
         10708,
         "Ecuador",
         [
          -52.3057,
          -140.529
         ],
         "2019-12-09T14:31:34.000+0000"
        ],
        [
         6213,
         "Albania",
         [
          -62.9651,
          -164.763
         ],
         "2022-04-07T11:36:09.000+0000"
        ],
        [
         6569,
         "Algeria",
         [
          -83.1105,
          -161.928
         ],
         "2022-07-11T06:20:34.000+0000"
        ],
        [
         7679,
         "Algeria",
         [
          -89.5173,
          -179.689
         ],
         "2019-08-07T19:34:57.000+0000"
        ],
        [
         6755,
         "Algeria",
         [
          -86.4791,
          -169.547
         ],
         "2022-08-20T07:15:07.000+0000"
        ],
        [
         3421,
         "Andorra",
         [
          -87.1113,
          -159.587
         ],
         "2022-03-13T09:30:31.000+0000"
        ],
        [
         4494,
         "Bahamas",
         [
          -75.4909,
          -179.908
         ],
         "2021-11-01T16:12:22.000+0000"
        ],
        [
         3709,
         "Andorra",
         [
          -87.1113,
          -159.587
         ],
         "2018-11-15T08:35:23.000+0000"
        ],
        [
         5736,
         "Argentina",
         [
          -87.2245,
          -100.213
         ],
         "2019-06-16T03:40:54.000+0000"
        ],
        [
         7823,
         "Algeria",
         [
          -89.5173,
          -179.689
         ],
         "2021-07-09T04:30:30.000+0000"
        ],
        [
         7981,
         "Mauritania",
         [
          23.151,
          29.5156
         ],
         "2018-03-18T02:04:23.000+0000"
        ],
        [
         4965,
         "Gibraltar",
         [
          -7.32487,
          -114.681
         ],
         "2021-05-18T00:18:38.000+0000"
        ],
        [
         4594,
         "Barbados",
         [
          -71.9711,
          -117.877
         ],
         "2021-03-12T06:31:36.000+0000"
        ],
        [
         3695,
         "Venezuela",
         [
          -22.6504,
          -118.144
         ],
         "2021-10-07T13:58:57.000+0000"
        ],
        [
         3918,
         "Belgium",
         [
          -51.5221,
          -27.8373
         ],
         "2021-03-07T23:40:40.000+0000"
        ],
        [
         6147,
         "Bolivia",
         [
          -67.7278,
          -174.505
         ],
         "2022-08-11T20:24:45.000+0000"
        ],
        [
         8194,
         "Algeria",
         [
          -89.5173,
          -179.689
         ],
         "2018-12-16T10:25:04.000+0000"
        ],
        [
         9405,
         "Andorra",
         [
          -84.7363,
          -179.087
         ],
         "2022-04-04T04:11:10.000+0000"
        ],
        [
         10580,
         "Cameroon",
         [
          -46.4736,
          -131.272
         ],
         "2018-01-18T11:44:48.000+0000"
        ],
        [
         9749,
         "Tunisia",
         [
          -44.6516,
          -5.39518
         ],
         "2022-02-06T22:14:06.000+0000"
        ],
        [
         4459,
         "Algeria",
         [
          -72.3958,
          -164.414
         ],
         "2021-09-14T03:32:58.000+0000"
        ],
        [
         2254,
         "Slovenia",
         [
          -29.0643,
          -36.5475
         ],
         "2018-09-10T02:59:20.000+0000"
        ],
        [
         4678,
         "Morocco",
         [
          -62.7152,
          -8.81515
         ],
         "2018-10-20T11:31:51.000+0000"
        ],
        [
         7689,
         "Algeria",
         [
          -89.5173,
          -179.689
         ],
         "2020-07-19T21:28:10.000+0000"
        ],
        [
         8795,
         "Argentina",
         [
          -89.63,
          -179.022
         ],
         "2020-12-31T20:02:40.000+0000"
        ],
        [
         7534,
         "Algeria",
         [
          -86.4791,
          -169.547
         ],
         "2022-09-10T16:36:49.000+0000"
        ],
        [
         7057,
         "Mongolia",
         [
          -60.6942,
          -125.106
         ],
         "2020-11-13T07:13:30.000+0000"
        ],
        [
         6266,
         "Argentina",
         [
          -89.63,
          -179.022
         ],
         "2022-02-28T18:16:08.000+0000"
        ],
        [
         4275,
         "Bahamas",
         [
          -64.3819,
          -42.3103
         ],
         "2022-10-01T07:55:59.000+0000"
        ],
        [
         2662,
         "Belgium",
         [
          -73.6491,
          -136.57
         ],
         "2022-06-03T12:06:01.000+0000"
        ],
        [
         7232,
         "Sweden",
         [
          86.6392,
          -140.982
         ],
         "2020-05-17T23:58:46.000+0000"
        ],
        [
         9504,
         "Belize",
         [
          -66.8221,
          67.7029
         ],
         "2018-05-03T05:30:03.000+0000"
        ],
        [
         8289,
         "Morocco",
         [
          -37.8103,
          37.5739
         ],
         "2017-12-07T02:38:08.000+0000"
        ],
        [
         4159,
         "Belize",
         [
          -88.6506,
          -120.682
         ],
         "2022-09-09T12:08:59.000+0000"
        ],
        [
         2227,
         "Aruba",
         [
          -71.5025,
          -179.257
         ],
         "2020-07-01T01:42:01.000+0000"
        ],
        [
         5211,
         "Hungary",
         [
          -69.6437,
          -165.918
         ],
         "2021-07-16T08:24:11.000+0000"
        ],
        [
         4741,
         "Belgium",
         [
          78.7424,
          -158.436
         ],
         "2020-05-23T01:44:05.000+0000"
        ],
        [
         4215,
         "Cyprus",
         [
          -52.0459,
          -123.666
         ],
         "2018-03-03T20:47:57.000+0000"
        ],
        [
         7033,
         "Belarus",
         [
          -2.60513,
          159.898
         ],
         "2021-12-19T14:13:10.000+0000"
        ],
        [
         10826,
         "Jersey",
         [
          44.4191,
          30.4447
         ],
         "2021-05-01T00:33:28.000+0000"
        ],
        [
         8468,
         "Algeria",
         [
          -88.355,
          -96.0131
         ],
         "2018-11-07T14:07:07.000+0000"
        ],
        [
         4554,
         "Namibia",
         [
          -26.5464,
          63.4702
         ],
         "2018-09-15T06:54:36.000+0000"
        ],
        [
         8359,
         "Belize",
         [
          -80.3079,
          -171.244
         ],
         "2020-07-16T20:24:58.000+0000"
        ],
        [
         8339,
         "Djibouti",
         [
          32.1883,
          -75.976
         ],
         "2018-09-02T14:07:26.000+0000"
        ],
        [
         8371,
         "Algeria",
         [
          -74.408,
          -178.774
         ],
         "2017-12-31T10:41:46.000+0000"
        ],
        [
         8531,
         "Guyana",
         [
          0.125052,
          -20.8616
         ],
         "2019-03-19T23:30:15.000+0000"
        ],
        [
         7942,
         "Ireland",
         [
          -64.6662,
          102.771
         ],
         "2018-11-15T10:44:45.000+0000"
        ],
        [
         2239,
         "Eritrea",
         [
          -54.4889,
          -141.406
         ],
         "2019-06-16T07:19:57.000+0000"
        ],
        [
         9986,
         "Algeria",
         [
          -74.7055,
          -177.87
         ],
         "2018-11-27T03:44:01.000+0000"
        ],
        [
         1515,
         "Egypt",
         [
          -72.9292,
          -118.487
         ],
         "2022-02-23T07:19:29.000+0000"
        ],
        [
         5303,
         "Bahrain",
         [
          -19.1403,
          -164.987
         ],
         "2020-08-27T19:51:06.000+0000"
        ],
        [
         8269,
         "Bahamas",
         [
          15.8561,
          -61.9993
         ],
         "2021-04-06T06:17:05.000+0000"
        ],
        [
         8759,
         "Jamaica",
         [
          13.0697,
          -91.4079
         ],
         "2021-01-31T09:35:08.000+0000"
        ],
        [
         10903,
         "Aruba",
         [
          -51.2174,
          -166.894
         ],
         "2022-09-24T15:08:40.000+0000"
        ],
        [
         9660,
         "Ireland",
         [
          71.6743,
          31.6639
         ],
         "2021-06-24T01:19:51.000+0000"
        ],
        [
         17,
         "Lithuania",
         [
          -1.51818,
          107.633
         ],
         "2021-07-05T18:26:56.000+0000"
        ],
        [
         7420,
         "Uganda",
         [
          -46.8337,
          96.8292
         ],
         "2022-06-01T08:22:27.000+0000"
        ],
        [
         4055,
         "Georgia",
         [
          16.8902,
          -123.373
         ],
         "2021-09-23T06:42:16.000+0000"
        ],
        [
         7504,
         "Albania",
         [
          -89.9787,
          -173.293
         ],
         "2018-03-09T01:42:05.000+0000"
        ],
        [
         2720,
         "Belgium",
         [
          -73.6491,
          -136.57
         ],
         "2022-01-11T00:50:56.000+0000"
        ],
        [
         1743,
         "Indonesia",
         [
          49.4155,
          104.425
         ],
         "2021-03-03T02:29:53.000+0000"
        ],
        [
         423,
         "Albania",
         [
          -87.2,
          -177.109
         ],
         "2021-06-11T01:38:37.000+0000"
        ],
        [
         6817,
         "Kuwait",
         [
          -30.8649,
          104.405
         ],
         "2021-03-24T13:58:57.000+0000"
        ],
        [
         8,
         "Albania",
         [
          -88.8298,
          -170.188
         ],
         "2019-09-20T10:00:31.000+0000"
        ],
        [
         9977,
         "Egypt",
         [
          -29.5615,
          -121.487
         ],
         "2020-03-31T22:25:18.000+0000"
        ],
        [
         858,
         "Albania",
         [
          -87.2,
          -177.109
         ],
         "2021-08-19T05:36:37.000+0000"
        ],
        [
         7618,
         "Albania",
         [
          -87.2,
          -177.109
         ],
         "2019-02-22T04:51:26.000+0000"
        ],
        [
         6448,
         "Chile",
         [
          -77.1693,
          -110.98
         ],
         "2021-06-10T20:08:18.000+0000"
        ],
        [
         8328,
         "Albania",
         [
          -87.2,
          -177.109
         ],
         "2018-02-26T03:52:48.000+0000"
        ],
        [
         212,
         "Fiji",
         [
          -16.9141,
          4.27975
         ],
         "2020-10-24T01:39:17.000+0000"
        ]
       ],
       "datasetInfos": [],
       "dbfsResultPath": null,
       "isJsonSchema": true,
       "metadata": {},
       "overflow": false,
       "plotOptions": {
        "customPlotOptions": {},
        "displayType": "table",
        "pivotAggregation": null,
        "pivotColumns": null,
        "xColumns": null,
        "yColumns": null
       },
       "removedWidgets": [],
       "schema": [
        {
         "metadata": "{}",
         "name": "ind",
         "type": "\"long\""
        },
        {
         "metadata": "{}",
         "name": "country",
         "type": "\"string\""
        },
        {
         "metadata": "{}",
         "name": "coordinates",
         "type": "{\"type\":\"array\",\"elementType\":\"double\",\"containsNull\":true}"
        },
        {
         "metadata": "{}",
         "name": "timestamp",
         "type": "\"timestamp\""
        }
       ],
       "type": "table"
      }
     },
     "output_type": "display_data"
    }
   ],
   "source": [
    "#df_geo data clean\n",
    "df_geo = df_geo.dropDuplicates()\n",
    "df_geo = df_geo.withColumn(\"coordinates\", array(col(\"latitude\"), col(\"longitude\")))\n",
    "df_geo = df_geo.drop('latitude', 'longitude')\n",
    "df_geo = df_geo.withColumn(\"timestamp\", df_geo[\"timestamp\"].cast(TimestampType()))\n",
    "df_geo = df_geo.select(\"ind\", \"country\", \"coordinates\", \"timestamp\")\n",
    "display(df_geo)"
   ]
  },
  {
   "cell_type": "markdown",
   "metadata": {
    "application/vnd.databricks.v1+cell": {
     "cellMetadata": {
      "byteLimit": 2048000,
      "rowLimit": 10000
     },
     "inputWidgets": {},
     "nuid": "864d7ef1-ac13-49ae-b4a9-7b790718ccb0",
     "showTitle": false,
     "title": ""
    }
   },
   "source": [
    "## Data cleaning for df_user\n",
    "- Remove duplicate rows in the dataframe\n",
    "- Create new column user_name by combining the first_name and last_name column and deleting these two columns\n",
    "- Convert the date_joined column into a timestamp data type\n",
    "- Re-order the column names in the dataframe"
   ]
  },
  {
   "cell_type": "code",
   "execution_count": 0,
   "metadata": {
    "application/vnd.databricks.v1+cell": {
     "cellMetadata": {
      "byteLimit": 2048000,
      "rowLimit": 10000
     },
     "inputWidgets": {},
     "nuid": "859d49ab-a545-4b00-b7e1-6ab877e82f9b",
     "showTitle": false,
     "title": ""
    }
   },
   "outputs": [
    {
     "output_type": "display_data",
     "data": {
      "text/html": [
       "<style scoped>\n",
       "  .table-result-container {\n",
       "    max-height: 300px;\n",
       "    overflow: auto;\n",
       "  }\n",
       "  table, th, td {\n",
       "    border: 1px solid black;\n",
       "    border-collapse: collapse;\n",
       "  }\n",
       "  th, td {\n",
       "    padding: 5px;\n",
       "  }\n",
       "  th {\n",
       "    text-align: left;\n",
       "  }\n",
       "</style><div class='table-result-container'><table class='table-result'><thead style='background-color: white'><tr><th>ind</th><th>user_name</th><th>age</th><th>date_joined</th></tr></thead><tbody><tr><td>8110</td><td>Andrew Alexander</td><td>20</td><td>2015-11-20T09:08:00.000+0000</td></tr><tr><td>6266</td><td>Albert Allison</td><td>20</td><td>2015-10-21T22:27:27.000+0000</td></tr><tr><td>10580</td><td>Amanda Anderson</td><td>26</td><td>2016-03-11T23:42:05.000+0000</td></tr><tr><td>1644</td><td>Douglas Griffin</td><td>37</td><td>2016-05-18T06:56:32.000+0000</td></tr><tr><td>4678</td><td>Zachary Elliott</td><td>55</td><td>2016-07-26T23:44:27.000+0000</td></tr><tr><td>10826</td><td>Jeremy Peterson</td><td>39</td><td>2016-01-27T22:19:07.000+0000</td></tr><tr><td>1199</td><td>Christopher Adams</td><td>42</td><td>2016-06-22T14:06:33.000+0000</td></tr><tr><td>2377</td><td>Kathleen Alvarado</td><td>60</td><td>2016-07-29T12:38:45.000+0000</td></tr><tr><td>8037</td><td>Aaron Alexander</td><td>21</td><td>2015-10-25T07:36:08.000+0000</td></tr><tr><td>9784</td><td>Annette Andrews</td><td>28</td><td>2015-12-20T22:09:10.000+0000</td></tr><tr><td>3798</td><td>Alexandria Alvarado</td><td>20</td><td>2015-10-23T04:13:23.000+0000</td></tr><tr><td>4159</td><td>Darryl Alexander</td><td>25</td><td>2015-12-02T11:20:58.000+0000</td></tr><tr><td>7669</td><td>Andrew Alexander</td><td>20</td><td>2015-11-20T09:08:00.000+0000</td></tr><tr><td>9986</td><td>Alexandra Austin</td><td>22</td><td>2015-11-06T05:05:43.000+0000</td></tr><tr><td>9660</td><td>Lauren Patterson</td><td>23</td><td>2016-03-10T06:28:23.000+0000</td></tr><tr><td>9405</td><td>Aaron Alexander</td><td>21</td><td>2015-10-25T07:36:08.000+0000</td></tr><tr><td>212</td><td>Angela Carpenter</td><td>28</td><td>2016-08-25T21:46:59.000+0000</td></tr><tr><td>8468</td><td>Christine Cortez</td><td>23</td><td>2015-12-01T18:15:02.000+0000</td></tr><tr><td>8371</td><td>Benjamin Adams</td><td>24</td><td>2015-10-25T03:23:53.000+0000</td></tr><tr><td>8795</td><td>Albert Allison</td><td>20</td><td>2015-10-21T22:27:27.000+0000</td></tr><tr><td>3421</td><td>Angela Andrews</td><td>20</td><td>2015-10-28T21:44:56.000+0000</td></tr><tr><td>8328</td><td>Aaron Anderson</td><td>21</td><td>2015-10-24T05:35:27.000+0000</td></tr><tr><td>7618</td><td>Aaron Anderson</td><td>21</td><td>2015-10-24T05:35:27.000+0000</td></tr><tr><td>4741</td><td>Melissa Rowland</td><td>41</td><td>2016-06-23T07:44:01.000+0000</td></tr><tr><td>5211</td><td>Christopher Keller</td><td>43</td><td>2016-02-27T17:57:17.000+0000</td></tr><tr><td>10283</td><td>Shelley Jefferson</td><td>42</td><td>2016-12-09T08:27:49.000+0000</td></tr><tr><td>10903</td><td>Jennifer Arellano</td><td>28</td><td>2015-12-18T10:50:10.000+0000</td></tr><tr><td>1515</td><td>Jackie Buchanan</td><td>28</td><td>2017-04-21T01:59:00.000+0000</td></tr><tr><td>4459</td><td>Alexander Adams</td><td>32</td><td>2015-10-28T15:48:24.000+0000</td></tr><tr><td>3695</td><td>William Freeman</td><td>35</td><td>2017-07-18T18:13:08.000+0000</td></tr><tr><td>4594</td><td>Maria Robertson</td><td>57</td><td>2017-04-17T11:06:29.000+0000</td></tr><tr><td>10619</td><td>Sherry Thompson</td><td>42</td><td>2016-07-22T10:18:12.000+0000</td></tr><tr><td>2662</td><td>Courtney Berg</td><td>20</td><td>2015-11-30T10:24:37.000+0000</td></tr><tr><td>10708</td><td>John Fleming</td><td>31</td><td>2015-12-23T16:03:26.000+0000</td></tr><tr><td>9504</td><td>Kayla Hamilton</td><td>24</td><td>2015-11-05T03:10:40.000+0000</td></tr><tr><td>8339</td><td>Ashley Wilson</td><td>55</td><td>2016-01-02T07:26:05.000+0000</td></tr><tr><td>4554</td><td>Melissa Harris</td><td>59</td><td>2016-12-22T14:33:38.000+0000</td></tr><tr><td>6569</td><td>Cynthia Adams</td><td>20</td><td>2016-01-28T01:03:35.000+0000</td></tr><tr><td>6147</td><td>Angela Flores</td><td>28</td><td>2015-10-29T08:51:34.000+0000</td></tr><tr><td>2254</td><td>Nicholas Bates</td><td>20</td><td>2017-09-21T16:31:15.000+0000</td></tr><tr><td>7420</td><td>Lisa Faulkner</td><td>37</td><td>2016-08-09T10:50:36.000+0000</td></tr><tr><td>10846</td><td>Robin Morris</td><td>33</td><td>2016-12-02T14:46:50.000+0000</td></tr><tr><td>10775</td><td>Aaron Bailey</td><td>20</td><td>2015-11-02T04:40:42.000+0000</td></tr><tr><td>5303</td><td>Carlos Estrada</td><td>22</td><td>2016-02-09T17:01:38.000+0000</td></tr><tr><td>17</td><td>Catherine Bowen</td><td>55</td><td>2017-05-05T14:00:28.000+0000</td></tr><tr><td>8289</td><td>Brenda Hodges</td><td>21</td><td>2017-06-27T01:28:42.000+0000</td></tr><tr><td>2720</td><td>Courtney Berg</td><td>20</td><td>2015-11-30T10:24:37.000+0000</td></tr><tr><td>5285</td><td>Carol Stewart</td><td>45</td><td>2016-03-13T00:09:23.000+0000</td></tr><tr><td>7942</td><td>Tiffany Heath</td><td>59</td><td>2016-06-02T08:15:17.000+0000</td></tr><tr><td>6817</td><td>Daniel Hopkins</td><td>28</td><td>2017-04-25T04:52:52.000+0000</td></tr><tr><td>4215</td><td>Jeffrey Gomez</td><td>36</td><td>2016-02-05T15:30:20.000+0000</td></tr><tr><td>8359</td><td>Chelsea Brown</td><td>30</td><td>2016-05-14T06:22:36.000+0000</td></tr><tr><td>2505</td><td>Kristen Arnold</td><td>32</td><td>2017-01-18T06:33:51.000+0000</td></tr><tr><td>8161</td><td>James Goodwin</td><td>20</td><td>2016-01-24T09:18:29.000+0000</td></tr><tr><td>423</td><td>Aaron Anderson</td><td>21</td><td>2015-10-24T05:35:27.000+0000</td></tr><tr><td>355</td><td>Alexandra Allen</td><td>20</td><td>2015-10-23T13:07:00.000+0000</td></tr><tr><td>7981</td><td>Marcus Sparks</td><td>34</td><td>2016-12-24T21:02:56.000+0000</td></tr><tr><td>858</td><td>Aaron Anderson</td><td>21</td><td>2015-10-24T05:35:27.000+0000</td></tr><tr><td>6213</td><td>Amanda Carter</td><td>23</td><td>2015-11-30T08:07:07.000+0000</td></tr><tr><td>3709</td><td>Angela Andrews</td><td>20</td><td>2015-10-28T21:44:56.000+0000</td></tr><tr><td>1783</td><td>Briana Bryant</td><td>23</td><td>2016-03-30T16:14:41.000+0000</td></tr><tr><td>8759</td><td>Brian Herrera</td><td>45</td><td>2016-01-31T07:20:27.000+0000</td></tr><tr><td>4494</td><td>Allison Adams</td><td>22</td><td>2015-11-30T10:51:59.000+0000</td></tr><tr><td>4275</td><td>Daniel Aguirre</td><td>38</td><td>2015-12-23T03:37:21.000+0000</td></tr><tr><td>674</td><td>Timothy Ward</td><td>37</td><td>2016-10-06T22:01:38.000+0000</td></tr><tr><td>1743</td><td>Emily Freeman</td><td>46</td><td>2017-03-31T11:14:54.000+0000</td></tr><tr><td>1125</td><td>Karen Hill</td><td>34</td><td>2016-10-29T04:19:15.000+0000</td></tr><tr><td>8194</td><td>Aaron Abbott</td><td>20</td><td>2015-10-23T16:08:41.000+0000</td></tr><tr><td>8269</td><td>Karen Graham</td><td>20</td><td>2016-08-06T04:17:55.000+0000</td></tr><tr><td>8531</td><td>Jesse Torres</td><td>22</td><td>2017-07-25T09:49:49.000+0000</td></tr><tr><td>3918</td><td>Emily Arroyo</td><td>29</td><td>2015-11-11T09:20:35.000+0000</td></tr><tr><td>7232</td><td>Don Johnson</td><td>30</td><td>2017-08-23T23:49:00.000+0000</td></tr><tr><td>9732</td><td>Gregory Bell</td><td>30</td><td>2017-10-10T11:30:57.000+0000</td></tr><tr><td>4965</td><td>Laura Lopez</td><td>51</td><td>2016-09-27T09:30:39.000+0000</td></tr><tr><td>9245</td><td>Angela Berg</td><td>20</td><td>2015-11-10T05:57:33.000+0000</td></tr><tr><td>6448</td><td>Devin Chaney</td><td>22</td><td>2016-04-09T18:38:22.000+0000</td></tr><tr><td>7216</td><td>April Blake</td><td>21</td><td>2015-10-28T03:16:59.000+0000</td></tr><tr><td>7504</td><td>Abigail Ali</td><td>20</td><td>2015-10-24T11:23:51.000+0000</td></tr><tr><td>7689</td><td>Aaron Abbott</td><td>20</td><td>2015-10-23T16:08:41.000+0000</td></tr><tr><td>7823</td><td>Aaron Abbott</td><td>20</td><td>2015-10-23T16:08:41.000+0000</td></tr><tr><td>7033</td><td>Wendy Jones</td><td>30</td><td>2015-12-01T13:34:35.000+0000</td></tr><tr><td>9749</td><td>Arthur Riggs</td><td>46</td><td>2016-05-01T10:44:18.000+0000</td></tr><tr><td>4055</td><td>Grant George</td><td>27</td><td>2015-11-11T01:45:05.000+0000</td></tr><tr><td>2239</td><td>Brianna Bell</td><td>28</td><td>2016-04-22T09:11:58.000+0000</td></tr><tr><td>5736</td><td>Anna Cross</td><td>38</td><td>2015-11-21T18:19:10.000+0000</td></tr><tr><td>6755</td><td>Angela Allen</td><td>20</td><td>2015-10-26T04:12:32.000+0000</td></tr><tr><td>10962</td><td>Julie Cox</td><td>23</td><td>2016-06-23T14:38:00.000+0000</td></tr><tr><td>7679</td><td>Aaron Abbott</td><td>20</td><td>2015-10-23T16:08:41.000+0000</td></tr><tr><td>5357</td><td>Casey Perry</td><td>55</td><td>2017-05-05T03:44:58.000+0000</td></tr><tr><td>9421</td><td>Amanda Allen</td><td>29</td><td>2015-10-24T02:11:21.000+0000</td></tr><tr><td>8943</td><td>Amy Andrews</td><td>23</td><td>2015-10-29T19:12:55.000+0000</td></tr><tr><td>9977</td><td>Gina Ramirez</td><td>30</td><td>2016-01-06T06:16:55.000+0000</td></tr><tr><td>7057</td><td>Jay Hampton</td><td>21</td><td>2016-05-10T01:52:46.000+0000</td></tr><tr><td>5668</td><td>Kristin Khan</td><td>20</td><td>2017-01-23T16:38:11.000+0000</td></tr><tr><td>3471</td><td>Glenda Ward</td><td>25</td><td>2017-05-20T00:38:48.000+0000</td></tr><tr><td>7534</td><td>Angela Allen</td><td>20</td><td>2015-10-26T04:12:32.000+0000</td></tr><tr><td>8</td><td>Adam Acosta</td><td>20</td><td>2015-10-21T21:26:45.000+0000</td></tr><tr><td>6050</td><td>Amy Brown</td><td>34</td><td>2016-01-08T20:49:30.000+0000</td></tr><tr><td>4495</td><td>Adam Cook</td><td>39</td><td>2016-03-18T18:09:26.000+0000</td></tr><tr><td>3583</td><td>David Bell</td><td>20</td><td>2016-04-15T17:11:11.000+0000</td></tr><tr><td>2644</td><td>Amy Atkins</td><td>21</td><td>2015-10-31T07:37:40.000+0000</td></tr><tr><td>8695</td><td>Amy Brown</td><td>21</td><td>2015-11-08T16:14:16.000+0000</td></tr><tr><td>7973</td><td>David Duke</td><td>32</td><td>2016-07-29T05:30:55.000+0000</td></tr><tr><td>2227</td><td>Amy Adams</td><td>20</td><td>2015-10-24T05:05:28.000+0000</td></tr><tr><td>9324</td><td>Amy Fox</td><td>49</td><td>2017-04-13T11:19:44.000+0000</td></tr></tbody></table></div>"
      ]
     },
     "metadata": {
      "application/vnd.databricks.v1+output": {
       "addedWidgets": {},
       "aggData": [],
       "aggError": "",
       "aggOverflow": false,
       "aggSchema": [],
       "aggSeriesLimitReached": false,
       "aggType": "",
       "arguments": {},
       "columnCustomDisplayInfos": {},
       "data": [
        [
         8110,
         "Andrew Alexander",
         20,
         "2015-11-20T09:08:00.000+0000"
        ],
        [
         6266,
         "Albert Allison",
         20,
         "2015-10-21T22:27:27.000+0000"
        ],
        [
         10580,
         "Amanda Anderson",
         26,
         "2016-03-11T23:42:05.000+0000"
        ],
        [
         1644,
         "Douglas Griffin",
         37,
         "2016-05-18T06:56:32.000+0000"
        ],
        [
         4678,
         "Zachary Elliott",
         55,
         "2016-07-26T23:44:27.000+0000"
        ],
        [
         10826,
         "Jeremy Peterson",
         39,
         "2016-01-27T22:19:07.000+0000"
        ],
        [
         1199,
         "Christopher Adams",
         42,
         "2016-06-22T14:06:33.000+0000"
        ],
        [
         2377,
         "Kathleen Alvarado",
         60,
         "2016-07-29T12:38:45.000+0000"
        ],
        [
         8037,
         "Aaron Alexander",
         21,
         "2015-10-25T07:36:08.000+0000"
        ],
        [
         9784,
         "Annette Andrews",
         28,
         "2015-12-20T22:09:10.000+0000"
        ],
        [
         3798,
         "Alexandria Alvarado",
         20,
         "2015-10-23T04:13:23.000+0000"
        ],
        [
         4159,
         "Darryl Alexander",
         25,
         "2015-12-02T11:20:58.000+0000"
        ],
        [
         7669,
         "Andrew Alexander",
         20,
         "2015-11-20T09:08:00.000+0000"
        ],
        [
         9986,
         "Alexandra Austin",
         22,
         "2015-11-06T05:05:43.000+0000"
        ],
        [
         9660,
         "Lauren Patterson",
         23,
         "2016-03-10T06:28:23.000+0000"
        ],
        [
         9405,
         "Aaron Alexander",
         21,
         "2015-10-25T07:36:08.000+0000"
        ],
        [
         212,
         "Angela Carpenter",
         28,
         "2016-08-25T21:46:59.000+0000"
        ],
        [
         8468,
         "Christine Cortez",
         23,
         "2015-12-01T18:15:02.000+0000"
        ],
        [
         8371,
         "Benjamin Adams",
         24,
         "2015-10-25T03:23:53.000+0000"
        ],
        [
         8795,
         "Albert Allison",
         20,
         "2015-10-21T22:27:27.000+0000"
        ],
        [
         3421,
         "Angela Andrews",
         20,
         "2015-10-28T21:44:56.000+0000"
        ],
        [
         8328,
         "Aaron Anderson",
         21,
         "2015-10-24T05:35:27.000+0000"
        ],
        [
         7618,
         "Aaron Anderson",
         21,
         "2015-10-24T05:35:27.000+0000"
        ],
        [
         4741,
         "Melissa Rowland",
         41,
         "2016-06-23T07:44:01.000+0000"
        ],
        [
         5211,
         "Christopher Keller",
         43,
         "2016-02-27T17:57:17.000+0000"
        ],
        [
         10283,
         "Shelley Jefferson",
         42,
         "2016-12-09T08:27:49.000+0000"
        ],
        [
         10903,
         "Jennifer Arellano",
         28,
         "2015-12-18T10:50:10.000+0000"
        ],
        [
         1515,
         "Jackie Buchanan",
         28,
         "2017-04-21T01:59:00.000+0000"
        ],
        [
         4459,
         "Alexander Adams",
         32,
         "2015-10-28T15:48:24.000+0000"
        ],
        [
         3695,
         "William Freeman",
         35,
         "2017-07-18T18:13:08.000+0000"
        ],
        [
         4594,
         "Maria Robertson",
         57,
         "2017-04-17T11:06:29.000+0000"
        ],
        [
         10619,
         "Sherry Thompson",
         42,
         "2016-07-22T10:18:12.000+0000"
        ],
        [
         2662,
         "Courtney Berg",
         20,
         "2015-11-30T10:24:37.000+0000"
        ],
        [
         10708,
         "John Fleming",
         31,
         "2015-12-23T16:03:26.000+0000"
        ],
        [
         9504,
         "Kayla Hamilton",
         24,
         "2015-11-05T03:10:40.000+0000"
        ],
        [
         8339,
         "Ashley Wilson",
         55,
         "2016-01-02T07:26:05.000+0000"
        ],
        [
         4554,
         "Melissa Harris",
         59,
         "2016-12-22T14:33:38.000+0000"
        ],
        [
         6569,
         "Cynthia Adams",
         20,
         "2016-01-28T01:03:35.000+0000"
        ],
        [
         6147,
         "Angela Flores",
         28,
         "2015-10-29T08:51:34.000+0000"
        ],
        [
         2254,
         "Nicholas Bates",
         20,
         "2017-09-21T16:31:15.000+0000"
        ],
        [
         7420,
         "Lisa Faulkner",
         37,
         "2016-08-09T10:50:36.000+0000"
        ],
        [
         10846,
         "Robin Morris",
         33,
         "2016-12-02T14:46:50.000+0000"
        ],
        [
         10775,
         "Aaron Bailey",
         20,
         "2015-11-02T04:40:42.000+0000"
        ],
        [
         5303,
         "Carlos Estrada",
         22,
         "2016-02-09T17:01:38.000+0000"
        ],
        [
         17,
         "Catherine Bowen",
         55,
         "2017-05-05T14:00:28.000+0000"
        ],
        [
         8289,
         "Brenda Hodges",
         21,
         "2017-06-27T01:28:42.000+0000"
        ],
        [
         2720,
         "Courtney Berg",
         20,
         "2015-11-30T10:24:37.000+0000"
        ],
        [
         5285,
         "Carol Stewart",
         45,
         "2016-03-13T00:09:23.000+0000"
        ],
        [
         7942,
         "Tiffany Heath",
         59,
         "2016-06-02T08:15:17.000+0000"
        ],
        [
         6817,
         "Daniel Hopkins",
         28,
         "2017-04-25T04:52:52.000+0000"
        ],
        [
         4215,
         "Jeffrey Gomez",
         36,
         "2016-02-05T15:30:20.000+0000"
        ],
        [
         8359,
         "Chelsea Brown",
         30,
         "2016-05-14T06:22:36.000+0000"
        ],
        [
         2505,
         "Kristen Arnold",
         32,
         "2017-01-18T06:33:51.000+0000"
        ],
        [
         8161,
         "James Goodwin",
         20,
         "2016-01-24T09:18:29.000+0000"
        ],
        [
         423,
         "Aaron Anderson",
         21,
         "2015-10-24T05:35:27.000+0000"
        ],
        [
         355,
         "Alexandra Allen",
         20,
         "2015-10-23T13:07:00.000+0000"
        ],
        [
         7981,
         "Marcus Sparks",
         34,
         "2016-12-24T21:02:56.000+0000"
        ],
        [
         858,
         "Aaron Anderson",
         21,
         "2015-10-24T05:35:27.000+0000"
        ],
        [
         6213,
         "Amanda Carter",
         23,
         "2015-11-30T08:07:07.000+0000"
        ],
        [
         3709,
         "Angela Andrews",
         20,
         "2015-10-28T21:44:56.000+0000"
        ],
        [
         1783,
         "Briana Bryant",
         23,
         "2016-03-30T16:14:41.000+0000"
        ],
        [
         8759,
         "Brian Herrera",
         45,
         "2016-01-31T07:20:27.000+0000"
        ],
        [
         4494,
         "Allison Adams",
         22,
         "2015-11-30T10:51:59.000+0000"
        ],
        [
         4275,
         "Daniel Aguirre",
         38,
         "2015-12-23T03:37:21.000+0000"
        ],
        [
         674,
         "Timothy Ward",
         37,
         "2016-10-06T22:01:38.000+0000"
        ],
        [
         1743,
         "Emily Freeman",
         46,
         "2017-03-31T11:14:54.000+0000"
        ],
        [
         1125,
         "Karen Hill",
         34,
         "2016-10-29T04:19:15.000+0000"
        ],
        [
         8194,
         "Aaron Abbott",
         20,
         "2015-10-23T16:08:41.000+0000"
        ],
        [
         8269,
         "Karen Graham",
         20,
         "2016-08-06T04:17:55.000+0000"
        ],
        [
         8531,
         "Jesse Torres",
         22,
         "2017-07-25T09:49:49.000+0000"
        ],
        [
         3918,
         "Emily Arroyo",
         29,
         "2015-11-11T09:20:35.000+0000"
        ],
        [
         7232,
         "Don Johnson",
         30,
         "2017-08-23T23:49:00.000+0000"
        ],
        [
         9732,
         "Gregory Bell",
         30,
         "2017-10-10T11:30:57.000+0000"
        ],
        [
         4965,
         "Laura Lopez",
         51,
         "2016-09-27T09:30:39.000+0000"
        ],
        [
         9245,
         "Angela Berg",
         20,
         "2015-11-10T05:57:33.000+0000"
        ],
        [
         6448,
         "Devin Chaney",
         22,
         "2016-04-09T18:38:22.000+0000"
        ],
        [
         7216,
         "April Blake",
         21,
         "2015-10-28T03:16:59.000+0000"
        ],
        [
         7504,
         "Abigail Ali",
         20,
         "2015-10-24T11:23:51.000+0000"
        ],
        [
         7689,
         "Aaron Abbott",
         20,
         "2015-10-23T16:08:41.000+0000"
        ],
        [
         7823,
         "Aaron Abbott",
         20,
         "2015-10-23T16:08:41.000+0000"
        ],
        [
         7033,
         "Wendy Jones",
         30,
         "2015-12-01T13:34:35.000+0000"
        ],
        [
         9749,
         "Arthur Riggs",
         46,
         "2016-05-01T10:44:18.000+0000"
        ],
        [
         4055,
         "Grant George",
         27,
         "2015-11-11T01:45:05.000+0000"
        ],
        [
         2239,
         "Brianna Bell",
         28,
         "2016-04-22T09:11:58.000+0000"
        ],
        [
         5736,
         "Anna Cross",
         38,
         "2015-11-21T18:19:10.000+0000"
        ],
        [
         6755,
         "Angela Allen",
         20,
         "2015-10-26T04:12:32.000+0000"
        ],
        [
         10962,
         "Julie Cox",
         23,
         "2016-06-23T14:38:00.000+0000"
        ],
        [
         7679,
         "Aaron Abbott",
         20,
         "2015-10-23T16:08:41.000+0000"
        ],
        [
         5357,
         "Casey Perry",
         55,
         "2017-05-05T03:44:58.000+0000"
        ],
        [
         9421,
         "Amanda Allen",
         29,
         "2015-10-24T02:11:21.000+0000"
        ],
        [
         8943,
         "Amy Andrews",
         23,
         "2015-10-29T19:12:55.000+0000"
        ],
        [
         9977,
         "Gina Ramirez",
         30,
         "2016-01-06T06:16:55.000+0000"
        ],
        [
         7057,
         "Jay Hampton",
         21,
         "2016-05-10T01:52:46.000+0000"
        ],
        [
         5668,
         "Kristin Khan",
         20,
         "2017-01-23T16:38:11.000+0000"
        ],
        [
         3471,
         "Glenda Ward",
         25,
         "2017-05-20T00:38:48.000+0000"
        ],
        [
         7534,
         "Angela Allen",
         20,
         "2015-10-26T04:12:32.000+0000"
        ],
        [
         8,
         "Adam Acosta",
         20,
         "2015-10-21T21:26:45.000+0000"
        ],
        [
         6050,
         "Amy Brown",
         34,
         "2016-01-08T20:49:30.000+0000"
        ],
        [
         4495,
         "Adam Cook",
         39,
         "2016-03-18T18:09:26.000+0000"
        ],
        [
         3583,
         "David Bell",
         20,
         "2016-04-15T17:11:11.000+0000"
        ],
        [
         2644,
         "Amy Atkins",
         21,
         "2015-10-31T07:37:40.000+0000"
        ],
        [
         8695,
         "Amy Brown",
         21,
         "2015-11-08T16:14:16.000+0000"
        ],
        [
         7973,
         "David Duke",
         32,
         "2016-07-29T05:30:55.000+0000"
        ],
        [
         2227,
         "Amy Adams",
         20,
         "2015-10-24T05:05:28.000+0000"
        ],
        [
         9324,
         "Amy Fox",
         49,
         "2017-04-13T11:19:44.000+0000"
        ]
       ],
       "datasetInfos": [],
       "dbfsResultPath": null,
       "isJsonSchema": true,
       "metadata": {},
       "overflow": false,
       "plotOptions": {
        "customPlotOptions": {},
        "displayType": "table",
        "pivotAggregation": null,
        "pivotColumns": null,
        "xColumns": null,
        "yColumns": null
       },
       "removedWidgets": [],
       "schema": [
        {
         "metadata": "{}",
         "name": "ind",
         "type": "\"long\""
        },
        {
         "metadata": "{}",
         "name": "user_name",
         "type": "\"string\""
        },
        {
         "metadata": "{}",
         "name": "age",
         "type": "\"long\""
        },
        {
         "metadata": "{}",
         "name": "date_joined",
         "type": "\"timestamp\""
        }
       ],
       "type": "table"
      }
     },
     "output_type": "display_data"
    }
   ],
   "source": [
    "#df_user data clean\n",
    "df_user = df_user.dropDuplicates()\n",
    "df_user = df_user.withColumn(\"user_name\", concat(col(\"first_name\"), lit(\" \"), col(\"last_name\")))\n",
    "df_user = df_user.drop(\"first_name\", \"last_name\")\n",
    "df_user = df_user.withColumn('date_joined', df_user['date_joined'].cast(TimestampType()))\n",
    "df_user = df_user.select(\"ind\", \"user_name\", \"age\", \"date_joined\")\n",
    "display(df_user)"
   ]
  },
  {
   "cell_type": "markdown",
   "metadata": {
    "application/vnd.databricks.v1+cell": {
     "cellMetadata": {},
     "inputWidgets": {},
     "nuid": "5dd8f14b-096a-487e-9452-72642d192fca",
     "showTitle": false,
     "title": ""
    }
   },
   "source": [
    "# Pinterest Business Intelligence\n"
   ]
  },
  {
   "cell_type": "markdown",
   "metadata": {
    "application/vnd.databricks.v1+cell": {
     "cellMetadata": {},
     "inputWidgets": {},
     "nuid": "cadf0baa-5d4b-4cc2-8287-5795f8735aa8",
     "showTitle": false,
     "title": ""
    }
   },
   "source": [
    "1. Create initial setup for subsequent queries.<br>\n",
    "2. There are two queries per report, one in pyspark SQL and one in regular SQL  "
   ]
  },
  {
   "cell_type": "code",
   "execution_count": 0,
   "metadata": {
    "application/vnd.databricks.v1+cell": {
     "cellMetadata": {
      "byteLimit": 2048000,
      "rowLimit": 10000
     },
     "inputWidgets": {},
     "nuid": "10130b6f-3b27-485c-abd5-cb81d31ecc56",
     "showTitle": false,
     "title": ""
    }
   },
   "outputs": [
    {
     "output_type": "display_data",
     "data": {
      "text/html": [
       "<style scoped>\n",
       "  .ansiout {\n",
       "    display: block;\n",
       "    unicode-bidi: embed;\n",
       "    white-space: pre-wrap;\n",
       "    word-wrap: break-word;\n",
       "    word-break: break-all;\n",
       "    font-family: \"Menlo\", \"Monaco\", \"Consolas\", \"Ubuntu Mono\", \"Source Code Pro\", monospace;\n",
       "    font-size: 13px;\n",
       "    color: #555;\n",
       "    margin-left: 4px;\n",
       "    line-height: 19px;\n",
       "  }\n",
       "</style>\n",
       "<div class=\"ansiout\"></div>"
      ]
     },
     "metadata": {
      "application/vnd.databricks.v1+output": {
       "addedWidgets": {},
       "arguments": {},
       "data": "<div class=\"ansiout\"></div>",
       "datasetInfos": [],
       "metadata": {},
       "removedWidgets": [],
       "type": "html"
      }
     },
     "output_type": "display_data"
    }
   ],
   "source": [
    "from pyspark.sql import SparkSession\n",
    "from pyspark.sql.window import Window\n",
    "\n",
    "df_geo.createOrReplaceTempView(\"geo_table\")\n",
    "df_pin.createOrReplaceTempView(\"pin_table\")\n",
    "df_user.createOrReplaceTempView(\"user_table\")"
   ]
  },
  {
   "cell_type": "markdown",
   "metadata": {
    "application/vnd.databricks.v1+cell": {
     "cellMetadata": {},
     "inputWidgets": {},
     "nuid": "3cf7e03a-2c0b-4830-9497-731d91f49443",
     "showTitle": false,
     "title": ""
    }
   },
   "source": [
    "1. Find the most popular Pinterest category people post to based on their country\n"
   ]
  },
  {
   "cell_type": "code",
   "execution_count": 0,
   "metadata": {
    "application/vnd.databricks.v1+cell": {
     "cellMetadata": {
      "byteLimit": 2048000,
      "rowLimit": 10000
     },
     "inputWidgets": {},
     "nuid": "207939c5-92dc-4ed2-aa6e-73c99aacae35",
     "showTitle": false,
     "title": ""
    }
   },
   "outputs": [
    {
     "output_type": "display_data",
     "data": {
      "text/html": [
       "<style scoped>\n",
       "  .ansiout {\n",
       "    display: block;\n",
       "    unicode-bidi: embed;\n",
       "    white-space: pre-wrap;\n",
       "    word-wrap: break-word;\n",
       "    word-break: break-all;\n",
       "    font-family: \"Menlo\", \"Monaco\", \"Consolas\", \"Ubuntu Mono\", \"Source Code Pro\", monospace;\n",
       "    font-size: 13px;\n",
       "    color: #555;\n",
       "    margin-left: 4px;\n",
       "    line-height: 19px;\n",
       "  }\n",
       "</style>\n",
       "<div class=\"ansiout\">+--------------------+--------------+--------------+\n",
       "             country|      category|category_count|\n",
       "+--------------------+--------------+--------------+\n",
       "         Afghanistan|        quotes|             2|\n",
       "             Albania|           art|             3|\n",
       "             Algeria|        quotes|             6|\n",
       "      American Samoa|       tattoos|             2|\n",
       "             Andorra|        quotes|             1|\n",
       " Antigua and Barbuda|       finance|             1|\n",
       "           Argentina|    home-decor|             1|\n",
       "             Armenia|      vehicles|             1|\n",
       "               Aruba|     christmas|             1|\n",
       "             Bahamas|     education|             1|\n",
       "             Bahrain|       finance|             1|\n",
       "            Barbados|       tattoos|             1|\n",
       "             Belarus|  mens-fashion|             1|\n",
       "             Belgium|diy-and-crafts|             2|\n",
       "              Belize|        quotes|             1|\n",
       "             Bolivia|    home-decor|             1|\n",
       "Bosnia and Herzeg...|    home-decor|             1|\n",
       "Bouvet Island (Bo...|        beauty|             1|\n",
       "British Indian Oc...|  mens-fashion|             1|\n",
       "British Virgin Is...|       tattoos|             1|\n",
       "+--------------------+--------------+--------------+\n",
       "only showing top 20 rows\n",
       "\n",
       "</div>"
      ]
     },
     "metadata": {
      "application/vnd.databricks.v1+output": {
       "addedWidgets": {},
       "arguments": {},
       "data": "<div class=\"ansiout\">+--------------------+--------------+--------------+\n|             country|      category|category_count|\n+--------------------+--------------+--------------+\n|         Afghanistan|        quotes|             2|\n|             Albania|           art|             3|\n|             Algeria|        quotes|             6|\n|      American Samoa|       tattoos|             2|\n|             Andorra|        quotes|             1|\n| Antigua and Barbuda|       finance|             1|\n|           Argentina|    home-decor|             1|\n|             Armenia|      vehicles|             1|\n|               Aruba|     christmas|             1|\n|             Bahamas|     education|             1|\n|             Bahrain|       finance|             1|\n|            Barbados|       tattoos|             1|\n|             Belarus|  mens-fashion|             1|\n|             Belgium|diy-and-crafts|             2|\n|              Belize|        quotes|             1|\n|             Bolivia|    home-decor|             1|\n|Bosnia and Herzeg...|    home-decor|             1|\n|Bouvet Island (Bo...|        beauty|             1|\n|British Indian Oc...|  mens-fashion|             1|\n|British Virgin Is...|       tattoos|             1|\n+--------------------+--------------+--------------+\nonly showing top 20 rows\n\n</div>",
       "datasetInfos": [],
       "metadata": {},
       "removedWidgets": [],
       "type": "html"
      }
     },
     "output_type": "display_data"
    }
   ],
   "source": [
    "#pyspark sql\n",
    "\n",
    "# create partition by country and order by category_count descending\n",
    "windowCountryByCatCount = Window.partitionBy(\"country\").orderBy(col(\"category_count\").desc())\n",
    "\n",
    "# find the most popular category in each country\n",
    "df_pin.join(df_geo, df_pin.ind == df_geo.ind)\\\n",
    "    .groupBy(\"country\", \"category\") \\\n",
    "    .agg(count(\"category\").alias(\"category_count\")) \\\n",
    "    .withColumn(\"rank\", row_number().over(windowCountryByCatCount)) \\\n",
    "    .filter(col(\"rank\") == 1) \\\n",
    "    .drop(\"rank\") \\\n",
    "    .show()\n"
   ]
  },
  {
   "cell_type": "code",
   "execution_count": 0,
   "metadata": {
    "application/vnd.databricks.v1+cell": {
     "cellMetadata": {
      "byteLimit": 2048000,
      "rowLimit": 10000
     },
     "inputWidgets": {},
     "nuid": "fe45c4c6-b0b6-4491-97a7-f52aa7684a62",
     "showTitle": false,
     "title": ""
    }
   },
   "outputs": [
    {
     "output_type": "display_data",
     "data": {
      "text/html": [
       "<style scoped>\n",
       "  .table-result-container {\n",
       "    max-height: 300px;\n",
       "    overflow: auto;\n",
       "  }\n",
       "  table, th, td {\n",
       "    border: 1px solid black;\n",
       "    border-collapse: collapse;\n",
       "  }\n",
       "  th, td {\n",
       "    padding: 5px;\n",
       "  }\n",
       "  th {\n",
       "    text-align: left;\n",
       "  }\n",
       "</style><div class='table-result-container'><table class='table-result'><thead style='background-color: white'><tr><th>country</th><th>category</th><th>category_count</th></tr></thead><tbody><tr><td>Afghanistan</td><td>quotes</td><td>2</td></tr><tr><td>Albania</td><td>art</td><td>3</td></tr><tr><td>Algeria</td><td>quotes</td><td>6</td></tr><tr><td>American Samoa</td><td>tattoos</td><td>2</td></tr><tr><td>Andorra</td><td>quotes</td><td>1</td></tr><tr><td>Antigua and Barbuda</td><td>finance</td><td>1</td></tr><tr><td>Argentina</td><td>home-decor</td><td>1</td></tr><tr><td>Armenia</td><td>vehicles</td><td>1</td></tr><tr><td>Aruba</td><td>christmas</td><td>1</td></tr><tr><td>Bahamas</td><td>education</td><td>1</td></tr><tr><td>Bahrain</td><td>finance</td><td>1</td></tr><tr><td>Barbados</td><td>tattoos</td><td>1</td></tr><tr><td>Belarus</td><td>mens-fashion</td><td>1</td></tr><tr><td>Belgium</td><td>diy-and-crafts</td><td>2</td></tr><tr><td>Belize</td><td>quotes</td><td>1</td></tr><tr><td>Bolivia</td><td>home-decor</td><td>1</td></tr><tr><td>Bosnia and Herzegovina</td><td>home-decor</td><td>1</td></tr><tr><td>Bouvet Island (Bouvetoya)</td><td>beauty</td><td>1</td></tr><tr><td>British Indian Ocean Territory (Chagos Archipelago)</td><td>mens-fashion</td><td>1</td></tr><tr><td>British Virgin Islands</td><td>tattoos</td><td>1</td></tr><tr><td>Burkina Faso</td><td>christmas</td><td>1</td></tr><tr><td>Cameroon</td><td>vehicles</td><td>1</td></tr><tr><td>Chile</td><td>home-decor</td><td>1</td></tr><tr><td>Costa Rica</td><td>christmas</td><td>1</td></tr><tr><td>Cyprus</td><td>education</td><td>1</td></tr><tr><td>Djibouti</td><td>quotes</td><td>1</td></tr><tr><td>Ecuador</td><td>vehicles</td><td>1</td></tr><tr><td>Egypt</td><td>travel</td><td>1</td></tr><tr><td>Eritrea</td><td>christmas</td><td>1</td></tr><tr><td>Falkland Islands (Malvinas)</td><td>christmas</td><td>1</td></tr><tr><td>Fiji</td><td>art</td><td>1</td></tr><tr><td>French Polynesia</td><td>finance</td><td>1</td></tr><tr><td>Georgia</td><td>education</td><td>1</td></tr><tr><td>Gibraltar</td><td>event-planning</td><td>1</td></tr><tr><td>Guyana</td><td>tattoos</td><td>1</td></tr><tr><td>Hungary</td><td>finance</td><td>1</td></tr><tr><td>Indonesia</td><td>christmas</td><td>1</td></tr><tr><td>Ireland</td><td>travel</td><td>1</td></tr><tr><td>Jamaica</td><td>tattoos</td><td>1</td></tr><tr><td>Jersey</td><td>vehicles</td><td>1</td></tr><tr><td>Kuwait</td><td>mens-fashion</td><td>1</td></tr><tr><td>Lithuania</td><td>art</td><td>1</td></tr><tr><td>Mauritania</td><td>quotes</td><td>1</td></tr><tr><td>Mongolia</td><td>mens-fashion</td><td>1</td></tr><tr><td>Montenegro</td><td>travel</td><td>1</td></tr><tr><td>Morocco</td><td>quotes</td><td>1</td></tr><tr><td>Namibia</td><td>event-planning</td><td>1</td></tr><tr><td>Netherlands</td><td>beauty</td><td>1</td></tr><tr><td>New Caledonia</td><td>art</td><td>1</td></tr><tr><td>Saint Helena</td><td>vehicles</td><td>1</td></tr><tr><td>Saint Kitts and Nevis</td><td>quotes</td><td>1</td></tr><tr><td>Slovakia (Slovak Republic)</td><td>finance</td><td>1</td></tr><tr><td>Slovenia</td><td>christmas</td><td>1</td></tr><tr><td>Sweden</td><td>mens-fashion</td><td>1</td></tr><tr><td>Switzerland</td><td>education</td><td>1</td></tr><tr><td>Tunisia</td><td>travel</td><td>1</td></tr><tr><td>Uganda</td><td>mens-fashion</td><td>1</td></tr><tr><td>United States Minor Outlying Islands</td><td>travel</td><td>1</td></tr><tr><td>United States of America</td><td>vehicles</td><td>1</td></tr><tr><td>Venezuela</td><td>education</td><td>1</td></tr></tbody></table></div>"
      ]
     },
     "metadata": {
      "application/vnd.databricks.v1+output": {
       "addedWidgets": {},
       "aggData": [],
       "aggError": "",
       "aggOverflow": false,
       "aggSchema": [],
       "aggSeriesLimitReached": false,
       "aggType": "",
       "arguments": {},
       "columnCustomDisplayInfos": {},
       "data": [
        [
         "Afghanistan",
         "quotes",
         2
        ],
        [
         "Albania",
         "art",
         3
        ],
        [
         "Algeria",
         "quotes",
         6
        ],
        [
         "American Samoa",
         "tattoos",
         2
        ],
        [
         "Andorra",
         "quotes",
         1
        ],
        [
         "Antigua and Barbuda",
         "finance",
         1
        ],
        [
         "Argentina",
         "home-decor",
         1
        ],
        [
         "Armenia",
         "vehicles",
         1
        ],
        [
         "Aruba",
         "christmas",
         1
        ],
        [
         "Bahamas",
         "education",
         1
        ],
        [
         "Bahrain",
         "finance",
         1
        ],
        [
         "Barbados",
         "tattoos",
         1
        ],
        [
         "Belarus",
         "mens-fashion",
         1
        ],
        [
         "Belgium",
         "diy-and-crafts",
         2
        ],
        [
         "Belize",
         "quotes",
         1
        ],
        [
         "Bolivia",
         "home-decor",
         1
        ],
        [
         "Bosnia and Herzegovina",
         "home-decor",
         1
        ],
        [
         "Bouvet Island (Bouvetoya)",
         "beauty",
         1
        ],
        [
         "British Indian Ocean Territory (Chagos Archipelago)",
         "mens-fashion",
         1
        ],
        [
         "British Virgin Islands",
         "tattoos",
         1
        ],
        [
         "Burkina Faso",
         "christmas",
         1
        ],
        [
         "Cameroon",
         "vehicles",
         1
        ],
        [
         "Chile",
         "home-decor",
         1
        ],
        [
         "Costa Rica",
         "christmas",
         1
        ],
        [
         "Cyprus",
         "education",
         1
        ],
        [
         "Djibouti",
         "quotes",
         1
        ],
        [
         "Ecuador",
         "vehicles",
         1
        ],
        [
         "Egypt",
         "travel",
         1
        ],
        [
         "Eritrea",
         "christmas",
         1
        ],
        [
         "Falkland Islands (Malvinas)",
         "christmas",
         1
        ],
        [
         "Fiji",
         "art",
         1
        ],
        [
         "French Polynesia",
         "finance",
         1
        ],
        [
         "Georgia",
         "education",
         1
        ],
        [
         "Gibraltar",
         "event-planning",
         1
        ],
        [
         "Guyana",
         "tattoos",
         1
        ],
        [
         "Hungary",
         "finance",
         1
        ],
        [
         "Indonesia",
         "christmas",
         1
        ],
        [
         "Ireland",
         "travel",
         1
        ],
        [
         "Jamaica",
         "tattoos",
         1
        ],
        [
         "Jersey",
         "vehicles",
         1
        ],
        [
         "Kuwait",
         "mens-fashion",
         1
        ],
        [
         "Lithuania",
         "art",
         1
        ],
        [
         "Mauritania",
         "quotes",
         1
        ],
        [
         "Mongolia",
         "mens-fashion",
         1
        ],
        [
         "Montenegro",
         "travel",
         1
        ],
        [
         "Morocco",
         "quotes",
         1
        ],
        [
         "Namibia",
         "event-planning",
         1
        ],
        [
         "Netherlands",
         "beauty",
         1
        ],
        [
         "New Caledonia",
         "art",
         1
        ],
        [
         "Saint Helena",
         "vehicles",
         1
        ],
        [
         "Saint Kitts and Nevis",
         "quotes",
         1
        ],
        [
         "Slovakia (Slovak Republic)",
         "finance",
         1
        ],
        [
         "Slovenia",
         "christmas",
         1
        ],
        [
         "Sweden",
         "mens-fashion",
         1
        ],
        [
         "Switzerland",
         "education",
         1
        ],
        [
         "Tunisia",
         "travel",
         1
        ],
        [
         "Uganda",
         "mens-fashion",
         1
        ],
        [
         "United States Minor Outlying Islands",
         "travel",
         1
        ],
        [
         "United States of America",
         "vehicles",
         1
        ],
        [
         "Venezuela",
         "education",
         1
        ]
       ],
       "datasetInfos": [],
       "dbfsResultPath": null,
       "isJsonSchema": true,
       "metadata": {},
       "overflow": false,
       "plotOptions": {
        "customPlotOptions": {},
        "displayType": "table",
        "pivotAggregation": null,
        "pivotColumns": null,
        "xColumns": null,
        "yColumns": null
       },
       "removedWidgets": [],
       "schema": [
        {
         "metadata": "{}",
         "name": "country",
         "type": "\"string\""
        },
        {
         "metadata": "{}",
         "name": "category",
         "type": "\"string\""
        },
        {
         "metadata": "{}",
         "name": "category_count",
         "type": "\"long\""
        }
       ],
       "type": "table"
      }
     },
     "output_type": "display_data"
    }
   ],
   "source": [
    "#regular sql\n",
    "\n",
    "result_df = spark.sql(\"\"\"\n",
    "                      \n",
    "    WITH Ranked as (\n",
    "    SELECT \n",
    "        geo_table.country AS country, \n",
    "        pin_table.category AS category, \n",
    "        count(pin_table.category) AS category_count,\n",
    "        ROW_NUMBER() OVER(PARTITION BY geo_table.country ORDER BY count(pin_table.category) DESC) category_rank\n",
    "    FROM \n",
    "        geo_table\n",
    "    INNER JOIN \n",
    "        pin_table ON geo_table.ind = pin_table.ind\n",
    "    GROUP BY \n",
    "        geo_table.country, \n",
    "        pin_table.category \n",
    "    )   \n",
    "        SELECT\n",
    "            country,\n",
    "            category,\n",
    "            category_count\n",
    "        FROM\n",
    "            Ranked\n",
    "        WHERE\n",
    "            category_rank = 1\n",
    "\"\"\")\n",
    "\n",
    "\n",
    "display(result_df)"
   ]
  },
  {
   "cell_type": "markdown",
   "metadata": {
    "application/vnd.databricks.v1+cell": {
     "cellMetadata": {},
     "inputWidgets": {},
     "nuid": "330f0142-c1c6-4f75-a943-fa9136dc6a1e",
     "showTitle": false,
     "title": ""
    }
   },
   "source": [
    "2. Which was the most popular category between 2018 and 2022.\n"
   ]
  },
  {
   "cell_type": "code",
   "execution_count": 0,
   "metadata": {
    "application/vnd.databricks.v1+cell": {
     "cellMetadata": {
      "byteLimit": 2048000,
      "rowLimit": 10000
     },
     "inputWidgets": {},
     "nuid": "4e2b092f-eb81-4b8e-aaeb-7e755cbc6714",
     "showTitle": false,
     "title": ""
    }
   },
   "outputs": [
    {
     "output_type": "display_data",
     "data": {
      "text/html": [
       "<style scoped>\n",
       "  .ansiout {\n",
       "    display: block;\n",
       "    unicode-bidi: embed;\n",
       "    white-space: pre-wrap;\n",
       "    word-wrap: break-word;\n",
       "    word-break: break-all;\n",
       "    font-family: \"Menlo\", \"Monaco\", \"Consolas\", \"Ubuntu Mono\", \"Source Code Pro\", monospace;\n",
       "    font-size: 13px;\n",
       "    color: #555;\n",
       "    margin-left: 4px;\n",
       "    line-height: 19px;\n",
       "  }\n",
       "</style>\n",
       "<div class=\"ansiout\">+---------+--------------+--------------+\n",
       "post_year|      category|category_count|\n",
       "+---------+--------------+--------------+\n",
       "     2018|        quotes|             7|\n",
       "     2019|       tattoos|             4|\n",
       "     2020|  mens-fashion|             3|\n",
       "     2021|event-planning|             4|\n",
       "     2022|    home-decor|             4|\n",
       "+---------+--------------+--------------+\n",
       "\n",
       "</div>"
      ]
     },
     "metadata": {
      "application/vnd.databricks.v1+output": {
       "addedWidgets": {},
       "arguments": {},
       "data": "<div class=\"ansiout\">+---------+--------------+--------------+\n|post_year|      category|category_count|\n+---------+--------------+--------------+\n|     2018|        quotes|             7|\n|     2019|       tattoos|             4|\n|     2020|  mens-fashion|             3|\n|     2021|event-planning|             4|\n|     2022|    home-decor|             4|\n+---------+--------------+--------------+\n\n</div>",
       "datasetInfos": [],
       "metadata": {},
       "removedWidgets": [],
       "type": "html"
      }
     },
     "output_type": "display_data"
    }
   ],
   "source": [
    "#pyspark sql\n",
    "\n",
    "# create partition by year and order by category_count descending\n",
    "windowYearByCatCount = Window.partitionBy(\"post_year\").orderBy(col(\"category_count\").desc())\n",
    "\n",
    "# find which was the most popular category each year between 2018 and 2022\n",
    "df_pin.join(df_geo, df_pin.ind == df_geo.ind)\\\n",
    "    .withColumn(\"post_year\", year(\"timestamp\")) \\\n",
    "    .filter(col(\"post_year\") >= 2018) \\\n",
    "    .filter(col(\"post_year\") <= 2022) \\\n",
    "    .groupBy(\"post_year\", \"category\") \\\n",
    "    .agg(count(\"category\").alias(\"category_count\")) \\\n",
    "    .withColumn(\"rank\", row_number().over(windowYearByCatCount)) \\\n",
    "    .filter(col(\"rank\") == 1) \\\n",
    "    .drop(\"rank\") \\\n",
    "    .show()\n"
   ]
  },
  {
   "cell_type": "code",
   "execution_count": 0,
   "metadata": {
    "application/vnd.databricks.v1+cell": {
     "cellMetadata": {
      "byteLimit": 2048000,
      "rowLimit": 10000
     },
     "inputWidgets": {},
     "nuid": "6f506f2d-84b5-449e-8769-4af8b7ed8a4e",
     "showTitle": false,
     "title": ""
    }
   },
   "outputs": [
    {
     "output_type": "display_data",
     "data": {
      "text/html": [
       "<style scoped>\n",
       "  .table-result-container {\n",
       "    max-height: 300px;\n",
       "    overflow: auto;\n",
       "  }\n",
       "  table, th, td {\n",
       "    border: 1px solid black;\n",
       "    border-collapse: collapse;\n",
       "  }\n",
       "  th, td {\n",
       "    padding: 5px;\n",
       "  }\n",
       "  th {\n",
       "    text-align: left;\n",
       "  }\n",
       "</style><div class='table-result-container'><table class='table-result'><thead style='background-color: white'><tr><th>post_year</th><th>category</th><th>category_count</th></tr></thead><tbody><tr><td>2018</td><td>quotes</td><td>7</td></tr><tr><td>2019</td><td>tattoos</td><td>4</td></tr><tr><td>2020</td><td>mens-fashion</td><td>3</td></tr><tr><td>2021</td><td>event-planning</td><td>4</td></tr><tr><td>2022</td><td>home-decor</td><td>4</td></tr></tbody></table></div>"
      ]
     },
     "metadata": {
      "application/vnd.databricks.v1+output": {
       "addedWidgets": {},
       "aggData": [],
       "aggError": "",
       "aggOverflow": false,
       "aggSchema": [],
       "aggSeriesLimitReached": false,
       "aggType": "",
       "arguments": {},
       "columnCustomDisplayInfos": {},
       "data": [
        [
         2018,
         "quotes",
         7
        ],
        [
         2019,
         "tattoos",
         4
        ],
        [
         2020,
         "mens-fashion",
         3
        ],
        [
         2021,
         "event-planning",
         4
        ],
        [
         2022,
         "home-decor",
         4
        ]
       ],
       "datasetInfos": [],
       "dbfsResultPath": null,
       "isJsonSchema": true,
       "metadata": {},
       "overflow": false,
       "plotOptions": {
        "customPlotOptions": {},
        "displayType": "table",
        "pivotAggregation": null,
        "pivotColumns": null,
        "xColumns": null,
        "yColumns": null
       },
       "removedWidgets": [],
       "schema": [
        {
         "metadata": "{}",
         "name": "post_year",
         "type": "\"integer\""
        },
        {
         "metadata": "{}",
         "name": "category",
         "type": "\"string\""
        },
        {
         "metadata": "{}",
         "name": "category_count",
         "type": "\"long\""
        }
       ],
       "type": "table"
      }
     },
     "output_type": "display_data"
    }
   ],
   "source": [
    "# regular SQL\n",
    "\n",
    "result_df = spark.sql(\"\"\"\n",
    "                      \n",
    "WITH Ranked As (\n",
    "    SELECT DISTINCT \n",
    "        YEAR(geo_table.timestamp) AS post_year, \n",
    "        pin_table.category AS category, \n",
    "        COUNT(pin_table.category) AS category_count,\n",
    "        ROW_NUMBER() OVER(PARTITION BY YEAR(geo_table.timestamp) ORDER BY COUNT(pin_table.category) DESC) category_rank\n",
    "    FROM \n",
    "        geo_table\n",
    "    INNER JOIN \n",
    "        pin_table ON geo_table.ind = pin_table.ind\n",
    "    WHERE \n",
    "        YEAR(geo_table.timestamp) >= 2018 AND YEAR(geo_table.timestamp) <= 2022\n",
    "    GROUP BY \n",
    "        YEAR(geo_table.timestamp), pin_table.category\n",
    ") \n",
    "    SELECT\n",
    "        post_year, category, category_count\n",
    "    FROM\n",
    "        Ranked\n",
    "    WHERE\n",
    "        category_rank == 1\n",
    "        \n",
    "\"\"\")\n",
    "\n",
    "display(result_df)\n",
    "     "
   ]
  },
  {
   "cell_type": "markdown",
   "metadata": {
    "application/vnd.databricks.v1+cell": {
     "cellMetadata": {},
     "inputWidgets": {},
     "nuid": "3e26cab7-479f-4455-a7c7-2b49692d64fb",
     "showTitle": false,
     "title": ""
    }
   },
   "source": [
    "3. Step 1: For each country find the user with the most followers.<br>\n",
    "   Step 2: Based on the above query, find the country with the user with most followers."
   ]
  },
  {
   "cell_type": "code",
   "execution_count": 0,
   "metadata": {
    "application/vnd.databricks.v1+cell": {
     "cellMetadata": {
      "byteLimit": 2048000,
      "rowLimit": 10000
     },
     "inputWidgets": {},
     "nuid": "df5618a6-724d-47a9-a354-9e5381098982",
     "showTitle": false,
     "title": ""
    }
   },
   "outputs": [
    {
     "output_type": "display_data",
     "data": {
      "text/html": [
       "<style scoped>\n",
       "  .ansiout {\n",
       "    display: block;\n",
       "    unicode-bidi: embed;\n",
       "    white-space: pre-wrap;\n",
       "    word-wrap: break-word;\n",
       "    word-break: break-all;\n",
       "    font-family: \"Menlo\", \"Monaco\", \"Consolas\", \"Ubuntu Mono\", \"Source Code Pro\", monospace;\n",
       "    font-size: 13px;\n",
       "    color: #555;\n",
       "    margin-left: 4px;\n",
       "    line-height: 19px;\n",
       "  }\n",
       "</style>\n",
       "<div class=\"ansiout\">+--------------------+--------------------+--------------+\n",
       "             country|         poster_name|follower_count|\n",
       "+--------------------+--------------------+--------------+\n",
       "         Afghanistan|             Walmart|       2000000|\n",
       "             Albania|   The Minds Journal|       5000000|\n",
       "             Algeria|   Apartment Therapy|       5000000|\n",
       "      American Samoa|    Homesthetics.net|        556000|\n",
       "             Andorra|The Best Ideas fo...|        903000|\n",
       " Antigua and Barbuda| Kenya. Finances 101|           760|\n",
       "           Argentina|Jen | Save to Spl...|          8000|\n",
       "             Armenia|Yanko Design - Fo...|        416000|\n",
       "               Aruba|Tim Adam - Car En...|         49000|\n",
       "             Bahamas|EventPlanning.com...|          4000|\n",
       "             Bahrain|R.J. Weiss at The...|         46000|\n",
       "            Barbados|            The Knot|        545000|\n",
       "             Belarus|The Church Of Tru...|           920|\n",
       "             Belgium|Happy Toddler Pla...|         73000|\n",
       "              Belize|  Julia Berolzheimer|        399000|\n",
       "             Bolivia|    Curated Interior|         67000|\n",
       "Bosnia and Herzeg...|Micheala Diane De...|         21000|\n",
       "Bouvet Island (Bo...|            POPSUGAR|       5000000|\n",
       "British Indian Oc...|          joymanmall|         31000|\n",
       "British Virgin Is...|  Dream Dash Journal|         19000|\n",
       "+--------------------+--------------------+--------------+\n",
       "only showing top 20 rows\n",
       "\n",
       "+-------+--------------+\n",
       "country|follower_count|\n",
       "+-------+--------------+\n",
       "Albania|       5000000|\n",
       "+-------+--------------+\n",
       "\n",
       "</div>"
      ]
     },
     "metadata": {
      "application/vnd.databricks.v1+output": {
       "addedWidgets": {},
       "arguments": {},
       "data": "<div class=\"ansiout\">+--------------------+--------------------+--------------+\n|             country|         poster_name|follower_count|\n+--------------------+--------------------+--------------+\n|         Afghanistan|             Walmart|       2000000|\n|             Albania|   The Minds Journal|       5000000|\n|             Algeria|   Apartment Therapy|       5000000|\n|      American Samoa|    Homesthetics.net|        556000|\n|             Andorra|The Best Ideas fo...|        903000|\n| Antigua and Barbuda| Kenya. Finances 101|           760|\n|           Argentina|Jen | Save to Spl...|          8000|\n|             Armenia|Yanko Design - Fo...|        416000|\n|               Aruba|Tim Adam - Car En...|         49000|\n|             Bahamas|EventPlanning.com...|          4000|\n|             Bahrain|R.J. Weiss at The...|         46000|\n|            Barbados|            The Knot|        545000|\n|             Belarus|The Church Of Tru...|           920|\n|             Belgium|Happy Toddler Pla...|         73000|\n|              Belize|  Julia Berolzheimer|        399000|\n|             Bolivia|    Curated Interior|         67000|\n|Bosnia and Herzeg...|Micheala Diane De...|         21000|\n|Bouvet Island (Bo...|            POPSUGAR|       5000000|\n|British Indian Oc...|          joymanmall|         31000|\n|British Virgin Is...|  Dream Dash Journal|         19000|\n+--------------------+--------------------+--------------+\nonly showing top 20 rows\n\n+-------+--------------+\n|country|follower_count|\n+-------+--------------+\n|Albania|       5000000|\n+-------+--------------+\n\n</div>",
       "datasetInfos": [],
       "metadata": {},
       "removedWidgets": [],
       "type": "html"
      }
     },
     "output_type": "display_data"
    }
   ],
   "source": [
    "#pyspark sql\n",
    "\n",
    "#Find user with most followers in each country\n",
    "# create partition by country and order by follower_count descending\n",
    "windowCountryByFollowers = Window.partitionBy(\"country\").orderBy(col(\"follower_count\").desc())\n",
    "\n",
    "# find the user with the most followers in each country\n",
    "max_followers_by_country = \\\n",
    "    df_pin.join(df_geo, df_pin.ind == df_geo.ind) \\\n",
    "    .withColumn(\"rank\", row_number().over(windowCountryByFollowers)) \\\n",
    "    .filter(col(\"rank\") == 1) \\\n",
    "    .select(\"country\", \"poster_name\", \"follower_count\") \\\n",
    "    .orderBy(col(\"country\"))\n",
    "\n",
    "# get highest number of followers from all countries\n",
    "max_followers_all_countries = max_followers_by_country.select(max(\"follower_count\")).collect()[0][0]\n",
    "\n",
    "# find the country with the user with most followers\n",
    "country_with_max_followers = \\\n",
    "    max_followers_by_country \\\n",
    "    .select(\"country\",\"follower_count\") \\\n",
    "    .orderBy(col(\"follower_count\").desc()) \\\n",
    "    .limit(1)\n",
    "\n",
    "max_followers_by_country.show()\n",
    "country_with_max_followers.show()\n"
   ]
  },
  {
   "cell_type": "code",
   "execution_count": 0,
   "metadata": {
    "application/vnd.databricks.v1+cell": {
     "cellMetadata": {
      "byteLimit": 2048000,
      "rowLimit": 10000
     },
     "inputWidgets": {},
     "nuid": "bd2d7b8d-0291-4866-887c-9b33bb34f374",
     "showTitle": false,
     "title": ""
    }
   },
   "outputs": [
    {
     "output_type": "display_data",
     "data": {
      "text/html": [
       "<style scoped>\n",
       "  .table-result-container {\n",
       "    max-height: 300px;\n",
       "    overflow: auto;\n",
       "  }\n",
       "  table, th, td {\n",
       "    border: 1px solid black;\n",
       "    border-collapse: collapse;\n",
       "  }\n",
       "  th, td {\n",
       "    padding: 5px;\n",
       "  }\n",
       "  th {\n",
       "    text-align: left;\n",
       "  }\n",
       "</style><div class='table-result-container'><table class='table-result'><thead style='background-color: white'><tr><th>country</th><th>poster</th><th>follower_count</th></tr></thead><tbody><tr><td>Afghanistan</td><td>Walmart</td><td>2000000</td></tr><tr><td>Albania</td><td>The Minds Journal</td><td>5000000</td></tr><tr><td>Algeria</td><td>Apartment Therapy</td><td>5000000</td></tr><tr><td>American Samoa</td><td>Homesthetics.net</td><td>556000</td></tr><tr><td>Andorra</td><td>The Best Ideas for Kids</td><td>903000</td></tr><tr><td>Antigua and Barbuda</td><td>Kenya. Finances 101</td><td>760</td></tr><tr><td>Argentina</td><td>Jen | Save to Splurge</td><td>8000</td></tr><tr><td>Armenia</td><td>Yanko Design - Form Beyond Function</td><td>416000</td></tr><tr><td>Aruba</td><td>Tim Adam - Car Enthusiast</td><td>49000</td></tr><tr><td>Bahamas</td><td>EventPlanning.com | Learn How To Become An Event Planner</td><td>4000</td></tr><tr><td>Bahrain</td><td>R.J. Weiss at The Ways To Wealth | Personal Finance | Debt Payoff</td><td>46000</td></tr><tr><td>Barbados</td><td>The Knot</td><td>545000</td></tr><tr><td>Belarus</td><td>The Church Of Truth And Logic</td><td>920</td></tr><tr><td>Belgium</td><td>Happy Toddler Playtime</td><td>73000</td></tr><tr><td>Belize</td><td>Julia Berolzheimer</td><td>399000</td></tr><tr><td>Bolivia</td><td>Curated Interior</td><td>67000</td></tr><tr><td>Bosnia and Herzegovina</td><td>Micheala Diane Designs |  Interior Design, Home Styling and DIY Projects</td><td>21000</td></tr><tr><td>Bouvet Island (Bouvetoya)</td><td>POPSUGAR</td><td>5000000</td></tr><tr><td>British Indian Ocean Territory (Chagos Archipelago)</td><td>joymanmall</td><td>31000</td></tr><tr><td>British Virgin Islands</td><td>Dream Dash Journal</td><td>19000</td></tr><tr><td>Burkina Faso</td><td>Rachel Hedges</td><td>312</td></tr><tr><td>Cameroon</td><td>Man of Many</td><td>112000</td></tr><tr><td>Chile</td><td>Linda Merrill Decorative Surroundings</td><td>15000</td></tr><tr><td>Costa Rica</td><td>Martha Stewart Living</td><td>2000000</td></tr><tr><td>Cyprus</td><td>A Teachable Teacher</td><td>42000</td></tr><tr><td>Djibouti</td><td>Wamda</td><td>1</td></tr><tr><td>Ecuador</td><td>Kirsten |  Life & Style in Britain</td><td>12000</td></tr><tr><td>Egypt</td><td>Allure</td><td>346000</td></tr><tr><td>Eritrea</td><td>TIDBITS</td><td>64000</td></tr><tr><td>Falkland Islands (Malvinas)</td><td>Hallstrom Home</td><td>91000</td></tr><tr><td>Fiji</td><td>Sherree Wilkinson</td><td>546</td></tr><tr><td>French Polynesia</td><td>The Printable Princess</td><td>52000</td></tr><tr><td>Georgia</td><td>Susie Allison | Busy Toddler</td><td>203000</td></tr><tr><td>Gibraltar</td><td>Penha Lucia</td><td>546</td></tr><tr><td>Guyana</td><td>jellyaz</td><td>900</td></tr><tr><td>Hungary</td><td>JasanaTees</td><td>11</td></tr><tr><td>Indonesia</td><td>Weekend Craft</td><td>68000</td></tr><tr><td>Ireland</td><td>The Mindset Journey</td><td>236000</td></tr><tr><td>Jamaica</td><td>Juna Saito</td><td>12</td></tr><tr><td>Jersey</td><td>Philippe Steele</td><td>710</td></tr><tr><td>Kuwait</td><td>PERDREAMS</td><td>6000</td></tr><tr><td>Lithuania</td><td>Kate Smith</td><td>89</td></tr><tr><td>Mauritania</td><td>MONTANO DIANA ✿◕‿◕✿</td><td>2000</td></tr><tr><td>Mongolia</td><td>ZAFUL</td><td>893000</td></tr><tr><td>Montenegro</td><td>Allison Anderson | Solo Travel & Lifestyle Blog</td><td>8000</td></tr><tr><td>Morocco</td><td>Fit Girl's Diary</td><td>110000</td></tr><tr><td>Namibia</td><td>Hitched</td><td>93000</td></tr><tr><td>Netherlands</td><td>Mama Natural</td><td>81000</td></tr><tr><td>New Caledonia</td><td>Faminino | Basteln mit Kinder, Ratgeber und easy DIY-Ideen </td><td>71000</td></tr><tr><td>Saint Helena</td><td>Amazing Classic Cars</td><td>3000</td></tr><tr><td>Saint Kitts and Nevis</td><td>vintagetopia</td><td>171000</td></tr><tr><td>Slovakia (Slovak Republic)</td><td>Iconic Style Inc | Fashion & Success</td><td>8000</td></tr><tr><td>Slovenia</td><td>A Fresh-Squeezed Life</td><td>37000</td></tr><tr><td>Sweden</td><td>Logan Klein</td><td>939</td></tr><tr><td>Switzerland</td><td>Sherry Hayes</td><td>5000</td></tr><tr><td>Tunisia</td><td>Travel with Munia</td><td>2000</td></tr><tr><td>Uganda</td><td>ThatUserNameIsAlreadyTakenT</td><td>47</td></tr><tr><td>United States Minor Outlying Islands</td><td>Sus42</td><td>67</td></tr><tr><td>United States of America</td><td>Katie</td><td>18</td></tr><tr><td>Venezuela</td><td>Deanna Jump | Kindergarten and First Grade Teaching Resources</td><td>37000</td></tr></tbody></table></div>"
      ]
     },
     "metadata": {
      "application/vnd.databricks.v1+output": {
       "addedWidgets": {},
       "aggData": [],
       "aggError": "",
       "aggOverflow": false,
       "aggSchema": [],
       "aggSeriesLimitReached": false,
       "aggType": "",
       "arguments": {},
       "columnCustomDisplayInfos": {},
       "data": [
        [
         "Afghanistan",
         "Walmart",
         2000000
        ],
        [
         "Albania",
         "The Minds Journal",
         5000000
        ],
        [
         "Algeria",
         "Apartment Therapy",
         5000000
        ],
        [
         "American Samoa",
         "Homesthetics.net",
         556000
        ],
        [
         "Andorra",
         "The Best Ideas for Kids",
         903000
        ],
        [
         "Antigua and Barbuda",
         "Kenya. Finances 101",
         760
        ],
        [
         "Argentina",
         "Jen | Save to Splurge",
         8000
        ],
        [
         "Armenia",
         "Yanko Design - Form Beyond Function",
         416000
        ],
        [
         "Aruba",
         "Tim Adam - Car Enthusiast",
         49000
        ],
        [
         "Bahamas",
         "EventPlanning.com | Learn How To Become An Event Planner",
         4000
        ],
        [
         "Bahrain",
         "R.J. Weiss at The Ways To Wealth | Personal Finance | Debt Payoff",
         46000
        ],
        [
         "Barbados",
         "The Knot",
         545000
        ],
        [
         "Belarus",
         "The Church Of Truth And Logic",
         920
        ],
        [
         "Belgium",
         "Happy Toddler Playtime",
         73000
        ],
        [
         "Belize",
         "Julia Berolzheimer",
         399000
        ],
        [
         "Bolivia",
         "Curated Interior",
         67000
        ],
        [
         "Bosnia and Herzegovina",
         "Micheala Diane Designs |  Interior Design, Home Styling and DIY Projects",
         21000
        ],
        [
         "Bouvet Island (Bouvetoya)",
         "POPSUGAR",
         5000000
        ],
        [
         "British Indian Ocean Territory (Chagos Archipelago)",
         "joymanmall",
         31000
        ],
        [
         "British Virgin Islands",
         "Dream Dash Journal",
         19000
        ],
        [
         "Burkina Faso",
         "Rachel Hedges",
         312
        ],
        [
         "Cameroon",
         "Man of Many",
         112000
        ],
        [
         "Chile",
         "Linda Merrill Decorative Surroundings",
         15000
        ],
        [
         "Costa Rica",
         "Martha Stewart Living",
         2000000
        ],
        [
         "Cyprus",
         "A Teachable Teacher",
         42000
        ],
        [
         "Djibouti",
         "Wamda",
         1
        ],
        [
         "Ecuador",
         "Kirsten |  Life & Style in Britain",
         12000
        ],
        [
         "Egypt",
         "Allure",
         346000
        ],
        [
         "Eritrea",
         "TIDBITS",
         64000
        ],
        [
         "Falkland Islands (Malvinas)",
         "Hallstrom Home",
         91000
        ],
        [
         "Fiji",
         "Sherree Wilkinson",
         546
        ],
        [
         "French Polynesia",
         "The Printable Princess",
         52000
        ],
        [
         "Georgia",
         "Susie Allison | Busy Toddler",
         203000
        ],
        [
         "Gibraltar",
         "Penha Lucia",
         546
        ],
        [
         "Guyana",
         "jellyaz",
         900
        ],
        [
         "Hungary",
         "JasanaTees",
         11
        ],
        [
         "Indonesia",
         "Weekend Craft",
         68000
        ],
        [
         "Ireland",
         "The Mindset Journey",
         236000
        ],
        [
         "Jamaica",
         "Juna Saito",
         12
        ],
        [
         "Jersey",
         "Philippe Steele",
         710
        ],
        [
         "Kuwait",
         "PERDREAMS",
         6000
        ],
        [
         "Lithuania",
         "Kate Smith",
         89
        ],
        [
         "Mauritania",
         "MONTANO DIANA ✿◕‿◕✿",
         2000
        ],
        [
         "Mongolia",
         "ZAFUL",
         893000
        ],
        [
         "Montenegro",
         "Allison Anderson | Solo Travel & Lifestyle Blog",
         8000
        ],
        [
         "Morocco",
         "Fit Girl's Diary",
         110000
        ],
        [
         "Namibia",
         "Hitched",
         93000
        ],
        [
         "Netherlands",
         "Mama Natural",
         81000
        ],
        [
         "New Caledonia",
         "Faminino | Basteln mit Kinder, Ratgeber und easy DIY-Ideen ",
         71000
        ],
        [
         "Saint Helena",
         "Amazing Classic Cars",
         3000
        ],
        [
         "Saint Kitts and Nevis",
         "vintagetopia",
         171000
        ],
        [
         "Slovakia (Slovak Republic)",
         "Iconic Style Inc | Fashion & Success",
         8000
        ],
        [
         "Slovenia",
         "A Fresh-Squeezed Life",
         37000
        ],
        [
         "Sweden",
         "Logan Klein",
         939
        ],
        [
         "Switzerland",
         "Sherry Hayes",
         5000
        ],
        [
         "Tunisia",
         "Travel with Munia",
         2000
        ],
        [
         "Uganda",
         "ThatUserNameIsAlreadyTakenT",
         47
        ],
        [
         "United States Minor Outlying Islands",
         "Sus42",
         67
        ],
        [
         "United States of America",
         "Katie",
         18
        ],
        [
         "Venezuela",
         "Deanna Jump | Kindergarten and First Grade Teaching Resources",
         37000
        ]
       ],
       "datasetInfos": [],
       "dbfsResultPath": null,
       "isJsonSchema": true,
       "metadata": {},
       "overflow": false,
       "plotOptions": {
        "customPlotOptions": {},
        "displayType": "table",
        "pivotAggregation": null,
        "pivotColumns": null,
        "xColumns": null,
        "yColumns": null
       },
       "removedWidgets": [],
       "schema": [
        {
         "metadata": "{}",
         "name": "country",
         "type": "\"string\""
        },
        {
         "metadata": "{}",
         "name": "poster",
         "type": "\"string\""
        },
        {
         "metadata": "{}",
         "name": "follower_count",
         "type": "\"integer\""
        }
       ],
       "type": "table"
      }
     },
     "output_type": "display_data"
    }
   ],
   "source": [
    "# regular SQL\n",
    "\n",
    "# STEP 1\n",
    "result_df = spark.sql(\"\"\"\n",
    "                      \n",
    "WITH Ranked AS (\n",
    "    \n",
    "    SELECT \n",
    "        pin_table.poster_name AS poster,\n",
    "        geo_table.country AS country,\n",
    "        pin_table.follower_count AS follower_count,\n",
    "        ROW_NUMBER() OVER (PARTITION BY geo_table.country ORDER BY pin_table.follower_count DESC) AS rank\n",
    "    FROM\n",
    "        geo_table\n",
    "    INNER JOIN pin_table ON geo_table.ind = pin_table.ind\n",
    ")\n",
    "\n",
    "    SELECT\n",
    "        country, poster, follower_count\n",
    "    FROM\n",
    "        Ranked\n",
    "    WHERE\n",
    "        rank = 1\n",
    "    ORDER BY \n",
    "        country;\n",
    "        \n",
    "\"\"\")\n",
    "\n",
    "display(result_df)              "
   ]
  },
  {
   "cell_type": "code",
   "execution_count": 0,
   "metadata": {
    "application/vnd.databricks.v1+cell": {
     "cellMetadata": {
      "byteLimit": 2048000,
      "rowLimit": 10000
     },
     "inputWidgets": {},
     "nuid": "41bfb4ca-647c-4217-8fb8-f49bf46d570c",
     "showTitle": false,
     "title": ""
    }
   },
   "outputs": [
    {
     "output_type": "display_data",
     "data": {
      "text/html": [
       "<style scoped>\n",
       "  .table-result-container {\n",
       "    max-height: 300px;\n",
       "    overflow: auto;\n",
       "  }\n",
       "  table, th, td {\n",
       "    border: 1px solid black;\n",
       "    border-collapse: collapse;\n",
       "  }\n",
       "  th, td {\n",
       "    padding: 5px;\n",
       "  }\n",
       "  th {\n",
       "    text-align: left;\n",
       "  }\n",
       "</style><div class='table-result-container'><table class='table-result'><thead style='background-color: white'><tr><th>country</th><th>follower_count</th></tr></thead><tbody><tr><td>Albania</td><td>5000000</td></tr></tbody></table></div>"
      ]
     },
     "metadata": {
      "application/vnd.databricks.v1+output": {
       "addedWidgets": {},
       "aggData": [],
       "aggError": "",
       "aggOverflow": false,
       "aggSchema": [],
       "aggSeriesLimitReached": false,
       "aggType": "",
       "arguments": {},
       "columnCustomDisplayInfos": {},
       "data": [
        [
         "Albania",
         5000000
        ]
       ],
       "datasetInfos": [],
       "dbfsResultPath": null,
       "isJsonSchema": true,
       "metadata": {},
       "overflow": false,
       "plotOptions": {
        "customPlotOptions": {},
        "displayType": "table",
        "pivotAggregation": null,
        "pivotColumns": null,
        "xColumns": null,
        "yColumns": null
       },
       "removedWidgets": [],
       "schema": [
        {
         "metadata": "{}",
         "name": "country",
         "type": "\"string\""
        },
        {
         "metadata": "{}",
         "name": "follower_count",
         "type": "\"integer\""
        }
       ],
       "type": "table"
      }
     },
     "output_type": "display_data"
    }
   ],
   "source": [
    "# Use SQL to join DataFrames: STEP 2\n",
    "result_df = spark.sql(\"\"\"\n",
    "                      \n",
    "WITH Ranked AS (\n",
    "    \n",
    "    SELECT \n",
    "        pin_table.poster_name AS poster,\n",
    "        geo_table.country AS country,\n",
    "        pin_table.follower_count AS follower_count,\n",
    "        ROW_NUMBER() OVER (PARTITION BY geo_table.country ORDER BY pin_table.follower_count DESC) AS rank\n",
    "    FROM\n",
    "        geo_table\n",
    "    INNER JOIN pin_table ON geo_table.ind = pin_table.ind\n",
    ")\n",
    "\n",
    "    SELECT\n",
    "        country, follower_count\n",
    "    FROM\n",
    "        Ranked\n",
    "    WHERE\n",
    "        rank = 1\n",
    "    ORDER BY \n",
    "        follower_count DESC  \n",
    "    LIMIT 1\n",
    "    \n",
    "\"\"\")\n",
    "\n",
    "display(result_df)       "
   ]
  },
  {
   "cell_type": "markdown",
   "metadata": {
    "application/vnd.databricks.v1+cell": {
     "cellMetadata": {},
     "inputWidgets": {},
     "nuid": "1c746fc9-5cf9-4b88-ae66-7b1f8e4881fd",
     "showTitle": false,
     "title": ""
    }
   },
   "source": [
    "4. Find the most popular category people post to, based on the age groups - 18-24, 25-35, 36-50, +50"
   ]
  },
  {
   "cell_type": "code",
   "execution_count": 0,
   "metadata": {
    "application/vnd.databricks.v1+cell": {
     "cellMetadata": {
      "byteLimit": 2048000,
      "rowLimit": 10000
     },
     "inputWidgets": {},
     "nuid": "3c6d1062-1a1a-41e2-816b-54c4e43cf176",
     "showTitle": false,
     "title": ""
    }
   },
   "outputs": [
    {
     "output_type": "display_data",
     "data": {
      "text/html": [
       "<style scoped>\n",
       "  .ansiout {\n",
       "    display: block;\n",
       "    unicode-bidi: embed;\n",
       "    white-space: pre-wrap;\n",
       "    word-wrap: break-word;\n",
       "    word-break: break-all;\n",
       "    font-family: \"Menlo\", \"Monaco\", \"Consolas\", \"Ubuntu Mono\", \"Source Code Pro\", monospace;\n",
       "    font-size: 13px;\n",
       "    color: #555;\n",
       "    margin-left: 4px;\n",
       "    line-height: 19px;\n",
       "  }\n",
       "</style>\n",
       "<div class=\"ansiout\">+--------------+---------+--------------+\n",
       "      category|age_group|category_count|\n",
       "+--------------+---------+--------------+\n",
       "event-planning|      +50|             4|\n",
       "        quotes|    18-24|            14|\n",
       "     education|    25-35|             5|\n",
       "       finance|    36-50|             3|\n",
       "+--------------+---------+--------------+\n",
       "\n",
       "</div>"
      ]
     },
     "metadata": {
      "application/vnd.databricks.v1+output": {
       "addedWidgets": {},
       "arguments": {},
       "data": "<div class=\"ansiout\">+--------------+---------+--------------+\n|      category|age_group|category_count|\n+--------------+---------+--------------+\n|event-planning|      +50|             4|\n|        quotes|    18-24|            14|\n|     education|    25-35|             5|\n|       finance|    36-50|             3|\n+--------------+---------+--------------+\n\n</div>",
       "datasetInfos": [],
       "metadata": {},
       "removedWidgets": [],
       "type": "html"
      }
     },
     "output_type": "display_data"
    }
   ],
   "source": [
    "#pyspark sql\n",
    "\n",
    "#Define age groups\n",
    "pin_user_age_group =\\\n",
    "df_pin.join(df_user, 'ind') \\\n",
    "    .withColumn('age_group', expr(\"\"\"case\n",
    "    when age BETWEEN 18 AND 24 THEN '18-24'\n",
    "    when age BETWEEN 25 AND 35 THEN '25-35'\n",
    "    when age BETWEEN 36 AND 50 THEN '36-50'\n",
    "    when age> 50 THEN '+50'\n",
    "    END\n",
    "    \"\"\"))\n",
    "\n",
    "# create partition by age_group and order by category_count descending\n",
    "windowAgeGroup = Window.partitionBy(\"age_group\").orderBy(col(\"category_count\").desc())\n",
    "\n",
    "# find the most popular category for different age groups\n",
    "pin_user_age_group.groupBy(\"category\",\"age_group\") \\\n",
    "    .agg(count(\"category\").alias(\"category_count\")) \\\n",
    "    .withColumn(\"rank\", row_number().over(windowAgeGroup)) \\\n",
    "    .filter(col(\"rank\") == 1) \\\n",
    "    .drop(\"rank\") \\\n",
    "    .show()\n",
    "    "
   ]
  },
  {
   "cell_type": "code",
   "execution_count": 0,
   "metadata": {
    "application/vnd.databricks.v1+cell": {
     "cellMetadata": {
      "byteLimit": 2048000,
      "rowLimit": 10000
     },
     "inputWidgets": {},
     "nuid": "ea129d3a-972f-4d28-b05c-3d16336ab4eb",
     "showTitle": false,
     "title": ""
    }
   },
   "outputs": [
    {
     "output_type": "display_data",
     "data": {
      "text/html": [
       "<style scoped>\n",
       "  .table-result-container {\n",
       "    max-height: 300px;\n",
       "    overflow: auto;\n",
       "  }\n",
       "  table, th, td {\n",
       "    border: 1px solid black;\n",
       "    border-collapse: collapse;\n",
       "  }\n",
       "  th, td {\n",
       "    padding: 5px;\n",
       "  }\n",
       "  th {\n",
       "    text-align: left;\n",
       "  }\n",
       "</style><div class='table-result-container'><table class='table-result'><thead style='background-color: white'><tr><th>category</th><th>age_group</th><th>category_count</th></tr></thead><tbody><tr><td>event-planning</td><td>+50</td><td>4</td></tr><tr><td>quotes</td><td>18-24</td><td>14</td></tr><tr><td>education</td><td>25-35</td><td>5</td></tr><tr><td>finance</td><td>36-50</td><td>3</td></tr></tbody></table></div>"
      ]
     },
     "metadata": {
      "application/vnd.databricks.v1+output": {
       "addedWidgets": {},
       "aggData": [],
       "aggError": "",
       "aggOverflow": false,
       "aggSchema": [],
       "aggSeriesLimitReached": false,
       "aggType": "",
       "arguments": {},
       "columnCustomDisplayInfos": {},
       "data": [
        [
         "event-planning",
         "+50",
         4
        ],
        [
         "quotes",
         "18-24",
         14
        ],
        [
         "education",
         "25-35",
         5
        ],
        [
         "finance",
         "36-50",
         3
        ]
       ],
       "datasetInfos": [],
       "dbfsResultPath": null,
       "isJsonSchema": true,
       "metadata": {},
       "overflow": false,
       "plotOptions": {
        "customPlotOptions": {},
        "displayType": "table",
        "pivotAggregation": null,
        "pivotColumns": null,
        "xColumns": null,
        "yColumns": null
       },
       "removedWidgets": [],
       "schema": [
        {
         "metadata": "{}",
         "name": "category",
         "type": "\"string\""
        },
        {
         "metadata": "{}",
         "name": "age_group",
         "type": "\"string\""
        },
        {
         "metadata": "{}",
         "name": "category_count",
         "type": "\"long\""
        }
       ],
       "type": "table"
      }
     },
     "output_type": "display_data"
    }
   ],
   "source": [
    "# regular SQL\n",
    "\n",
    "result_df = spark.sql(\"\"\"\n",
    "WITH Ranked AS (\n",
    "              \n",
    "    SELECT \n",
    "        pin_table.category as category,\n",
    "        CASE\n",
    "            WHEN user_table.age BETWEEN 18 AND 24 THEN '18-24'\n",
    "            when user_table.age BETWEEN 25 AND 35 THEN '25-35'\n",
    "            when user_table.age BETWEEN 36 AND 50 THEN '36-50'\n",
    "            when user_table.age > 50 THEN '+50'\n",
    "        END as age_group,\n",
    "        COUNT(pin_table.category) AS category_count\n",
    "    FROM\n",
    "        pin_table\n",
    "    INNER JOIN \n",
    "        user_table ON pin_table.ind = user_table.ind   \n",
    "    GROUP BY\n",
    "        pin_table.category, age_group\n",
    "    ORDER BY\n",
    "        age_group, category_count DESC\n",
    "        \n",
    "),\n",
    "\n",
    "Ranked_Window as (\n",
    "    \n",
    "    SELECT\n",
    "        category, age_group, category_count,\n",
    "        ROW_NUMBER() OVER (PARTITION BY age_group ORDER BY category_count DESC) AS rank\n",
    "    FROM\n",
    "        Ranked\n",
    ")\n",
    "\n",
    "    SELECT \n",
    "        category, age_group, category_count\n",
    "    FROM\n",
    "        Ranked_Window\n",
    "    WHERE\n",
    "        rank = 1\n",
    "    \n",
    "\"\"\")\n",
    "\n",
    "display(result_df) "
   ]
  },
  {
   "cell_type": "markdown",
   "metadata": {
    "application/vnd.databricks.v1+cell": {
     "cellMetadata": {},
     "inputWidgets": {},
     "nuid": "755ce57d-9a9a-4616-a58f-5e29adcec1fd",
     "showTitle": false,
     "title": ""
    }
   },
   "source": [
    "5. Find the median follower count for users in the age groups, 18-24, 25-35, 36-50, +50"
   ]
  },
  {
   "cell_type": "code",
   "execution_count": 0,
   "metadata": {
    "application/vnd.databricks.v1+cell": {
     "cellMetadata": {
      "byteLimit": 2048000,
      "rowLimit": 10000
     },
     "inputWidgets": {},
     "nuid": "09025c4a-c541-4405-a3da-5abe027fa2ef",
     "showTitle": false,
     "title": ""
    }
   },
   "outputs": [
    {
     "output_type": "display_data",
     "data": {
      "text/html": [
       "<style scoped>\n",
       "  .ansiout {\n",
       "    display: block;\n",
       "    unicode-bidi: embed;\n",
       "    white-space: pre-wrap;\n",
       "    word-wrap: break-word;\n",
       "    word-break: break-all;\n",
       "    font-family: \"Menlo\", \"Monaco\", \"Consolas\", \"Ubuntu Mono\", \"Source Code Pro\", monospace;\n",
       "    font-size: 13px;\n",
       "    color: #555;\n",
       "    margin-left: 4px;\n",
       "    line-height: 19px;\n",
       "  }\n",
       "</style>\n",
       "<div class=\"ansiout\">+---------+---------------------+\n",
       "age_group|median_follower_count|\n",
       "+---------+---------------------+\n",
       "      +50|                  649|\n",
       "    18-24|               228000|\n",
       "    25-35|                21000|\n",
       "    36-50|                 3000|\n",
       "+---------+---------------------+\n",
       "\n",
       "</div>"
      ]
     },
     "metadata": {
      "application/vnd.databricks.v1+output": {
       "addedWidgets": {},
       "arguments": {},
       "data": "<div class=\"ansiout\">+---------+---------------------+\n|age_group|median_follower_count|\n+---------+---------------------+\n|      +50|                  649|\n|    18-24|               228000|\n|    25-35|                21000|\n|    36-50|                 3000|\n+---------+---------------------+\n\n</div>",
       "datasetInfos": [],
       "metadata": {},
       "removedWidgets": [],
       "type": "html"
      }
     },
     "output_type": "display_data"
    }
   ],
   "source": [
    "#pyspark sql\n",
    "\n",
    "#Find the median follower count for different age groups\n",
    "pin_user_age_group \\\n",
    "    .select(\"age_group\", \"follower_count\") \\\n",
    "    .groupBy(\"age_group\") \\\n",
    "    .agg(percentile_approx(\"follower_count\", 0.5).alias(\"median_follower_count\")) \\\n",
    "    .orderBy(\"age_group\") \\\n",
    "    .show()\n",
    "    "
   ]
  },
  {
   "cell_type": "code",
   "execution_count": 0,
   "metadata": {
    "application/vnd.databricks.v1+cell": {
     "cellMetadata": {
      "byteLimit": 2048000,
      "rowLimit": 10000
     },
     "inputWidgets": {},
     "nuid": "f7e34841-ffa5-4a77-ba44-bef81b03ff26",
     "showTitle": false,
     "title": ""
    }
   },
   "outputs": [
    {
     "output_type": "display_data",
     "data": {
      "text/html": [
       "<style scoped>\n",
       "  .table-result-container {\n",
       "    max-height: 300px;\n",
       "    overflow: auto;\n",
       "  }\n",
       "  table, th, td {\n",
       "    border: 1px solid black;\n",
       "    border-collapse: collapse;\n",
       "  }\n",
       "  th, td {\n",
       "    padding: 5px;\n",
       "  }\n",
       "  th {\n",
       "    text-align: left;\n",
       "  }\n",
       "</style><div class='table-result-container'><table class='table-result'><thead style='background-color: white'><tr><th>age_group</th><th>median_follower_count</th></tr></thead><tbody><tr><td>+50</td><td>649</td></tr><tr><td>18-24</td><td>313500</td></tr><tr><td>25-35</td><td>21000</td></tr><tr><td>36-50</td><td>3000</td></tr></tbody></table></div>"
      ]
     },
     "metadata": {
      "application/vnd.databricks.v1+output": {
       "addedWidgets": {},
       "aggData": [],
       "aggError": "",
       "aggOverflow": false,
       "aggSchema": [],
       "aggSeriesLimitReached": false,
       "aggType": "",
       "arguments": {},
       "columnCustomDisplayInfos": {},
       "data": [
        [
         "+50",
         "649"
        ],
        [
         "18-24",
         "313500"
        ],
        [
         "25-35",
         "21000"
        ],
        [
         "36-50",
         "3000"
        ]
       ],
       "datasetInfos": [],
       "dbfsResultPath": null,
       "isJsonSchema": true,
       "metadata": {},
       "overflow": false,
       "plotOptions": {
        "customPlotOptions": {},
        "displayType": "table",
        "pivotAggregation": null,
        "pivotColumns": null,
        "xColumns": null,
        "yColumns": null
       },
       "removedWidgets": [],
       "schema": [
        {
         "metadata": "{}",
         "name": "age_group",
         "type": "\"string\""
        },
        {
         "metadata": "{}",
         "name": "median_follower_count",
         "type": "\"decimal(17,0)\""
        }
       ],
       "type": "table"
      }
     },
     "output_type": "display_data"
    }
   ],
   "source": [
    "#Standard SQL\n",
    "\n",
    "result_df = spark.sql(\"\"\"\n",
    "                      \n",
    "WITH  CTE AS \n",
    "(\n",
    "    \n",
    "    SELECT \n",
    "        CASE\n",
    "            WHEN user_table.age BETWEEN 18 AND 24 THEN '18-24'\n",
    "            when user_table.age BETWEEN 25 AND 35 THEN '25-35'\n",
    "            when user_table.age BETWEEN 36 AND 50 THEN '36-50'\n",
    "            when user_table.age > 50 THEN '+50'\n",
    "        END as age_group,\n",
    "        pin_table.follower_count as follower_count\n",
    "    FROM\n",
    "        pin_table\n",
    "    INNER JOIN \n",
    "        user_table ON pin_table.ind = user_table.ind\n",
    "    WHERE\n",
    "        pin_table.follower_count IS NOT NULL\n",
    "    ORDER BY\n",
    "        age_group\n",
    "        \n",
    "), \n",
    "    \n",
    "CTE2 AS (\n",
    "    SELECT \n",
    "        CTE.age_group, CTE.follower_count,\n",
    "        NTILE(2) OVER(PARTITION BY CTE.age_group ORDER BY CTE.follower_count) as half1, \n",
    "        NTILE(2) OVER(PARTITION BY CTE.age_group ORDER BY CTE.follower_count DESC) as half2\n",
    "    FROM\n",
    "        CTE\n",
    ")\n",
    "    \n",
    "    SELECT  CTE2.age_group,\n",
    "            ROUND((MAX(CASE WHEN CTE2.half1 = 1 THEN CTE2.follower_count END) + \n",
    "            MIN(CASE WHEN CTE2.half2 = 1 THEN CTE2.follower_count END)) / 2.0) as median_follower_count\n",
    "    FROM    CTE2\n",
    "    GROUP BY CTE2.age_group;\n",
    "    \n",
    "\"\"\")\n",
    "\n",
    "display(result_df)"
   ]
  },
  {
   "cell_type": "markdown",
   "metadata": {
    "application/vnd.databricks.v1+cell": {
     "cellMetadata": {},
     "inputWidgets": {},
     "nuid": "05eeb19d-9513-4330-b280-a8fb1e443027",
     "showTitle": false,
     "title": ""
    }
   },
   "source": [
    "6. Find how many users have joined between 2015 and 2020."
   ]
  },
  {
   "cell_type": "code",
   "execution_count": 0,
   "metadata": {
    "application/vnd.databricks.v1+cell": {
     "cellMetadata": {
      "byteLimit": 2048000,
      "rowLimit": 10000
     },
     "inputWidgets": {},
     "nuid": "07d02a48-94c0-4b66-9e63-02144a97934c",
     "showTitle": false,
     "title": ""
    }
   },
   "outputs": [
    {
     "output_type": "display_data",
     "data": {
      "text/html": [
       "<style scoped>\n",
       "  .ansiout {\n",
       "    display: block;\n",
       "    unicode-bidi: embed;\n",
       "    white-space: pre-wrap;\n",
       "    word-wrap: break-word;\n",
       "    word-break: break-all;\n",
       "    font-family: \"Menlo\", \"Monaco\", \"Consolas\", \"Ubuntu Mono\", \"Source Code Pro\", monospace;\n",
       "    font-size: 13px;\n",
       "    color: #555;\n",
       "    margin-left: 4px;\n",
       "    line-height: 19px;\n",
       "  }\n",
       "</style>\n",
       "<div class=\"ansiout\">+---------+-------------------+\n",
       "post_year|number_users_joined|\n",
       "+---------+-------------------+\n",
       "     2015|                 49|\n",
       "     2016|                 40|\n",
       "     2017|                 16|\n",
       "+---------+-------------------+\n",
       "\n",
       "</div>"
      ]
     },
     "metadata": {
      "application/vnd.databricks.v1+output": {
       "addedWidgets": {},
       "arguments": {},
       "data": "<div class=\"ansiout\">+---------+-------------------+\n|post_year|number_users_joined|\n+---------+-------------------+\n|     2015|                 49|\n|     2016|                 40|\n|     2017|                 16|\n+---------+-------------------+\n\n</div>",
       "datasetInfos": [],
       "metadata": {},
       "removedWidgets": [],
       "type": "html"
      }
     },
     "output_type": "display_data"
    }
   ],
   "source": [
    "#pyspark sql\n",
    "\n",
    "df_user\\\n",
    "    .groupBy(year('date_joined').alias('post_year'))\\\n",
    "    .agg(count_distinct('ind').alias('number_users_joined')) \\\n",
    "    .select('post_year', 'number_users_joined')\\\n",
    "    .where(col('post_year').between('2015', '2020'))\\\n",
    "    .show()\n",
    "    "
   ]
  },
  {
   "cell_type": "code",
   "execution_count": 0,
   "metadata": {
    "application/vnd.databricks.v1+cell": {
     "cellMetadata": {
      "byteLimit": 2048000,
      "rowLimit": 10000
     },
     "inputWidgets": {},
     "nuid": "14de8801-fc5c-4e98-8b1c-1b8147ebd7a3",
     "showTitle": false,
     "title": ""
    }
   },
   "outputs": [
    {
     "output_type": "display_data",
     "data": {
      "text/html": [
       "<style scoped>\n",
       "  .table-result-container {\n",
       "    max-height: 300px;\n",
       "    overflow: auto;\n",
       "  }\n",
       "  table, th, td {\n",
       "    border: 1px solid black;\n",
       "    border-collapse: collapse;\n",
       "  }\n",
       "  th, td {\n",
       "    padding: 5px;\n",
       "  }\n",
       "  th {\n",
       "    text-align: left;\n",
       "  }\n",
       "</style><div class='table-result-container'><table class='table-result'><thead style='background-color: white'><tr><th>post_year</th><th>number_of_users_joined</th></tr></thead><tbody><tr><td>2015</td><td>49</td></tr><tr><td>2016</td><td>40</td></tr><tr><td>2017</td><td>16</td></tr></tbody></table></div>"
      ]
     },
     "metadata": {
      "application/vnd.databricks.v1+output": {
       "addedWidgets": {},
       "aggData": [],
       "aggError": "",
       "aggOverflow": false,
       "aggSchema": [],
       "aggSeriesLimitReached": false,
       "aggType": "",
       "arguments": {},
       "columnCustomDisplayInfos": {},
       "data": [
        [
         2015,
         49
        ],
        [
         2016,
         40
        ],
        [
         2017,
         16
        ]
       ],
       "datasetInfos": [],
       "dbfsResultPath": null,
       "isJsonSchema": true,
       "metadata": {},
       "overflow": false,
       "plotOptions": {
        "customPlotOptions": {},
        "displayType": "table",
        "pivotAggregation": null,
        "pivotColumns": null,
        "xColumns": null,
        "yColumns": null
       },
       "removedWidgets": [],
       "schema": [
        {
         "metadata": "{}",
         "name": "post_year",
         "type": "\"integer\""
        },
        {
         "metadata": "{}",
         "name": "number_of_users_joined",
         "type": "\"long\""
        }
       ],
       "type": "table"
      }
     },
     "output_type": "display_data"
    }
   ],
   "source": [
    "# standard sql\n",
    "\n",
    "result_df = spark.sql(\"\"\"\n",
    "\n",
    "    SELECT DISTINCT\n",
    "        YEAR(date_joined) as post_year,\n",
    "        COUNT (ind) as number_of_users_joined\n",
    "    FROM\n",
    "        user_table\n",
    "    WHERE \n",
    "        YEAR(date_joined) BETWEEN 2015 AND 2020\n",
    "    GROUP BY\n",
    "        post_year\n",
    "    ORDER BY\n",
    "        post_year\n",
    "\n",
    "\"\"\")\n",
    "\n",
    "display(result_df)"
   ]
  },
  {
   "cell_type": "markdown",
   "metadata": {
    "application/vnd.databricks.v1+cell": {
     "cellMetadata": {},
     "inputWidgets": {},
     "nuid": "d203b01b-4058-4183-bfdd-3a3de30a307a",
     "showTitle": false,
     "title": ""
    }
   },
   "source": [
    "7. Find the median follower count of users who have joined between 2015 and 2020."
   ]
  },
  {
   "cell_type": "code",
   "execution_count": 0,
   "metadata": {
    "application/vnd.databricks.v1+cell": {
     "cellMetadata": {
      "byteLimit": 2048000,
      "rowLimit": 10000
     },
     "inputWidgets": {},
     "nuid": "8023b29f-a454-4026-9e70-d7dc5caf9663",
     "showTitle": false,
     "title": ""
    }
   },
   "outputs": [
    {
     "output_type": "display_data",
     "data": {
      "text/html": [
       "<style scoped>\n",
       "  .ansiout {\n",
       "    display: block;\n",
       "    unicode-bidi: embed;\n",
       "    white-space: pre-wrap;\n",
       "    word-wrap: break-word;\n",
       "    word-break: break-all;\n",
       "    font-family: \"Menlo\", \"Monaco\", \"Consolas\", \"Ubuntu Mono\", \"Source Code Pro\", monospace;\n",
       "    font-size: 13px;\n",
       "    color: #555;\n",
       "    margin-left: 4px;\n",
       "    line-height: 19px;\n",
       "  }\n",
       "</style>\n",
       "<div class=\"ansiout\">+---------+---------------------+\n",
       "post_year|median_follower_count|\n",
       "+---------+---------------------+\n",
       "     2015|               190000|\n",
       "     2016|                15000|\n",
       "     2017|                 6000|\n",
       "+---------+---------------------+\n",
       "\n",
       "</div>"
      ]
     },
     "metadata": {
      "application/vnd.databricks.v1+output": {
       "addedWidgets": {},
       "arguments": {},
       "data": "<div class=\"ansiout\">+---------+---------------------+\n|post_year|median_follower_count|\n+---------+---------------------+\n|     2015|               190000|\n|     2016|                15000|\n|     2017|                 6000|\n+---------+---------------------+\n\n</div>",
       "datasetInfos": [],
       "metadata": {},
       "removedWidgets": [],
       "type": "html"
      }
     },
     "output_type": "display_data"
    }
   ],
   "source": [
    "#pyspark sql\n",
    "\n",
    "df_user.join(df_pin, 'ind')\\\n",
    "    .groupBy(year('date_joined').alias('post_year'))\\\n",
    "    .agg(percentile_approx(\"follower_count\", 0.5).alias(\"median_follower_count\")) \\\n",
    "    .select('post_year', 'median_follower_count')\\\n",
    "    .where(col('post_year').between('2015', '2020'))\\\n",
    "    .show()\n",
    "    "
   ]
  },
  {
   "cell_type": "code",
   "execution_count": 0,
   "metadata": {
    "application/vnd.databricks.v1+cell": {
     "cellMetadata": {
      "byteLimit": 2048000,
      "rowLimit": 10000
     },
     "inputWidgets": {},
     "nuid": "a8c09604-739f-450e-b8f6-b7520a7196bd",
     "showTitle": false,
     "title": ""
    }
   },
   "outputs": [
    {
     "output_type": "display_data",
     "data": {
      "text/html": [
       "<style scoped>\n",
       "  .table-result-container {\n",
       "    max-height: 300px;\n",
       "    overflow: auto;\n",
       "  }\n",
       "  table, th, td {\n",
       "    border: 1px solid black;\n",
       "    border-collapse: collapse;\n",
       "  }\n",
       "  th, td {\n",
       "    padding: 5px;\n",
       "  }\n",
       "  th {\n",
       "    text-align: left;\n",
       "  }\n",
       "</style><div class='table-result-container'><table class='table-result'><thead style='background-color: white'><tr><th>post_year</th><th>median_follower_count</th></tr></thead><tbody><tr><td>2015</td><td>190000</td></tr><tr><td>2016</td><td>16000</td></tr><tr><td>2017</td><td>7000</td></tr></tbody></table></div>"
      ]
     },
     "metadata": {
      "application/vnd.databricks.v1+output": {
       "addedWidgets": {},
       "aggData": [],
       "aggError": "",
       "aggOverflow": false,
       "aggSchema": [],
       "aggSeriesLimitReached": false,
       "aggType": "",
       "arguments": {},
       "columnCustomDisplayInfos": {},
       "data": [
        [
         2015,
         "190000"
        ],
        [
         2016,
         "16000"
        ],
        [
         2017,
         "7000"
        ]
       ],
       "datasetInfos": [],
       "dbfsResultPath": null,
       "isJsonSchema": true,
       "metadata": {},
       "overflow": false,
       "plotOptions": {
        "customPlotOptions": {},
        "displayType": "table",
        "pivotAggregation": null,
        "pivotColumns": null,
        "xColumns": null,
        "yColumns": null
       },
       "removedWidgets": [],
       "schema": [
        {
         "metadata": "{}",
         "name": "post_year",
         "type": "\"integer\""
        },
        {
         "metadata": "{}",
         "name": "median_follower_count",
         "type": "\"decimal(17,0)\""
        }
       ],
       "type": "table"
      }
     },
     "output_type": "display_data"
    }
   ],
   "source": [
    "# standard sql\n",
    "\n",
    "result_df = spark.sql(\"\"\"\n",
    "\n",
    "WITH CTE AS (        \n",
    "    SELECT \n",
    "        YEAR(user_table.date_joined) as post_year,\n",
    "        pin_table.follower_count as follower_count\n",
    "    FROM\n",
    "        user_table\n",
    "    INNER JOIN \n",
    "        pin_table ON user_table.ind = pin_table.ind\n",
    "    WHERE \n",
    "        YEAR(user_table.date_joined) BETWEEN 2015 AND 2020\n",
    "    ORDER BY\n",
    "        post_year\n",
    "),\n",
    "    \n",
    "CTE2 AS (\n",
    "    SELECT \n",
    "        CTE.post_year, CTE.follower_count,\n",
    "        NTILE(2) OVER(PARTITION BY CTE.post_year ORDER BY CTE.follower_count) as half1, \n",
    "        NTILE(2) OVER(PARTITION BY CTE.post_year ORDER BY CTE.follower_count DESC) as half2\n",
    "    FROM\n",
    "        CTE\n",
    ")\n",
    "    \n",
    "    SELECT  CTE2.post_year,\n",
    "            ROUND((MAX(CASE WHEN CTE2.half1 = 1 THEN CTE2.follower_count END) + \n",
    "            MIN(CASE WHEN CTE2.half2 = 1 THEN CTE2.follower_count END)) / 2.0) as median_follower_count\n",
    "    FROM    CTE2\n",
    "    GROUP BY CTE2.post_year;    \n",
    "    \n",
    "\"\"\")\n",
    "\n",
    "display(result_df)"
   ]
  },
  {
   "cell_type": "markdown",
   "metadata": {
    "application/vnd.databricks.v1+cell": {
     "cellMetadata": {},
     "inputWidgets": {},
     "nuid": "17dff7ee-e297-44a7-a4f1-aa47daef7769",
     "showTitle": false,
     "title": ""
    }
   },
   "source": [
    "8. Find the median follower count of users who have joined between 2015 and 2020, based on age group that they are part of."
   ]
  },
  {
   "cell_type": "code",
   "execution_count": 0,
   "metadata": {
    "application/vnd.databricks.v1+cell": {
     "cellMetadata": {
      "byteLimit": 2048000,
      "rowLimit": 10000
     },
     "inputWidgets": {},
     "nuid": "a4a16a84-39e6-46db-a7d1-e0839a214c0e",
     "showTitle": false,
     "title": ""
    }
   },
   "outputs": [
    {
     "output_type": "display_data",
     "data": {
      "text/html": [
       "<style scoped>\n",
       "  .ansiout {\n",
       "    display: block;\n",
       "    unicode-bidi: embed;\n",
       "    white-space: pre-wrap;\n",
       "    word-wrap: break-word;\n",
       "    word-break: break-all;\n",
       "    font-family: \"Menlo\", \"Monaco\", \"Consolas\", \"Ubuntu Mono\", \"Source Code Pro\", monospace;\n",
       "    font-size: 13px;\n",
       "    color: #555;\n",
       "    margin-left: 4px;\n",
       "    line-height: 19px;\n",
       "  }\n",
       "</style>\n",
       "<div class=\"ansiout\">+---------+---------+---------------------+\n",
       "post_year|age_group|median_follower_count|\n",
       "+---------+---------+---------------------+\n",
       "     2015|    18-24|               494000|\n",
       "     2015|    25-35|                21000|\n",
       "     2015|    36-50|                 3000|\n",
       "     2016|      +50|                  546|\n",
       "     2016|    18-24|                46000|\n",
       "     2016|    25-35|                21000|\n",
       "     2016|    36-50|                 3000|\n",
       "     2017|      +50|                  760|\n",
       "     2017|    18-24|                 8000|\n",
       "     2017|    25-35|                 5000|\n",
       "     2017|    36-50|                49000|\n",
       "+---------+---------+---------------------+\n",
       "\n",
       "</div>"
      ]
     },
     "metadata": {
      "application/vnd.databricks.v1+output": {
       "addedWidgets": {},
       "arguments": {},
       "data": "<div class=\"ansiout\">+---------+---------+---------------------+\n|post_year|age_group|median_follower_count|\n+---------+---------+---------------------+\n|     2015|    18-24|               494000|\n|     2015|    25-35|                21000|\n|     2015|    36-50|                 3000|\n|     2016|      +50|                  546|\n|     2016|    18-24|                46000|\n|     2016|    25-35|                21000|\n|     2016|    36-50|                 3000|\n|     2017|      +50|                  760|\n|     2017|    18-24|                 8000|\n|     2017|    25-35|                 5000|\n|     2017|    36-50|                49000|\n+---------+---------+---------------------+\n\n</div>",
       "datasetInfos": [],
       "metadata": {},
       "removedWidgets": [],
       "type": "html"
      }
     },
     "output_type": "display_data"
    }
   ],
   "source": [
    "#pyspark sql\n",
    "\n",
    "df_pin.join(df_user, 'ind')\\\n",
    "    .withColumn('age_group', expr(\"\"\"case\n",
    "        when age BETWEEN 18 AND 24 THEN '18-24'\n",
    "        when age BETWEEN 25 AND 35 THEN '25-35'\n",
    "        when age BETWEEN 36 AND 50 THEN '36-50'\n",
    "        when age> 50 THEN '+50'\n",
    "        END\n",
    "        \"\"\"))\\\n",
    "    .groupBy(year('date_joined').alias('post_year'), 'age_group')\\\n",
    "    .agg(percentile_approx(\"follower_count\", 0.5).alias(\"median_follower_count\")) \\\n",
    "    .select('post_year', 'age_group','median_follower_count')\\\n",
    "    .where(col('post_year').between('2015', '2020'))\\\n",
    "    .orderBy('post_year','age_group')\\\n",
    "    .show()  \n"
   ]
  },
  {
   "cell_type": "code",
   "execution_count": 0,
   "metadata": {
    "application/vnd.databricks.v1+cell": {
     "cellMetadata": {
      "byteLimit": 2048000,
      "rowLimit": 10000
     },
     "inputWidgets": {},
     "nuid": "5ce59e02-4398-41d8-ad37-600443bbcd21",
     "showTitle": false,
     "title": ""
    }
   },
   "outputs": [
    {
     "output_type": "display_data",
     "data": {
      "text/html": [
       "<style scoped>\n",
       "  .table-result-container {\n",
       "    max-height: 300px;\n",
       "    overflow: auto;\n",
       "  }\n",
       "  table, th, td {\n",
       "    border: 1px solid black;\n",
       "    border-collapse: collapse;\n",
       "  }\n",
       "  th, td {\n",
       "    padding: 5px;\n",
       "  }\n",
       "  th {\n",
       "    text-align: left;\n",
       "  }\n",
       "</style><div class='table-result-container'><table class='table-result'><thead style='background-color: white'><tr><th>post_year</th><th>age_group</th><th>median_follower_count</th></tr></thead><tbody><tr><td>2015</td><td>18-24</td><td>494000</td></tr><tr><td>2015</td><td>25-35</td><td>31500</td></tr><tr><td>2015</td><td>36-50</td><td>5500</td></tr><tr><td>2016</td><td>+50</td><td>598</td></tr><tr><td>2016</td><td>18-24</td><td>49000</td></tr><tr><td>2016</td><td>25-35</td><td>23000</td></tr><tr><td>2016</td><td>36-50</td><td>3000</td></tr><tr><td>2017</td><td>+50</td><td>760</td></tr><tr><td>2017</td><td>18-24</td><td>22500</td></tr><tr><td>2017</td><td>25-35</td><td>5000</td></tr><tr><td>2017</td><td>36-50</td><td>58500</td></tr></tbody></table></div>"
      ]
     },
     "metadata": {
      "application/vnd.databricks.v1+output": {
       "addedWidgets": {},
       "aggData": [],
       "aggError": "",
       "aggOverflow": false,
       "aggSchema": [],
       "aggSeriesLimitReached": false,
       "aggType": "",
       "arguments": {},
       "columnCustomDisplayInfos": {},
       "data": [
        [
         2015,
         "18-24",
         "494000"
        ],
        [
         2015,
         "25-35",
         "31500"
        ],
        [
         2015,
         "36-50",
         "5500"
        ],
        [
         2016,
         "+50",
         "598"
        ],
        [
         2016,
         "18-24",
         "49000"
        ],
        [
         2016,
         "25-35",
         "23000"
        ],
        [
         2016,
         "36-50",
         "3000"
        ],
        [
         2017,
         "+50",
         "760"
        ],
        [
         2017,
         "18-24",
         "22500"
        ],
        [
         2017,
         "25-35",
         "5000"
        ],
        [
         2017,
         "36-50",
         "58500"
        ]
       ],
       "datasetInfos": [],
       "dbfsResultPath": null,
       "isJsonSchema": true,
       "metadata": {},
       "overflow": false,
       "plotOptions": {
        "customPlotOptions": {},
        "displayType": "table",
        "pivotAggregation": null,
        "pivotColumns": null,
        "xColumns": null,
        "yColumns": null
       },
       "removedWidgets": [],
       "schema": [
        {
         "metadata": "{}",
         "name": "post_year",
         "type": "\"integer\""
        },
        {
         "metadata": "{}",
         "name": "age_group",
         "type": "\"string\""
        },
        {
         "metadata": "{}",
         "name": "median_follower_count",
         "type": "\"decimal(17,0)\""
        }
       ],
       "type": "table"
      }
     },
     "output_type": "display_data"
    }
   ],
   "source": [
    "#standard sql\n",
    "\n",
    "result_df = spark.sql(\"\"\"\n",
    "    WITH CTE AS (\n",
    "        SELECT \n",
    "            YEAR(user_table.date_joined) as post_year,\n",
    "            CASE\n",
    "                WHEN user_table.age BETWEEN 18 AND 24 THEN '18-24'\n",
    "                when user_table.age BETWEEN 25 AND 35 THEN '25-35'\n",
    "                when user_table.age BETWEEN 36 AND 50 THEN '36-50'\n",
    "                when user_table.age > 50 THEN '+50'\n",
    "            END as age_group,\n",
    "            pin_table.follower_count as follower_count\n",
    "        FROM\n",
    "            pin_table\n",
    "        INNER JOIN \n",
    "            user_table ON pin_table.ind = user_table.ind\n",
    "        WHERE \n",
    "            YEAR(user_table.date_joined) BETWEEN 2015 AND 2020 \n",
    "        ORDER BY\n",
    "            post_year, age_group\n",
    "     ),\n",
    "    \n",
    "    CTE2 AS (\n",
    "        SELECT \n",
    "            CTE.post_year, CTE.age_group, CTE.follower_count,\n",
    "            NTILE(2) OVER(PARTITION BY CTE.post_year, CTE.age_group  ORDER BY CTE.follower_count) as half1, \n",
    "            NTILE(2) OVER(PARTITION BY CTE.post_year, CTE.age_group ORDER BY CTE.follower_count DESC) as half2\n",
    "        FROM\n",
    "            CTE\n",
    "    )\n",
    "    \n",
    "    SELECT  CTE2.post_year, CTE2.age_group, \n",
    "            ROUND((MAX(CASE WHEN CTE2.half1 = 1 THEN CTE2.follower_count END) + \n",
    "            MIN(CASE WHEN CTE2.half2 = 1 THEN CTE2.follower_count END)) / 2.0) as median_follower_count\n",
    "    FROM    CTE2\n",
    "    GROUP BY CTE2.post_year, CTE2.age_group; \n",
    "    \n",
    "\"\"\")\n",
    "\n",
    "display(result_df)"
   ]
  }
 ],
 "metadata": {
  "application/vnd.databricks.v1+notebook": {
   "dashboards": [
    {
     "elements": [
      {
       "dashboardResultIndex": 0,
       "elementNUID": "d0ab4c6d-44f2-4899-99f6-0da7816b1873",
       "elementType": "command",
       "guid": "4edceb10-c82b-4361-93bd-1bbf7f5178b4",
       "options": null,
       "position": {
        "height": 6,
        "width": 24,
        "x": 0,
        "y": 0,
        "z": null
       },
       "resultIndex": null
      }
     ],
     "globalVars": {},
     "guid": "",
     "layoutOption": {
      "grid": true,
      "stack": true
     },
     "nuid": "674f3494-8983-4d3a-a510-ff1b4eed4efc",
     "origId": 4155037068219074,
     "title": "Untitled",
     "version": "DashboardViewV1",
     "width": 1024
    }
   ],
   "language": "python",
   "notebookMetadata": {
    "pythonIndentUnit": 4
   },
   "notebookName": "databricks",
   "widgets": {}
  }
 },
 "nbformat": 4,
 "nbformat_minor": 0
}
